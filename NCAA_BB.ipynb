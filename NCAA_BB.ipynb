{
 "cells": [
  {
   "cell_type": "code",
   "execution_count": 1,
   "metadata": {
    "collapsed": true,
    "ExecuteTime": {
     "end_time": "2023-12-06T05:07:52.091607Z",
     "start_time": "2023-12-06T05:07:33.982863Z"
    }
   },
   "outputs": [
    {
     "name": "stdout",
     "output_type": "stream",
     "text": [
      "Requirement already satisfied: pandasql in /Users/kylesullivan/anaconda3/lib/python3.10/site-packages (0.7.3)\r\n",
      "Requirement already satisfied: sqlalchemy in /Users/kylesullivan/anaconda3/lib/python3.10/site-packages (from pandasql) (1.4.39)\r\n",
      "Requirement already satisfied: numpy in /Users/kylesullivan/anaconda3/lib/python3.10/site-packages (from pandasql) (1.23.5)\r\n",
      "Requirement already satisfied: pandas in /Users/kylesullivan/anaconda3/lib/python3.10/site-packages (from pandasql) (1.5.3)\r\n",
      "Requirement already satisfied: python-dateutil>=2.8.1 in /Users/kylesullivan/anaconda3/lib/python3.10/site-packages (from pandas->pandasql) (2.8.2)\r\n",
      "Requirement already satisfied: pytz>=2020.1 in /Users/kylesullivan/anaconda3/lib/python3.10/site-packages (from pandas->pandasql) (2022.7)\r\n",
      "Requirement already satisfied: six>=1.5 in /Users/kylesullivan/anaconda3/lib/python3.10/site-packages (from python-dateutil>=2.8.1->pandas->pandasql) (1.16.0)\r\n",
      "Requirement already satisfied: pandas in /Users/kylesullivan/anaconda3/lib/python3.10/site-packages (1.5.3)\r\n",
      "Requirement already satisfied: python-dateutil>=2.8.1 in /Users/kylesullivan/anaconda3/lib/python3.10/site-packages (from pandas) (2.8.2)\r\n",
      "Requirement already satisfied: pytz>=2020.1 in /Users/kylesullivan/anaconda3/lib/python3.10/site-packages (from pandas) (2022.7)\r\n",
      "Requirement already satisfied: numpy>=1.21.0 in /Users/kylesullivan/anaconda3/lib/python3.10/site-packages (from pandas) (1.23.5)\r\n",
      "Requirement already satisfied: six>=1.5 in /Users/kylesullivan/anaconda3/lib/python3.10/site-packages (from python-dateutil>=2.8.1->pandas) (1.16.0)\r\n",
      "Requirement already satisfied: plotly in /Users/kylesullivan/anaconda3/lib/python3.10/site-packages (5.9.0)\r\n",
      "Requirement already satisfied: tenacity>=6.2.0 in /Users/kylesullivan/anaconda3/lib/python3.10/site-packages (from plotly) (8.0.1)\r\n",
      "Requirement already satisfied: optimparallel in /Users/kylesullivan/anaconda3/lib/python3.10/site-packages (0.1.2)\r\n",
      "Requirement already satisfied: numpy in /Users/kylesullivan/anaconda3/lib/python3.10/site-packages (from optimparallel) (1.23.5)\r\n",
      "Requirement already satisfied: scipy in /Users/kylesullivan/anaconda3/lib/python3.10/site-packages (from optimparallel) (1.10.0)\r\n",
      "Requirement already satisfied: torch in /Users/kylesullivan/anaconda3/lib/python3.10/site-packages (2.1.0)\r\n",
      "Requirement already satisfied: filelock in /Users/kylesullivan/anaconda3/lib/python3.10/site-packages (from torch) (3.9.0)\r\n",
      "Requirement already satisfied: fsspec in /Users/kylesullivan/anaconda3/lib/python3.10/site-packages (from torch) (2022.11.0)\r\n",
      "Requirement already satisfied: jinja2 in /Users/kylesullivan/anaconda3/lib/python3.10/site-packages (from torch) (3.1.2)\r\n",
      "Requirement already satisfied: typing-extensions in /Users/kylesullivan/anaconda3/lib/python3.10/site-packages (from torch) (4.4.0)\r\n",
      "Requirement already satisfied: sympy in /Users/kylesullivan/anaconda3/lib/python3.10/site-packages (from torch) (1.11.1)\r\n",
      "Requirement already satisfied: networkx in /Users/kylesullivan/anaconda3/lib/python3.10/site-packages (from torch) (2.8.4)\r\n",
      "Requirement already satisfied: MarkupSafe>=2.0 in /Users/kylesullivan/anaconda3/lib/python3.10/site-packages (from jinja2->torch) (2.1.1)\r\n",
      "Requirement already satisfied: mpmath>=0.19 in /Users/kylesullivan/anaconda3/lib/python3.10/site-packages/mpmath-1.2.1-py3.10.egg (from sympy->torch) (1.2.1)\r\n",
      "Requirement already satisfied: tensorflow in /Users/kylesullivan/anaconda3/lib/python3.10/site-packages (2.13.0)\r\n",
      "Requirement already satisfied: tensorflow-macos==2.13.0 in /Users/kylesullivan/anaconda3/lib/python3.10/site-packages (from tensorflow) (2.13.0)\r\n",
      "Requirement already satisfied: six>=1.12.0 in /Users/kylesullivan/anaconda3/lib/python3.10/site-packages (from tensorflow-macos==2.13.0->tensorflow) (1.16.0)\r\n",
      "Requirement already satisfied: termcolor>=1.1.0 in /Users/kylesullivan/anaconda3/lib/python3.10/site-packages (from tensorflow-macos==2.13.0->tensorflow) (2.3.0)\r\n",
      "Requirement already satisfied: absl-py>=1.0.0 in /Users/kylesullivan/anaconda3/lib/python3.10/site-packages (from tensorflow-macos==2.13.0->tensorflow) (1.4.0)\r\n",
      "Requirement already satisfied: typing-extensions<4.6.0,>=3.6.6 in /Users/kylesullivan/anaconda3/lib/python3.10/site-packages (from tensorflow-macos==2.13.0->tensorflow) (4.4.0)\r\n",
      "Requirement already satisfied: h5py>=2.9.0 in /Users/kylesullivan/anaconda3/lib/python3.10/site-packages (from tensorflow-macos==2.13.0->tensorflow) (3.7.0)\r\n",
      "Requirement already satisfied: gast<=0.4.0,>=0.2.1 in /Users/kylesullivan/anaconda3/lib/python3.10/site-packages (from tensorflow-macos==2.13.0->tensorflow) (0.4.0)\r\n",
      "Requirement already satisfied: packaging in /Users/kylesullivan/anaconda3/lib/python3.10/site-packages (from tensorflow-macos==2.13.0->tensorflow) (22.0)\r\n",
      "Requirement already satisfied: opt-einsum>=2.3.2 in /Users/kylesullivan/anaconda3/lib/python3.10/site-packages (from tensorflow-macos==2.13.0->tensorflow) (3.3.0)\r\n",
      "Requirement already satisfied: grpcio<2.0,>=1.24.3 in /Users/kylesullivan/anaconda3/lib/python3.10/site-packages (from tensorflow-macos==2.13.0->tensorflow) (1.56.0)\r\n",
      "Requirement already satisfied: numpy<=1.24.3,>=1.22 in /Users/kylesullivan/anaconda3/lib/python3.10/site-packages (from tensorflow-macos==2.13.0->tensorflow) (1.23.5)\r\n",
      "Requirement already satisfied: tensorboard<2.14,>=2.13 in /Users/kylesullivan/anaconda3/lib/python3.10/site-packages (from tensorflow-macos==2.13.0->tensorflow) (2.13.0)\r\n",
      "Requirement already satisfied: astunparse>=1.6.0 in /Users/kylesullivan/anaconda3/lib/python3.10/site-packages (from tensorflow-macos==2.13.0->tensorflow) (1.6.3)\r\n",
      "Requirement already satisfied: tensorflow-estimator<2.14,>=2.13.0 in /Users/kylesullivan/anaconda3/lib/python3.10/site-packages (from tensorflow-macos==2.13.0->tensorflow) (2.13.0)\r\n",
      "Requirement already satisfied: setuptools in /Users/kylesullivan/anaconda3/lib/python3.10/site-packages (from tensorflow-macos==2.13.0->tensorflow) (65.6.3)\r\n",
      "Requirement already satisfied: wrapt>=1.11.0 in /Users/kylesullivan/anaconda3/lib/python3.10/site-packages (from tensorflow-macos==2.13.0->tensorflow) (1.14.1)\r\n",
      "Requirement already satisfied: keras<2.14,>=2.13.1 in /Users/kylesullivan/anaconda3/lib/python3.10/site-packages (from tensorflow-macos==2.13.0->tensorflow) (2.13.1)\r\n",
      "Requirement already satisfied: libclang>=13.0.0 in /Users/kylesullivan/anaconda3/lib/python3.10/site-packages (from tensorflow-macos==2.13.0->tensorflow) (16.0.6)\r\n",
      "Requirement already satisfied: flatbuffers>=23.1.21 in /Users/kylesullivan/anaconda3/lib/python3.10/site-packages (from tensorflow-macos==2.13.0->tensorflow) (23.5.26)\r\n",
      "Requirement already satisfied: protobuf!=4.21.0,!=4.21.1,!=4.21.2,!=4.21.3,!=4.21.4,!=4.21.5,<5.0.0dev,>=3.20.3 in /Users/kylesullivan/anaconda3/lib/python3.10/site-packages (from tensorflow-macos==2.13.0->tensorflow) (4.23.4)\r\n",
      "Requirement already satisfied: google-pasta>=0.1.1 in /Users/kylesullivan/anaconda3/lib/python3.10/site-packages (from tensorflow-macos==2.13.0->tensorflow) (0.2.0)\r\n",
      "Requirement already satisfied: wheel<1.0,>=0.23.0 in /Users/kylesullivan/anaconda3/lib/python3.10/site-packages (from astunparse>=1.6.0->tensorflow-macos==2.13.0->tensorflow) (0.38.4)\r\n",
      "Requirement already satisfied: tensorboard-data-server<0.8.0,>=0.7.0 in /Users/kylesullivan/anaconda3/lib/python3.10/site-packages (from tensorboard<2.14,>=2.13->tensorflow-macos==2.13.0->tensorflow) (0.7.1)\r\n",
      "Requirement already satisfied: google-auth<3,>=1.6.3 in /Users/kylesullivan/anaconda3/lib/python3.10/site-packages (from tensorboard<2.14,>=2.13->tensorflow-macos==2.13.0->tensorflow) (2.22.0)\r\n",
      "Requirement already satisfied: werkzeug>=1.0.1 in /Users/kylesullivan/anaconda3/lib/python3.10/site-packages (from tensorboard<2.14,>=2.13->tensorflow-macos==2.13.0->tensorflow) (2.2.2)\r\n",
      "Requirement already satisfied: google-auth-oauthlib<1.1,>=0.5 in /Users/kylesullivan/anaconda3/lib/python3.10/site-packages (from tensorboard<2.14,>=2.13->tensorflow-macos==2.13.0->tensorflow) (1.0.0)\r\n",
      "Requirement already satisfied: markdown>=2.6.8 in /Users/kylesullivan/anaconda3/lib/python3.10/site-packages (from tensorboard<2.14,>=2.13->tensorflow-macos==2.13.0->tensorflow) (3.4.1)\r\n",
      "Requirement already satisfied: requests<3,>=2.21.0 in /Users/kylesullivan/anaconda3/lib/python3.10/site-packages (from tensorboard<2.14,>=2.13->tensorflow-macos==2.13.0->tensorflow) (2.31.0)\r\n",
      "Requirement already satisfied: pyasn1-modules>=0.2.1 in /Users/kylesullivan/anaconda3/lib/python3.10/site-packages (from google-auth<3,>=1.6.3->tensorboard<2.14,>=2.13->tensorflow-macos==2.13.0->tensorflow) (0.2.8)\r\n",
      "Requirement already satisfied: cachetools<6.0,>=2.0.0 in /Users/kylesullivan/anaconda3/lib/python3.10/site-packages (from google-auth<3,>=1.6.3->tensorboard<2.14,>=2.13->tensorflow-macos==2.13.0->tensorflow) (5.3.1)\r\n",
      "Requirement already satisfied: urllib3<2.0 in /Users/kylesullivan/anaconda3/lib/python3.10/site-packages (from google-auth<3,>=1.6.3->tensorboard<2.14,>=2.13->tensorflow-macos==2.13.0->tensorflow) (1.26.14)\r\n",
      "Requirement already satisfied: rsa<5,>=3.1.4 in /Users/kylesullivan/anaconda3/lib/python3.10/site-packages (from google-auth<3,>=1.6.3->tensorboard<2.14,>=2.13->tensorflow-macos==2.13.0->tensorflow) (4.9)\r\n",
      "Requirement already satisfied: requests-oauthlib>=0.7.0 in /Users/kylesullivan/anaconda3/lib/python3.10/site-packages (from google-auth-oauthlib<1.1,>=0.5->tensorboard<2.14,>=2.13->tensorflow-macos==2.13.0->tensorflow) (1.3.1)\r\n",
      "Requirement already satisfied: charset-normalizer<4,>=2 in /Users/kylesullivan/anaconda3/lib/python3.10/site-packages (from requests<3,>=2.21.0->tensorboard<2.14,>=2.13->tensorflow-macos==2.13.0->tensorflow) (2.0.4)\r\n",
      "Requirement already satisfied: certifi>=2017.4.17 in /Users/kylesullivan/anaconda3/lib/python3.10/site-packages (from requests<3,>=2.21.0->tensorboard<2.14,>=2.13->tensorflow-macos==2.13.0->tensorflow) (2023.7.22)\r\n",
      "Requirement already satisfied: idna<4,>=2.5 in /Users/kylesullivan/anaconda3/lib/python3.10/site-packages (from requests<3,>=2.21.0->tensorboard<2.14,>=2.13->tensorflow-macos==2.13.0->tensorflow) (3.4)\r\n",
      "Requirement already satisfied: MarkupSafe>=2.1.1 in /Users/kylesullivan/anaconda3/lib/python3.10/site-packages (from werkzeug>=1.0.1->tensorboard<2.14,>=2.13->tensorflow-macos==2.13.0->tensorflow) (2.1.1)\r\n",
      "Requirement already satisfied: pyasn1<0.5.0,>=0.4.6 in /Users/kylesullivan/anaconda3/lib/python3.10/site-packages (from pyasn1-modules>=0.2.1->google-auth<3,>=1.6.3->tensorboard<2.14,>=2.13->tensorflow-macos==2.13.0->tensorflow) (0.4.8)\r\n",
      "Requirement already satisfied: oauthlib>=3.0.0 in /Users/kylesullivan/anaconda3/lib/python3.10/site-packages (from requests-oauthlib>=0.7.0->google-auth-oauthlib<1.1,>=0.5->tensorboard<2.14,>=2.13->tensorflow-macos==2.13.0->tensorflow) (3.2.2)\r\n",
      "Requirement already satisfied: tensorflow_probability in /Users/kylesullivan/anaconda3/lib/python3.10/site-packages (0.20.1)\r\n",
      "Requirement already satisfied: decorator in /Users/kylesullivan/anaconda3/lib/python3.10/site-packages (from tensorflow_probability) (5.1.1)\r\n",
      "Requirement already satisfied: absl-py in /Users/kylesullivan/anaconda3/lib/python3.10/site-packages (from tensorflow_probability) (1.4.0)\r\n",
      "Requirement already satisfied: gast>=0.3.2 in /Users/kylesullivan/anaconda3/lib/python3.10/site-packages (from tensorflow_probability) (0.4.0)\r\n",
      "Requirement already satisfied: dm-tree in /Users/kylesullivan/anaconda3/lib/python3.10/site-packages (from tensorflow_probability) (0.1.8)\r\n",
      "Requirement already satisfied: cloudpickle>=1.3 in /Users/kylesullivan/anaconda3/lib/python3.10/site-packages (from tensorflow_probability) (2.0.0)\r\n",
      "Requirement already satisfied: six>=1.10.0 in /Users/kylesullivan/anaconda3/lib/python3.10/site-packages (from tensorflow_probability) (1.16.0)\r\n",
      "Requirement already satisfied: numpy>=1.13.3 in /Users/kylesullivan/anaconda3/lib/python3.10/site-packages (from tensorflow_probability) (1.23.5)\r\n",
      "Requirement already satisfied: pytorch-minimize in /Users/kylesullivan/anaconda3/lib/python3.10/site-packages (0.0.2)\r\n",
      "Requirement already satisfied: numpy>=1.18.0 in /Users/kylesullivan/anaconda3/lib/python3.10/site-packages (from pytorch-minimize) (1.23.5)\r\n",
      "Requirement already satisfied: scipy>=1.6 in /Users/kylesullivan/anaconda3/lib/python3.10/site-packages (from pytorch-minimize) (1.10.0)\r\n",
      "Requirement already satisfied: torch>=1.9.0 in /Users/kylesullivan/anaconda3/lib/python3.10/site-packages (from pytorch-minimize) (2.1.0)\r\n",
      "Requirement already satisfied: fsspec in /Users/kylesullivan/anaconda3/lib/python3.10/site-packages (from torch>=1.9.0->pytorch-minimize) (2022.11.0)\r\n",
      "Requirement already satisfied: networkx in /Users/kylesullivan/anaconda3/lib/python3.10/site-packages (from torch>=1.9.0->pytorch-minimize) (2.8.4)\r\n",
      "Requirement already satisfied: sympy in /Users/kylesullivan/anaconda3/lib/python3.10/site-packages (from torch>=1.9.0->pytorch-minimize) (1.11.1)\r\n",
      "Requirement already satisfied: filelock in /Users/kylesullivan/anaconda3/lib/python3.10/site-packages (from torch>=1.9.0->pytorch-minimize) (3.9.0)\r\n",
      "Requirement already satisfied: jinja2 in /Users/kylesullivan/anaconda3/lib/python3.10/site-packages (from torch>=1.9.0->pytorch-minimize) (3.1.2)\r\n",
      "Requirement already satisfied: typing-extensions in /Users/kylesullivan/anaconda3/lib/python3.10/site-packages (from torch>=1.9.0->pytorch-minimize) (4.4.0)\r\n",
      "Requirement already satisfied: MarkupSafe>=2.0 in /Users/kylesullivan/anaconda3/lib/python3.10/site-packages (from jinja2->torch>=1.9.0->pytorch-minimize) (2.1.1)\r\n",
      "Requirement already satisfied: mpmath>=0.19 in /Users/kylesullivan/anaconda3/lib/python3.10/site-packages/mpmath-1.2.1-py3.10.egg (from sympy->torch>=1.9.0->pytorch-minimize) (1.2.1)\r\n",
      "Requirement already satisfied: beautifulsoup4 in /Users/kylesullivan/anaconda3/lib/python3.10/site-packages (4.11.1)\r\n",
      "Requirement already satisfied: soupsieve>1.2 in /Users/kylesullivan/anaconda3/lib/python3.10/site-packages (from beautifulsoup4) (2.3.2.post1)\r\n",
      "Requirement already satisfied: pyopenssl in /Users/kylesullivan/anaconda3/lib/python3.10/site-packages (23.0.0)\r\n",
      "Requirement already satisfied: cryptography<40,>=38.0.0 in /Users/kylesullivan/anaconda3/lib/python3.10/site-packages (from pyopenssl) (39.0.1)\r\n",
      "Requirement already satisfied: cffi>=1.12 in /Users/kylesullivan/anaconda3/lib/python3.10/site-packages (from cryptography<40,>=38.0.0->pyopenssl) (1.15.1)\r\n",
      "Requirement already satisfied: pycparser in /Users/kylesullivan/anaconda3/lib/python3.10/site-packages (from cffi>=1.12->cryptography<40,>=38.0.0->pyopenssl) (2.21)\r\n",
      "Requirement already satisfied: aia in /Users/kylesullivan/anaconda3/lib/python3.10/site-packages (0.2.0)\r\n"
     ]
    }
   ],
   "source": [
    "!pip install pandasql\n",
    "!pip install pandas\n",
    "!pip install plotly\n",
    "!pip install optimparallel\n",
    "!pip install torch\n",
    "!pip install tensorflow\n",
    "!pip install tensorflow_probability\n"
   ]
  },
  {
   "cell_type": "code",
   "execution_count": 2,
   "outputs": [],
   "source": [
    "import pandas as pd\n",
    "import numpy as np\n",
    "import functools\n",
    "import pickle\n",
    "\n",
    "from BB_solver import bb_ll\n",
    "\n",
    "from bs4 import BeautifulSoup\n",
    "from aia import AIASession\n",
    "from urllib.request import urlopen\n",
    "from scipy.optimize import Bounds\n",
    "from optimparallel import minimize_parallel\n",
    "\n",
    "from sklearn.linear_model import LogisticRegression\n",
    "from sklearn.neural_network import MLPClassifier\n",
    "from sklearn.preprocessing import PolynomialFeatures\n",
    "from sklearn.svm import SVC\n",
    "from sklearn.neighbors import KNeighborsClassifier\n",
    "from sklearn.ensemble import ExtraTreesClassifier, GradientBoostingClassifier, AdaBoostClassifier, RandomForestClassifier, StackingClassifier\n",
    "from sklearn.preprocessing import StandardScaler\n",
    "from sklearn.pipeline import Pipeline\n",
    "from sklearn.model_selection import GridSearchCV\n",
    "import xgboost as XGBoost"
   ],
   "metadata": {
    "collapsed": false,
    "ExecuteTime": {
     "end_time": "2023-12-06T05:07:56.582308Z",
     "start_time": "2023-12-06T05:07:52.093174Z"
    }
   }
  },
  {
   "cell_type": "code",
   "execution_count": 3,
   "outputs": [],
   "source": [
    "ncaa_2011_df = pd.read_csv('/Users/kylesullivan/Documents/Professional/Projects/BB_Models/Data/NCAA_df_11.csv')\n",
    "ncaa_2012_df = pd.read_csv('/Users/kylesullivan/Documents/Professional/Projects/BB_Models/Data/NCAA_df_12.csv')\n",
    "ncaa_2013_df = pd.read_csv('/Users/kylesullivan/Documents/Professional/Projects/BB_Models/Data/NCAA_df_13.csv')\n",
    "ncaa_2014_df = pd.read_csv('/Users/kylesullivan/Documents/Professional/Projects/BB_Models/Data/NCAA_df_14.csv')\n",
    "ncaa_2015_df = pd.read_csv('/Users/kylesullivan/Documents/Professional/Projects/BB_Models/Data/NCAA_df_15.csv')\n",
    "ncaa_2016_df = pd.read_csv('/Users/kylesullivan/Documents/Professional/Projects/BB_Models/Data/NCAA_df_16.csv')\n",
    "ncaa_2017_df = pd.read_csv('/Users/kylesullivan/Documents/Professional/Projects/BB_Models/Data/NCAA_df_17.csv')\n",
    "ncaa_2018_df = pd.read_csv('/Users/kylesullivan/Documents/Professional/Projects/BB_Models/Data/NCAA_df_18.csv')\n",
    "ncaa_2019_df = pd.read_csv('/Users/kylesullivan/Documents/Professional/Projects/BB_Models/Data/NCAA_df_19.csv')\n",
    "ncaa_2021_df = pd.read_csv('/Users/kylesullivan/Documents/Professional/Projects/BB_Models/Data/NCAA_df_21.csv')\n",
    "ncaa_2022_df = pd.read_csv('/Users/kylesullivan/Documents/Professional/Projects/BB_Models/Data/NCAA_df_22.csv')"
   ],
   "metadata": {
    "collapsed": false,
    "ExecuteTime": {
     "end_time": "2023-12-06T05:07:57.363228Z",
     "start_time": "2023-12-06T05:07:56.583485Z"
    }
   }
  },
  {
   "cell_type": "code",
   "execution_count": 169,
   "outputs": [],
   "source": [
    "filter = [\n",
    "    # 'Team', 'Rating', 'Rating_opp',\n",
    "    'Win',\n",
    "    'EFG_alphas_team1', 'EFG_betas_team1', 'EFG_avgs_team1',\n",
    "    'EFG2_alphas_team1', 'EFG2_betas_team1', 'EFG2_avgs_team1',\n",
    "    'EFG3_alphas_team1', 'EFG3_betas_team1', 'EFG3_avgs_team1',\n",
    "    'EORB_alphas_team1', 'EORB_betas_team1', 'EORB_avgs_team1',\n",
    "    'EDRB_alphas_team1', 'EDRB_betas_team1', 'EDRB_avgs_team1',\n",
    "    'EAST_alphas_team1', 'EAST_betas_team1', 'EAST_avgs_team1',\n",
    "    'ETOV_alphas_team1', 'ETOV_betas_team1', 'ETOV_avgs_team1',\n",
    "    'EFG_alphas_team2', 'EFG_betas_team2', 'EFG_avgs_team2',\n",
    "    'EFG2_alphas_team2', 'EFG2_betas_team2', 'EFG2_avgs_team2',\n",
    "    'EFG3_alphas_team2', 'EFG3_betas_team2', 'EFG3_avgs_team2',\n",
    "    'EORB_alphas_team2', 'EORB_betas_team2', 'EORB_avgs_team2',\n",
    "    'EDRB_alphas_team2', 'EDRB_betas_team2', 'EDRB_avgs_team2',\n",
    "    'EAST_alphas_team2', 'EAST_betas_team2', 'EAST_avgs_team2',\n",
    "    'ETOV_alphas_team2', 'ETOV_betas_team2', 'ETOV_avgs_team2',\n",
    "    ]\n",
    "\n",
    "filter_predict = [\n",
    "    # 'Team',\n",
    "    # 'Rating', 'Rating_opp',\n",
    "    'EFG_avgs_team1',\n",
    "    'EFG2_avgs_team1',\n",
    "    'EFG3_avgs_team1',\n",
    "    # 'EFT_avgs_team1',\n",
    "    'EORB_avgs_team1',\n",
    "    'EDRB_avgs_team1',\n",
    "    'EAST_avgs_team1',\n",
    "    'ETOV_avgs_team1',\n",
    "    'EBLK_avgs_team1',\n",
    "\n",
    "    'EFG_avgs_team2',\n",
    "    'EFG2_avgs_team2',\n",
    "    'EFG3_avgs_team2',\n",
    "    # 'EFT_avgs_team2',\n",
    "    'EORB_avgs_team2',\n",
    "    'EDRB_avgs_team2',\n",
    "    'EAST_avgs_team2',\n",
    "    'ETOV_avgs_team2',\n",
    "    'EBLK_avgs_team2'\n",
    "]\n",
    "\n",
    "filter_train = [\n",
    "    # 'Team',\n",
    "    # 'Rating', 'Rating_opp',\n",
    "    'EFG%_team1',\n",
    "    'EFG2%_team1',\n",
    "    'EFG3%_team1',\n",
    "    # 'EFT%_team1',\n",
    "    'EORB%_team1',\n",
    "    'EDRB%_team1',\n",
    "    'EAST%_team1',\n",
    "    'ETOV%_team1',\n",
    "    'EBLK%_team1',\n",
    "\n",
    "    'EFG%_team2',\n",
    "    'EFG2%_team2',\n",
    "    'EFG3%_team2',\n",
    "    # 'EFT%_team2',\n",
    "    'EORB%_team2',\n",
    "    'EDRB%_team2',\n",
    "    'EAST%_team2',\n",
    "    'ETOV%_team2',\n",
    "    'EBLK%_team2',\n",
    "]"
   ],
   "metadata": {
    "collapsed": false,
    "ExecuteTime": {
     "end_time": "2023-12-06T05:16:35.664470Z",
     "start_time": "2023-12-06T05:16:35.657204Z"
    }
   }
  },
  {
   "cell_type": "code",
   "execution_count": 170,
   "outputs": [
    {
     "data": {
      "text/plain": "(114822, 105)"
     },
     "execution_count": 170,
     "metadata": {},
     "output_type": "execute_result"
    }
   ],
   "source": [
    "frames = [ncaa_2011_df, ncaa_2012_df, ncaa_2013_df, ncaa_2014_df,\n",
    "          ncaa_2015_df, ncaa_2016_df, ncaa_2017_df, ncaa_2018_df,\n",
    "          ncaa_2019_df, ncaa_2021_df, ncaa_2022_df]\n",
    "combined_df = pd.concat(frames)\n",
    "# combined_df = combined_df[filter]\n",
    "combined_df.shape"
   ],
   "metadata": {
    "collapsed": false,
    "ExecuteTime": {
     "end_time": "2023-12-06T05:16:36.051991Z",
     "start_time": "2023-12-06T05:16:36.010295Z"
    }
   }
  },
  {
   "cell_type": "code",
   "execution_count": 171,
   "outputs": [],
   "source": [
    "import pandas as pd\n",
    "import numpy as np\n",
    "import functools\n",
    "import pickle\n",
    "\n",
    "from BB_solver import bb_ll\n",
    "\n",
    "from bs4 import BeautifulSoup\n",
    "from aia import AIASession\n",
    "from urllib.request import urlopen\n",
    "from scipy.optimize import Bounds\n",
    "from optimparallel import minimize_parallel\n",
    "\n",
    "from sklearn.linear_model import LogisticRegression\n",
    "from sklearn.neural_network import MLPClassifier\n",
    "from sklearn.preprocessing import PolynomialFeatures\n",
    "from sklearn.svm import SVC\n",
    "from sklearn.neighbors import KNeighborsClassifier\n",
    "from sklearn.ensemble import ExtraTreesClassifier, GradientBoostingClassifier, AdaBoostClassifier, RandomForestClassifier, StackingClassifier\n",
    "from sklearn.preprocessing import StandardScaler\n",
    "from sklearn.pipeline import Pipeline\n",
    "from sklearn.model_selection import GridSearchCV\n",
    "import xgboost as XGBoost"
   ],
   "metadata": {
    "collapsed": false,
    "ExecuteTime": {
     "end_time": "2023-12-06T05:16:36.378616Z",
     "start_time": "2023-12-06T05:16:36.370711Z"
    }
   }
  },
  {
   "cell_type": "code",
   "execution_count": 172,
   "outputs": [],
   "source": [
    "ncaa_2011_df = pd.read_csv('/Users/kylesullivan/Documents/Professional/Projects/BB_Models/Data/NCAA_df_11.csv')\n",
    "ncaa_2012_df = pd.read_csv('/Users/kylesullivan/Documents/Professional/Projects/BB_Models/Data/NCAA_df_12.csv')\n",
    "ncaa_2013_df = pd.read_csv('/Users/kylesullivan/Documents/Professional/Projects/BB_Models/Data/NCAA_df_13.csv')\n",
    "ncaa_2014_df = pd.read_csv('/Users/kylesullivan/Documents/Professional/Projects/BB_Models/Data/NCAA_df_14.csv')\n",
    "ncaa_2015_df = pd.read_csv('/Users/kylesullivan/Documents/Professional/Projects/BB_Models/Data/NCAA_df_15.csv')\n",
    "ncaa_2016_df = pd.read_csv('/Users/kylesullivan/Documents/Professional/Projects/BB_Models/Data/NCAA_df_16.csv')\n",
    "ncaa_2017_df = pd.read_csv('/Users/kylesullivan/Documents/Professional/Projects/BB_Models/Data/NCAA_df_17.csv')\n",
    "ncaa_2018_df = pd.read_csv('/Users/kylesullivan/Documents/Professional/Projects/BB_Models/Data/NCAA_df_18.csv')\n",
    "ncaa_2019_df = pd.read_csv('/Users/kylesullivan/Documents/Professional/Projects/BB_Models/Data/NCAA_df_19.csv')\n",
    "ncaa_2021_df = pd.read_csv('/Users/kylesullivan/Documents/Professional/Projects/BB_Models/Data/NCAA_df_21.csv')\n",
    "ncaa_2022_df = pd.read_csv('/Users/kylesullivan/Documents/Professional/Projects/BB_Models/Data/NCAA_df_22.csv')"
   ],
   "metadata": {
    "collapsed": false,
    "ExecuteTime": {
     "end_time": "2023-12-06T05:16:37.408964Z",
     "start_time": "2023-12-06T05:16:36.621396Z"
    }
   }
  },
  {
   "cell_type": "code",
   "execution_count": 173,
   "outputs": [],
   "source": [
    "ncaa_tour_2011_df = ncaa_2011_df[ncaa_2011_df['DayNum'] > 135]\n",
    "ncaa_tour_2012_df = ncaa_2012_df[ncaa_2012_df['DayNum'] > 135]\n",
    "ncaa_tour_2013_df = ncaa_2013_df[ncaa_2013_df['DayNum'] > 135]\n",
    "ncaa_tour_2014_df = ncaa_2014_df[ncaa_2014_df['DayNum'] > 135]\n",
    "ncaa_tour_2015_df = ncaa_2015_df[ncaa_2015_df['DayNum'] > 135]\n",
    "ncaa_tour_2016_df = ncaa_2016_df[ncaa_2016_df['DayNum'] > 135]\n",
    "ncaa_tour_2017_df = ncaa_2017_df[ncaa_2017_df['DayNum'] > 135]\n",
    "ncaa_tour_2018_df = ncaa_2018_df[ncaa_2018_df['DayNum'] > 135]\n",
    "ncaa_tour_2019_df = ncaa_2019_df[ncaa_2019_df['DayNum'] > 135]\n",
    "ncaa_tour_2021_df = ncaa_2021_df[ncaa_2021_df['DayNum'] > 136]\n",
    "ncaa_tour_2022_df = ncaa_2022_df[ncaa_2022_df['DayNum'] > 135]"
   ],
   "metadata": {
    "collapsed": false,
    "ExecuteTime": {
     "end_time": "2023-12-06T05:16:37.414682Z",
     "start_time": "2023-12-06T05:16:37.409864Z"
    }
   }
  },
  {
   "cell_type": "code",
   "execution_count": 174,
   "outputs": [],
   "source": [
    "ncaa_2011_df = ncaa_2011_df[ncaa_2011_df['DayNum'] <= 135]\n",
    "ncaa_2012_df = ncaa_2012_df[ncaa_2012_df['DayNum'] <= 135]\n",
    "ncaa_2013_df = ncaa_2013_df[ncaa_2013_df['DayNum'] <= 135]\n",
    "ncaa_2014_df = ncaa_2014_df[ncaa_2014_df['DayNum'] <= 135]\n",
    "ncaa_2015_df = ncaa_2015_df[ncaa_2015_df['DayNum'] <= 135]\n",
    "ncaa_2016_df = ncaa_2016_df[ncaa_2016_df['DayNum'] <= 135]\n",
    "ncaa_2017_df = ncaa_2017_df[ncaa_2017_df['DayNum'] <= 135]\n",
    "ncaa_2018_df = ncaa_2018_df[ncaa_2018_df['DayNum'] <= 135]\n",
    "ncaa_2019_df = ncaa_2019_df[ncaa_2019_df['DayNum'] <= 135]\n",
    "ncaa_2021_df = ncaa_2021_df[ncaa_2021_df['DayNum'] <= 136]\n",
    "ncaa_2022_df = ncaa_2022_df[ncaa_2022_df['DayNum'] <= 135]"
   ],
   "metadata": {
    "collapsed": false,
    "ExecuteTime": {
     "end_time": "2023-12-06T05:16:37.440339Z",
     "start_time": "2023-12-06T05:16:37.416183Z"
    }
   }
  },
  {
   "cell_type": "code",
   "execution_count": 175,
   "outputs": [],
   "source": [
    "frames = [ncaa_2011_df, ncaa_2012_df, ncaa_2013_df, ncaa_2014_df,\n",
    "          ncaa_2015_df, ncaa_2016_df, ncaa_2017_df, ncaa_2018_df,\n",
    "          ncaa_2019_df, ncaa_2021_df, ncaa_2022_df]\n",
    "combined_df = pd.concat(frames)\n",
    "\n",
    "y_train = combined_df['Win']\n",
    "\n",
    "predict_scaler = StandardScaler()\n",
    "predict_scaler.fit(combined_df[filter_predict])\n",
    "\n",
    "\n",
    "combined_df['EFG%_team1'] = combined_df['EFG_N'] / combined_df['EFG_D']\n",
    "combined_df['EFG2%_team1'] = combined_df['EFG2_N'] / combined_df['EFG2_D']\n",
    "combined_df['EFG3%_team1'] = combined_df['EFG3_N'] / combined_df['EFG3_D']\n",
    "combined_df['EFT%_team1'] = combined_df['EFT_N'] / combined_df['EFT_D']\n",
    "combined_df['EORB%_team1'] = combined_df['EORB_N'] / combined_df['EORB_D']\n",
    "combined_df['EDRB%_team1'] = combined_df['EDRB_N'] / combined_df['EDRB_D']\n",
    "combined_df['EAST%_team1'] = combined_df['EAST_N'] / combined_df['EAST_D']\n",
    "combined_df['ETOV%_team1'] = combined_df['ETOV_N'] / combined_df['ETOV_D']\n",
    "combined_df['EBLK%_team1'] = combined_df['EBLK_N'] / combined_df['EBLK_D']\n",
    "\n",
    "combined_df['EFG%_team2'] = combined_df['EFG_N_Opp'] / combined_df['EFG_D_Opp']\n",
    "combined_df['EFG2%_team2'] = combined_df['EFG2_N_Opp'] / combined_df['EFG2_D_Opp']\n",
    "combined_df['EFG3%_team2'] = combined_df['EFG3_N_Opp'] / combined_df['EFG3_D_Opp']\n",
    "combined_df['EFT%_team2'] = combined_df['EFT_N_Opp'] / combined_df['EFT_D_Opp']\n",
    "combined_df['EORB%_team2'] = combined_df['EORB_N_Opp'] / combined_df['EORB_D_Opp']\n",
    "combined_df['EDRB%_team2'] = combined_df['EDRB_N_Opp'] / combined_df['EDRB_D_Opp']\n",
    "combined_df['EAST%_team2'] = combined_df['EAST_N_Opp'] / combined_df['EAST_D_Opp']\n",
    "combined_df['ETOV%_team2'] = combined_df['ETOV_N_Opp'] / combined_df['ETOV_D_Opp']\n",
    "combined_df['EBLK%_team2'] = combined_df['EBLK_N_Opp'] / combined_df['EBLK_D_Opp']\n",
    "\n",
    "\n",
    "train_scaler = StandardScaler()\n",
    "scaled_X_train = train_scaler.fit_transform(combined_df[filter_train])\n",
    "\n",
    "\n",
    "frames = [ncaa_tour_2011_df, ncaa_tour_2012_df, ncaa_tour_2013_df, ncaa_tour_2014_df,\n",
    "          ncaa_tour_2015_df, ncaa_tour_2016_df, ncaa_tour_2017_df, ncaa_tour_2018_df,\n",
    "          ncaa_tour_2019_df, ncaa_tour_2021_df, ncaa_tour_2022_df]\n",
    "combined_tour_df = pd.concat(frames)\n",
    "\n",
    "\n",
    "scaled_X_test = predict_scaler.transform(combined_tour_df[filter_predict])\n",
    "y_test = combined_tour_df['Win']\n",
    "\n",
    "scaled_X_test_11 = predict_scaler.transform(ncaa_tour_2011_df[filter_predict])\n",
    "scaled_X_test_12 = predict_scaler.transform(ncaa_tour_2012_df[filter_predict])\n",
    "scaled_X_test_13 = predict_scaler.transform(ncaa_tour_2013_df[filter_predict])\n",
    "scaled_X_test_14 = predict_scaler.transform(ncaa_tour_2014_df[filter_predict])\n",
    "scaled_X_test_15 = predict_scaler.transform(ncaa_tour_2015_df[filter_predict])\n",
    "scaled_X_test_16 = predict_scaler.transform(ncaa_tour_2016_df[filter_predict])\n",
    "scaled_X_test_17 = predict_scaler.transform(ncaa_tour_2017_df[filter_predict])\n",
    "scaled_X_test_18 = predict_scaler.transform(ncaa_tour_2018_df[filter_predict])\n",
    "scaled_X_test_19 = predict_scaler.transform(ncaa_tour_2019_df[filter_predict])\n",
    "scaled_X_test_21 = predict_scaler.transform(ncaa_tour_2021_df[filter_predict])\n",
    "scaled_X_test_22 = predict_scaler.transform(ncaa_tour_2022_df[filter_predict])\n",
    "\n",
    "y_test_11 = ncaa_tour_2011_df['Win']\n",
    "y_test_12 = ncaa_tour_2012_df['Win']\n",
    "y_test_13 = ncaa_tour_2013_df['Win']\n",
    "y_test_14 = ncaa_tour_2014_df['Win']\n",
    "y_test_15 = ncaa_tour_2015_df['Win']\n",
    "y_test_16 = ncaa_tour_2016_df['Win']\n",
    "y_test_17 = ncaa_tour_2017_df['Win']\n",
    "y_test_18 = ncaa_tour_2018_df['Win']\n",
    "y_test_19 = ncaa_tour_2019_df['Win']\n",
    "y_test_21 = ncaa_tour_2021_df['Win']\n",
    "y_test_22 = ncaa_tour_2022_df['Win']\n",
    "\n",
    "# combined_tour_df = combined_tour_df[filter_predict]\n",
    "# combined_tour_df = combined_tour_df.rename(columns={'EFG_avgs_team1':'EFG%_team1', 'EFG_avgs_team2':'EFG%_team2',\n",
    "#                                                     'EFG2_avgs_team1':'EFG2%_team1', 'EFG2_avgs_team2':'EFG2%_team2',\n",
    "#                                                     'EFG3_avgs_team1':'EFG3%_team1', 'EFG3_avgs_team2':'EFG3%_team2',\n",
    "#                                                     'EFT_avgs_team1':'EFT%_team1', 'EFT_avgs_team2':'EFT%_team2',\n",
    "#                                                     'EORB_avgs_team1':'EORB%_team1', 'EORB_avgs_team2':'EORB%_team2',\n",
    "#                                                     'EDRB_avgs_team1':'EDRB%_team1', 'EDRB_avgs_team2':'EDRB%_team2',\n",
    "#                                                     'EAST_avgs_team1':'EAST%_team1', 'EAST_avgs_team2':'EAST%_team2',\n",
    "#                                                     'ETOV_avgs_team1':'ETOV%_team1', 'ETOV_avgs_team2':'ETOV%_team2',\n",
    "#                                                     'EBLK_avgs_team1':'EBLK%_team1', 'EBLK_avgs_team2':'EBLK%_team2'})"
   ],
   "metadata": {
    "collapsed": false,
    "ExecuteTime": {
     "end_time": "2023-12-06T05:16:37.572943Z",
     "start_time": "2023-12-06T05:16:37.449915Z"
    }
   }
  },
  {
   "cell_type": "code",
   "execution_count": 176,
   "outputs": [
    {
     "data": {
      "text/plain": "       GameId            Team  DayNum  NumOT  Score  Home        Conf  \\\n0           1        Illinois       7    0.0     79     1     big_ten   \n1           1       UC Irvine       7    0.0     65    -1    big_west   \n2           2        Maryland       7    0.0    105     1     big_ten   \n3           2         Seattle       7    0.0     76    -1         wac   \n4           3           Texas       7    0.0     83     1  big_twelve   \n...       ...             ...     ...    ...    ...   ...         ...   \n10693    5347  TAM C. Christi     134    0.0     67     0   southland   \n10694    5348       Wright St     135    0.0     93     0     horizon   \n10695    5348          Bryant     135    0.0     82     0         aec   \n10696    5349         Rutgers     135    2.0     87     0     big_ten   \n10697    5349      Notre Dame     135    2.0     89     0         acc   \n\n        OppConf  Seed  EFG_N  ...  EBLK%_team1  EFG%_team2  EFG2%_team2  \\\n0      big_west   9.0     33  ...     0.126984    0.412698     0.348837   \n1       big_ten   NaN     26  ...     0.017241    0.568966     0.617647   \n2           wac   NaN     36  ...     0.116883    0.389610     0.409836   \n3       big_ten   NaN     30  ...     0.016129    0.580645     0.611111   \n4       patriot   4.0     32  ...     0.079365    0.333333     0.375000   \n...         ...   ...    ...  ...          ...         ...          ...   \n10693      swac  16.0     29  ...     0.054545    0.454545     0.452381   \n10694       aec  16.0     34  ...     0.056338    0.464789     0.574468   \n10695   horizon  16.0     33  ...     0.081967    0.557377     0.500000   \n10696       acc  11.0     42  ...     0.083333    0.555556     0.584906   \n10697   big_ten  11.0     40  ...     0.028169    0.591549     0.568182   \n\n       EFG3%_team2  EFT%_team2  EORB%_team2  EDRB%_team2  EAST%_team2  \\\n0         0.350000    0.222222     0.268293     0.742857     0.545455   \n1         0.333333    0.224138     0.257143     0.731707     0.586207   \n2         0.187500    0.220779     0.352941     0.484848     0.392857   \n3         0.250000    0.532258     0.515152     0.647059     0.657143   \n4         0.173913    0.158730     0.170213     0.666667     0.421053   \n...            ...         ...          ...          ...          ...   \n10693     0.307692    0.472727     0.216216     0.829268     0.391304   \n10694     0.166667    0.225352     0.256410     0.647059     0.225806   \n10695     0.428571    0.426230     0.352941     0.743590     0.655172   \n10696     0.315789    0.125000     0.200000     0.628571     0.459459   \n10697     0.407407    0.056338     0.371429     0.800000     0.611111   \n\n       ETOV%_team2 EBLK%_team2  \n0         0.170732    0.017241  \n1         0.160920    0.126984  \n2         0.266055    0.016129  \n3         0.236842    0.116883  \n4         0.168539    0.084746  \n...            ...         ...  \n10693     0.096386    0.134328  \n10694     0.166667    0.081967  \n10695     0.138298    0.056338  \n10696     0.149425    0.028169  \n10697     0.059524    0.083333  \n\n[114822 rows x 123 columns]",
      "text/html": "<div>\n<style scoped>\n    .dataframe tbody tr th:only-of-type {\n        vertical-align: middle;\n    }\n\n    .dataframe tbody tr th {\n        vertical-align: top;\n    }\n\n    .dataframe thead th {\n        text-align: right;\n    }\n</style>\n<table border=\"1\" class=\"dataframe\">\n  <thead>\n    <tr style=\"text-align: right;\">\n      <th></th>\n      <th>GameId</th>\n      <th>Team</th>\n      <th>DayNum</th>\n      <th>NumOT</th>\n      <th>Score</th>\n      <th>Home</th>\n      <th>Conf</th>\n      <th>OppConf</th>\n      <th>Seed</th>\n      <th>EFG_N</th>\n      <th>...</th>\n      <th>EBLK%_team1</th>\n      <th>EFG%_team2</th>\n      <th>EFG2%_team2</th>\n      <th>EFG3%_team2</th>\n      <th>EFT%_team2</th>\n      <th>EORB%_team2</th>\n      <th>EDRB%_team2</th>\n      <th>EAST%_team2</th>\n      <th>ETOV%_team2</th>\n      <th>EBLK%_team2</th>\n    </tr>\n  </thead>\n  <tbody>\n    <tr>\n      <th>0</th>\n      <td>1</td>\n      <td>Illinois</td>\n      <td>7</td>\n      <td>0.0</td>\n      <td>79</td>\n      <td>1</td>\n      <td>big_ten</td>\n      <td>big_west</td>\n      <td>9.0</td>\n      <td>33</td>\n      <td>...</td>\n      <td>0.126984</td>\n      <td>0.412698</td>\n      <td>0.348837</td>\n      <td>0.350000</td>\n      <td>0.222222</td>\n      <td>0.268293</td>\n      <td>0.742857</td>\n      <td>0.545455</td>\n      <td>0.170732</td>\n      <td>0.017241</td>\n    </tr>\n    <tr>\n      <th>1</th>\n      <td>1</td>\n      <td>UC Irvine</td>\n      <td>7</td>\n      <td>0.0</td>\n      <td>65</td>\n      <td>-1</td>\n      <td>big_west</td>\n      <td>big_ten</td>\n      <td>NaN</td>\n      <td>26</td>\n      <td>...</td>\n      <td>0.017241</td>\n      <td>0.568966</td>\n      <td>0.617647</td>\n      <td>0.333333</td>\n      <td>0.224138</td>\n      <td>0.257143</td>\n      <td>0.731707</td>\n      <td>0.586207</td>\n      <td>0.160920</td>\n      <td>0.126984</td>\n    </tr>\n    <tr>\n      <th>2</th>\n      <td>2</td>\n      <td>Maryland</td>\n      <td>7</td>\n      <td>0.0</td>\n      <td>105</td>\n      <td>1</td>\n      <td>big_ten</td>\n      <td>wac</td>\n      <td>NaN</td>\n      <td>36</td>\n      <td>...</td>\n      <td>0.116883</td>\n      <td>0.389610</td>\n      <td>0.409836</td>\n      <td>0.187500</td>\n      <td>0.220779</td>\n      <td>0.352941</td>\n      <td>0.484848</td>\n      <td>0.392857</td>\n      <td>0.266055</td>\n      <td>0.016129</td>\n    </tr>\n    <tr>\n      <th>3</th>\n      <td>2</td>\n      <td>Seattle</td>\n      <td>7</td>\n      <td>0.0</td>\n      <td>76</td>\n      <td>-1</td>\n      <td>wac</td>\n      <td>big_ten</td>\n      <td>NaN</td>\n      <td>30</td>\n      <td>...</td>\n      <td>0.016129</td>\n      <td>0.580645</td>\n      <td>0.611111</td>\n      <td>0.250000</td>\n      <td>0.532258</td>\n      <td>0.515152</td>\n      <td>0.647059</td>\n      <td>0.657143</td>\n      <td>0.236842</td>\n      <td>0.116883</td>\n    </tr>\n    <tr>\n      <th>4</th>\n      <td>3</td>\n      <td>Texas</td>\n      <td>7</td>\n      <td>0.0</td>\n      <td>83</td>\n      <td>1</td>\n      <td>big_twelve</td>\n      <td>patriot</td>\n      <td>4.0</td>\n      <td>32</td>\n      <td>...</td>\n      <td>0.079365</td>\n      <td>0.333333</td>\n      <td>0.375000</td>\n      <td>0.173913</td>\n      <td>0.158730</td>\n      <td>0.170213</td>\n      <td>0.666667</td>\n      <td>0.421053</td>\n      <td>0.168539</td>\n      <td>0.084746</td>\n    </tr>\n    <tr>\n      <th>...</th>\n      <td>...</td>\n      <td>...</td>\n      <td>...</td>\n      <td>...</td>\n      <td>...</td>\n      <td>...</td>\n      <td>...</td>\n      <td>...</td>\n      <td>...</td>\n      <td>...</td>\n      <td>...</td>\n      <td>...</td>\n      <td>...</td>\n      <td>...</td>\n      <td>...</td>\n      <td>...</td>\n      <td>...</td>\n      <td>...</td>\n      <td>...</td>\n      <td>...</td>\n      <td>...</td>\n    </tr>\n    <tr>\n      <th>10693</th>\n      <td>5347</td>\n      <td>TAM C. Christi</td>\n      <td>134</td>\n      <td>0.0</td>\n      <td>67</td>\n      <td>0</td>\n      <td>southland</td>\n      <td>swac</td>\n      <td>16.0</td>\n      <td>29</td>\n      <td>...</td>\n      <td>0.054545</td>\n      <td>0.454545</td>\n      <td>0.452381</td>\n      <td>0.307692</td>\n      <td>0.472727</td>\n      <td>0.216216</td>\n      <td>0.829268</td>\n      <td>0.391304</td>\n      <td>0.096386</td>\n      <td>0.134328</td>\n    </tr>\n    <tr>\n      <th>10694</th>\n      <td>5348</td>\n      <td>Wright St</td>\n      <td>135</td>\n      <td>0.0</td>\n      <td>93</td>\n      <td>0</td>\n      <td>horizon</td>\n      <td>aec</td>\n      <td>16.0</td>\n      <td>34</td>\n      <td>...</td>\n      <td>0.056338</td>\n      <td>0.464789</td>\n      <td>0.574468</td>\n      <td>0.166667</td>\n      <td>0.225352</td>\n      <td>0.256410</td>\n      <td>0.647059</td>\n      <td>0.225806</td>\n      <td>0.166667</td>\n      <td>0.081967</td>\n    </tr>\n    <tr>\n      <th>10695</th>\n      <td>5348</td>\n      <td>Bryant</td>\n      <td>135</td>\n      <td>0.0</td>\n      <td>82</td>\n      <td>0</td>\n      <td>aec</td>\n      <td>horizon</td>\n      <td>16.0</td>\n      <td>33</td>\n      <td>...</td>\n      <td>0.081967</td>\n      <td>0.557377</td>\n      <td>0.500000</td>\n      <td>0.428571</td>\n      <td>0.426230</td>\n      <td>0.352941</td>\n      <td>0.743590</td>\n      <td>0.655172</td>\n      <td>0.138298</td>\n      <td>0.056338</td>\n    </tr>\n    <tr>\n      <th>10696</th>\n      <td>5349</td>\n      <td>Rutgers</td>\n      <td>135</td>\n      <td>2.0</td>\n      <td>87</td>\n      <td>0</td>\n      <td>big_ten</td>\n      <td>acc</td>\n      <td>11.0</td>\n      <td>42</td>\n      <td>...</td>\n      <td>0.083333</td>\n      <td>0.555556</td>\n      <td>0.584906</td>\n      <td>0.315789</td>\n      <td>0.125000</td>\n      <td>0.200000</td>\n      <td>0.628571</td>\n      <td>0.459459</td>\n      <td>0.149425</td>\n      <td>0.028169</td>\n    </tr>\n    <tr>\n      <th>10697</th>\n      <td>5349</td>\n      <td>Notre Dame</td>\n      <td>135</td>\n      <td>2.0</td>\n      <td>89</td>\n      <td>0</td>\n      <td>acc</td>\n      <td>big_ten</td>\n      <td>11.0</td>\n      <td>40</td>\n      <td>...</td>\n      <td>0.028169</td>\n      <td>0.591549</td>\n      <td>0.568182</td>\n      <td>0.407407</td>\n      <td>0.056338</td>\n      <td>0.371429</td>\n      <td>0.800000</td>\n      <td>0.611111</td>\n      <td>0.059524</td>\n      <td>0.083333</td>\n    </tr>\n  </tbody>\n</table>\n<p>114822 rows × 123 columns</p>\n</div>"
     },
     "execution_count": 176,
     "metadata": {},
     "output_type": "execute_result"
    }
   ],
   "source": [
    "combined_df"
   ],
   "metadata": {
    "collapsed": false,
    "ExecuteTime": {
     "end_time": "2023-12-06T05:16:37.599707Z",
     "start_time": "2023-12-06T05:16:37.571633Z"
    }
   }
  },
  {
   "cell_type": "code",
   "execution_count": 177,
   "outputs": [],
   "source": [
    "def ParameterSearch(regressor, degree, scaler_bool, interaction_only, X_train, y_train):\n",
    "    \"\"\"\n",
    "    This is a k=5 cross fold validation function to find optimal parameters for\n",
    "    different regressors.\n",
    "\n",
    "    Parameters:\n",
    "    ------------\n",
    "    regressor: (string)\n",
    "      type or regressor to be run (\"rfr\", \"etr\", \"gbr\", \"xgb\", \"knnr\", \"ablr\",\n",
    "                                   \"svr\", \"lr\")\n",
    "    scaler_bool: bool\n",
    "      True to apply standard scaler to the input data first\n",
    "    degree: int\n",
    "      degree to which the X_train input will be converted prior to running the\n",
    "      regressor\n",
    "    interaction_only: bool\n",
    "      if the X_train input degree will only add interaction terms\n",
    "    X_train: DataFrame\n",
    "      training inputs\n",
    "    y_train: DataFrame\n",
    "      training outputs\n",
    "\n",
    "    Returns:\n",
    "    ------------\n",
    "    None\n",
    "    \"\"\"\n",
    "\n",
    "    # all of the regressor options to be run\n",
    "    rfc = RandomForestClassifier(random_state=42, n_jobs = -1)\n",
    "    etc = ExtraTreesClassifier(random_state=42, n_jobs = -1)\n",
    "    nnc = MLPClassifier(random_state=42,  max_iter=10000)\n",
    "    gbc = GradientBoostingClassifier(random_state=42)\n",
    "    xgb = XGBoost.XGBClassifier(random_state=42, n_jobs=-1)\n",
    "    knnc = KNeighborsClassifier()\n",
    "    absvc = AdaBoostClassifier(random_state=42, base_estimator=SVC())\n",
    "    svc = SVC()\n",
    "    lr = LogisticRegression(random_state=0, warm_start=True, max_iter=10000)\n",
    "\n",
    "    # parameter values to be tried\n",
    "    rfc_grid = {\n",
    "        'rfc__max_depth': [4, 6, 8, 10],\n",
    "        'rfc__max_features': ['sqrt', None],\n",
    "        'rfc__min_samples_leaf': [4, 8, 16, 32],\n",
    "        'rfc__n_estimators': [50, 100, 200],\n",
    "        'rfc__bootstrap': [True],\n",
    "        'rfc__max_samples': [0.25, 0.5, 1]\n",
    "    }\n",
    "    etc_grid = {\n",
    "        'etc__max_depth': [4, 6, 8, 10],\n",
    "        'etc__max_features': ['sqrt', None],\n",
    "        'etc__min_samples_leaf': [4, 8, 16, 32],\n",
    "        'etc__n_estimators': [50, 100, 200],\n",
    "        'etc__bootstrap': [True],\n",
    "        'etc__max_samples': [0.25, 0.5, 1]\n",
    "    }\n",
    "    nnc_grid = {\n",
    "        'nnc__hidden_layer_sizes': [(i, j) for i in range(5, 51, 5) for j in range(2, 21, 2)],\n",
    "        'nnc__alpha': [i/2 for i in list(range(20))],\n",
    "    }\n",
    "    gbc_grid = {\n",
    "        'gbc__max_depth': [2, 3, 4, 5, 6, 7, 8, 9, 10],\n",
    "        'gbc__max_features': ['sqrt', None],\n",
    "        'gbc__min_samples_leaf': [1, 2, 4, 8, 16],\n",
    "        'gbc__n_estimators': [50, 100, 200, 300],\n",
    "        'gbc__subsample': [0.25, 0.5, 0.75, 1]\n",
    "    }\n",
    "    xgb_grid = {\n",
    "        'xgb__max_depth': [5, 10, 20],\n",
    "        'xgb__n_estimators': [100, 200, 300],\n",
    "        'xgb__gamma': [1],\n",
    "        'xgb__eta': [0.05, 0.1],\n",
    "        'xgb__subsample': [0.25],\n",
    "        'xgb__min_child_weight': [0.25, 0.5],\n",
    "        'xgb__reg_lambda': [0.5, 1],\n",
    "        'xgb__alpha': [0.5, 1]\n",
    "    }\n",
    "    knnc_grid = {\n",
    "        'knnc__n_neighbors': list(range(1, 51, 1))\n",
    "    }\n",
    "    absvc_grid = {\n",
    "        'absvc__n_estimators': list(range(10, 101, 10)),\n",
    "        'absvc__learning_rate': [0.05, 0.1, 0.2]\n",
    "    }\n",
    "    svc_grid = {\n",
    "        'svc__degree': list(range(1, 11, 1))\n",
    "    }\n",
    "    lr_grid = {\n",
    "        'lr__C': [0.001, 0.002, 0.005, 0.01, 0.02, 0.05, 0.1, 0.2, 0.5, 1, 1.25, 1.5, 1.75, 2, 2.25, 2.5, 2.75, 3, 3.25, 3.5, 3.75, 4, 4.25, 4.5, 4.75, 5]\n",
    "    }\n",
    "\n",
    "    # check if scaler will be used\n",
    "    if scaler_bool == True:\n",
    "        scaler = StandardScaler()\n",
    "    else:\n",
    "        scaler = None\n",
    "\n",
    "    if degree:\n",
    "        poly = PolynomialFeatures(degree=degree, interaction_only=interaction_only)\n",
    "    else:\n",
    "        poly = None\n",
    "\n",
    "    # set up the grid and pipe for the chosen regressor\n",
    "    if regressor=='rfc':\n",
    "        grid = rfc_grid\n",
    "        pipe = Pipeline(steps=[('scaler', scaler), ('rfc', rfc)])\n",
    "    elif regressor=='etc':\n",
    "        grid = etc_grid\n",
    "        pipe = Pipeline(steps=[('scaler', scaler), ('etc', etc)])\n",
    "    elif regressor=='nnc':\n",
    "        grid = nnc_grid\n",
    "        pipe = Pipeline(steps=[('scaler', scaler), ('nnc', nnc)])\n",
    "    elif regressor=='gbc':\n",
    "        grid = gbc_grid\n",
    "        pipe = Pipeline(steps=[('scaler', scaler), ('gbc', gbc)])\n",
    "    elif regressor=='xgb':\n",
    "        grid = xgb_grid\n",
    "        pipe = Pipeline(steps=[('scaler', scaler), ('xgb', xgb)])\n",
    "    elif regressor=='knnc':\n",
    "        grid = knnc_grid\n",
    "        pipe = Pipeline(steps=[('scaler', scaler), ('knnc', knnc)])\n",
    "    elif regressor=='absvc':\n",
    "        grid = absvc_grid\n",
    "        pipe = Pipeline(steps=[('scaler', scaler), ('absvc', absvc)])\n",
    "    elif regressor=='svc':\n",
    "        grid = svc_grid\n",
    "        pipe = Pipeline(steps=[('scaler', scaler), ('svc', svc)])\n",
    "    elif regressor=='lr':\n",
    "        grid = lr_grid\n",
    "        pipe = Pipeline(steps=[('poly', poly), ('scaler', scaler), ('lr', lr)])\n",
    "\n",
    "    # create the GridSearchCV object, and fit the passed input to it\n",
    "    gs = GridSearchCV(pipe, grid, n_jobs=-1, cv=3, verbose=1)\n",
    "    gs.fit(X_train, y_train)\n",
    "\n",
    "    # print out the best score on the cross validation holdout data and the best parameters\n",
    "    print(\"Best score:\", gs.best_score_)\n",
    "    print()\n",
    "    print(gs.best_params_)"
   ],
   "metadata": {
    "collapsed": false,
    "ExecuteTime": {
     "end_time": "2023-12-06T05:16:37.605840Z",
     "start_time": "2023-12-06T05:16:37.604209Z"
    }
   }
  },
  {
   "cell_type": "code",
   "execution_count": 178,
   "outputs": [],
   "source": [
    "# X_train = combined_df.drop(columns='Win')\n",
    "# y_train = combined_df['Win']\n",
    "# X_test = combined_tour_df.drop(columns='Win')\n",
    "# y_test = combined_tour_df['Win']"
   ],
   "metadata": {
    "collapsed": false,
    "ExecuteTime": {
     "end_time": "2023-12-06T05:16:37.785164Z",
     "start_time": "2023-12-06T05:16:37.781089Z"
    }
   }
  },
  {
   "cell_type": "code",
   "execution_count": 179,
   "outputs": [
    {
     "name": "stdout",
     "output_type": "stream",
     "text": [
      "Fitting 3 folds for each of 26 candidates, totalling 78 fits\n"
     ]
    },
    {
     "name": "stderr",
     "output_type": "stream",
     "text": [
      "/Users/kylesullivan/anaconda3/lib/python3.10/site-packages/joblib/externals/loky/process_executor.py:702: UserWarning: A worker stopped while some jobs were given to the executor. This can be caused by a too short worker timeout or by a memory leak.\n",
      "  warnings.warn(\n"
     ]
    },
    {
     "name": "stdout",
     "output_type": "stream",
     "text": [
      "Best score: 0.9186218668896204\n",
      "\n",
      "{'lr__C': 3}\n"
     ]
    }
   ],
   "source": [
    "ParameterSearch('lr', 2, False, False, scaled_X_train, y_train)"
   ],
   "metadata": {
    "collapsed": false,
    "ExecuteTime": {
     "end_time": "2023-12-06T05:17:02.237109Z",
     "start_time": "2023-12-06T05:16:38.115848Z"
    }
   }
  },
  {
   "cell_type": "code",
   "execution_count": 180,
   "outputs": [],
   "source": [
    "def model(X_train, y_train, X_test, y_test, version):\n",
    "\n",
    "    # y_train = X_train['Win'].to_list()\n",
    "    # y_test = X_test['Win'].to_list()\n",
    "\n",
    "    if version == 0:\n",
    "        poly = PolynomialFeatures(2)\n",
    "        X_train = poly.fit_transform(X_train)\n",
    "        X_test = poly.transform(X_test)\n",
    "\n",
    "        # scaler = StandardScaler()\n",
    "        # X_train = scaler.fit_transform(X_train)\n",
    "        # X_test = scaler.transform(X_test)\n",
    "        clf = LogisticRegression(random_state=0, warm_start=True, C=3, max_iter=10000).fit(X_train, y_train)\n",
    "\n",
    "    if version == 1:\n",
    "        scaler = StandardScaler()\n",
    "        X_train = scaler.fit_transform(X_train)\n",
    "        X_test = scaler.transform(X_test)\n",
    "        clf = MLPClassifier(hidden_layer_sizes=(7, 3), alpha=0.05, random_state=0, max_iter=10000).fit(X_train, y_train)\n",
    "\n",
    "    if version == 2:\n",
    "        scaler = StandardScaler()\n",
    "        X_train = scaler.fit_transform(X_train)\n",
    "        X_test = scaler.transform(X_test)\n",
    "        clf = RandomForestClassifier(bootstrap=True, max_depth=8, max_features='sqrt', max_samples=0.75, min_samples_leaf=8, n_estimators=500, random_state=0).fit(X_train, y_train)\n",
    "\n",
    "    # clf = ExtraTreesClassifier(bootstrap=True, max_depth=10, max_features='sqrt', max_samples=0.5, min_samples_leaf=16, n_estimators=300, random_state=0).fit(X_train, y_train)\n",
    "\n",
    "    # clf = GradientBoostingClassifier(random_state=0).fit(X_train, y_train)\n",
    "\n",
    "    # pred = clf.predict(X)\n",
    "    train_acc = clf.score(X_train, y_train)\n",
    "    test_acc = clf.score(X_test, y_test)\n",
    "    train_pred = clf.predict(X_train)\n",
    "    test_pred = clf.predict(X_test)\n",
    "    y_train_arr = np.array(y_train)\n",
    "    y_test_arr = np.array(y_test)\n",
    "\n",
    "    # output = [(pred[i], y_test[i]) for i in range(len(y_test))]\n",
    "    # print(output)\n",
    "    # print(\"Train Acc:\", train_acc)\n",
    "    # print(\"Test Acc:\", test_acc)\n",
    "    # print('Train Total Incorrect:', (len(train_pred)-sum(train_pred==y_train_arr))/2)\n",
    "    print('Test Total Correct:', sum(test_pred==y_test_arr)/2)\n",
    "\n",
    "    # return clf"
   ],
   "metadata": {
    "collapsed": false,
    "ExecuteTime": {
     "end_time": "2023-12-06T05:17:06.575865Z",
     "start_time": "2023-12-06T05:17:06.570719Z"
    }
   }
  },
  {
   "cell_type": "code",
   "execution_count": 181,
   "outputs": [
    {
     "name": "stdout",
     "output_type": "stream",
     "text": [
      "Test Total Correct: 492.0\n"
     ]
    }
   ],
   "source": [
    "clf = model(scaled_X_train, y_train, scaled_X_test, y_test, 0)"
   ],
   "metadata": {
    "collapsed": false,
    "ExecuteTime": {
     "end_time": "2023-12-06T05:17:10.788391Z",
     "start_time": "2023-12-06T05:17:07.494454Z"
    }
   }
  },
  {
   "cell_type": "code",
   "execution_count": 298,
   "outputs": [
    {
     "name": "stdout",
     "output_type": "stream",
     "text": [
      "Year: 2011\n",
      "Test Total Correct: 42.0\n",
      "--------------------------------------------------\n",
      "Year: 2012\n",
      "Test Total Correct: 46.0\n",
      "--------------------------------------------------\n",
      "Year: 2013\n",
      "Test Total Correct: 45.0\n",
      "--------------------------------------------------\n",
      "Year: 2014\n",
      "Test Total Correct: 43.0\n",
      "--------------------------------------------------\n",
      "Year: 2015\n",
      "Test Total Correct: 50.0\n",
      "--------------------------------------------------\n",
      "Year: 2016\n",
      "Test Total Correct: 46.0\n",
      "--------------------------------------------------\n",
      "Year: 2017\n",
      "Test Total Correct: 45.0\n",
      "--------------------------------------------------\n",
      "Year: 2018\n",
      "Test Total Correct: 44.0\n",
      "--------------------------------------------------\n",
      "Year: 2019\n",
      "Test Total Correct: 48.0\n",
      "--------------------------------------------------\n",
      "Year: 2021\n",
      "Test Total Correct: 41.0\n",
      "--------------------------------------------------\n",
      "Year: 2022\n",
      "Test Total Correct: 42.0\n",
      "--------------------------------------------------\n"
     ]
    }
   ],
   "source": [
    "for pair in [(scaled_X_test_11, y_test_11, 2011), (scaled_X_test_12, y_test_12, 2012), (scaled_X_test_13, y_test_13, 2013),\n",
    "             (scaled_X_test_14, y_test_14, 2014), (scaled_X_test_15, y_test_15, 2015), (scaled_X_test_16, y_test_16, 2016),\n",
    "             (scaled_X_test_17, y_test_17, 2017), (scaled_X_test_18, y_test_18, 2018), (scaled_X_test_19, y_test_19, 2019),\n",
    "             (scaled_X_test_21, y_test_21, 2021), (scaled_X_test_22, y_test_22, 2022)]:\n",
    "    print(\"Year:\", pair[2])\n",
    "    model(scaled_X_train, y_train, pair[0], pair[1], 0)\n",
    "    print(\"--------------------------------------------------\",)"
   ],
   "metadata": {
    "collapsed": false,
    "ExecuteTime": {
     "end_time": "2023-12-06T04:14:47.397195Z",
     "start_time": "2023-12-06T04:14:09.211920Z"
    }
   }
  },
  {
   "cell_type": "code",
   "execution_count": null,
   "outputs": [],
   "source": [],
   "metadata": {
    "collapsed": false
   }
  },
  {
   "cell_type": "code",
   "execution_count": null,
   "outputs": [],
   "source": [
    "bl_df = ncaa_2019_df\n",
    "bl_df = ncaa_2019_df[ncaa_2019_df['Home'] == 0]\n",
    "bl_df = bl_df.drop_duplicates(subset=['Team'])\n",
    "bl_df = bl_df[filter]\n",
    "scaler = StandardScaler()\n",
    "teams = bl_df['Team'].to_list()\n",
    "bl_df = bl_df.drop(columns=['Team'])\n",
    "cols = bl_df.columns\n",
    "bl_df = scaler.fit_transform(bl_df)\n",
    "bl_df = pd.DataFrame(data=bl_df, columns=cols)\n",
    "bl_df['Team'] = teams\n",
    "scores_weight = 0\n",
    "bl_df['Combined_Rating'] = (scores_weight)*bl_df['Rating'] + (1-scores_weight)*((177/465)*(bl_df['EFG_alphas_team1'] + bl_df['EFG_betas_team1']) + (73/465)*(bl_df['EORB_alphas_team1'] + bl_df['EORB_betas_team1']) + (44/465)*(bl_df['EDRB_alphas_team1'] + bl_df['EDRB_betas_team1']) + (141/465)*(bl_df['ETOV_alphas_team1'] + bl_df['ETOV_betas_team1']) + (30/465)*(bl_df['EAST_alphas_team1'] + bl_df['EAST_betas_team1']))\n",
    "bl_df = bl_df.sort_values(by='Combined_Rating', ascending=False)\n",
    "bl_df[[\n",
    "    'Team', 'Combined_Rating', 'Rating',\n",
    "    'EFG_alphas_team1', 'EFG_betas_team1', 'EFG_avgs_team1',\n",
    "    'EFG2_alphas_team1', 'EFG2_betas_team1', 'EFG2_avgs_team1',\n",
    "    'EFG3_alphas_team1', 'EFG3_betas_team1', 'EFG3_avgs_team1',\n",
    "    'EORB_alphas_team1', 'EORB_betas_team1', 'EORB_avgs_team1',\n",
    "    'EDRB_alphas_team1', 'EDRB_betas_team1', 'EDRB_avgs_team1',\n",
    "    'EAST_alphas_team1', 'EAST_betas_team1', 'EAST_avgs_team1',\n",
    "    'ETOV_alphas_team1', 'ETOV_betas_team1', 'ETOV_avgs_team1',\n",
    "    'EFG_alphas_team2', 'EFG_betas_team2', 'EFG_avgs_team2',\n",
    "    'EFG2_alphas_team2', 'EFG2_betas_team2', 'EFG2_avgs_team2',\n",
    "    'EFG3_alphas_team2', 'EFG3_betas_team2', 'EFG3_avgs_team2',\n",
    "    'EORB_alphas_team2', 'EORB_betas_team2', 'EORB_avgs_team2',\n",
    "    'EDRB_alphas_team2', 'EDRB_betas_team2', 'EDRB_avgs_team2',\n",
    "    'EAST_alphas_team2', 'EAST_betas_team2', 'EAST_avgs_team2',\n",
    "    'ETOV_alphas_team2', 'ETOV_betas_team2', 'ETOV_avgs_team2',\n",
    "]]"
   ],
   "metadata": {
    "collapsed": false
   }
  },
  {
   "cell_type": "code",
   "execution_count": null,
   "outputs": [],
   "source": [
    "ncaa_2019_df = ncaa_2019_df.reset_index()\n",
    "ncaa_2019_df = ncaa_2019_df.drop(columns=['index'])\n",
    "ncaa_2019_df = ncaa_2019_df.reset_index()\n",
    "ncaa_2019_df = ncaa_2019_df[ncaa_2019_df['index'] % 2 == 0]\n",
    "ncaa_2019_df = ncaa_2019_df.drop(columns=['index'])"
   ],
   "metadata": {
    "collapsed": false
   }
  },
  {
   "cell_type": "code",
   "execution_count": null,
   "outputs": [],
   "source": [
    "scaler = StandardScaler()\n",
    "\n",
    "train_2019 = ncaa_2019_df[ncaa_2019_df['DayNum'] <= 135]\n",
    "test_2019 = ncaa_2019_df[ncaa_2019_df['DayNum'] > 135]\n",
    "\n",
    "y_train_2019 = train_2019['Win'].to_list()\n",
    "y_test_2019 = test_2019['Win'].to_list()\n",
    "\n",
    "X_train_2019 = train_2019[filter]\n",
    "X_train_2019 = X_train_2019.drop(columns=['Team'])\n",
    "\n",
    "temp = train_2019.drop_duplicates(subset=['Team'])\n",
    "teams_2019 = temp['Team'].to_list()\n",
    "temp = temp[filter]\n",
    "temp = temp.drop(columns=['Team'])\n",
    "temp\n",
    "\n",
    "temp.iloc[:, 22:] = 1.5\n",
    "\n",
    "for metric in ['EFG', 'EFG2', 'EFG3', 'EORB', 'EDRB', 'EAST', 'ETOV']:\n",
    "    temp[metric+'_avgs_team1'] = temp.apply(lambda row : row[metric+'_alphas_team1'] / (row[metric+'_alphas_team1'] + row[metric+'_betas_team2']), axis=1)\n",
    "    temp[metric+'_avgs_team2'] = temp.apply(lambda row : row[metric+'_alphas_team2'] / (row[metric+'_alphas_team2'] + row[metric+'_betas_team1']), axis=1)"
   ],
   "metadata": {
    "collapsed": false
   }
  },
  {
   "cell_type": "code",
   "execution_count": null,
   "outputs": [],
   "source": [
    "temp"
   ],
   "metadata": {
    "collapsed": false
   }
  },
  {
   "cell_type": "code",
   "execution_count": null,
   "outputs": [],
   "source": [
    "def EnsemblePredictor(X_train, y_train, X_test, y_test=None):\n",
    "    \"\"\"\n",
    "    An ensemble regressor estimation function.\n",
    "\n",
    "    Parameters:\n",
    "    ------------\n",
    "    X_train: DataFrame\n",
    "      training inputs\n",
    "    y_train: DataFrame\n",
    "      training outputs\n",
    "    X_test: DataFrame\n",
    "      testing inputs\n",
    "    y_test: DataFrame\n",
    "      testing outputs\n",
    "\n",
    "    Returns:\n",
    "    ------------\n",
    "    None (if y_test != None)\n",
    "\n",
    "    \"\"\"\n",
    "\n",
    "    # convert the input into a polynomial of degree 2 with only interation terms (meaning x1, x2, and x1*x2)\n",
    "    # poly = PolynomialFeatures(degree=2, interaction_only=True)\n",
    "    # X_train_poly = poly.fit_transform(X_train)\n",
    "    # X_test_poly = poly.transform(X_test)\n",
    "\n",
    "    # normalize the data\n",
    "    scaler = StandardScaler()\n",
    "    # X_train = scaler.fit_transform(X_train)\n",
    "    # X_test = scaler.transform(X_test)\n",
    "    # X_train_poly = scaler.fit_transform(X_train)\n",
    "    # X_test_poly = scaler.transform(X_test)\n",
    "    # X_train = scaler.fit_transform(X_train_poly)\n",
    "    # X_test = scaler.transform(X_test_poly)\n",
    "\n",
    "    poly_class=Pipeline([('poly_class', PolynomialFeatures(degree=2, interaction_only=False)), ('scaler', scaler), ('lr', LogisticRegression(random_state=10, warm_start=True, C=0.01, max_iter=20000),)])\n",
    "\n",
    "    # MLP_class=Pipeline([('scaler', scaler), ('MLP_class', MLPClassifier(hidden_layer_sizes=(20, 5), alpha=1, random_state=0, max_iter=100000),)])\n",
    "    #\n",
    "    # RF_class=Pipeline([('scaler', scaler), ('RF_class', RandomForestClassifier(bootstrap=True, max_depth=8, max_features='sqrt', max_samples=0.5, min_samples_leaf=8, n_estimators=300, random_state=0),)])\n",
    "\n",
    "    # poly_class = LogisticRegression(random_state=0, warm_start=True, C=0.01, max_iter=10000)\n",
    "    # MLP_class = MLPClassifier(hidden_layer_sizes=(20, 5), alpha=.5, random_state=0, max_iter=100000)\n",
    "    # RF_class = RandomForestClassifier(bootstrap=True, max_depth=8, max_features='sqrt', max_samples=0.75, min_samples_leaf=4, n_estimators=300, random_state=0)\n",
    "\n",
    "    # estimators to be used in the ensemble\n",
    "    estimators = [\n",
    "        # ('1', MLP_class,),]\n",
    "        # ('1', RF_class,),]\n",
    "        ('1', poly_class,),]\n",
    "\n",
    "    # create regressors stack\n",
    "    stack_reg = StackingClassifier(\n",
    "        estimators=estimators\n",
    "    )\n",
    "\n",
    "    # fit the training data to the stack\n",
    "    stack_reg.fit(X_train, y_train)\n",
    "\n",
    "    # pred = clf.predict(X)\n",
    "    train_acc = stack_reg.score(X_train, y_train)\n",
    "\n",
    "    train_pred = stack_reg.predict(X_train)\n",
    "    test_pred = stack_reg.predict(X_test)\n",
    "    test_pred_prob = stack_reg.predict_proba(X_test)\n",
    "    y_train_arr = np.array(y_train)\n",
    "\n",
    "    # output = [(pred[i], y_test[i]) for i in range(len(y_test))]\n",
    "    # print(output)\n",
    "    print(\"Train Acc:\", train_acc)\n",
    "    if y_test:\n",
    "        test_acc = stack_reg.score(X_test, y_test)\n",
    "        print(\"Test Acc:\", test_acc)\n",
    "    print('Train Total Incorrect:', len(train_pred)-sum(train_pred==y_train_arr))\n",
    "    if y_test:\n",
    "        y_test_arr = np.array(y_test)\n",
    "        print('Test Total Correct:', sum(test_pred==y_test_arr))\n",
    "    else:\n",
    "        return test_pred_prob[:,1]"
   ],
   "metadata": {
    "collapsed": false
   }
  },
  {
   "cell_type": "code",
   "execution_count": null,
   "outputs": [],
   "source": [
    "rankings = EnsemblePredictor(X_train_2019, y_train_2019, temp)\n",
    "d = {'Team': teams_2019, 'Ranking': rankings}\n",
    "rankings_2019_df = pd.DataFrame(data=d)\n",
    "rankings_2019_df = rankings_2019_df.sort_values(by='Ranking', ascending=False)\n",
    "rankings_2019_df"
   ],
   "metadata": {
    "collapsed": false
   }
  },
  {
   "cell_type": "code",
   "execution_count": null,
   "outputs": [],
   "source": [
    "rankings_2019_df[0:50]"
   ],
   "metadata": {
    "collapsed": false
   }
  },
  {
   "cell_type": "code",
   "execution_count": null,
   "outputs": [],
   "source": [
    "bl_df[0:50]"
   ],
   "metadata": {
    "collapsed": false
   }
  },
  {
   "cell_type": "code",
   "execution_count": null,
   "outputs": [],
   "source": [],
   "metadata": {
    "collapsed": false
   }
  },
  {
   "cell_type": "code",
   "execution_count": 47,
   "outputs": [
    {
     "data": {
      "text/plain": "       GameId            Team  DayNum  NumOT  Score  Home        Conf  \\\n0           1        Illinois       7    0.0     79     1     big_ten   \n1           1       UC Irvine       7    0.0     65    -1    big_west   \n2           2        Maryland       7    0.0    105     1     big_ten   \n3           2         Seattle       7    0.0     76    -1         wac   \n4           3           Texas       7    0.0     83     1  big_twelve   \n...       ...             ...     ...    ...    ...   ...         ...   \n10819    5410            Duke     152    0.0     77     0         acc   \n10820    5411       Villanova     152    0.0     65     0    big_east   \n10821    5411          Kansas     152    0.0     81     0  big_twelve   \n10822    5412  North Carolina     154    0.0     69     0         acc   \n10823    5412          Kansas     154    0.0     72     0  big_twelve   \n\n          OppConf  Seed  EFG_N  ...  ETOV_avgs_team1  ETOV_avgs_team2  \\\n0        big_west   9.0     33  ...         0.161096         0.145609   \n1         big_ten   NaN     26  ...         0.145609         0.161096   \n2             wac   NaN     36  ...         0.227828         0.190504   \n3         big_ten   NaN     30  ...         0.190504         0.227828   \n4         patriot   4.0     32  ...         0.188819         0.172844   \n...           ...   ...    ...  ...              ...              ...   \n10819         acc   2.0     32  ...         0.122954         0.110741   \n10820  big_twelve   2.0     28  ...         0.138876         0.131763   \n10821    big_east   1.0     36  ...         0.131763         0.138876   \n10822  big_twelve   8.0     26  ...         0.110235         0.139025   \n10823         acc   1.0     32  ...         0.139025         0.110235   \n\n       EBLK_alphas_team1  EBLK_betas_team1  EBLK_alphas_team2  \\\n0              61.392977        832.580803          16.417355   \n1              16.417355        556.415837          61.392977   \n2              51.371591        755.894528          18.531403   \n3              18.531403        329.215997          51.371591   \n4              57.985201        805.143301          25.462317   \n...                  ...               ...                ...   \n10819          86.822446       1055.747312          59.138629   \n10820          44.122615       1191.880893          70.066077   \n10821          70.066077       1202.427499          44.122615   \n10822          59.138629       1045.640328          70.066077   \n10823          70.066077       1202.427499          59.138629   \n\n       EBLK_betas_team2  EBLK_avgs_team1  EBLK_avgs_team2  EDRB_avgs_team1  \\\n0            556.415837         0.099372         0.019337         0.759926   \n1            832.580803         0.019337         0.099372         0.660153   \n2            329.215997         0.134980         0.023929         0.651490   \n3            755.894528         0.023929         0.134980         0.632422   \n4            499.718606         0.103971         0.030655         0.818079   \n...                 ...              ...              ...              ...   \n10819       1045.640328         0.076667         0.053045         0.708204   \n10820       1202.427499         0.035396         0.055522         0.711131   \n10821       1191.880893         0.055522         0.035396         0.725754   \n10822       1202.427499         0.046877         0.062800         0.771956   \n10823       1045.640328         0.062800         0.046877         0.738580   \n\n      EDRB_avgs_team2  \n0            0.660153  \n1            0.759926  \n2            0.632422  \n3            0.651490  \n4            0.559488  \n...               ...  \n10819        0.788976  \n10820        0.725754  \n10821        0.711131  \n10822        0.738580  \n10823        0.771956  \n\n[116206 rows x 105 columns]",
      "text/html": "<div>\n<style scoped>\n    .dataframe tbody tr th:only-of-type {\n        vertical-align: middle;\n    }\n\n    .dataframe tbody tr th {\n        vertical-align: top;\n    }\n\n    .dataframe thead th {\n        text-align: right;\n    }\n</style>\n<table border=\"1\" class=\"dataframe\">\n  <thead>\n    <tr style=\"text-align: right;\">\n      <th></th>\n      <th>GameId</th>\n      <th>Team</th>\n      <th>DayNum</th>\n      <th>NumOT</th>\n      <th>Score</th>\n      <th>Home</th>\n      <th>Conf</th>\n      <th>OppConf</th>\n      <th>Seed</th>\n      <th>EFG_N</th>\n      <th>...</th>\n      <th>ETOV_avgs_team1</th>\n      <th>ETOV_avgs_team2</th>\n      <th>EBLK_alphas_team1</th>\n      <th>EBLK_betas_team1</th>\n      <th>EBLK_alphas_team2</th>\n      <th>EBLK_betas_team2</th>\n      <th>EBLK_avgs_team1</th>\n      <th>EBLK_avgs_team2</th>\n      <th>EDRB_avgs_team1</th>\n      <th>EDRB_avgs_team2</th>\n    </tr>\n  </thead>\n  <tbody>\n    <tr>\n      <th>0</th>\n      <td>1</td>\n      <td>Illinois</td>\n      <td>7</td>\n      <td>0.0</td>\n      <td>79</td>\n      <td>1</td>\n      <td>big_ten</td>\n      <td>big_west</td>\n      <td>9.0</td>\n      <td>33</td>\n      <td>...</td>\n      <td>0.161096</td>\n      <td>0.145609</td>\n      <td>61.392977</td>\n      <td>832.580803</td>\n      <td>16.417355</td>\n      <td>556.415837</td>\n      <td>0.099372</td>\n      <td>0.019337</td>\n      <td>0.759926</td>\n      <td>0.660153</td>\n    </tr>\n    <tr>\n      <th>1</th>\n      <td>1</td>\n      <td>UC Irvine</td>\n      <td>7</td>\n      <td>0.0</td>\n      <td>65</td>\n      <td>-1</td>\n      <td>big_west</td>\n      <td>big_ten</td>\n      <td>NaN</td>\n      <td>26</td>\n      <td>...</td>\n      <td>0.145609</td>\n      <td>0.161096</td>\n      <td>16.417355</td>\n      <td>556.415837</td>\n      <td>61.392977</td>\n      <td>832.580803</td>\n      <td>0.019337</td>\n      <td>0.099372</td>\n      <td>0.660153</td>\n      <td>0.759926</td>\n    </tr>\n    <tr>\n      <th>2</th>\n      <td>2</td>\n      <td>Maryland</td>\n      <td>7</td>\n      <td>0.0</td>\n      <td>105</td>\n      <td>1</td>\n      <td>big_ten</td>\n      <td>wac</td>\n      <td>NaN</td>\n      <td>36</td>\n      <td>...</td>\n      <td>0.227828</td>\n      <td>0.190504</td>\n      <td>51.371591</td>\n      <td>755.894528</td>\n      <td>18.531403</td>\n      <td>329.215997</td>\n      <td>0.134980</td>\n      <td>0.023929</td>\n      <td>0.651490</td>\n      <td>0.632422</td>\n    </tr>\n    <tr>\n      <th>3</th>\n      <td>2</td>\n      <td>Seattle</td>\n      <td>7</td>\n      <td>0.0</td>\n      <td>76</td>\n      <td>-1</td>\n      <td>wac</td>\n      <td>big_ten</td>\n      <td>NaN</td>\n      <td>30</td>\n      <td>...</td>\n      <td>0.190504</td>\n      <td>0.227828</td>\n      <td>18.531403</td>\n      <td>329.215997</td>\n      <td>51.371591</td>\n      <td>755.894528</td>\n      <td>0.023929</td>\n      <td>0.134980</td>\n      <td>0.632422</td>\n      <td>0.651490</td>\n    </tr>\n    <tr>\n      <th>4</th>\n      <td>3</td>\n      <td>Texas</td>\n      <td>7</td>\n      <td>0.0</td>\n      <td>83</td>\n      <td>1</td>\n      <td>big_twelve</td>\n      <td>patriot</td>\n      <td>4.0</td>\n      <td>32</td>\n      <td>...</td>\n      <td>0.188819</td>\n      <td>0.172844</td>\n      <td>57.985201</td>\n      <td>805.143301</td>\n      <td>25.462317</td>\n      <td>499.718606</td>\n      <td>0.103971</td>\n      <td>0.030655</td>\n      <td>0.818079</td>\n      <td>0.559488</td>\n    </tr>\n    <tr>\n      <th>...</th>\n      <td>...</td>\n      <td>...</td>\n      <td>...</td>\n      <td>...</td>\n      <td>...</td>\n      <td>...</td>\n      <td>...</td>\n      <td>...</td>\n      <td>...</td>\n      <td>...</td>\n      <td>...</td>\n      <td>...</td>\n      <td>...</td>\n      <td>...</td>\n      <td>...</td>\n      <td>...</td>\n      <td>...</td>\n      <td>...</td>\n      <td>...</td>\n      <td>...</td>\n      <td>...</td>\n    </tr>\n    <tr>\n      <th>10819</th>\n      <td>5410</td>\n      <td>Duke</td>\n      <td>152</td>\n      <td>0.0</td>\n      <td>77</td>\n      <td>0</td>\n      <td>acc</td>\n      <td>acc</td>\n      <td>2.0</td>\n      <td>32</td>\n      <td>...</td>\n      <td>0.122954</td>\n      <td>0.110741</td>\n      <td>86.822446</td>\n      <td>1055.747312</td>\n      <td>59.138629</td>\n      <td>1045.640328</td>\n      <td>0.076667</td>\n      <td>0.053045</td>\n      <td>0.708204</td>\n      <td>0.788976</td>\n    </tr>\n    <tr>\n      <th>10820</th>\n      <td>5411</td>\n      <td>Villanova</td>\n      <td>152</td>\n      <td>0.0</td>\n      <td>65</td>\n      <td>0</td>\n      <td>big_east</td>\n      <td>big_twelve</td>\n      <td>2.0</td>\n      <td>28</td>\n      <td>...</td>\n      <td>0.138876</td>\n      <td>0.131763</td>\n      <td>44.122615</td>\n      <td>1191.880893</td>\n      <td>70.066077</td>\n      <td>1202.427499</td>\n      <td>0.035396</td>\n      <td>0.055522</td>\n      <td>0.711131</td>\n      <td>0.725754</td>\n    </tr>\n    <tr>\n      <th>10821</th>\n      <td>5411</td>\n      <td>Kansas</td>\n      <td>152</td>\n      <td>0.0</td>\n      <td>81</td>\n      <td>0</td>\n      <td>big_twelve</td>\n      <td>big_east</td>\n      <td>1.0</td>\n      <td>36</td>\n      <td>...</td>\n      <td>0.131763</td>\n      <td>0.138876</td>\n      <td>70.066077</td>\n      <td>1202.427499</td>\n      <td>44.122615</td>\n      <td>1191.880893</td>\n      <td>0.055522</td>\n      <td>0.035396</td>\n      <td>0.725754</td>\n      <td>0.711131</td>\n    </tr>\n    <tr>\n      <th>10822</th>\n      <td>5412</td>\n      <td>North Carolina</td>\n      <td>154</td>\n      <td>0.0</td>\n      <td>69</td>\n      <td>0</td>\n      <td>acc</td>\n      <td>big_twelve</td>\n      <td>8.0</td>\n      <td>26</td>\n      <td>...</td>\n      <td>0.110235</td>\n      <td>0.139025</td>\n      <td>59.138629</td>\n      <td>1045.640328</td>\n      <td>70.066077</td>\n      <td>1202.427499</td>\n      <td>0.046877</td>\n      <td>0.062800</td>\n      <td>0.771956</td>\n      <td>0.738580</td>\n    </tr>\n    <tr>\n      <th>10823</th>\n      <td>5412</td>\n      <td>Kansas</td>\n      <td>154</td>\n      <td>0.0</td>\n      <td>72</td>\n      <td>0</td>\n      <td>big_twelve</td>\n      <td>acc</td>\n      <td>1.0</td>\n      <td>32</td>\n      <td>...</td>\n      <td>0.139025</td>\n      <td>0.110235</td>\n      <td>70.066077</td>\n      <td>1202.427499</td>\n      <td>59.138629</td>\n      <td>1045.640328</td>\n      <td>0.062800</td>\n      <td>0.046877</td>\n      <td>0.738580</td>\n      <td>0.771956</td>\n    </tr>\n  </tbody>\n</table>\n<p>116206 rows × 105 columns</p>\n</div>"
     },
     "execution_count": 47,
     "metadata": {},
     "output_type": "execute_result"
    }
   ],
   "source": [
    "combined_df"
   ],
   "metadata": {
    "collapsed": false,
    "ExecuteTime": {
     "end_time": "2023-12-06T02:39:54.971082Z",
     "start_time": "2023-12-06T02:39:54.945287Z"
    }
   }
  },
  {
   "cell_type": "code",
   "execution_count": 44,
   "outputs": [
    {
     "data": {
      "text/plain": "[0.0,\n 0.01,\n 0.02,\n 0.03,\n 0.04,\n 0.05,\n 0.06,\n 0.07,\n 0.08,\n 0.09,\n 0.1,\n 0.11,\n 0.12,\n 0.13,\n 0.14,\n 0.15,\n 0.16,\n 0.17,\n 0.18,\n 0.19,\n 0.2,\n 0.21,\n 0.22,\n 0.23,\n 0.24,\n 0.25,\n 0.26,\n 0.27,\n 0.28,\n 0.29,\n 0.3,\n 0.31,\n 0.32,\n 0.33,\n 0.34,\n 0.35,\n 0.36,\n 0.37,\n 0.38,\n 0.39,\n 0.4,\n 0.41,\n 0.42,\n 0.43,\n 0.44,\n 0.45,\n 0.46,\n 0.47,\n 0.48,\n 0.49,\n 0.5,\n 0.51,\n 0.52,\n 0.53,\n 0.54,\n 0.55,\n 0.56,\n 0.57,\n 0.58,\n 0.59,\n 0.6,\n 0.61,\n 0.62,\n 0.63,\n 0.64,\n 0.65,\n 0.66,\n 0.67,\n 0.68,\n 0.69,\n 0.7,\n 0.71,\n 0.72,\n 0.73,\n 0.74,\n 0.75,\n 0.76,\n 0.77,\n 0.78,\n 0.79,\n 0.8,\n 0.81,\n 0.82,\n 0.83,\n 0.84,\n 0.85,\n 0.86,\n 0.87,\n 0.88,\n 0.89,\n 0.9,\n 0.91,\n 0.92,\n 0.93,\n 0.94,\n 0.95,\n 0.96,\n 0.97,\n 0.98,\n 0.99]"
     },
     "execution_count": 44,
     "metadata": {},
     "output_type": "execute_result"
    }
   ],
   "source": [
    "[0.001, 0.002, 0.005, 0.01, 0.02, 0.05, 0.1, 0.2, 0.5, 1, 1.5, 2, 2.5, 3, 3.5, 4, 4.5, 5]"
   ],
   "metadata": {
    "collapsed": false,
    "ExecuteTime": {
     "end_time": "2023-12-06T02:38:14.826754Z",
     "start_time": "2023-12-06T02:38:14.814664Z"
    }
   }
  },
  {
   "cell_type": "code",
   "execution_count": 45,
   "outputs": [],
   "source": [
    "def ParameterSearch(regressor, degree, scaler_bool, interaction_only, X_train, y_train):\n",
    "    \"\"\"\n",
    "    This is a k=5 cross fold validation function to find optimal parameters for\n",
    "    different regressors.\n",
    "\n",
    "    Parameters:\n",
    "    ------------\n",
    "    regressor: (string)\n",
    "      type or regressor to be run (\"rfr\", \"etr\", \"gbr\", \"xgb\", \"knnr\", \"ablr\",\n",
    "                                   \"svr\", \"lr\")\n",
    "    scaler_bool: bool\n",
    "      True to apply standard scaler to the input data first\n",
    "    degree: int\n",
    "      degree to which the X_train input will be converted prior to running the\n",
    "      regressor\n",
    "    interaction_only: bool\n",
    "      if the X_train input degree will only add interaction terms\n",
    "    X_train: DataFrame\n",
    "      training inputs\n",
    "    y_train: DataFrame\n",
    "      training outputs\n",
    "\n",
    "    Returns:\n",
    "    ------------\n",
    "    None\n",
    "    \"\"\"\n",
    "\n",
    "    # all of the regressor options to be run\n",
    "    rfc = RandomForestClassifier(random_state=42, n_jobs = -1)\n",
    "    etc = ExtraTreesClassifier(random_state=42, n_jobs = -1)\n",
    "    nnc = MLPClassifier(random_state=42,  max_iter=10000)\n",
    "    gbc = GradientBoostingClassifier(random_state=42)\n",
    "    xgb = XGBoost.XGBClassifier(random_state=42, n_jobs=-1)\n",
    "    knnc = KNeighborsClassifier()\n",
    "    absvc = AdaBoostClassifier(random_state=42, base_estimator=SVC())\n",
    "    svc = SVC()\n",
    "    lc = LogisticRegression(random_state=0, warm_start=True, max_iter=10000)\n",
    "\n",
    "    # parameter values to be tried\n",
    "    rfc_grid = {\n",
    "        'rfc__max_depth': [4, 6, 8, 10],\n",
    "        'rfc__max_features': ['sqrt', None],\n",
    "        'rfc__min_samples_leaf': [4, 8, 16, 32],\n",
    "        'rfc__n_estimators': [50, 100, 200],\n",
    "        'rfc__bootstrap': [True],\n",
    "        'rfc__max_samples': [0.25, 0.5, 1]\n",
    "    }\n",
    "    etc_grid = {\n",
    "        'etc__max_depth': [4, 6, 8, 10],\n",
    "        'etc__max_features': ['sqrt', None],\n",
    "        'etc__min_samples_leaf': [4, 8, 16, 32],\n",
    "        'etc__n_estimators': [50, 100, 200],\n",
    "        'etc__bootstrap': [True],\n",
    "        'etc__max_samples': [0.25, 0.5, 1]\n",
    "    }\n",
    "    nnc_grid = {\n",
    "        'nnc__hidden_layer_sizes': [(i, j) for i in range(5, 51, 5) for j in range(2, 21, 2)],\n",
    "        'nnc__alpha': [i/2 for i in list(range(20))],\n",
    "    }\n",
    "    gbc_grid = {\n",
    "        'gbc__max_depth': [2, 3, 4, 5, 6, 7, 8, 9, 10],\n",
    "        'gbc__max_features': ['sqrt', None],\n",
    "        'gbc__min_samples_leaf': [1, 2, 4, 8, 16],\n",
    "        'gbc__n_estimators': [50, 100, 200, 300],\n",
    "        'gbc__subsample': [0.25, 0.5, 0.75, 1]\n",
    "    }\n",
    "    xgb_grid = {\n",
    "        'xgb__max_depth': [5, 10, 20],\n",
    "        'xgb__n_estimators': [100, 200, 300],\n",
    "        'xgb__gamma': [1],\n",
    "        'xgb__eta': [0.05, 0.1],\n",
    "        'xgb__subsample': [0.25],\n",
    "        'xgb__min_child_weight': [0.25, 0.5],\n",
    "        'xgb__reg_lambda': [0.5, 1],\n",
    "        'xgb__alpha': [0.5, 1]\n",
    "    }\n",
    "    knnc_grid = {\n",
    "        'knnc__n_neighbors': list(range(1, 51, 1))\n",
    "    }\n",
    "    absvc_grid = {\n",
    "        'absvc__n_estimators': list(range(10, 101, 10)),\n",
    "        'absvc__learning_rate': [0.05, 0.1, 0.2]\n",
    "    }\n",
    "    svc_grid = {\n",
    "        'svc__degree': list(range(1, 11, 1))\n",
    "    }\n",
    "    lc_grid = {\n",
    "        'lr__C': [0.001, 0.002, 0.005, 0.01, 0.02, 0.05, 0.1, 0.2, 0.5, 1, 1.5, 2, 2.5, 3, 3.5, 4, 4.5, 5]\n",
    "    }\n",
    "\n",
    "    # check if scaler will be used\n",
    "    if scaler_bool == True:\n",
    "        scaler = StandardScaler()\n",
    "    else:\n",
    "        scaler = None\n",
    "\n",
    "    # set up the grid and pipe for the chosen regressor\n",
    "    if regressor=='rfc':\n",
    "        grid = rfc_grid\n",
    "        pipe = Pipeline(steps=[('scaler', scaler), ('rfc', rfc)])\n",
    "    elif regressor=='etc':\n",
    "        grid = etc_grid\n",
    "        pipe = Pipeline(steps=[('scaler', scaler), ('etc', etc)])\n",
    "    elif regressor=='nnc':\n",
    "        grid = nnc_grid\n",
    "        pipe = Pipeline(steps=[('scaler', scaler), ('nnc', nnc)])\n",
    "    elif regressor=='gbc':\n",
    "        grid = gbc_grid\n",
    "        pipe = Pipeline(steps=[('scaler', scaler), ('gbc', gbc)])\n",
    "    elif regressor=='xgb':\n",
    "        grid = xgb_grid\n",
    "        pipe = Pipeline(steps=[('scaler', scaler), ('xgb', xgb)])\n",
    "    elif regressor=='knnc':\n",
    "        grid = knnc_grid\n",
    "        pipe = Pipeline(steps=[('scaler', scaler), ('knnc', knnc)])\n",
    "    elif regressor=='absvc':\n",
    "        grid = absvc_grid\n",
    "        pipe = Pipeline(steps=[('scaler', scaler), ('absvc', absvc)])\n",
    "    elif regressor=='svc':\n",
    "        grid = svc_grid\n",
    "        pipe = Pipeline(steps=[('scaler', scaler), ('svc', svc)])\n",
    "    elif regressor=='lc':\n",
    "        grid = lc_grid\n",
    "        pipe = Pipeline(steps=[('scaler', scaler), ('lc', lc)])\n",
    "\n",
    "    # create the GridSearchCV object, and fit the passed input to it\n",
    "    gs = GridSearchCV(pipe, grid, n_jobs=-1, cv=3, verbose=1)\n",
    "    gs.fit(X_train, y_train)\n",
    "\n",
    "    # print out the best score on the cross validation holdout data and the best parameters\n",
    "    print(\"Best score:\", gs.best_score_)\n",
    "    print()\n",
    "    print(gs.best_params_)"
   ],
   "metadata": {
    "collapsed": false,
    "ExecuteTime": {
     "end_time": "2023-12-06T02:39:38.037592Z",
     "start_time": "2023-12-06T02:39:38.022092Z"
    }
   }
  },
  {
   "cell_type": "code",
   "execution_count": 56,
   "outputs": [
    {
     "data": {
      "text/plain": "               Team  Combined_Rating    Rating  EFG_alphas_team1  \\\n123         Gonzaga         3.501888  2.181244          3.379385   \n194  North Carolina         3.220173  2.400679          1.802561   \n2       Michigan St         3.136217  2.208962          2.868737   \n165        Virginia         3.117161  2.781147          2.569578   \n1              Duke         3.104944  2.594561          1.836329   \n..              ...              ...       ...               ...   \n222       Alcorn St        -2.439889 -1.878770         -1.816592   \n227           Idaho        -2.568934 -1.772001         -0.775299   \n299      MD E Shore        -2.668773 -2.214909         -2.183772   \n83    UNC Asheville        -2.788308 -2.324207         -1.576501   \n146      Chicago St        -3.135425 -2.302330         -1.571781   \n\n     EFG_betas_team1  EFG_avgs_team1  EFG2_alphas_team1  EFG2_betas_team1  \\\n123         2.523483        2.341211           4.206364          2.553629   \n194         1.400638        0.500459           1.306630          1.486868   \n2           3.257764        0.676462           2.288020          3.366565   \n165         2.662449        1.913709           1.331740          1.728678   \n1           2.697485       -0.112735           3.543258          2.104853   \n..               ...             ...                ...               ...   \n222        -1.371413       -0.216206          -1.753725         -1.879769   \n227        -0.978746       -0.683129          -1.380303         -1.420387   \n299        -1.666683       -0.077945          -1.741245         -1.473071   \n83         -1.209516       -1.438497          -1.603109         -1.539626   \n146        -1.831326       -1.011981          -1.242620         -1.685593   \n\n     EFG2_avgs_team1  EFG3_alphas_team1  ...  EORB_avgs_team2  \\\n123         3.072060           1.010543  ...         0.215665   \n194        -0.291943           1.765091  ...        -1.260687   \n2           0.085840           2.423005  ...        -0.018566   \n165         1.084759           3.465757  ...        -0.023749   \n1           0.334009          -0.920233  ...         1.636355   \n..               ...                ...  ...              ...   \n222        -0.185640          -1.443521  ...         0.033867   \n227        -0.933769           0.741083  ...         1.822784   \n299         0.417274          -2.379621  ...         0.833908   \n83         -0.936730          -0.889186  ...         2.334282   \n146        -0.895490          -1.509797  ...         0.455811   \n\n     EDRB_alphas_team2  EDRB_betas_team2  EDRB_avgs_team2  EAST_alphas_team2  \\\n123          -0.673344          0.681151        -1.169315           0.390861   \n194           0.363046          0.376420        -1.514376          -0.305427   \n2             1.411660          0.722945        -0.830982          -0.402314   \n165          -0.153957          1.239851        -0.642475          -0.957361   \n1             2.399705          2.502554        -0.701489           0.474928   \n..                 ...               ...              ...                ...   \n222          -2.319169         -0.676135        -1.526723           0.308977   \n227           0.291496          0.917358         1.052135          -0.414106   \n299          -1.323724          0.058460         0.974492          -1.025720   \n83           -0.583475          0.401540         0.006346          -0.174563   \n146           0.101126         -0.550585         1.221072          -0.839894   \n\n     EAST_betas_team2  EAST_avgs_team2  ETOV_alphas_team2  ETOV_betas_team2  \\\n123          0.344971        -1.046181           1.313091          0.228623   \n194          1.509465         0.300815           0.264504          0.841800   \n2            0.099127        -0.390880          -0.268587          0.363840   \n165         -0.441882        -1.828995          -0.555739         -1.771221   \n1            0.843191        -0.156211          -0.054245          0.351568   \n..                ...              ...                ...               ...   \n222         -2.041487         2.010986          -0.624536         -0.178811   \n227          0.676858         0.946134          -0.794516          0.341540   \n299         -0.055081         0.454361           0.480937         -0.717371   \n83          -0.520156         2.021733          -0.108590         -0.896815   \n146         -1.028385         0.228307           1.144576         -0.849975   \n\n     ETOV_avgs_team2  \n123         0.987373  \n194         0.081173  \n2          -0.280747  \n165        -0.667126  \n1          -0.228807  \n..               ...  \n222        -0.297665  \n227        -0.619538  \n299         0.655150  \n83          0.237764  \n146         1.418166  \n\n[326 rows x 45 columns]",
      "text/html": "<div>\n<style scoped>\n    .dataframe tbody tr th:only-of-type {\n        vertical-align: middle;\n    }\n\n    .dataframe tbody tr th {\n        vertical-align: top;\n    }\n\n    .dataframe thead th {\n        text-align: right;\n    }\n</style>\n<table border=\"1\" class=\"dataframe\">\n  <thead>\n    <tr style=\"text-align: right;\">\n      <th></th>\n      <th>Team</th>\n      <th>Combined_Rating</th>\n      <th>Rating</th>\n      <th>EFG_alphas_team1</th>\n      <th>EFG_betas_team1</th>\n      <th>EFG_avgs_team1</th>\n      <th>EFG2_alphas_team1</th>\n      <th>EFG2_betas_team1</th>\n      <th>EFG2_avgs_team1</th>\n      <th>EFG3_alphas_team1</th>\n      <th>...</th>\n      <th>EORB_avgs_team2</th>\n      <th>EDRB_alphas_team2</th>\n      <th>EDRB_betas_team2</th>\n      <th>EDRB_avgs_team2</th>\n      <th>EAST_alphas_team2</th>\n      <th>EAST_betas_team2</th>\n      <th>EAST_avgs_team2</th>\n      <th>ETOV_alphas_team2</th>\n      <th>ETOV_betas_team2</th>\n      <th>ETOV_avgs_team2</th>\n    </tr>\n  </thead>\n  <tbody>\n    <tr>\n      <th>123</th>\n      <td>Gonzaga</td>\n      <td>3.501888</td>\n      <td>2.181244</td>\n      <td>3.379385</td>\n      <td>2.523483</td>\n      <td>2.341211</td>\n      <td>4.206364</td>\n      <td>2.553629</td>\n      <td>3.072060</td>\n      <td>1.010543</td>\n      <td>...</td>\n      <td>0.215665</td>\n      <td>-0.673344</td>\n      <td>0.681151</td>\n      <td>-1.169315</td>\n      <td>0.390861</td>\n      <td>0.344971</td>\n      <td>-1.046181</td>\n      <td>1.313091</td>\n      <td>0.228623</td>\n      <td>0.987373</td>\n    </tr>\n    <tr>\n      <th>194</th>\n      <td>North Carolina</td>\n      <td>3.220173</td>\n      <td>2.400679</td>\n      <td>1.802561</td>\n      <td>1.400638</td>\n      <td>0.500459</td>\n      <td>1.306630</td>\n      <td>1.486868</td>\n      <td>-0.291943</td>\n      <td>1.765091</td>\n      <td>...</td>\n      <td>-1.260687</td>\n      <td>0.363046</td>\n      <td>0.376420</td>\n      <td>-1.514376</td>\n      <td>-0.305427</td>\n      <td>1.509465</td>\n      <td>0.300815</td>\n      <td>0.264504</td>\n      <td>0.841800</td>\n      <td>0.081173</td>\n    </tr>\n    <tr>\n      <th>2</th>\n      <td>Michigan St</td>\n      <td>3.136217</td>\n      <td>2.208962</td>\n      <td>2.868737</td>\n      <td>3.257764</td>\n      <td>0.676462</td>\n      <td>2.288020</td>\n      <td>3.366565</td>\n      <td>0.085840</td>\n      <td>2.423005</td>\n      <td>...</td>\n      <td>-0.018566</td>\n      <td>1.411660</td>\n      <td>0.722945</td>\n      <td>-0.830982</td>\n      <td>-0.402314</td>\n      <td>0.099127</td>\n      <td>-0.390880</td>\n      <td>-0.268587</td>\n      <td>0.363840</td>\n      <td>-0.280747</td>\n    </tr>\n    <tr>\n      <th>165</th>\n      <td>Virginia</td>\n      <td>3.117161</td>\n      <td>2.781147</td>\n      <td>2.569578</td>\n      <td>2.662449</td>\n      <td>1.913709</td>\n      <td>1.331740</td>\n      <td>1.728678</td>\n      <td>1.084759</td>\n      <td>3.465757</td>\n      <td>...</td>\n      <td>-0.023749</td>\n      <td>-0.153957</td>\n      <td>1.239851</td>\n      <td>-0.642475</td>\n      <td>-0.957361</td>\n      <td>-0.441882</td>\n      <td>-1.828995</td>\n      <td>-0.555739</td>\n      <td>-1.771221</td>\n      <td>-0.667126</td>\n    </tr>\n    <tr>\n      <th>1</th>\n      <td>Duke</td>\n      <td>3.104944</td>\n      <td>2.594561</td>\n      <td>1.836329</td>\n      <td>2.697485</td>\n      <td>-0.112735</td>\n      <td>3.543258</td>\n      <td>2.104853</td>\n      <td>0.334009</td>\n      <td>-0.920233</td>\n      <td>...</td>\n      <td>1.636355</td>\n      <td>2.399705</td>\n      <td>2.502554</td>\n      <td>-0.701489</td>\n      <td>0.474928</td>\n      <td>0.843191</td>\n      <td>-0.156211</td>\n      <td>-0.054245</td>\n      <td>0.351568</td>\n      <td>-0.228807</td>\n    </tr>\n    <tr>\n      <th>...</th>\n      <td>...</td>\n      <td>...</td>\n      <td>...</td>\n      <td>...</td>\n      <td>...</td>\n      <td>...</td>\n      <td>...</td>\n      <td>...</td>\n      <td>...</td>\n      <td>...</td>\n      <td>...</td>\n      <td>...</td>\n      <td>...</td>\n      <td>...</td>\n      <td>...</td>\n      <td>...</td>\n      <td>...</td>\n      <td>...</td>\n      <td>...</td>\n      <td>...</td>\n      <td>...</td>\n    </tr>\n    <tr>\n      <th>222</th>\n      <td>Alcorn St</td>\n      <td>-2.439889</td>\n      <td>-1.878770</td>\n      <td>-1.816592</td>\n      <td>-1.371413</td>\n      <td>-0.216206</td>\n      <td>-1.753725</td>\n      <td>-1.879769</td>\n      <td>-0.185640</td>\n      <td>-1.443521</td>\n      <td>...</td>\n      <td>0.033867</td>\n      <td>-2.319169</td>\n      <td>-0.676135</td>\n      <td>-1.526723</td>\n      <td>0.308977</td>\n      <td>-2.041487</td>\n      <td>2.010986</td>\n      <td>-0.624536</td>\n      <td>-0.178811</td>\n      <td>-0.297665</td>\n    </tr>\n    <tr>\n      <th>227</th>\n      <td>Idaho</td>\n      <td>-2.568934</td>\n      <td>-1.772001</td>\n      <td>-0.775299</td>\n      <td>-0.978746</td>\n      <td>-0.683129</td>\n      <td>-1.380303</td>\n      <td>-1.420387</td>\n      <td>-0.933769</td>\n      <td>0.741083</td>\n      <td>...</td>\n      <td>1.822784</td>\n      <td>0.291496</td>\n      <td>0.917358</td>\n      <td>1.052135</td>\n      <td>-0.414106</td>\n      <td>0.676858</td>\n      <td>0.946134</td>\n      <td>-0.794516</td>\n      <td>0.341540</td>\n      <td>-0.619538</td>\n    </tr>\n    <tr>\n      <th>299</th>\n      <td>MD E Shore</td>\n      <td>-2.668773</td>\n      <td>-2.214909</td>\n      <td>-2.183772</td>\n      <td>-1.666683</td>\n      <td>-0.077945</td>\n      <td>-1.741245</td>\n      <td>-1.473071</td>\n      <td>0.417274</td>\n      <td>-2.379621</td>\n      <td>...</td>\n      <td>0.833908</td>\n      <td>-1.323724</td>\n      <td>0.058460</td>\n      <td>0.974492</td>\n      <td>-1.025720</td>\n      <td>-0.055081</td>\n      <td>0.454361</td>\n      <td>0.480937</td>\n      <td>-0.717371</td>\n      <td>0.655150</td>\n    </tr>\n    <tr>\n      <th>83</th>\n      <td>UNC Asheville</td>\n      <td>-2.788308</td>\n      <td>-2.324207</td>\n      <td>-1.576501</td>\n      <td>-1.209516</td>\n      <td>-1.438497</td>\n      <td>-1.603109</td>\n      <td>-1.539626</td>\n      <td>-0.936730</td>\n      <td>-0.889186</td>\n      <td>...</td>\n      <td>2.334282</td>\n      <td>-0.583475</td>\n      <td>0.401540</td>\n      <td>0.006346</td>\n      <td>-0.174563</td>\n      <td>-0.520156</td>\n      <td>2.021733</td>\n      <td>-0.108590</td>\n      <td>-0.896815</td>\n      <td>0.237764</td>\n    </tr>\n    <tr>\n      <th>146</th>\n      <td>Chicago St</td>\n      <td>-3.135425</td>\n      <td>-2.302330</td>\n      <td>-1.571781</td>\n      <td>-1.831326</td>\n      <td>-1.011981</td>\n      <td>-1.242620</td>\n      <td>-1.685593</td>\n      <td>-0.895490</td>\n      <td>-1.509797</td>\n      <td>...</td>\n      <td>0.455811</td>\n      <td>0.101126</td>\n      <td>-0.550585</td>\n      <td>1.221072</td>\n      <td>-0.839894</td>\n      <td>-1.028385</td>\n      <td>0.228307</td>\n      <td>1.144576</td>\n      <td>-0.849975</td>\n      <td>1.418166</td>\n    </tr>\n  </tbody>\n</table>\n<p>326 rows × 45 columns</p>\n</div>"
     },
     "execution_count": 56,
     "metadata": {},
     "output_type": "execute_result"
    }
   ],
   "source": [
    "bl_df = ncaa_2019_df\n",
    "bl_df = ncaa_2019_df[ncaa_2019_df['Home'] == 0]\n",
    "bl_df = bl_df.drop_duplicates(subset=['Team'])\n",
    "bl_df = bl_df[filter]\n",
    "scaler = StandardScaler()\n",
    "teams = bl_df['Team'].to_list()\n",
    "bl_df = bl_df.drop(columns=['Team'])\n",
    "cols = bl_df.columns\n",
    "bl_df = scaler.fit_transform(bl_df)\n",
    "bl_df = pd.DataFrame(data=bl_df, columns=cols)\n",
    "bl_df['Team'] = teams\n",
    "scores_weight = 0\n",
    "bl_df['Combined_Rating'] = (scores_weight)*bl_df['Rating'] + (1-scores_weight)*((177/465)*(bl_df['EFG_alphas_team1'] + bl_df['EFG_betas_team1']) + (73/465)*(bl_df['EORB_alphas_team1'] + bl_df['EORB_betas_team1']) + (44/465)*(bl_df['EDRB_alphas_team1'] + bl_df['EDRB_betas_team1']) + (141/465)*(bl_df['ETOV_alphas_team1'] + bl_df['ETOV_betas_team1']) + (30/465)*(bl_df['EAST_alphas_team1'] + bl_df['EAST_betas_team1']))\n",
    "bl_df = bl_df.sort_values(by='Combined_Rating', ascending=False)\n",
    "bl_df[[\n",
    "    'Team', 'Combined_Rating', 'Rating',\n",
    "    'EFG_alphas_team1', 'EFG_betas_team1', 'EFG_avgs_team1',\n",
    "    'EFG2_alphas_team1', 'EFG2_betas_team1', 'EFG2_avgs_team1',\n",
    "    'EFG3_alphas_team1', 'EFG3_betas_team1', 'EFG3_avgs_team1',\n",
    "    'EORB_alphas_team1', 'EORB_betas_team1', 'EORB_avgs_team1',\n",
    "    'EDRB_alphas_team1', 'EDRB_betas_team1', 'EDRB_avgs_team1',\n",
    "    'EAST_alphas_team1', 'EAST_betas_team1', 'EAST_avgs_team1',\n",
    "    'ETOV_alphas_team1', 'ETOV_betas_team1', 'ETOV_avgs_team1',\n",
    "    'EFG_alphas_team2', 'EFG_betas_team2', 'EFG_avgs_team2',\n",
    "    'EFG2_alphas_team2', 'EFG2_betas_team2', 'EFG2_avgs_team2',\n",
    "    'EFG3_alphas_team2', 'EFG3_betas_team2', 'EFG3_avgs_team2',\n",
    "    'EORB_alphas_team2', 'EORB_betas_team2', 'EORB_avgs_team2',\n",
    "    'EDRB_alphas_team2', 'EDRB_betas_team2', 'EDRB_avgs_team2',\n",
    "    'EAST_alphas_team2', 'EAST_betas_team2', 'EAST_avgs_team2',\n",
    "    'ETOV_alphas_team2', 'ETOV_betas_team2', 'ETOV_avgs_team2',\n",
    "]]"
   ],
   "metadata": {
    "collapsed": false,
    "ExecuteTime": {
     "end_time": "2023-11-22T02:55:04.367912Z",
     "start_time": "2023-11-22T02:55:04.285799Z"
    }
   }
  },
  {
   "cell_type": "code",
   "execution_count": 49,
   "outputs": [],
   "source": [
    "ncaa_2019_df = ncaa_2019_df.reset_index()\n",
    "ncaa_2019_df = ncaa_2019_df.drop(columns=['index'])\n",
    "ncaa_2019_df = ncaa_2019_df.reset_index()\n",
    "ncaa_2019_df = ncaa_2019_df[ncaa_2019_df['index'] % 2 == 0]\n",
    "ncaa_2019_df = ncaa_2019_df.drop(columns=['index'])"
   ],
   "metadata": {
    "collapsed": false,
    "ExecuteTime": {
     "end_time": "2023-11-22T02:54:44.040604Z",
     "start_time": "2023-11-22T02:54:44.025702Z"
    }
   }
  },
  {
   "cell_type": "code",
   "execution_count": 50,
   "outputs": [],
   "source": [
    "scaler = StandardScaler()\n",
    "\n",
    "train_2019 = ncaa_2019_df[ncaa_2019_df['DayNum'] <= 135]\n",
    "test_2019 = ncaa_2019_df[ncaa_2019_df['DayNum'] > 135]\n",
    "\n",
    "y_train_2019 = train_2019['Win'].to_list()\n",
    "y_test_2019 = test_2019['Win'].to_list()\n",
    "\n",
    "X_train_2019 = train_2019[filter]\n",
    "X_train_2019 = X_train_2019.drop(columns=['Team'])\n",
    "\n",
    "temp = train_2019.drop_duplicates(subset=['Team'])\n",
    "teams_2019 = temp['Team'].to_list()\n",
    "temp = temp[filter]\n",
    "temp = temp.drop(columns=['Team'])\n",
    "temp\n",
    "\n",
    "temp.iloc[:, 22:] = 1.5\n",
    "\n",
    "for metric in ['EFG', 'EFG2', 'EFG3', 'EORB', 'EDRB', 'EAST', 'ETOV']:\n",
    "    temp[metric+'_avgs_team1'] = temp.apply(lambda row : row[metric+'_alphas_team1'] / (row[metric+'_alphas_team1'] + row[metric+'_betas_team2']), axis=1)\n",
    "    temp[metric+'_avgs_team2'] = temp.apply(lambda row : row[metric+'_alphas_team2'] / (row[metric+'_alphas_team2'] + row[metric+'_betas_team1']), axis=1)"
   ],
   "metadata": {
    "collapsed": false,
    "ExecuteTime": {
     "end_time": "2023-11-22T02:54:50.029117Z",
     "start_time": "2023-11-22T02:54:49.983677Z"
    }
   }
  },
  {
   "cell_type": "code",
   "execution_count": 51,
   "outputs": [
    {
     "data": {
      "text/plain": "           Rating   Rating_opp  EFG_alphas_team1  EFG_betas_team1  \\\n0     1611.491935  1303.760368        118.280273       120.414333   \n2     1553.554278  1288.975592        100.435224       107.155229   \n4     1660.747090  1362.125396        142.709122       122.055351   \n6     1553.158767  1318.398695        115.273174       112.833435   \n8     1608.884125  1453.698624        117.519887       122.923750   \n...           ...          ...               ...              ...   \n4280  1302.870392  1439.098557         90.291664        74.215711   \n4446  1362.125396  1396.499356         84.869029        83.820151   \n4450  1318.398695  1470.775696         83.929191        84.019904   \n5328  1473.737659  1470.775696         95.680168        88.299451   \n5852  1470.775696  1396.499356        103.315144        87.629604   \n\n      EFG_avgs_team1  EFG2_alphas_team1  EFG2_betas_team1  EFG2_avgs_team1  \\\n0           0.975264         370.669698        380.490936         0.991972   \n2           0.970996         298.254675        327.145328         0.990042   \n4           0.979411         443.205083        396.937940         0.993277   \n6           0.974635         356.535115        354.082448         0.991656   \n8           0.975108         359.848351        404.174569         0.991732   \n...              ...                ...               ...              ...   \n4280        0.967843         265.154663        212.479319         0.988812   \n4446        0.965858         240.338851        237.518417         0.987672   \n4450        0.965489         240.540023        220.212549         0.987682   \n5328        0.969599         287.981029        231.036321         0.989690   \n5852        0.971782         320.783443        271.929836         0.990735   \n\n      EFG3_alphas_team1  EFG3_betas_team1  ...  EORB_avgs_team2  \\\n0            211.254464        430.023480  ...         0.005739   \n2            201.028461        414.235965  ...         0.006054   \n4            244.836732        429.153114  ...         0.006895   \n6            214.336664        416.702761  ...         0.006499   \n8            216.134462        415.849186  ...         0.006208   \n...                 ...               ...  ...              ...   \n4280         187.496261        335.291948  ...         0.008467   \n4446         187.536539        376.157041  ...         0.009001   \n4450         177.494865        404.970528  ...         0.008306   \n5328         189.192208        436.280181  ...         0.009383   \n5852         192.039197        342.052598  ...         0.008032   \n\n      EDRB_alphas_team2  EDRB_betas_team2  EDRB_avgs_team2  EAST_alphas_team2  \\\n0                   3.0               3.0         0.013887                3.0   \n2                   3.0               3.0         0.011294                3.0   \n4                   3.0               3.0         0.015247                3.0   \n6                   3.0               3.0         0.020988                3.0   \n8                   3.0               3.0         0.013102                3.0   \n...                 ...               ...              ...                ...   \n4280                3.0               3.0         0.015983                3.0   \n4446                3.0               3.0         0.015195                3.0   \n4450                3.0               3.0         0.016835                3.0   \n5328                3.0               3.0         0.017114                3.0   \n5852                3.0               3.0         0.014851                3.0   \n\n      EAST_betas_team2  EAST_avgs_team2  ETOV_alphas_team2  ETOV_betas_team2  \\\n0                  3.0         0.058065                3.0               3.0   \n2                  3.0         0.104529                3.0               3.0   \n4                  3.0         0.070979                3.0               3.0   \n6                  3.0         0.092539                3.0               3.0   \n8                  3.0         0.092181                3.0               3.0   \n...                ...              ...                ...               ...   \n4280               3.0         0.078088                3.0               3.0   \n4446               3.0         0.090367                3.0               3.0   \n4450               3.0         0.123818                3.0               3.0   \n5328               3.0         0.083859                3.0               3.0   \n5852               3.0         0.094090                3.0               3.0   \n\n      ETOV_avgs_team2  \n0            0.013430  \n2            0.013757  \n4            0.013149  \n6            0.013463  \n8            0.013376  \n...               ...  \n4280         0.013583  \n4446         0.013640  \n4450         0.014012  \n5328         0.013134  \n5852         0.013359  \n\n[353 rows x 44 columns]",
      "text/html": "<div>\n<style scoped>\n    .dataframe tbody tr th:only-of-type {\n        vertical-align: middle;\n    }\n\n    .dataframe tbody tr th {\n        vertical-align: top;\n    }\n\n    .dataframe thead th {\n        text-align: right;\n    }\n</style>\n<table border=\"1\" class=\"dataframe\">\n  <thead>\n    <tr style=\"text-align: right;\">\n      <th></th>\n      <th>Rating</th>\n      <th>Rating_opp</th>\n      <th>EFG_alphas_team1</th>\n      <th>EFG_betas_team1</th>\n      <th>EFG_avgs_team1</th>\n      <th>EFG2_alphas_team1</th>\n      <th>EFG2_betas_team1</th>\n      <th>EFG2_avgs_team1</th>\n      <th>EFG3_alphas_team1</th>\n      <th>EFG3_betas_team1</th>\n      <th>...</th>\n      <th>EORB_avgs_team2</th>\n      <th>EDRB_alphas_team2</th>\n      <th>EDRB_betas_team2</th>\n      <th>EDRB_avgs_team2</th>\n      <th>EAST_alphas_team2</th>\n      <th>EAST_betas_team2</th>\n      <th>EAST_avgs_team2</th>\n      <th>ETOV_alphas_team2</th>\n      <th>ETOV_betas_team2</th>\n      <th>ETOV_avgs_team2</th>\n    </tr>\n  </thead>\n  <tbody>\n    <tr>\n      <th>0</th>\n      <td>1611.491935</td>\n      <td>1303.760368</td>\n      <td>118.280273</td>\n      <td>120.414333</td>\n      <td>0.975264</td>\n      <td>370.669698</td>\n      <td>380.490936</td>\n      <td>0.991972</td>\n      <td>211.254464</td>\n      <td>430.023480</td>\n      <td>...</td>\n      <td>0.005739</td>\n      <td>3.0</td>\n      <td>3.0</td>\n      <td>0.013887</td>\n      <td>3.0</td>\n      <td>3.0</td>\n      <td>0.058065</td>\n      <td>3.0</td>\n      <td>3.0</td>\n      <td>0.013430</td>\n    </tr>\n    <tr>\n      <th>2</th>\n      <td>1553.554278</td>\n      <td>1288.975592</td>\n      <td>100.435224</td>\n      <td>107.155229</td>\n      <td>0.970996</td>\n      <td>298.254675</td>\n      <td>327.145328</td>\n      <td>0.990042</td>\n      <td>201.028461</td>\n      <td>414.235965</td>\n      <td>...</td>\n      <td>0.006054</td>\n      <td>3.0</td>\n      <td>3.0</td>\n      <td>0.011294</td>\n      <td>3.0</td>\n      <td>3.0</td>\n      <td>0.104529</td>\n      <td>3.0</td>\n      <td>3.0</td>\n      <td>0.013757</td>\n    </tr>\n    <tr>\n      <th>4</th>\n      <td>1660.747090</td>\n      <td>1362.125396</td>\n      <td>142.709122</td>\n      <td>122.055351</td>\n      <td>0.979411</td>\n      <td>443.205083</td>\n      <td>396.937940</td>\n      <td>0.993277</td>\n      <td>244.836732</td>\n      <td>429.153114</td>\n      <td>...</td>\n      <td>0.006895</td>\n      <td>3.0</td>\n      <td>3.0</td>\n      <td>0.015247</td>\n      <td>3.0</td>\n      <td>3.0</td>\n      <td>0.070979</td>\n      <td>3.0</td>\n      <td>3.0</td>\n      <td>0.013149</td>\n    </tr>\n    <tr>\n      <th>6</th>\n      <td>1553.158767</td>\n      <td>1318.398695</td>\n      <td>115.273174</td>\n      <td>112.833435</td>\n      <td>0.974635</td>\n      <td>356.535115</td>\n      <td>354.082448</td>\n      <td>0.991656</td>\n      <td>214.336664</td>\n      <td>416.702761</td>\n      <td>...</td>\n      <td>0.006499</td>\n      <td>3.0</td>\n      <td>3.0</td>\n      <td>0.020988</td>\n      <td>3.0</td>\n      <td>3.0</td>\n      <td>0.092539</td>\n      <td>3.0</td>\n      <td>3.0</td>\n      <td>0.013463</td>\n    </tr>\n    <tr>\n      <th>8</th>\n      <td>1608.884125</td>\n      <td>1453.698624</td>\n      <td>117.519887</td>\n      <td>122.923750</td>\n      <td>0.975108</td>\n      <td>359.848351</td>\n      <td>404.174569</td>\n      <td>0.991732</td>\n      <td>216.134462</td>\n      <td>415.849186</td>\n      <td>...</td>\n      <td>0.006208</td>\n      <td>3.0</td>\n      <td>3.0</td>\n      <td>0.013102</td>\n      <td>3.0</td>\n      <td>3.0</td>\n      <td>0.092181</td>\n      <td>3.0</td>\n      <td>3.0</td>\n      <td>0.013376</td>\n    </tr>\n    <tr>\n      <th>...</th>\n      <td>...</td>\n      <td>...</td>\n      <td>...</td>\n      <td>...</td>\n      <td>...</td>\n      <td>...</td>\n      <td>...</td>\n      <td>...</td>\n      <td>...</td>\n      <td>...</td>\n      <td>...</td>\n      <td>...</td>\n      <td>...</td>\n      <td>...</td>\n      <td>...</td>\n      <td>...</td>\n      <td>...</td>\n      <td>...</td>\n      <td>...</td>\n      <td>...</td>\n      <td>...</td>\n    </tr>\n    <tr>\n      <th>4280</th>\n      <td>1302.870392</td>\n      <td>1439.098557</td>\n      <td>90.291664</td>\n      <td>74.215711</td>\n      <td>0.967843</td>\n      <td>265.154663</td>\n      <td>212.479319</td>\n      <td>0.988812</td>\n      <td>187.496261</td>\n      <td>335.291948</td>\n      <td>...</td>\n      <td>0.008467</td>\n      <td>3.0</td>\n      <td>3.0</td>\n      <td>0.015983</td>\n      <td>3.0</td>\n      <td>3.0</td>\n      <td>0.078088</td>\n      <td>3.0</td>\n      <td>3.0</td>\n      <td>0.013583</td>\n    </tr>\n    <tr>\n      <th>4446</th>\n      <td>1362.125396</td>\n      <td>1396.499356</td>\n      <td>84.869029</td>\n      <td>83.820151</td>\n      <td>0.965858</td>\n      <td>240.338851</td>\n      <td>237.518417</td>\n      <td>0.987672</td>\n      <td>187.536539</td>\n      <td>376.157041</td>\n      <td>...</td>\n      <td>0.009001</td>\n      <td>3.0</td>\n      <td>3.0</td>\n      <td>0.015195</td>\n      <td>3.0</td>\n      <td>3.0</td>\n      <td>0.090367</td>\n      <td>3.0</td>\n      <td>3.0</td>\n      <td>0.013640</td>\n    </tr>\n    <tr>\n      <th>4450</th>\n      <td>1318.398695</td>\n      <td>1470.775696</td>\n      <td>83.929191</td>\n      <td>84.019904</td>\n      <td>0.965489</td>\n      <td>240.540023</td>\n      <td>220.212549</td>\n      <td>0.987682</td>\n      <td>177.494865</td>\n      <td>404.970528</td>\n      <td>...</td>\n      <td>0.008306</td>\n      <td>3.0</td>\n      <td>3.0</td>\n      <td>0.016835</td>\n      <td>3.0</td>\n      <td>3.0</td>\n      <td>0.123818</td>\n      <td>3.0</td>\n      <td>3.0</td>\n      <td>0.014012</td>\n    </tr>\n    <tr>\n      <th>5328</th>\n      <td>1473.737659</td>\n      <td>1470.775696</td>\n      <td>95.680168</td>\n      <td>88.299451</td>\n      <td>0.969599</td>\n      <td>287.981029</td>\n      <td>231.036321</td>\n      <td>0.989690</td>\n      <td>189.192208</td>\n      <td>436.280181</td>\n      <td>...</td>\n      <td>0.009383</td>\n      <td>3.0</td>\n      <td>3.0</td>\n      <td>0.017114</td>\n      <td>3.0</td>\n      <td>3.0</td>\n      <td>0.083859</td>\n      <td>3.0</td>\n      <td>3.0</td>\n      <td>0.013134</td>\n    </tr>\n    <tr>\n      <th>5852</th>\n      <td>1470.775696</td>\n      <td>1396.499356</td>\n      <td>103.315144</td>\n      <td>87.629604</td>\n      <td>0.971782</td>\n      <td>320.783443</td>\n      <td>271.929836</td>\n      <td>0.990735</td>\n      <td>192.039197</td>\n      <td>342.052598</td>\n      <td>...</td>\n      <td>0.008032</td>\n      <td>3.0</td>\n      <td>3.0</td>\n      <td>0.014851</td>\n      <td>3.0</td>\n      <td>3.0</td>\n      <td>0.094090</td>\n      <td>3.0</td>\n      <td>3.0</td>\n      <td>0.013359</td>\n    </tr>\n  </tbody>\n</table>\n<p>353 rows × 44 columns</p>\n</div>"
     },
     "execution_count": 51,
     "metadata": {},
     "output_type": "execute_result"
    }
   ],
   "source": [
    "temp"
   ],
   "metadata": {
    "collapsed": false,
    "ExecuteTime": {
     "end_time": "2023-11-22T02:54:50.947535Z",
     "start_time": "2023-11-22T02:54:50.930820Z"
    }
   }
  },
  {
   "cell_type": "code",
   "execution_count": 52,
   "outputs": [],
   "source": [
    "def EnsemblePredictor(X_train, y_train, X_test, y_test=None):\n",
    "    \"\"\"\n",
    "    An ensemble regressor estimation function.\n",
    "\n",
    "    Parameters:\n",
    "    ------------\n",
    "    X_train: DataFrame\n",
    "      training inputs\n",
    "    y_train: DataFrame\n",
    "      training outputs\n",
    "    X_test: DataFrame\n",
    "      testing inputs\n",
    "    y_test: DataFrame\n",
    "      testing outputs\n",
    "\n",
    "    Returns:\n",
    "    ------------\n",
    "    None (if y_test != None)\n",
    "\n",
    "    \"\"\"\n",
    "\n",
    "    # convert the input into a polynomial of degree 2 with only interation terms (meaning x1, x2, and x1*x2)\n",
    "    # poly = PolynomialFeatures(degree=2, interaction_only=True)\n",
    "    # X_train_poly = poly.fit_transform(X_train)\n",
    "    # X_test_poly = poly.transform(X_test)\n",
    "\n",
    "    # normalize the data\n",
    "    scaler = StandardScaler()\n",
    "    # X_train = scaler.fit_transform(X_train)\n",
    "    # X_test = scaler.transform(X_test)\n",
    "    # X_train_poly = scaler.fit_transform(X_train)\n",
    "    # X_test_poly = scaler.transform(X_test)\n",
    "    # X_train = scaler.fit_transform(X_train_poly)\n",
    "    # X_test = scaler.transform(X_test_poly)\n",
    "\n",
    "    poly_class=Pipeline([('poly_class', PolynomialFeatures(degree=2, interaction_only=False)), ('scaler', scaler), ('lr', LogisticRegression(random_state=10, warm_start=True, C=0.01, max_iter=20000),)])\n",
    "\n",
    "    # MLP_class=Pipeline([('scaler', scaler), ('MLP_class', MLPClassifier(hidden_layer_sizes=(20, 5), alpha=1, random_state=0, max_iter=100000),)])\n",
    "    #\n",
    "    # RF_class=Pipeline([('scaler', scaler), ('RF_class', RandomForestClassifier(bootstrap=True, max_depth=8, max_features='sqrt', max_samples=0.5, min_samples_leaf=8, n_estimators=300, random_state=0),)])\n",
    "\n",
    "    # poly_class = LogisticRegression(random_state=0, warm_start=True, C=0.01, max_iter=10000)\n",
    "    # MLP_class = MLPClassifier(hidden_layer_sizes=(20, 5), alpha=.5, random_state=0, max_iter=100000)\n",
    "    # RF_class = RandomForestClassifier(bootstrap=True, max_depth=8, max_features='sqrt', max_samples=0.75, min_samples_leaf=4, n_estimators=300, random_state=0)\n",
    "\n",
    "    # estimators to be used in the ensemble\n",
    "    estimators = [\n",
    "        # ('1', MLP_class,),]\n",
    "        # ('1', RF_class,),]\n",
    "        ('1', poly_class,),]\n",
    "\n",
    "    # create regressors stack\n",
    "    stack_reg = StackingClassifier(\n",
    "        estimators=estimators\n",
    "    )\n",
    "\n",
    "    # fit the training data to the stack\n",
    "    stack_reg.fit(X_train, y_train)\n",
    "\n",
    "    # pred = clf.predict(X)\n",
    "    train_acc = stack_reg.score(X_train, y_train)\n",
    "\n",
    "    train_pred = stack_reg.predict(X_train)\n",
    "    test_pred = stack_reg.predict(X_test)\n",
    "    test_pred_prob = stack_reg.predict_proba(X_test)\n",
    "    y_train_arr = np.array(y_train)\n",
    "\n",
    "    # output = [(pred[i], y_test[i]) for i in range(len(y_test))]\n",
    "    # print(output)\n",
    "    print(\"Train Acc:\", train_acc)\n",
    "    if y_test:\n",
    "        test_acc = stack_reg.score(X_test, y_test)\n",
    "        print(\"Test Acc:\", test_acc)\n",
    "    print('Train Total Incorrect:', len(train_pred)-sum(train_pred==y_train_arr))\n",
    "    if y_test:\n",
    "        y_test_arr = np.array(y_test)\n",
    "        print('Test Total Correct:', sum(test_pred==y_test_arr))\n",
    "    else:\n",
    "        return test_pred_prob[:,1]"
   ],
   "metadata": {
    "collapsed": false,
    "ExecuteTime": {
     "end_time": "2023-11-22T02:54:51.959702Z",
     "start_time": "2023-11-22T02:54:51.949571Z"
    }
   }
  },
  {
   "cell_type": "code",
   "execution_count": 36,
   "outputs": [
    {
     "name": "stdout",
     "output_type": "stream",
     "text": [
      "Train Acc: 0.7779403694896653\n",
      "Train Total Incorrect: 1214\n"
     ]
    },
    {
     "data": {
      "text/plain": "               Team   Ranking\n153         Houston  0.931548\n51       Texas Tech  0.930398\n91         Virginia  0.929420\n138       Kansas St  0.928340\n45       Georgetown  0.928052\n..              ...       ...\n268  Incarnate Word  0.081510\n320     Delaware St  0.080506\n168      High Point  0.078392\n189          Tulane  0.076320\n126            Elon  0.075345\n\n[353 rows x 2 columns]",
      "text/html": "<div>\n<style scoped>\n    .dataframe tbody tr th:only-of-type {\n        vertical-align: middle;\n    }\n\n    .dataframe tbody tr th {\n        vertical-align: top;\n    }\n\n    .dataframe thead th {\n        text-align: right;\n    }\n</style>\n<table border=\"1\" class=\"dataframe\">\n  <thead>\n    <tr style=\"text-align: right;\">\n      <th></th>\n      <th>Team</th>\n      <th>Ranking</th>\n    </tr>\n  </thead>\n  <tbody>\n    <tr>\n      <th>153</th>\n      <td>Houston</td>\n      <td>0.931548</td>\n    </tr>\n    <tr>\n      <th>51</th>\n      <td>Texas Tech</td>\n      <td>0.930398</td>\n    </tr>\n    <tr>\n      <th>91</th>\n      <td>Virginia</td>\n      <td>0.929420</td>\n    </tr>\n    <tr>\n      <th>138</th>\n      <td>Kansas St</td>\n      <td>0.928340</td>\n    </tr>\n    <tr>\n      <th>45</th>\n      <td>Georgetown</td>\n      <td>0.928052</td>\n    </tr>\n    <tr>\n      <th>...</th>\n      <td>...</td>\n      <td>...</td>\n    </tr>\n    <tr>\n      <th>268</th>\n      <td>Incarnate Word</td>\n      <td>0.081510</td>\n    </tr>\n    <tr>\n      <th>320</th>\n      <td>Delaware St</td>\n      <td>0.080506</td>\n    </tr>\n    <tr>\n      <th>168</th>\n      <td>High Point</td>\n      <td>0.078392</td>\n    </tr>\n    <tr>\n      <th>189</th>\n      <td>Tulane</td>\n      <td>0.076320</td>\n    </tr>\n    <tr>\n      <th>126</th>\n      <td>Elon</td>\n      <td>0.075345</td>\n    </tr>\n  </tbody>\n</table>\n<p>353 rows × 2 columns</p>\n</div>"
     },
     "execution_count": 36,
     "metadata": {},
     "output_type": "execute_result"
    }
   ],
   "source": [
    "rankings = EnsemblePredictor(X_train_2019, y_train_2019, temp)\n",
    "d = {'Team': teams_2019, 'Ranking': rankings}\n",
    "rankings_2019_df = pd.DataFrame(data=d)\n",
    "rankings_2019_df = rankings_2019_df.sort_values(by='Ranking', ascending=False)\n",
    "rankings_2019_df"
   ],
   "metadata": {
    "collapsed": false,
    "ExecuteTime": {
     "end_time": "2023-11-22T02:52:44.484079Z",
     "start_time": "2023-11-22T02:50:53.926731Z"
    }
   }
  },
  {
   "cell_type": "code",
   "execution_count": 38,
   "outputs": [
    {
     "data": {
      "text/plain": "               Team   Ranking\n153         Houston  0.931548\n51       Texas Tech  0.930398\n91         Virginia  0.929420\n138       Kansas St  0.928340\n45       Georgetown  0.928052\n25        Wisconsin  0.927952\n70        Villanova  0.926931\n20          Indiana  0.925656\n272            ETSU  0.924874\n38           Purdue  0.923831\n252      N Kentucky  0.922663\n2           Iowa St  0.921779\n71         Nebraska  0.921278\n66         Michigan  0.920503\n0           Alabama  0.919538\n87   South Carolina  0.918049\n1     South Florida  0.918047\n46          Gonzaga  0.916733\n109      Louisville  0.915545\n202  North Carolina  0.915014\n301         Liberty  0.913921\n164    Grand Canyon  0.913774\n3             Tulsa  0.913313\n171        Lipscomb  0.911553\n185            Duke  0.910125\n108            Iowa  0.909439\n49        UC Irvine  0.909235\n151       Tennessee  0.909223\n72         NC State  0.907905\n121      C Michigan  0.903334\n263     North Texas  0.902548\n26        Creighton  0.901915\n235           Akron  0.900334\n64          Memphis  0.900031\n7            Auburn  0.899920\n174   San Francisco  0.898342\n128   Virginia Tech  0.897517\n110            Utah  0.896650\n132         Utah St  0.896475\n195            Rice  0.895520\n22         Davidson  0.892204\n103    St Mary's CA  0.888974\n135         Hofstra  0.888201\n104       Texas A&M  0.887854\n59        St John's  0.886910\n14          Buffalo  0.885305\n95           DePaul  0.884818\n175     Mississippi  0.883418\n191         Ohio St  0.879493\n228   Bowling Green  0.876999",
      "text/html": "<div>\n<style scoped>\n    .dataframe tbody tr th:only-of-type {\n        vertical-align: middle;\n    }\n\n    .dataframe tbody tr th {\n        vertical-align: top;\n    }\n\n    .dataframe thead th {\n        text-align: right;\n    }\n</style>\n<table border=\"1\" class=\"dataframe\">\n  <thead>\n    <tr style=\"text-align: right;\">\n      <th></th>\n      <th>Team</th>\n      <th>Ranking</th>\n    </tr>\n  </thead>\n  <tbody>\n    <tr>\n      <th>153</th>\n      <td>Houston</td>\n      <td>0.931548</td>\n    </tr>\n    <tr>\n      <th>51</th>\n      <td>Texas Tech</td>\n      <td>0.930398</td>\n    </tr>\n    <tr>\n      <th>91</th>\n      <td>Virginia</td>\n      <td>0.929420</td>\n    </tr>\n    <tr>\n      <th>138</th>\n      <td>Kansas St</td>\n      <td>0.928340</td>\n    </tr>\n    <tr>\n      <th>45</th>\n      <td>Georgetown</td>\n      <td>0.928052</td>\n    </tr>\n    <tr>\n      <th>25</th>\n      <td>Wisconsin</td>\n      <td>0.927952</td>\n    </tr>\n    <tr>\n      <th>70</th>\n      <td>Villanova</td>\n      <td>0.926931</td>\n    </tr>\n    <tr>\n      <th>20</th>\n      <td>Indiana</td>\n      <td>0.925656</td>\n    </tr>\n    <tr>\n      <th>272</th>\n      <td>ETSU</td>\n      <td>0.924874</td>\n    </tr>\n    <tr>\n      <th>38</th>\n      <td>Purdue</td>\n      <td>0.923831</td>\n    </tr>\n    <tr>\n      <th>252</th>\n      <td>N Kentucky</td>\n      <td>0.922663</td>\n    </tr>\n    <tr>\n      <th>2</th>\n      <td>Iowa St</td>\n      <td>0.921779</td>\n    </tr>\n    <tr>\n      <th>71</th>\n      <td>Nebraska</td>\n      <td>0.921278</td>\n    </tr>\n    <tr>\n      <th>66</th>\n      <td>Michigan</td>\n      <td>0.920503</td>\n    </tr>\n    <tr>\n      <th>0</th>\n      <td>Alabama</td>\n      <td>0.919538</td>\n    </tr>\n    <tr>\n      <th>87</th>\n      <td>South Carolina</td>\n      <td>0.918049</td>\n    </tr>\n    <tr>\n      <th>1</th>\n      <td>South Florida</td>\n      <td>0.918047</td>\n    </tr>\n    <tr>\n      <th>46</th>\n      <td>Gonzaga</td>\n      <td>0.916733</td>\n    </tr>\n    <tr>\n      <th>109</th>\n      <td>Louisville</td>\n      <td>0.915545</td>\n    </tr>\n    <tr>\n      <th>202</th>\n      <td>North Carolina</td>\n      <td>0.915014</td>\n    </tr>\n    <tr>\n      <th>301</th>\n      <td>Liberty</td>\n      <td>0.913921</td>\n    </tr>\n    <tr>\n      <th>164</th>\n      <td>Grand Canyon</td>\n      <td>0.913774</td>\n    </tr>\n    <tr>\n      <th>3</th>\n      <td>Tulsa</td>\n      <td>0.913313</td>\n    </tr>\n    <tr>\n      <th>171</th>\n      <td>Lipscomb</td>\n      <td>0.911553</td>\n    </tr>\n    <tr>\n      <th>185</th>\n      <td>Duke</td>\n      <td>0.910125</td>\n    </tr>\n    <tr>\n      <th>108</th>\n      <td>Iowa</td>\n      <td>0.909439</td>\n    </tr>\n    <tr>\n      <th>49</th>\n      <td>UC Irvine</td>\n      <td>0.909235</td>\n    </tr>\n    <tr>\n      <th>151</th>\n      <td>Tennessee</td>\n      <td>0.909223</td>\n    </tr>\n    <tr>\n      <th>72</th>\n      <td>NC State</td>\n      <td>0.907905</td>\n    </tr>\n    <tr>\n      <th>121</th>\n      <td>C Michigan</td>\n      <td>0.903334</td>\n    </tr>\n    <tr>\n      <th>263</th>\n      <td>North Texas</td>\n      <td>0.902548</td>\n    </tr>\n    <tr>\n      <th>26</th>\n      <td>Creighton</td>\n      <td>0.901915</td>\n    </tr>\n    <tr>\n      <th>235</th>\n      <td>Akron</td>\n      <td>0.900334</td>\n    </tr>\n    <tr>\n      <th>64</th>\n      <td>Memphis</td>\n      <td>0.900031</td>\n    </tr>\n    <tr>\n      <th>7</th>\n      <td>Auburn</td>\n      <td>0.899920</td>\n    </tr>\n    <tr>\n      <th>174</th>\n      <td>San Francisco</td>\n      <td>0.898342</td>\n    </tr>\n    <tr>\n      <th>128</th>\n      <td>Virginia Tech</td>\n      <td>0.897517</td>\n    </tr>\n    <tr>\n      <th>110</th>\n      <td>Utah</td>\n      <td>0.896650</td>\n    </tr>\n    <tr>\n      <th>132</th>\n      <td>Utah St</td>\n      <td>0.896475</td>\n    </tr>\n    <tr>\n      <th>195</th>\n      <td>Rice</td>\n      <td>0.895520</td>\n    </tr>\n    <tr>\n      <th>22</th>\n      <td>Davidson</td>\n      <td>0.892204</td>\n    </tr>\n    <tr>\n      <th>103</th>\n      <td>St Mary's CA</td>\n      <td>0.888974</td>\n    </tr>\n    <tr>\n      <th>135</th>\n      <td>Hofstra</td>\n      <td>0.888201</td>\n    </tr>\n    <tr>\n      <th>104</th>\n      <td>Texas A&amp;M</td>\n      <td>0.887854</td>\n    </tr>\n    <tr>\n      <th>59</th>\n      <td>St John's</td>\n      <td>0.886910</td>\n    </tr>\n    <tr>\n      <th>14</th>\n      <td>Buffalo</td>\n      <td>0.885305</td>\n    </tr>\n    <tr>\n      <th>95</th>\n      <td>DePaul</td>\n      <td>0.884818</td>\n    </tr>\n    <tr>\n      <th>175</th>\n      <td>Mississippi</td>\n      <td>0.883418</td>\n    </tr>\n    <tr>\n      <th>191</th>\n      <td>Ohio St</td>\n      <td>0.879493</td>\n    </tr>\n    <tr>\n      <th>228</th>\n      <td>Bowling Green</td>\n      <td>0.876999</td>\n    </tr>\n  </tbody>\n</table>\n</div>"
     },
     "execution_count": 38,
     "metadata": {},
     "output_type": "execute_result"
    }
   ],
   "source": [
    "rankings_2019_df[0:50]"
   ],
   "metadata": {
    "collapsed": false,
    "ExecuteTime": {
     "end_time": "2023-11-22T02:52:55.093457Z",
     "start_time": "2023-11-22T02:52:55.089207Z"
    }
   }
  },
  {
   "cell_type": "code",
   "execution_count": 57,
   "outputs": [
    {
     "data": {
      "text/plain": "       Rating  Rating_opp  EFG_alphas_team1  EFG_betas_team1  EFG_avgs_team1  \\\n123  2.181244    0.565519          3.379385         2.523483        2.341211   \n194  2.400679    1.159226          1.802561         1.400638        0.500459   \n2    2.208962    2.026502          2.868737         3.257764        0.676462   \n165  2.781147   -0.574984          2.569578         2.662449        1.913709   \n1    2.594561    2.230964          1.836329         2.697485       -0.112735   \n0    2.215144    2.621400          1.542747         2.010744       -0.750542   \n141  1.939480    0.204653          1.458219         3.166632        0.616740   \n87   2.235845   -0.983776          1.307952         2.805885        1.453777   \n19   1.803431   -0.727535          1.753924         0.977866        2.082417   \n163  2.318484    1.529660          2.485710         1.613957        0.332493   \n320  2.072470    0.382575          0.619220         2.295885        0.512001   \n105  1.786414    0.880289          2.009254         0.351289        1.127261   \n236  1.830743   -1.139756          0.997629         0.932754        1.105857   \n21   1.874750    0.049058          2.446477         0.819841        1.019749   \n247  0.923982    2.026502          0.640450         0.277237       -0.822078   \n290  1.787118   -0.965363          2.239342         0.346313        2.851995   \n169  1.810217    0.305756          1.301481         2.578983        0.141456   \n178  2.042180    0.113384          0.721785         1.616741        0.640825   \n241  1.279126    0.072420          0.834605         0.642435        0.061982   \n51   1.727009   -0.715613          0.483434         1.494290        1.243917   \n136  1.203383    0.894214          1.119226         1.497125        0.028370   \n175  1.851967    0.527985          0.983269         0.595186        1.214206   \n193  1.337967    0.438479          1.067901         1.362409        0.398206   \n100  1.551153    0.499982          2.122276         1.190066        1.157138   \n204  1.538165   -0.090480         -0.303209         0.683441       -0.010437   \n102  1.532449    1.012995          1.745104         0.844387        0.355598   \n3    2.016451    2.224603          1.552874         1.800527       -1.078926   \n137  0.916120    1.189820          1.308776         1.101707       -0.121947   \n164  1.533631    2.337306          0.949453         1.967045       -0.462490   \n161  1.240125    1.400251          0.540310         1.549459       -0.930393   \n99   1.218077    0.100430          0.889898         1.366639       -0.467388   \n248  1.608740    0.185066          1.122805         2.155128        1.099034   \n132  1.141816   -0.174127          0.459430         1.601543        1.199172   \n200  1.009897    1.196102          0.727237         0.947220        0.163024   \n243  1.314335    0.565519          0.815383         1.429318        0.711355   \n155  0.897154    0.011372          0.033633         0.839759        0.648098   \n30   0.868492    1.473662          0.461952         1.658333        0.358113   \n245  1.150037    0.204653          1.317962         1.264282        0.519126   \n162  1.509061    2.026502          1.394253         1.859918       -0.272181   \n4    1.173652    0.757280          0.904124         1.102797        0.147696   \n199  1.209487    0.990715          1.290056         0.547739        0.265452   \n173  1.554620   -0.874692          1.168388         0.569397        2.004519   \n148  0.798650   -0.240821          0.659216        -0.004274        1.118500   \n93   0.545903   -0.793463          0.877761         0.889106        0.947517   \n103  1.031548    1.528443          0.434335         1.248548       -0.293547   \n138  1.015308    0.976299         -0.185571         2.371082       -0.080290   \n282  1.250252    0.154125          1.835057         0.112118        2.092270   \n143  0.930717    0.023279          0.074020         2.007219       -0.061074   \n31   1.479214    0.845203          1.535276         0.060625       -0.076957   \n96   1.373845    0.636629          0.250494         1.073477       -0.454339   \n\n     EFG2_alphas_team1  EFG2_betas_team1  EFG2_avgs_team1  EFG3_alphas_team1  \\\n123           4.206364          2.553629         3.072060           1.010543   \n194           1.306630          1.486868        -0.291943           1.765091   \n2             2.288020          3.366565         0.085840           2.423005   \n165           1.331740          1.728678         1.084759           3.465757   \n1             3.543258          2.104853         0.334009          -0.920233   \n0             1.550578          2.968787        -0.350099           1.020665   \n141           1.292656          3.216925         0.385147           1.214293   \n87            1.324681          2.042719         1.106302           0.844135   \n19            1.263164          1.187770         1.704516           1.485325   \n163           2.665898          2.225573         0.641876           1.070246   \n320           0.399048          1.749902         0.355117           0.636521   \n105           1.184454          0.789249         0.457465           1.907070   \n236           1.568665          0.138477         2.009205          -0.001743   \n21            1.453103          0.751159         0.598608           2.727078   \n247           1.645780          0.199644        -0.331800          -0.682904   \n290           0.831116         -0.104358         1.976302           3.141126   \n169           0.836812          2.549006        -0.325064           1.684076   \n178           0.717732          1.692351         0.556472           0.394210   \n241           0.785554          0.069710        -0.247685           0.773418   \n51            0.512745          0.820164         1.546175           0.138106   \n136           1.186294          2.346261         0.324576           0.558459   \n175           1.633247          0.661293         2.048906          -0.415040   \n193           1.494278          1.521507         0.663620           0.271672   \n100           2.045403          1.426939         1.375306           1.305950   \n204          -0.479564          1.548405         0.065894           0.476593   \n102           1.608888          1.121401         0.051674           1.427749   \n3             1.793950          2.177369        -0.939677           0.823062   \n137           1.012210          0.782490        -0.884399           1.486228   \n164           0.862966          1.683010        -0.919303           0.708932   \n161           0.890495          1.330993        -0.856500          -0.194759   \n99            1.198780          2.029036         0.197070          -0.009567   \n248           0.945316          2.024973         0.614341           0.922295   \n132           0.496996          1.517170         0.350107           0.120918   \n200           0.835894          1.228817        -0.220403           0.296219   \n243           0.610291          1.235357         0.914576           0.715285   \n155           0.152385          1.057080         0.818236          -0.256848   \n30            0.668985          0.741474         0.944156           0.022584   \n245           1.382056          0.543232         0.448094           0.789149   \n162           0.366605          1.917009        -1.272869           2.317524   \n4             1.038778          1.758567        -0.043619           0.428967   \n199           1.302209          1.164773         0.074448           0.704309   \n173           1.402980          0.439996         2.078168           0.468159   \n148           0.570186          0.678759         1.281186           0.551202   \n93            0.976719          0.510550         1.169722           0.439919   \n103           0.482810          1.562343        -0.462618           0.134078   \n138           0.893164          1.784223         0.982507          -1.445901   \n282           2.140953          0.295079         2.520880           0.845124   \n143          -0.160528          2.509821        -0.005844           0.384734   \n31            1.220684         -0.407976         0.380906           1.343472   \n96            0.387659          1.060494        -0.445688          -0.193764   \n\n     EFG3_betas_team1  ...  EDRB_betas_team2  EDRB_avgs_team2  \\\n123          1.767191  ...          0.681151        -1.169315   \n194          0.843403  ...          0.376420        -1.514376   \n2            1.724844  ...          0.722945        -0.830982   \n165          3.532600  ...          1.239851        -0.642475   \n1            2.840186  ...          2.502554        -0.701489   \n0           -0.010606  ...          2.464073        -1.843146   \n141          2.084355  ...         -0.211929        -0.325281   \n87           3.129154  ...         -1.302985         0.341490   \n19           0.292195  ...         -0.809028        -2.176538   \n163          0.153096  ...          0.493183         0.231860   \n320          2.593297  ...          1.075251        -1.535134   \n105         -0.424158  ...          1.141892        -0.667644   \n236          2.105224  ...         -0.863693        -0.983042   \n21           0.595613  ...         -0.194717        -0.435959   \n247          0.224174  ...          0.722945        -0.922516   \n290          1.077033  ...         -1.556402        -0.656606   \n169          1.639358  ...          0.548393         0.930024   \n178          0.897124  ...          0.356415        -0.782421   \n241          1.787678  ...          0.146564        -1.274592   \n51           2.064517  ...         -0.605074        -0.889975   \n136         -0.005877  ...          0.980781         0.260772   \n175          0.262761  ...         -0.675810        -1.547513   \n193          0.573565  ...         -1.112953         0.397545   \n100          0.652992  ...          0.094718         0.494897   \n204         -0.503778  ...         -0.124129        -2.099306   \n102         -0.108556  ...          1.138298        -1.011594   \n3            0.852701  ...          1.940128        -0.058514   \n137          1.371959  ...          1.014306         0.413153   \n164          1.654196  ...          0.987697        -0.137746   \n161          1.245641  ...         -0.196771        -0.209850   \n99           0.081311  ...         -0.803047        -0.143254   \n248          1.475686  ...         -1.802632        -0.528188   \n132          1.016762  ...         -0.853223        -0.241367   \n200          0.332064  ...          0.591723        -1.915468   \n243          1.048850  ...          0.681151        -0.524617   \n155          0.005780  ...          0.054837        -0.553824   \n30           2.523655  ...          0.649780        -0.367630   \n245          2.286294  ...         -0.211929        -1.081148   \n162          1.160197  ...          0.722945         0.286520   \n4           -0.393971  ...          0.159084        -1.406184   \n199         -0.771741  ...          2.864120        -0.391666   \n173          0.605022  ...         -0.697482        -2.015838   \n148         -1.051325  ...         -0.073973        -1.556203   \n93           1.249823  ...         -0.458836        -0.891043   \n103          0.359714  ...          1.917364        -0.656292   \n138          2.735902  ...         -0.262458        -0.311651   \n282         -0.385989  ...          0.485062         0.428486   \n143          0.366343  ...         -0.453199        -1.175436   \n31           0.869276  ...          0.425557        -0.304216   \n96           0.619461  ...          1.024680        -1.306412   \n\n     EAST_alphas_team2  EAST_betas_team2  EAST_avgs_team2  ETOV_alphas_team2  \\\n123           0.390861          0.344971        -1.046181           1.313091   \n194          -0.305427          1.509465         0.300815           0.264504   \n2            -0.402314          0.099127        -0.390880          -0.268587   \n165          -0.957361         -0.441882        -1.828995          -0.555739   \n1             0.474928          0.843191        -0.156211          -0.054245   \n0            -0.223750          0.740159        -0.749098           0.391670   \n141           0.949957         -0.867328         0.078366          -0.377967   \n87           -0.419962         -0.791693        -1.838594          -0.592379   \n19           -1.076452          1.105106        -0.987823          -0.767575   \n163           0.132076          1.000385         0.180047          -0.825539   \n320          -0.796124         -0.140943        -0.725125           0.663325   \n105           1.048294         -0.530771         0.625025          -0.976536   \n236          -0.887910         -0.199258        -2.237693          -1.536444   \n21           -0.666988          1.020262         0.243005          -0.906502   \n247          -0.402314          0.099127        -1.947884          -0.268587   \n290           0.109508         -0.303783        -0.232087          -0.805110   \n169          -0.844079          2.635183        -1.998263          -0.779563   \n178          -1.424978         -0.998596        -2.364088          -0.375061   \n241          -0.371006          1.010396        -0.224112          -0.958071   \n51           -0.201888          0.300654         0.232065           1.142135   \n136          -2.080242          2.067375        -2.170148          -0.665970   \n175          -1.241946         -0.107330        -2.199706           0.299225   \n193           0.286627         -0.899513         0.243548          -0.525415   \n100          -0.273207          0.585171        -0.566499           1.019589   \n204          -0.819126          0.223495        -0.770630          -0.097122   \n102          -0.041848         -0.881785        -0.201158           0.029084   \n3             5.207017          0.064756         2.483011          -1.372168   \n137           1.869060          0.066406        -0.027228          -0.719568   \n164           2.340173         -0.133916         0.800130          -0.278840   \n161          -0.365363          0.715024        -0.874372          -0.775387   \n99           -0.136979          1.086688        -0.999673           0.143703   \n248           0.800532          0.047367         0.310673           1.458383   \n132          -0.897161          0.035241        -1.776236           1.876099   \n200           0.724157         -0.683632         1.072089           1.031159   \n243           0.390861          0.344971        -0.333813           1.313091   \n155           0.643074          1.900003        -0.195173           1.038685   \n30            2.325464         -1.166468         2.064540           0.033738   \n245           0.949957         -0.867328         1.590366          -0.377967   \n162          -0.402314          0.099127        -0.684865          -0.268587   \n4             2.295078         -0.521702         0.491653           1.750787   \n199           0.408056         -0.753851         0.802004           0.118392   \n173           1.342146          0.712701         1.361984           0.671112   \n148           1.180083         -0.730058         1.098526           1.425505   \n93           -0.174347         -0.010098        -1.225753          -0.486967   \n103           0.091941          0.217111         0.736488           0.444231   \n138           0.128014          0.469598         0.171444           0.751455   \n282          -1.024832          0.200272        -1.799250           0.598182   \n143          -0.946596          0.361847        -1.815426          -0.184651   \n31           -0.216920         -0.894299         0.746405           0.893594   \n96           -0.741123         -1.124467        -1.021077          -0.348639   \n\n     ETOV_betas_team2  ETOV_avgs_team2            Team  Combined_Rating  \n123          0.228623         0.987373         Gonzaga         3.501888  \n194          0.841800         0.081173  North Carolina         3.220173  \n2            0.363840        -0.280747     Michigan St         3.136217  \n165         -1.771221        -0.667126        Virginia         3.117161  \n1            0.351568        -0.228807            Duke         3.104944  \n0            1.645983         0.350977        Kentucky         2.745745  \n141          1.278212        -0.358115      Texas Tech         2.689864  \n87           0.125779        -0.800670        Michigan         2.682268  \n19          -0.034253        -0.894104          Purdue         2.604289  \n163          0.594738        -0.989988       Tennessee         2.542995  \n320          0.576552         0.460602         Houston         2.481275  \n105         -0.420830        -1.099907          Auburn         2.433151  \n236         -0.053675        -1.778791         Buffalo         2.221871  \n21          -0.775148        -0.913644   Virginia Tech         2.168011  \n247          0.363840        -0.352141   New Mexico St         2.157394  \n290          0.408253        -0.879865         Wofford         2.112721  \n169         -1.398242        -0.925946       Wisconsin         2.079965  \n178          1.003259        -0.397185      Florida St         2.053136  \n241         -0.852375        -1.091902        NC State         2.032202  \n51           0.428300         1.059186       Kansas St         2.025988  \n136          0.960034        -0.712554         Utah St         1.961432  \n175          0.667022         0.193648             LSU         1.956923  \n193         -0.114529        -0.738434          Nevada         1.941311  \n100          0.740318         0.806134         Iowa St         1.884107  \n204          0.034014        -0.277030      Cincinnati         1.881641  \n102          0.325913         0.015524  Mississippi St         1.880397  \n3            0.224094        -1.422129          Kansas         1.833318  \n137          0.526012        -0.813192    St Mary's CA         1.809107  \n164          1.626443        -0.332473      Louisville         1.777061  \n161          0.504713        -0.825663         Florida         1.752037  \n99           0.341973         0.237129         Clemson         1.658488  \n248         -1.031752         1.474754        Maryland         1.522817  \n132         -0.441379         1.527225        Nebraska         1.511697  \n200          0.104750         1.003144          Baylor         1.502474  \n243          0.228623         1.302360         Ohio St         1.490915  \n155          0.516067         0.952449         Penn St         1.490775  \n30           0.839691        -0.031255          Oregon         1.480727  \n245          1.278212        -0.358090             TCU         1.420391  \n162          0.363840        -0.231927       Marquette         1.414137  \n4            0.435310         1.557536           Texas         1.391266  \n199         -0.010367         0.114666     Mississippi         1.380212  \n173          0.170779         0.535047       Villanova         1.310211  \n148          0.192755         1.406931            ETSU         1.297729  \n93          -0.612758        -0.604324   San Francisco         1.287849  \n103          0.205169         0.404609      Arizona St         1.259279  \n138          1.588070         0.818376             VCU         1.216318  \n282          1.320182         0.410084         Belmont         1.199210  \n143          0.657359        -0.299780       UC Irvine         1.193867  \n31           0.652148         0.769558            Iowa         1.184971  \n96          -0.411004        -0.435391       Minnesota         1.184585  \n\n[50 rows x 46 columns]",
      "text/html": "<div>\n<style scoped>\n    .dataframe tbody tr th:only-of-type {\n        vertical-align: middle;\n    }\n\n    .dataframe tbody tr th {\n        vertical-align: top;\n    }\n\n    .dataframe thead th {\n        text-align: right;\n    }\n</style>\n<table border=\"1\" class=\"dataframe\">\n  <thead>\n    <tr style=\"text-align: right;\">\n      <th></th>\n      <th>Rating</th>\n      <th>Rating_opp</th>\n      <th>EFG_alphas_team1</th>\n      <th>EFG_betas_team1</th>\n      <th>EFG_avgs_team1</th>\n      <th>EFG2_alphas_team1</th>\n      <th>EFG2_betas_team1</th>\n      <th>EFG2_avgs_team1</th>\n      <th>EFG3_alphas_team1</th>\n      <th>EFG3_betas_team1</th>\n      <th>...</th>\n      <th>EDRB_betas_team2</th>\n      <th>EDRB_avgs_team2</th>\n      <th>EAST_alphas_team2</th>\n      <th>EAST_betas_team2</th>\n      <th>EAST_avgs_team2</th>\n      <th>ETOV_alphas_team2</th>\n      <th>ETOV_betas_team2</th>\n      <th>ETOV_avgs_team2</th>\n      <th>Team</th>\n      <th>Combined_Rating</th>\n    </tr>\n  </thead>\n  <tbody>\n    <tr>\n      <th>123</th>\n      <td>2.181244</td>\n      <td>0.565519</td>\n      <td>3.379385</td>\n      <td>2.523483</td>\n      <td>2.341211</td>\n      <td>4.206364</td>\n      <td>2.553629</td>\n      <td>3.072060</td>\n      <td>1.010543</td>\n      <td>1.767191</td>\n      <td>...</td>\n      <td>0.681151</td>\n      <td>-1.169315</td>\n      <td>0.390861</td>\n      <td>0.344971</td>\n      <td>-1.046181</td>\n      <td>1.313091</td>\n      <td>0.228623</td>\n      <td>0.987373</td>\n      <td>Gonzaga</td>\n      <td>3.501888</td>\n    </tr>\n    <tr>\n      <th>194</th>\n      <td>2.400679</td>\n      <td>1.159226</td>\n      <td>1.802561</td>\n      <td>1.400638</td>\n      <td>0.500459</td>\n      <td>1.306630</td>\n      <td>1.486868</td>\n      <td>-0.291943</td>\n      <td>1.765091</td>\n      <td>0.843403</td>\n      <td>...</td>\n      <td>0.376420</td>\n      <td>-1.514376</td>\n      <td>-0.305427</td>\n      <td>1.509465</td>\n      <td>0.300815</td>\n      <td>0.264504</td>\n      <td>0.841800</td>\n      <td>0.081173</td>\n      <td>North Carolina</td>\n      <td>3.220173</td>\n    </tr>\n    <tr>\n      <th>2</th>\n      <td>2.208962</td>\n      <td>2.026502</td>\n      <td>2.868737</td>\n      <td>3.257764</td>\n      <td>0.676462</td>\n      <td>2.288020</td>\n      <td>3.366565</td>\n      <td>0.085840</td>\n      <td>2.423005</td>\n      <td>1.724844</td>\n      <td>...</td>\n      <td>0.722945</td>\n      <td>-0.830982</td>\n      <td>-0.402314</td>\n      <td>0.099127</td>\n      <td>-0.390880</td>\n      <td>-0.268587</td>\n      <td>0.363840</td>\n      <td>-0.280747</td>\n      <td>Michigan St</td>\n      <td>3.136217</td>\n    </tr>\n    <tr>\n      <th>165</th>\n      <td>2.781147</td>\n      <td>-0.574984</td>\n      <td>2.569578</td>\n      <td>2.662449</td>\n      <td>1.913709</td>\n      <td>1.331740</td>\n      <td>1.728678</td>\n      <td>1.084759</td>\n      <td>3.465757</td>\n      <td>3.532600</td>\n      <td>...</td>\n      <td>1.239851</td>\n      <td>-0.642475</td>\n      <td>-0.957361</td>\n      <td>-0.441882</td>\n      <td>-1.828995</td>\n      <td>-0.555739</td>\n      <td>-1.771221</td>\n      <td>-0.667126</td>\n      <td>Virginia</td>\n      <td>3.117161</td>\n    </tr>\n    <tr>\n      <th>1</th>\n      <td>2.594561</td>\n      <td>2.230964</td>\n      <td>1.836329</td>\n      <td>2.697485</td>\n      <td>-0.112735</td>\n      <td>3.543258</td>\n      <td>2.104853</td>\n      <td>0.334009</td>\n      <td>-0.920233</td>\n      <td>2.840186</td>\n      <td>...</td>\n      <td>2.502554</td>\n      <td>-0.701489</td>\n      <td>0.474928</td>\n      <td>0.843191</td>\n      <td>-0.156211</td>\n      <td>-0.054245</td>\n      <td>0.351568</td>\n      <td>-0.228807</td>\n      <td>Duke</td>\n      <td>3.104944</td>\n    </tr>\n    <tr>\n      <th>0</th>\n      <td>2.215144</td>\n      <td>2.621400</td>\n      <td>1.542747</td>\n      <td>2.010744</td>\n      <td>-0.750542</td>\n      <td>1.550578</td>\n      <td>2.968787</td>\n      <td>-0.350099</td>\n      <td>1.020665</td>\n      <td>-0.010606</td>\n      <td>...</td>\n      <td>2.464073</td>\n      <td>-1.843146</td>\n      <td>-0.223750</td>\n      <td>0.740159</td>\n      <td>-0.749098</td>\n      <td>0.391670</td>\n      <td>1.645983</td>\n      <td>0.350977</td>\n      <td>Kentucky</td>\n      <td>2.745745</td>\n    </tr>\n    <tr>\n      <th>141</th>\n      <td>1.939480</td>\n      <td>0.204653</td>\n      <td>1.458219</td>\n      <td>3.166632</td>\n      <td>0.616740</td>\n      <td>1.292656</td>\n      <td>3.216925</td>\n      <td>0.385147</td>\n      <td>1.214293</td>\n      <td>2.084355</td>\n      <td>...</td>\n      <td>-0.211929</td>\n      <td>-0.325281</td>\n      <td>0.949957</td>\n      <td>-0.867328</td>\n      <td>0.078366</td>\n      <td>-0.377967</td>\n      <td>1.278212</td>\n      <td>-0.358115</td>\n      <td>Texas Tech</td>\n      <td>2.689864</td>\n    </tr>\n    <tr>\n      <th>87</th>\n      <td>2.235845</td>\n      <td>-0.983776</td>\n      <td>1.307952</td>\n      <td>2.805885</td>\n      <td>1.453777</td>\n      <td>1.324681</td>\n      <td>2.042719</td>\n      <td>1.106302</td>\n      <td>0.844135</td>\n      <td>3.129154</td>\n      <td>...</td>\n      <td>-1.302985</td>\n      <td>0.341490</td>\n      <td>-0.419962</td>\n      <td>-0.791693</td>\n      <td>-1.838594</td>\n      <td>-0.592379</td>\n      <td>0.125779</td>\n      <td>-0.800670</td>\n      <td>Michigan</td>\n      <td>2.682268</td>\n    </tr>\n    <tr>\n      <th>19</th>\n      <td>1.803431</td>\n      <td>-0.727535</td>\n      <td>1.753924</td>\n      <td>0.977866</td>\n      <td>2.082417</td>\n      <td>1.263164</td>\n      <td>1.187770</td>\n      <td>1.704516</td>\n      <td>1.485325</td>\n      <td>0.292195</td>\n      <td>...</td>\n      <td>-0.809028</td>\n      <td>-2.176538</td>\n      <td>-1.076452</td>\n      <td>1.105106</td>\n      <td>-0.987823</td>\n      <td>-0.767575</td>\n      <td>-0.034253</td>\n      <td>-0.894104</td>\n      <td>Purdue</td>\n      <td>2.604289</td>\n    </tr>\n    <tr>\n      <th>163</th>\n      <td>2.318484</td>\n      <td>1.529660</td>\n      <td>2.485710</td>\n      <td>1.613957</td>\n      <td>0.332493</td>\n      <td>2.665898</td>\n      <td>2.225573</td>\n      <td>0.641876</td>\n      <td>1.070246</td>\n      <td>0.153096</td>\n      <td>...</td>\n      <td>0.493183</td>\n      <td>0.231860</td>\n      <td>0.132076</td>\n      <td>1.000385</td>\n      <td>0.180047</td>\n      <td>-0.825539</td>\n      <td>0.594738</td>\n      <td>-0.989988</td>\n      <td>Tennessee</td>\n      <td>2.542995</td>\n    </tr>\n    <tr>\n      <th>320</th>\n      <td>2.072470</td>\n      <td>0.382575</td>\n      <td>0.619220</td>\n      <td>2.295885</td>\n      <td>0.512001</td>\n      <td>0.399048</td>\n      <td>1.749902</td>\n      <td>0.355117</td>\n      <td>0.636521</td>\n      <td>2.593297</td>\n      <td>...</td>\n      <td>1.075251</td>\n      <td>-1.535134</td>\n      <td>-0.796124</td>\n      <td>-0.140943</td>\n      <td>-0.725125</td>\n      <td>0.663325</td>\n      <td>0.576552</td>\n      <td>0.460602</td>\n      <td>Houston</td>\n      <td>2.481275</td>\n    </tr>\n    <tr>\n      <th>105</th>\n      <td>1.786414</td>\n      <td>0.880289</td>\n      <td>2.009254</td>\n      <td>0.351289</td>\n      <td>1.127261</td>\n      <td>1.184454</td>\n      <td>0.789249</td>\n      <td>0.457465</td>\n      <td>1.907070</td>\n      <td>-0.424158</td>\n      <td>...</td>\n      <td>1.141892</td>\n      <td>-0.667644</td>\n      <td>1.048294</td>\n      <td>-0.530771</td>\n      <td>0.625025</td>\n      <td>-0.976536</td>\n      <td>-0.420830</td>\n      <td>-1.099907</td>\n      <td>Auburn</td>\n      <td>2.433151</td>\n    </tr>\n    <tr>\n      <th>236</th>\n      <td>1.830743</td>\n      <td>-1.139756</td>\n      <td>0.997629</td>\n      <td>0.932754</td>\n      <td>1.105857</td>\n      <td>1.568665</td>\n      <td>0.138477</td>\n      <td>2.009205</td>\n      <td>-0.001743</td>\n      <td>2.105224</td>\n      <td>...</td>\n      <td>-0.863693</td>\n      <td>-0.983042</td>\n      <td>-0.887910</td>\n      <td>-0.199258</td>\n      <td>-2.237693</td>\n      <td>-1.536444</td>\n      <td>-0.053675</td>\n      <td>-1.778791</td>\n      <td>Buffalo</td>\n      <td>2.221871</td>\n    </tr>\n    <tr>\n      <th>21</th>\n      <td>1.874750</td>\n      <td>0.049058</td>\n      <td>2.446477</td>\n      <td>0.819841</td>\n      <td>1.019749</td>\n      <td>1.453103</td>\n      <td>0.751159</td>\n      <td>0.598608</td>\n      <td>2.727078</td>\n      <td>0.595613</td>\n      <td>...</td>\n      <td>-0.194717</td>\n      <td>-0.435959</td>\n      <td>-0.666988</td>\n      <td>1.020262</td>\n      <td>0.243005</td>\n      <td>-0.906502</td>\n      <td>-0.775148</td>\n      <td>-0.913644</td>\n      <td>Virginia Tech</td>\n      <td>2.168011</td>\n    </tr>\n    <tr>\n      <th>247</th>\n      <td>0.923982</td>\n      <td>2.026502</td>\n      <td>0.640450</td>\n      <td>0.277237</td>\n      <td>-0.822078</td>\n      <td>1.645780</td>\n      <td>0.199644</td>\n      <td>-0.331800</td>\n      <td>-0.682904</td>\n      <td>0.224174</td>\n      <td>...</td>\n      <td>0.722945</td>\n      <td>-0.922516</td>\n      <td>-0.402314</td>\n      <td>0.099127</td>\n      <td>-1.947884</td>\n      <td>-0.268587</td>\n      <td>0.363840</td>\n      <td>-0.352141</td>\n      <td>New Mexico St</td>\n      <td>2.157394</td>\n    </tr>\n    <tr>\n      <th>290</th>\n      <td>1.787118</td>\n      <td>-0.965363</td>\n      <td>2.239342</td>\n      <td>0.346313</td>\n      <td>2.851995</td>\n      <td>0.831116</td>\n      <td>-0.104358</td>\n      <td>1.976302</td>\n      <td>3.141126</td>\n      <td>1.077033</td>\n      <td>...</td>\n      <td>-1.556402</td>\n      <td>-0.656606</td>\n      <td>0.109508</td>\n      <td>-0.303783</td>\n      <td>-0.232087</td>\n      <td>-0.805110</td>\n      <td>0.408253</td>\n      <td>-0.879865</td>\n      <td>Wofford</td>\n      <td>2.112721</td>\n    </tr>\n    <tr>\n      <th>169</th>\n      <td>1.810217</td>\n      <td>0.305756</td>\n      <td>1.301481</td>\n      <td>2.578983</td>\n      <td>0.141456</td>\n      <td>0.836812</td>\n      <td>2.549006</td>\n      <td>-0.325064</td>\n      <td>1.684076</td>\n      <td>1.639358</td>\n      <td>...</td>\n      <td>0.548393</td>\n      <td>0.930024</td>\n      <td>-0.844079</td>\n      <td>2.635183</td>\n      <td>-1.998263</td>\n      <td>-0.779563</td>\n      <td>-1.398242</td>\n      <td>-0.925946</td>\n      <td>Wisconsin</td>\n      <td>2.079965</td>\n    </tr>\n    <tr>\n      <th>178</th>\n      <td>2.042180</td>\n      <td>0.113384</td>\n      <td>0.721785</td>\n      <td>1.616741</td>\n      <td>0.640825</td>\n      <td>0.717732</td>\n      <td>1.692351</td>\n      <td>0.556472</td>\n      <td>0.394210</td>\n      <td>0.897124</td>\n      <td>...</td>\n      <td>0.356415</td>\n      <td>-0.782421</td>\n      <td>-1.424978</td>\n      <td>-0.998596</td>\n      <td>-2.364088</td>\n      <td>-0.375061</td>\n      <td>1.003259</td>\n      <td>-0.397185</td>\n      <td>Florida St</td>\n      <td>2.053136</td>\n    </tr>\n    <tr>\n      <th>241</th>\n      <td>1.279126</td>\n      <td>0.072420</td>\n      <td>0.834605</td>\n      <td>0.642435</td>\n      <td>0.061982</td>\n      <td>0.785554</td>\n      <td>0.069710</td>\n      <td>-0.247685</td>\n      <td>0.773418</td>\n      <td>1.787678</td>\n      <td>...</td>\n      <td>0.146564</td>\n      <td>-1.274592</td>\n      <td>-0.371006</td>\n      <td>1.010396</td>\n      <td>-0.224112</td>\n      <td>-0.958071</td>\n      <td>-0.852375</td>\n      <td>-1.091902</td>\n      <td>NC State</td>\n      <td>2.032202</td>\n    </tr>\n    <tr>\n      <th>51</th>\n      <td>1.727009</td>\n      <td>-0.715613</td>\n      <td>0.483434</td>\n      <td>1.494290</td>\n      <td>1.243917</td>\n      <td>0.512745</td>\n      <td>0.820164</td>\n      <td>1.546175</td>\n      <td>0.138106</td>\n      <td>2.064517</td>\n      <td>...</td>\n      <td>-0.605074</td>\n      <td>-0.889975</td>\n      <td>-0.201888</td>\n      <td>0.300654</td>\n      <td>0.232065</td>\n      <td>1.142135</td>\n      <td>0.428300</td>\n      <td>1.059186</td>\n      <td>Kansas St</td>\n      <td>2.025988</td>\n    </tr>\n    <tr>\n      <th>136</th>\n      <td>1.203383</td>\n      <td>0.894214</td>\n      <td>1.119226</td>\n      <td>1.497125</td>\n      <td>0.028370</td>\n      <td>1.186294</td>\n      <td>2.346261</td>\n      <td>0.324576</td>\n      <td>0.558459</td>\n      <td>-0.005877</td>\n      <td>...</td>\n      <td>0.980781</td>\n      <td>0.260772</td>\n      <td>-2.080242</td>\n      <td>2.067375</td>\n      <td>-2.170148</td>\n      <td>-0.665970</td>\n      <td>0.960034</td>\n      <td>-0.712554</td>\n      <td>Utah St</td>\n      <td>1.961432</td>\n    </tr>\n    <tr>\n      <th>175</th>\n      <td>1.851967</td>\n      <td>0.527985</td>\n      <td>0.983269</td>\n      <td>0.595186</td>\n      <td>1.214206</td>\n      <td>1.633247</td>\n      <td>0.661293</td>\n      <td>2.048906</td>\n      <td>-0.415040</td>\n      <td>0.262761</td>\n      <td>...</td>\n      <td>-0.675810</td>\n      <td>-1.547513</td>\n      <td>-1.241946</td>\n      <td>-0.107330</td>\n      <td>-2.199706</td>\n      <td>0.299225</td>\n      <td>0.667022</td>\n      <td>0.193648</td>\n      <td>LSU</td>\n      <td>1.956923</td>\n    </tr>\n    <tr>\n      <th>193</th>\n      <td>1.337967</td>\n      <td>0.438479</td>\n      <td>1.067901</td>\n      <td>1.362409</td>\n      <td>0.398206</td>\n      <td>1.494278</td>\n      <td>1.521507</td>\n      <td>0.663620</td>\n      <td>0.271672</td>\n      <td>0.573565</td>\n      <td>...</td>\n      <td>-1.112953</td>\n      <td>0.397545</td>\n      <td>0.286627</td>\n      <td>-0.899513</td>\n      <td>0.243548</td>\n      <td>-0.525415</td>\n      <td>-0.114529</td>\n      <td>-0.738434</td>\n      <td>Nevada</td>\n      <td>1.941311</td>\n    </tr>\n    <tr>\n      <th>100</th>\n      <td>1.551153</td>\n      <td>0.499982</td>\n      <td>2.122276</td>\n      <td>1.190066</td>\n      <td>1.157138</td>\n      <td>2.045403</td>\n      <td>1.426939</td>\n      <td>1.375306</td>\n      <td>1.305950</td>\n      <td>0.652992</td>\n      <td>...</td>\n      <td>0.094718</td>\n      <td>0.494897</td>\n      <td>-0.273207</td>\n      <td>0.585171</td>\n      <td>-0.566499</td>\n      <td>1.019589</td>\n      <td>0.740318</td>\n      <td>0.806134</td>\n      <td>Iowa St</td>\n      <td>1.884107</td>\n    </tr>\n    <tr>\n      <th>204</th>\n      <td>1.538165</td>\n      <td>-0.090480</td>\n      <td>-0.303209</td>\n      <td>0.683441</td>\n      <td>-0.010437</td>\n      <td>-0.479564</td>\n      <td>1.548405</td>\n      <td>0.065894</td>\n      <td>0.476593</td>\n      <td>-0.503778</td>\n      <td>...</td>\n      <td>-0.124129</td>\n      <td>-2.099306</td>\n      <td>-0.819126</td>\n      <td>0.223495</td>\n      <td>-0.770630</td>\n      <td>-0.097122</td>\n      <td>0.034014</td>\n      <td>-0.277030</td>\n      <td>Cincinnati</td>\n      <td>1.881641</td>\n    </tr>\n    <tr>\n      <th>102</th>\n      <td>1.532449</td>\n      <td>1.012995</td>\n      <td>1.745104</td>\n      <td>0.844387</td>\n      <td>0.355598</td>\n      <td>1.608888</td>\n      <td>1.121401</td>\n      <td>0.051674</td>\n      <td>1.427749</td>\n      <td>-0.108556</td>\n      <td>...</td>\n      <td>1.138298</td>\n      <td>-1.011594</td>\n      <td>-0.041848</td>\n      <td>-0.881785</td>\n      <td>-0.201158</td>\n      <td>0.029084</td>\n      <td>0.325913</td>\n      <td>0.015524</td>\n      <td>Mississippi St</td>\n      <td>1.880397</td>\n    </tr>\n    <tr>\n      <th>3</th>\n      <td>2.016451</td>\n      <td>2.224603</td>\n      <td>1.552874</td>\n      <td>1.800527</td>\n      <td>-1.078926</td>\n      <td>1.793950</td>\n      <td>2.177369</td>\n      <td>-0.939677</td>\n      <td>0.823062</td>\n      <td>0.852701</td>\n      <td>...</td>\n      <td>1.940128</td>\n      <td>-0.058514</td>\n      <td>5.207017</td>\n      <td>0.064756</td>\n      <td>2.483011</td>\n      <td>-1.372168</td>\n      <td>0.224094</td>\n      <td>-1.422129</td>\n      <td>Kansas</td>\n      <td>1.833318</td>\n    </tr>\n    <tr>\n      <th>137</th>\n      <td>0.916120</td>\n      <td>1.189820</td>\n      <td>1.308776</td>\n      <td>1.101707</td>\n      <td>-0.121947</td>\n      <td>1.012210</td>\n      <td>0.782490</td>\n      <td>-0.884399</td>\n      <td>1.486228</td>\n      <td>1.371959</td>\n      <td>...</td>\n      <td>1.014306</td>\n      <td>0.413153</td>\n      <td>1.869060</td>\n      <td>0.066406</td>\n      <td>-0.027228</td>\n      <td>-0.719568</td>\n      <td>0.526012</td>\n      <td>-0.813192</td>\n      <td>St Mary's CA</td>\n      <td>1.809107</td>\n    </tr>\n    <tr>\n      <th>164</th>\n      <td>1.533631</td>\n      <td>2.337306</td>\n      <td>0.949453</td>\n      <td>1.967045</td>\n      <td>-0.462490</td>\n      <td>0.862966</td>\n      <td>1.683010</td>\n      <td>-0.919303</td>\n      <td>0.708932</td>\n      <td>1.654196</td>\n      <td>...</td>\n      <td>0.987697</td>\n      <td>-0.137746</td>\n      <td>2.340173</td>\n      <td>-0.133916</td>\n      <td>0.800130</td>\n      <td>-0.278840</td>\n      <td>1.626443</td>\n      <td>-0.332473</td>\n      <td>Louisville</td>\n      <td>1.777061</td>\n    </tr>\n    <tr>\n      <th>161</th>\n      <td>1.240125</td>\n      <td>1.400251</td>\n      <td>0.540310</td>\n      <td>1.549459</td>\n      <td>-0.930393</td>\n      <td>0.890495</td>\n      <td>1.330993</td>\n      <td>-0.856500</td>\n      <td>-0.194759</td>\n      <td>1.245641</td>\n      <td>...</td>\n      <td>-0.196771</td>\n      <td>-0.209850</td>\n      <td>-0.365363</td>\n      <td>0.715024</td>\n      <td>-0.874372</td>\n      <td>-0.775387</td>\n      <td>0.504713</td>\n      <td>-0.825663</td>\n      <td>Florida</td>\n      <td>1.752037</td>\n    </tr>\n    <tr>\n      <th>99</th>\n      <td>1.218077</td>\n      <td>0.100430</td>\n      <td>0.889898</td>\n      <td>1.366639</td>\n      <td>-0.467388</td>\n      <td>1.198780</td>\n      <td>2.029036</td>\n      <td>0.197070</td>\n      <td>-0.009567</td>\n      <td>0.081311</td>\n      <td>...</td>\n      <td>-0.803047</td>\n      <td>-0.143254</td>\n      <td>-0.136979</td>\n      <td>1.086688</td>\n      <td>-0.999673</td>\n      <td>0.143703</td>\n      <td>0.341973</td>\n      <td>0.237129</td>\n      <td>Clemson</td>\n      <td>1.658488</td>\n    </tr>\n    <tr>\n      <th>248</th>\n      <td>1.608740</td>\n      <td>0.185066</td>\n      <td>1.122805</td>\n      <td>2.155128</td>\n      <td>1.099034</td>\n      <td>0.945316</td>\n      <td>2.024973</td>\n      <td>0.614341</td>\n      <td>0.922295</td>\n      <td>1.475686</td>\n      <td>...</td>\n      <td>-1.802632</td>\n      <td>-0.528188</td>\n      <td>0.800532</td>\n      <td>0.047367</td>\n      <td>0.310673</td>\n      <td>1.458383</td>\n      <td>-1.031752</td>\n      <td>1.474754</td>\n      <td>Maryland</td>\n      <td>1.522817</td>\n    </tr>\n    <tr>\n      <th>132</th>\n      <td>1.141816</td>\n      <td>-0.174127</td>\n      <td>0.459430</td>\n      <td>1.601543</td>\n      <td>1.199172</td>\n      <td>0.496996</td>\n      <td>1.517170</td>\n      <td>0.350107</td>\n      <td>0.120918</td>\n      <td>1.016762</td>\n      <td>...</td>\n      <td>-0.853223</td>\n      <td>-0.241367</td>\n      <td>-0.897161</td>\n      <td>0.035241</td>\n      <td>-1.776236</td>\n      <td>1.876099</td>\n      <td>-0.441379</td>\n      <td>1.527225</td>\n      <td>Nebraska</td>\n      <td>1.511697</td>\n    </tr>\n    <tr>\n      <th>200</th>\n      <td>1.009897</td>\n      <td>1.196102</td>\n      <td>0.727237</td>\n      <td>0.947220</td>\n      <td>0.163024</td>\n      <td>0.835894</td>\n      <td>1.228817</td>\n      <td>-0.220403</td>\n      <td>0.296219</td>\n      <td>0.332064</td>\n      <td>...</td>\n      <td>0.591723</td>\n      <td>-1.915468</td>\n      <td>0.724157</td>\n      <td>-0.683632</td>\n      <td>1.072089</td>\n      <td>1.031159</td>\n      <td>0.104750</td>\n      <td>1.003144</td>\n      <td>Baylor</td>\n      <td>1.502474</td>\n    </tr>\n    <tr>\n      <th>243</th>\n      <td>1.314335</td>\n      <td>0.565519</td>\n      <td>0.815383</td>\n      <td>1.429318</td>\n      <td>0.711355</td>\n      <td>0.610291</td>\n      <td>1.235357</td>\n      <td>0.914576</td>\n      <td>0.715285</td>\n      <td>1.048850</td>\n      <td>...</td>\n      <td>0.681151</td>\n      <td>-0.524617</td>\n      <td>0.390861</td>\n      <td>0.344971</td>\n      <td>-0.333813</td>\n      <td>1.313091</td>\n      <td>0.228623</td>\n      <td>1.302360</td>\n      <td>Ohio St</td>\n      <td>1.490915</td>\n    </tr>\n    <tr>\n      <th>155</th>\n      <td>0.897154</td>\n      <td>0.011372</td>\n      <td>0.033633</td>\n      <td>0.839759</td>\n      <td>0.648098</td>\n      <td>0.152385</td>\n      <td>1.057080</td>\n      <td>0.818236</td>\n      <td>-0.256848</td>\n      <td>0.005780</td>\n      <td>...</td>\n      <td>0.054837</td>\n      <td>-0.553824</td>\n      <td>0.643074</td>\n      <td>1.900003</td>\n      <td>-0.195173</td>\n      <td>1.038685</td>\n      <td>0.516067</td>\n      <td>0.952449</td>\n      <td>Penn St</td>\n      <td>1.490775</td>\n    </tr>\n    <tr>\n      <th>30</th>\n      <td>0.868492</td>\n      <td>1.473662</td>\n      <td>0.461952</td>\n      <td>1.658333</td>\n      <td>0.358113</td>\n      <td>0.668985</td>\n      <td>0.741474</td>\n      <td>0.944156</td>\n      <td>0.022584</td>\n      <td>2.523655</td>\n      <td>...</td>\n      <td>0.649780</td>\n      <td>-0.367630</td>\n      <td>2.325464</td>\n      <td>-1.166468</td>\n      <td>2.064540</td>\n      <td>0.033738</td>\n      <td>0.839691</td>\n      <td>-0.031255</td>\n      <td>Oregon</td>\n      <td>1.480727</td>\n    </tr>\n    <tr>\n      <th>245</th>\n      <td>1.150037</td>\n      <td>0.204653</td>\n      <td>1.317962</td>\n      <td>1.264282</td>\n      <td>0.519126</td>\n      <td>1.382056</td>\n      <td>0.543232</td>\n      <td>0.448094</td>\n      <td>0.789149</td>\n      <td>2.286294</td>\n      <td>...</td>\n      <td>-0.211929</td>\n      <td>-1.081148</td>\n      <td>0.949957</td>\n      <td>-0.867328</td>\n      <td>1.590366</td>\n      <td>-0.377967</td>\n      <td>1.278212</td>\n      <td>-0.358090</td>\n      <td>TCU</td>\n      <td>1.420391</td>\n    </tr>\n    <tr>\n      <th>162</th>\n      <td>1.509061</td>\n      <td>2.026502</td>\n      <td>1.394253</td>\n      <td>1.859918</td>\n      <td>-0.272181</td>\n      <td>0.366605</td>\n      <td>1.917009</td>\n      <td>-1.272869</td>\n      <td>2.317524</td>\n      <td>1.160197</td>\n      <td>...</td>\n      <td>0.722945</td>\n      <td>0.286520</td>\n      <td>-0.402314</td>\n      <td>0.099127</td>\n      <td>-0.684865</td>\n      <td>-0.268587</td>\n      <td>0.363840</td>\n      <td>-0.231927</td>\n      <td>Marquette</td>\n      <td>1.414137</td>\n    </tr>\n    <tr>\n      <th>4</th>\n      <td>1.173652</td>\n      <td>0.757280</td>\n      <td>0.904124</td>\n      <td>1.102797</td>\n      <td>0.147696</td>\n      <td>1.038778</td>\n      <td>1.758567</td>\n      <td>-0.043619</td>\n      <td>0.428967</td>\n      <td>-0.393971</td>\n      <td>...</td>\n      <td>0.159084</td>\n      <td>-1.406184</td>\n      <td>2.295078</td>\n      <td>-0.521702</td>\n      <td>0.491653</td>\n      <td>1.750787</td>\n      <td>0.435310</td>\n      <td>1.557536</td>\n      <td>Texas</td>\n      <td>1.391266</td>\n    </tr>\n    <tr>\n      <th>199</th>\n      <td>1.209487</td>\n      <td>0.990715</td>\n      <td>1.290056</td>\n      <td>0.547739</td>\n      <td>0.265452</td>\n      <td>1.302209</td>\n      <td>1.164773</td>\n      <td>0.074448</td>\n      <td>0.704309</td>\n      <td>-0.771741</td>\n      <td>...</td>\n      <td>2.864120</td>\n      <td>-0.391666</td>\n      <td>0.408056</td>\n      <td>-0.753851</td>\n      <td>0.802004</td>\n      <td>0.118392</td>\n      <td>-0.010367</td>\n      <td>0.114666</td>\n      <td>Mississippi</td>\n      <td>1.380212</td>\n    </tr>\n    <tr>\n      <th>173</th>\n      <td>1.554620</td>\n      <td>-0.874692</td>\n      <td>1.168388</td>\n      <td>0.569397</td>\n      <td>2.004519</td>\n      <td>1.402980</td>\n      <td>0.439996</td>\n      <td>2.078168</td>\n      <td>0.468159</td>\n      <td>0.605022</td>\n      <td>...</td>\n      <td>-0.697482</td>\n      <td>-2.015838</td>\n      <td>1.342146</td>\n      <td>0.712701</td>\n      <td>1.361984</td>\n      <td>0.671112</td>\n      <td>0.170779</td>\n      <td>0.535047</td>\n      <td>Villanova</td>\n      <td>1.310211</td>\n    </tr>\n    <tr>\n      <th>148</th>\n      <td>0.798650</td>\n      <td>-0.240821</td>\n      <td>0.659216</td>\n      <td>-0.004274</td>\n      <td>1.118500</td>\n      <td>0.570186</td>\n      <td>0.678759</td>\n      <td>1.281186</td>\n      <td>0.551202</td>\n      <td>-1.051325</td>\n      <td>...</td>\n      <td>-0.073973</td>\n      <td>-1.556203</td>\n      <td>1.180083</td>\n      <td>-0.730058</td>\n      <td>1.098526</td>\n      <td>1.425505</td>\n      <td>0.192755</td>\n      <td>1.406931</td>\n      <td>ETSU</td>\n      <td>1.297729</td>\n    </tr>\n    <tr>\n      <th>93</th>\n      <td>0.545903</td>\n      <td>-0.793463</td>\n      <td>0.877761</td>\n      <td>0.889106</td>\n      <td>0.947517</td>\n      <td>0.976719</td>\n      <td>0.510550</td>\n      <td>1.169722</td>\n      <td>0.439919</td>\n      <td>1.249823</td>\n      <td>...</td>\n      <td>-0.458836</td>\n      <td>-0.891043</td>\n      <td>-0.174347</td>\n      <td>-0.010098</td>\n      <td>-1.225753</td>\n      <td>-0.486967</td>\n      <td>-0.612758</td>\n      <td>-0.604324</td>\n      <td>San Francisco</td>\n      <td>1.287849</td>\n    </tr>\n    <tr>\n      <th>103</th>\n      <td>1.031548</td>\n      <td>1.528443</td>\n      <td>0.434335</td>\n      <td>1.248548</td>\n      <td>-0.293547</td>\n      <td>0.482810</td>\n      <td>1.562343</td>\n      <td>-0.462618</td>\n      <td>0.134078</td>\n      <td>0.359714</td>\n      <td>...</td>\n      <td>1.917364</td>\n      <td>-0.656292</td>\n      <td>0.091941</td>\n      <td>0.217111</td>\n      <td>0.736488</td>\n      <td>0.444231</td>\n      <td>0.205169</td>\n      <td>0.404609</td>\n      <td>Arizona St</td>\n      <td>1.259279</td>\n    </tr>\n    <tr>\n      <th>138</th>\n      <td>1.015308</td>\n      <td>0.976299</td>\n      <td>-0.185571</td>\n      <td>2.371082</td>\n      <td>-0.080290</td>\n      <td>0.893164</td>\n      <td>1.784223</td>\n      <td>0.982507</td>\n      <td>-1.445901</td>\n      <td>2.735902</td>\n      <td>...</td>\n      <td>-0.262458</td>\n      <td>-0.311651</td>\n      <td>0.128014</td>\n      <td>0.469598</td>\n      <td>0.171444</td>\n      <td>0.751455</td>\n      <td>1.588070</td>\n      <td>0.818376</td>\n      <td>VCU</td>\n      <td>1.216318</td>\n    </tr>\n    <tr>\n      <th>282</th>\n      <td>1.250252</td>\n      <td>0.154125</td>\n      <td>1.835057</td>\n      <td>0.112118</td>\n      <td>2.092270</td>\n      <td>2.140953</td>\n      <td>0.295079</td>\n      <td>2.520880</td>\n      <td>0.845124</td>\n      <td>-0.385989</td>\n      <td>...</td>\n      <td>0.485062</td>\n      <td>0.428486</td>\n      <td>-1.024832</td>\n      <td>0.200272</td>\n      <td>-1.799250</td>\n      <td>0.598182</td>\n      <td>1.320182</td>\n      <td>0.410084</td>\n      <td>Belmont</td>\n      <td>1.199210</td>\n    </tr>\n    <tr>\n      <th>143</th>\n      <td>0.930717</td>\n      <td>0.023279</td>\n      <td>0.074020</td>\n      <td>2.007219</td>\n      <td>-0.061074</td>\n      <td>-0.160528</td>\n      <td>2.509821</td>\n      <td>-0.005844</td>\n      <td>0.384734</td>\n      <td>0.366343</td>\n      <td>...</td>\n      <td>-0.453199</td>\n      <td>-1.175436</td>\n      <td>-0.946596</td>\n      <td>0.361847</td>\n      <td>-1.815426</td>\n      <td>-0.184651</td>\n      <td>0.657359</td>\n      <td>-0.299780</td>\n      <td>UC Irvine</td>\n      <td>1.193867</td>\n    </tr>\n    <tr>\n      <th>31</th>\n      <td>1.479214</td>\n      <td>0.845203</td>\n      <td>1.535276</td>\n      <td>0.060625</td>\n      <td>-0.076957</td>\n      <td>1.220684</td>\n      <td>-0.407976</td>\n      <td>0.380906</td>\n      <td>1.343472</td>\n      <td>0.869276</td>\n      <td>...</td>\n      <td>0.425557</td>\n      <td>-0.304216</td>\n      <td>-0.216920</td>\n      <td>-0.894299</td>\n      <td>0.746405</td>\n      <td>0.893594</td>\n      <td>0.652148</td>\n      <td>0.769558</td>\n      <td>Iowa</td>\n      <td>1.184971</td>\n    </tr>\n    <tr>\n      <th>96</th>\n      <td>1.373845</td>\n      <td>0.636629</td>\n      <td>0.250494</td>\n      <td>1.073477</td>\n      <td>-0.454339</td>\n      <td>0.387659</td>\n      <td>1.060494</td>\n      <td>-0.445688</td>\n      <td>-0.193764</td>\n      <td>0.619461</td>\n      <td>...</td>\n      <td>1.024680</td>\n      <td>-1.306412</td>\n      <td>-0.741123</td>\n      <td>-1.124467</td>\n      <td>-1.021077</td>\n      <td>-0.348639</td>\n      <td>-0.411004</td>\n      <td>-0.435391</td>\n      <td>Minnesota</td>\n      <td>1.184585</td>\n    </tr>\n  </tbody>\n</table>\n<p>50 rows × 46 columns</p>\n</div>"
     },
     "execution_count": 57,
     "metadata": {},
     "output_type": "execute_result"
    }
   ],
   "source": [
    "bl_df[0:50]"
   ],
   "metadata": {
    "collapsed": false,
    "ExecuteTime": {
     "end_time": "2023-11-22T02:55:32.637401Z",
     "start_time": "2023-11-22T02:55:32.630578Z"
    }
   }
  },
  {
   "cell_type": "code",
   "execution_count": null,
   "outputs": [],
   "source": [],
   "metadata": {
    "collapsed": false
   }
  }
 ],
 "metadata": {
  "kernelspec": {
   "display_name": "Python 3",
   "language": "python",
   "name": "python3"
  },
  "language_info": {
   "codemirror_mode": {
    "name": "ipython",
    "version": 2
   },
   "file_extension": ".py",
   "mimetype": "text/x-python",
   "name": "python",
   "nbconvert_exporter": "python",
   "pygments_lexer": "ipython2",
   "version": "2.7.6"
  }
 },
 "nbformat": 4,
 "nbformat_minor": 0
}
