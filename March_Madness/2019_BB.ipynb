{
 "nbformat": 4,
 "nbformat_minor": 0,
 "metadata": {
  "colab": {
   "provenance": [],
   "toc_visible": true
  },
  "kernelspec": {
   "name": "python3",
   "language": "python",
   "display_name": "Python 3 (ipykernel)"
  },
  "language_info": {
   "name": "python"
  }
 },
 "cells": [
  {
   "cell_type": "markdown",
   "source": [
    "# Initialization\n"
   ],
   "metadata": {
    "id": "rrgxsJmCAv7Y"
   }
  },
  {
   "cell_type": "markdown",
   "source": [
    "## Installation and Importation"
   ],
   "metadata": {
    "id": "gmHY96-vA5RB"
   }
  },
  {
   "cell_type": "code",
   "execution_count": 1,
   "metadata": {
    "colab": {
     "base_uri": "https://localhost:8080/"
    },
    "id": "rCiVb_Bx2o6N",
    "outputId": "e8b13c90-a6a1-4aa9-c5d5-b487c219b47c",
    "ExecuteTime": {
     "end_time": "2024-02-29T07:01:03.698671Z",
     "start_time": "2024-02-29T07:00:32.530494Z"
    }
   },
   "outputs": [
    {
     "name": "stdout",
     "output_type": "stream",
     "text": [
      "\u001B[33mWARNING: Ignoring invalid distribution - (/Users/kylesullivan/anaconda3/lib/python3.10/site-packages)\u001B[0m\u001B[33m\r\n",
      "\u001B[0m\u001B[33mWARNING: Ignoring invalid distribution -orch (/Users/kylesullivan/anaconda3/lib/python3.10/site-packages)\u001B[0m\u001B[33m\r\n",
      "\u001B[0mRequirement already satisfied: pandasql in /Users/kylesullivan/anaconda3/lib/python3.10/site-packages (0.7.3)\r\n",
      "Requirement already satisfied: numpy in /Users/kylesullivan/anaconda3/lib/python3.10/site-packages (from pandasql) (1.23.5)\r\n",
      "Requirement already satisfied: pandas in /Users/kylesullivan/anaconda3/lib/python3.10/site-packages (from pandasql) (1.5.3)\r\n",
      "Requirement already satisfied: sqlalchemy in /Users/kylesullivan/anaconda3/lib/python3.10/site-packages (from pandasql) (1.4.39)\r\n",
      "Requirement already satisfied: python-dateutil>=2.8.1 in /Users/kylesullivan/anaconda3/lib/python3.10/site-packages (from pandas->pandasql) (2.8.2)\r\n",
      "Requirement already satisfied: pytz>=2020.1 in /Users/kylesullivan/anaconda3/lib/python3.10/site-packages (from pandas->pandasql) (2022.7)\r\n",
      "Requirement already satisfied: six>=1.5 in /Users/kylesullivan/anaconda3/lib/python3.10/site-packages (from python-dateutil>=2.8.1->pandas->pandasql) (1.16.0)\r\n",
      "\u001B[33mWARNING: Ignoring invalid distribution - (/Users/kylesullivan/anaconda3/lib/python3.10/site-packages)\u001B[0m\u001B[33m\r\n",
      "\u001B[0m\u001B[33mWARNING: Ignoring invalid distribution -orch (/Users/kylesullivan/anaconda3/lib/python3.10/site-packages)\u001B[0m\u001B[33m\r\n",
      "\u001B[0m\r\n",
      "\u001B[1m[\u001B[0m\u001B[34;49mnotice\u001B[0m\u001B[1;39;49m]\u001B[0m\u001B[39;49m A new release of pip is available: \u001B[0m\u001B[31;49m23.3.2\u001B[0m\u001B[39;49m -> \u001B[0m\u001B[32;49m24.0\u001B[0m\r\n",
      "\u001B[1m[\u001B[0m\u001B[34;49mnotice\u001B[0m\u001B[1;39;49m]\u001B[0m\u001B[39;49m To update, run: \u001B[0m\u001B[32;49mpip install --upgrade pip\u001B[0m\r\n",
      "\u001B[33mWARNING: Ignoring invalid distribution - (/Users/kylesullivan/anaconda3/lib/python3.10/site-packages)\u001B[0m\u001B[33m\r\n",
      "\u001B[0m\u001B[33mWARNING: Ignoring invalid distribution -orch (/Users/kylesullivan/anaconda3/lib/python3.10/site-packages)\u001B[0m\u001B[33m\r\n",
      "\u001B[0mRequirement already satisfied: pandas in /Users/kylesullivan/anaconda3/lib/python3.10/site-packages (1.5.3)\r\n",
      "Requirement already satisfied: python-dateutil>=2.8.1 in /Users/kylesullivan/anaconda3/lib/python3.10/site-packages (from pandas) (2.8.2)\r\n",
      "Requirement already satisfied: pytz>=2020.1 in /Users/kylesullivan/anaconda3/lib/python3.10/site-packages (from pandas) (2022.7)\r\n",
      "Requirement already satisfied: numpy>=1.21.0 in /Users/kylesullivan/anaconda3/lib/python3.10/site-packages (from pandas) (1.23.5)\r\n",
      "Requirement already satisfied: six>=1.5 in /Users/kylesullivan/anaconda3/lib/python3.10/site-packages (from python-dateutil>=2.8.1->pandas) (1.16.0)\r\n",
      "\u001B[33mWARNING: Ignoring invalid distribution - (/Users/kylesullivan/anaconda3/lib/python3.10/site-packages)\u001B[0m\u001B[33m\r\n",
      "\u001B[0m\u001B[33mWARNING: Ignoring invalid distribution -orch (/Users/kylesullivan/anaconda3/lib/python3.10/site-packages)\u001B[0m\u001B[33m\r\n",
      "\u001B[0m\r\n",
      "\u001B[1m[\u001B[0m\u001B[34;49mnotice\u001B[0m\u001B[1;39;49m]\u001B[0m\u001B[39;49m A new release of pip is available: \u001B[0m\u001B[31;49m23.3.2\u001B[0m\u001B[39;49m -> \u001B[0m\u001B[32;49m24.0\u001B[0m\r\n",
      "\u001B[1m[\u001B[0m\u001B[34;49mnotice\u001B[0m\u001B[1;39;49m]\u001B[0m\u001B[39;49m To update, run: \u001B[0m\u001B[32;49mpip install --upgrade pip\u001B[0m\r\n",
      "\u001B[33mWARNING: Ignoring invalid distribution - (/Users/kylesullivan/anaconda3/lib/python3.10/site-packages)\u001B[0m\u001B[33m\r\n",
      "\u001B[0m\u001B[33mWARNING: Ignoring invalid distribution -orch (/Users/kylesullivan/anaconda3/lib/python3.10/site-packages)\u001B[0m\u001B[33m\r\n",
      "\u001B[0mRequirement already satisfied: plotly in /Users/kylesullivan/anaconda3/lib/python3.10/site-packages (5.9.0)\r\n",
      "Requirement already satisfied: tenacity>=6.2.0 in /Users/kylesullivan/anaconda3/lib/python3.10/site-packages (from plotly) (8.0.1)\r\n",
      "\u001B[33mWARNING: Ignoring invalid distribution - (/Users/kylesullivan/anaconda3/lib/python3.10/site-packages)\u001B[0m\u001B[33m\r\n",
      "\u001B[0m\u001B[33mWARNING: Ignoring invalid distribution -orch (/Users/kylesullivan/anaconda3/lib/python3.10/site-packages)\u001B[0m\u001B[33m\r\n",
      "\u001B[0m\r\n",
      "\u001B[1m[\u001B[0m\u001B[34;49mnotice\u001B[0m\u001B[1;39;49m]\u001B[0m\u001B[39;49m A new release of pip is available: \u001B[0m\u001B[31;49m23.3.2\u001B[0m\u001B[39;49m -> \u001B[0m\u001B[32;49m24.0\u001B[0m\r\n",
      "\u001B[1m[\u001B[0m\u001B[34;49mnotice\u001B[0m\u001B[1;39;49m]\u001B[0m\u001B[39;49m To update, run: \u001B[0m\u001B[32;49mpip install --upgrade pip\u001B[0m\r\n",
      "\u001B[33mWARNING: Ignoring invalid distribution - (/Users/kylesullivan/anaconda3/lib/python3.10/site-packages)\u001B[0m\u001B[33m\r\n",
      "\u001B[0m\u001B[33mWARNING: Ignoring invalid distribution -orch (/Users/kylesullivan/anaconda3/lib/python3.10/site-packages)\u001B[0m\u001B[33m\r\n",
      "\u001B[0mRequirement already satisfied: optimparallel in /Users/kylesullivan/anaconda3/lib/python3.10/site-packages (0.1.2)\r\n",
      "Requirement already satisfied: numpy in /Users/kylesullivan/anaconda3/lib/python3.10/site-packages (from optimparallel) (1.23.5)\r\n",
      "Requirement already satisfied: scipy in /Users/kylesullivan/anaconda3/lib/python3.10/site-packages (from optimparallel) (1.10.0)\r\n",
      "\u001B[33mWARNING: Ignoring invalid distribution - (/Users/kylesullivan/anaconda3/lib/python3.10/site-packages)\u001B[0m\u001B[33m\r\n",
      "\u001B[0m\u001B[33mWARNING: Ignoring invalid distribution -orch (/Users/kylesullivan/anaconda3/lib/python3.10/site-packages)\u001B[0m\u001B[33m\r\n",
      "\u001B[0m\r\n",
      "\u001B[1m[\u001B[0m\u001B[34;49mnotice\u001B[0m\u001B[1;39;49m]\u001B[0m\u001B[39;49m A new release of pip is available: \u001B[0m\u001B[31;49m23.3.2\u001B[0m\u001B[39;49m -> \u001B[0m\u001B[32;49m24.0\u001B[0m\r\n",
      "\u001B[1m[\u001B[0m\u001B[34;49mnotice\u001B[0m\u001B[1;39;49m]\u001B[0m\u001B[39;49m To update, run: \u001B[0m\u001B[32;49mpip install --upgrade pip\u001B[0m\r\n",
      "\u001B[33mWARNING: Ignoring invalid distribution - (/Users/kylesullivan/anaconda3/lib/python3.10/site-packages)\u001B[0m\u001B[33m\r\n",
      "\u001B[0m\u001B[33mWARNING: Ignoring invalid distribution -orch (/Users/kylesullivan/anaconda3/lib/python3.10/site-packages)\u001B[0m\u001B[33m\r\n",
      "\u001B[0mRequirement already satisfied: torch in /Users/kylesullivan/anaconda3/lib/python3.10/site-packages (2.1.0)\r\n",
      "Requirement already satisfied: filelock in /Users/kylesullivan/anaconda3/lib/python3.10/site-packages (from torch) (3.9.0)\r\n",
      "Requirement already satisfied: typing-extensions in /Users/kylesullivan/anaconda3/lib/python3.10/site-packages (from torch) (4.5.0)\r\n",
      "Requirement already satisfied: sympy in /Users/kylesullivan/anaconda3/lib/python3.10/site-packages (from torch) (1.11.1)\r\n",
      "Requirement already satisfied: networkx in /Users/kylesullivan/anaconda3/lib/python3.10/site-packages (from torch) (2.8.4)\r\n",
      "Requirement already satisfied: jinja2 in /Users/kylesullivan/anaconda3/lib/python3.10/site-packages (from torch) (3.1.2)\r\n",
      "Requirement already satisfied: fsspec in /Users/kylesullivan/anaconda3/lib/python3.10/site-packages (from torch) (2023.10.0)\r\n",
      "Requirement already satisfied: MarkupSafe>=2.0 in /Users/kylesullivan/anaconda3/lib/python3.10/site-packages (from jinja2->torch) (2.1.1)\r\n",
      "Requirement already satisfied: mpmath>=0.19 in /Users/kylesullivan/anaconda3/lib/python3.10/site-packages/mpmath-1.2.1-py3.10.egg (from sympy->torch) (1.2.1)\r\n",
      "\u001B[33mWARNING: Ignoring invalid distribution - (/Users/kylesullivan/anaconda3/lib/python3.10/site-packages)\u001B[0m\u001B[33m\r\n",
      "\u001B[0m\u001B[33mWARNING: Ignoring invalid distribution -orch (/Users/kylesullivan/anaconda3/lib/python3.10/site-packages)\u001B[0m\u001B[33m\r\n",
      "\u001B[0m\r\n",
      "\u001B[1m[\u001B[0m\u001B[34;49mnotice\u001B[0m\u001B[1;39;49m]\u001B[0m\u001B[39;49m A new release of pip is available: \u001B[0m\u001B[31;49m23.3.2\u001B[0m\u001B[39;49m -> \u001B[0m\u001B[32;49m24.0\u001B[0m\r\n",
      "\u001B[1m[\u001B[0m\u001B[34;49mnotice\u001B[0m\u001B[1;39;49m]\u001B[0m\u001B[39;49m To update, run: \u001B[0m\u001B[32;49mpip install --upgrade pip\u001B[0m\r\n",
      "\u001B[33mWARNING: Ignoring invalid distribution - (/Users/kylesullivan/anaconda3/lib/python3.10/site-packages)\u001B[0m\u001B[33m\r\n",
      "\u001B[0m\u001B[33mWARNING: Ignoring invalid distribution -orch (/Users/kylesullivan/anaconda3/lib/python3.10/site-packages)\u001B[0m\u001B[33m\r\n",
      "\u001B[0mRequirement already satisfied: tensorflow in /Users/kylesullivan/anaconda3/lib/python3.10/site-packages (2.13.0)\r\n",
      "Requirement already satisfied: tensorflow-macos==2.13.0 in /Users/kylesullivan/anaconda3/lib/python3.10/site-packages (from tensorflow) (2.13.0)\r\n",
      "Requirement already satisfied: absl-py>=1.0.0 in /Users/kylesullivan/anaconda3/lib/python3.10/site-packages (from tensorflow-macos==2.13.0->tensorflow) (1.4.0)\r\n",
      "Requirement already satisfied: astunparse>=1.6.0 in /Users/kylesullivan/anaconda3/lib/python3.10/site-packages (from tensorflow-macos==2.13.0->tensorflow) (1.6.3)\r\n",
      "Requirement already satisfied: flatbuffers>=23.1.21 in /Users/kylesullivan/anaconda3/lib/python3.10/site-packages (from tensorflow-macos==2.13.0->tensorflow) (23.5.26)\r\n",
      "Requirement already satisfied: gast<=0.4.0,>=0.2.1 in /Users/kylesullivan/anaconda3/lib/python3.10/site-packages (from tensorflow-macos==2.13.0->tensorflow) (0.4.0)\r\n",
      "Requirement already satisfied: google-pasta>=0.1.1 in /Users/kylesullivan/anaconda3/lib/python3.10/site-packages (from tensorflow-macos==2.13.0->tensorflow) (0.2.0)\r\n",
      "Requirement already satisfied: h5py>=2.9.0 in /Users/kylesullivan/anaconda3/lib/python3.10/site-packages (from tensorflow-macos==2.13.0->tensorflow) (3.7.0)\r\n",
      "Requirement already satisfied: libclang>=13.0.0 in /Users/kylesullivan/anaconda3/lib/python3.10/site-packages (from tensorflow-macos==2.13.0->tensorflow) (16.0.6)\r\n",
      "Requirement already satisfied: numpy<=1.24.3,>=1.22 in /Users/kylesullivan/anaconda3/lib/python3.10/site-packages (from tensorflow-macos==2.13.0->tensorflow) (1.23.5)\r\n",
      "Requirement already satisfied: opt-einsum>=2.3.2 in /Users/kylesullivan/anaconda3/lib/python3.10/site-packages (from tensorflow-macos==2.13.0->tensorflow) (3.3.0)\r\n",
      "Requirement already satisfied: packaging in /Users/kylesullivan/anaconda3/lib/python3.10/site-packages (from tensorflow-macos==2.13.0->tensorflow) (22.0)\r\n",
      "Requirement already satisfied: protobuf!=4.21.0,!=4.21.1,!=4.21.2,!=4.21.3,!=4.21.4,!=4.21.5,<5.0.0dev,>=3.20.3 in /Users/kylesullivan/anaconda3/lib/python3.10/site-packages (from tensorflow-macos==2.13.0->tensorflow) (4.23.4)\r\n",
      "Requirement already satisfied: setuptools in /Users/kylesullivan/anaconda3/lib/python3.10/site-packages (from tensorflow-macos==2.13.0->tensorflow) (65.6.3)\r\n",
      "Requirement already satisfied: six>=1.12.0 in /Users/kylesullivan/anaconda3/lib/python3.10/site-packages (from tensorflow-macos==2.13.0->tensorflow) (1.16.0)\r\n",
      "Requirement already satisfied: termcolor>=1.1.0 in /Users/kylesullivan/anaconda3/lib/python3.10/site-packages (from tensorflow-macos==2.13.0->tensorflow) (2.3.0)\r\n",
      "Requirement already satisfied: typing-extensions<4.6.0,>=3.6.6 in /Users/kylesullivan/anaconda3/lib/python3.10/site-packages (from tensorflow-macos==2.13.0->tensorflow) (4.5.0)\r\n",
      "Requirement already satisfied: wrapt>=1.11.0 in /Users/kylesullivan/anaconda3/lib/python3.10/site-packages (from tensorflow-macos==2.13.0->tensorflow) (1.14.1)\r\n",
      "Requirement already satisfied: grpcio<2.0,>=1.24.3 in /Users/kylesullivan/anaconda3/lib/python3.10/site-packages (from tensorflow-macos==2.13.0->tensorflow) (1.56.0)\r\n",
      "Requirement already satisfied: tensorboard<2.14,>=2.13 in /Users/kylesullivan/anaconda3/lib/python3.10/site-packages (from tensorflow-macos==2.13.0->tensorflow) (2.13.0)\r\n",
      "Requirement already satisfied: tensorflow-estimator<2.14,>=2.13.0 in /Users/kylesullivan/anaconda3/lib/python3.10/site-packages (from tensorflow-macos==2.13.0->tensorflow) (2.13.0)\r\n",
      "Requirement already satisfied: keras<2.14,>=2.13.1 in /Users/kylesullivan/anaconda3/lib/python3.10/site-packages (from tensorflow-macos==2.13.0->tensorflow) (2.13.1)\r\n",
      "Requirement already satisfied: wheel<1.0,>=0.23.0 in /Users/kylesullivan/anaconda3/lib/python3.10/site-packages (from astunparse>=1.6.0->tensorflow-macos==2.13.0->tensorflow) (0.38.4)\r\n",
      "Requirement already satisfied: google-auth<3,>=1.6.3 in /Users/kylesullivan/anaconda3/lib/python3.10/site-packages (from tensorboard<2.14,>=2.13->tensorflow-macos==2.13.0->tensorflow) (2.22.0)\r\n",
      "Requirement already satisfied: google-auth-oauthlib<1.1,>=0.5 in /Users/kylesullivan/anaconda3/lib/python3.10/site-packages (from tensorboard<2.14,>=2.13->tensorflow-macos==2.13.0->tensorflow) (1.0.0)\r\n",
      "Requirement already satisfied: markdown>=2.6.8 in /Users/kylesullivan/anaconda3/lib/python3.10/site-packages (from tensorboard<2.14,>=2.13->tensorflow-macos==2.13.0->tensorflow) (3.4.1)\r\n",
      "Requirement already satisfied: requests<3,>=2.21.0 in /Users/kylesullivan/anaconda3/lib/python3.10/site-packages (from tensorboard<2.14,>=2.13->tensorflow-macos==2.13.0->tensorflow) (2.31.0)\r\n",
      "Requirement already satisfied: tensorboard-data-server<0.8.0,>=0.7.0 in /Users/kylesullivan/anaconda3/lib/python3.10/site-packages (from tensorboard<2.14,>=2.13->tensorflow-macos==2.13.0->tensorflow) (0.7.1)\r\n",
      "Requirement already satisfied: werkzeug>=1.0.1 in /Users/kylesullivan/anaconda3/lib/python3.10/site-packages (from tensorboard<2.14,>=2.13->tensorflow-macos==2.13.0->tensorflow) (2.2.2)\r\n",
      "Requirement already satisfied: cachetools<6.0,>=2.0.0 in /Users/kylesullivan/anaconda3/lib/python3.10/site-packages (from google-auth<3,>=1.6.3->tensorboard<2.14,>=2.13->tensorflow-macos==2.13.0->tensorflow) (5.3.1)\r\n",
      "Requirement already satisfied: pyasn1-modules>=0.2.1 in /Users/kylesullivan/anaconda3/lib/python3.10/site-packages (from google-auth<3,>=1.6.3->tensorboard<2.14,>=2.13->tensorflow-macos==2.13.0->tensorflow) (0.2.8)\r\n",
      "Requirement already satisfied: rsa<5,>=3.1.4 in /Users/kylesullivan/anaconda3/lib/python3.10/site-packages (from google-auth<3,>=1.6.3->tensorboard<2.14,>=2.13->tensorflow-macos==2.13.0->tensorflow) (4.9)\r\n",
      "Requirement already satisfied: urllib3<2.0 in /Users/kylesullivan/anaconda3/lib/python3.10/site-packages (from google-auth<3,>=1.6.3->tensorboard<2.14,>=2.13->tensorflow-macos==2.13.0->tensorflow) (1.26.14)\r\n",
      "Requirement already satisfied: requests-oauthlib>=0.7.0 in /Users/kylesullivan/anaconda3/lib/python3.10/site-packages (from google-auth-oauthlib<1.1,>=0.5->tensorboard<2.14,>=2.13->tensorflow-macos==2.13.0->tensorflow) (1.3.1)\r\n",
      "Requirement already satisfied: charset-normalizer<4,>=2 in /Users/kylesullivan/anaconda3/lib/python3.10/site-packages (from requests<3,>=2.21.0->tensorboard<2.14,>=2.13->tensorflow-macos==2.13.0->tensorflow) (2.0.4)\r\n",
      "Requirement already satisfied: idna<4,>=2.5 in /Users/kylesullivan/anaconda3/lib/python3.10/site-packages (from requests<3,>=2.21.0->tensorboard<2.14,>=2.13->tensorflow-macos==2.13.0->tensorflow) (3.4)\r\n",
      "Requirement already satisfied: certifi>=2017.4.17 in /Users/kylesullivan/anaconda3/lib/python3.10/site-packages (from requests<3,>=2.21.0->tensorboard<2.14,>=2.13->tensorflow-macos==2.13.0->tensorflow) (2023.7.22)\r\n",
      "Requirement already satisfied: MarkupSafe>=2.1.1 in /Users/kylesullivan/anaconda3/lib/python3.10/site-packages (from werkzeug>=1.0.1->tensorboard<2.14,>=2.13->tensorflow-macos==2.13.0->tensorflow) (2.1.1)\r\n",
      "Requirement already satisfied: pyasn1<0.5.0,>=0.4.6 in /Users/kylesullivan/anaconda3/lib/python3.10/site-packages (from pyasn1-modules>=0.2.1->google-auth<3,>=1.6.3->tensorboard<2.14,>=2.13->tensorflow-macos==2.13.0->tensorflow) (0.4.8)\r\n",
      "Requirement already satisfied: oauthlib>=3.0.0 in /Users/kylesullivan/anaconda3/lib/python3.10/site-packages (from requests-oauthlib>=0.7.0->google-auth-oauthlib<1.1,>=0.5->tensorboard<2.14,>=2.13->tensorflow-macos==2.13.0->tensorflow) (3.2.2)\r\n",
      "\u001B[33mWARNING: Ignoring invalid distribution - (/Users/kylesullivan/anaconda3/lib/python3.10/site-packages)\u001B[0m\u001B[33m\r\n",
      "\u001B[0m\u001B[33mWARNING: Ignoring invalid distribution -orch (/Users/kylesullivan/anaconda3/lib/python3.10/site-packages)\u001B[0m\u001B[33m\r\n",
      "\u001B[0m\r\n",
      "\u001B[1m[\u001B[0m\u001B[34;49mnotice\u001B[0m\u001B[1;39;49m]\u001B[0m\u001B[39;49m A new release of pip is available: \u001B[0m\u001B[31;49m23.3.2\u001B[0m\u001B[39;49m -> \u001B[0m\u001B[32;49m24.0\u001B[0m\r\n",
      "\u001B[1m[\u001B[0m\u001B[34;49mnotice\u001B[0m\u001B[1;39;49m]\u001B[0m\u001B[39;49m To update, run: \u001B[0m\u001B[32;49mpip install --upgrade pip\u001B[0m\r\n",
      "\u001B[33mWARNING: Ignoring invalid distribution - (/Users/kylesullivan/anaconda3/lib/python3.10/site-packages)\u001B[0m\u001B[33m\r\n",
      "\u001B[0m\u001B[33mWARNING: Ignoring invalid distribution -orch (/Users/kylesullivan/anaconda3/lib/python3.10/site-packages)\u001B[0m\u001B[33m\r\n",
      "\u001B[0mRequirement already satisfied: tensorflow_probability in /Users/kylesullivan/anaconda3/lib/python3.10/site-packages (0.20.1)\r\n",
      "Requirement already satisfied: absl-py in /Users/kylesullivan/anaconda3/lib/python3.10/site-packages (from tensorflow_probability) (1.4.0)\r\n",
      "Requirement already satisfied: six>=1.10.0 in /Users/kylesullivan/anaconda3/lib/python3.10/site-packages (from tensorflow_probability) (1.16.0)\r\n",
      "Requirement already satisfied: numpy>=1.13.3 in /Users/kylesullivan/anaconda3/lib/python3.10/site-packages (from tensorflow_probability) (1.23.5)\r\n",
      "Requirement already satisfied: decorator in /Users/kylesullivan/anaconda3/lib/python3.10/site-packages (from tensorflow_probability) (5.1.1)\r\n",
      "Requirement already satisfied: cloudpickle>=1.3 in /Users/kylesullivan/anaconda3/lib/python3.10/site-packages (from tensorflow_probability) (2.0.0)\r\n",
      "Requirement already satisfied: gast>=0.3.2 in /Users/kylesullivan/anaconda3/lib/python3.10/site-packages (from tensorflow_probability) (0.4.0)\r\n",
      "Requirement already satisfied: dm-tree in /Users/kylesullivan/anaconda3/lib/python3.10/site-packages (from tensorflow_probability) (0.1.8)\r\n",
      "\u001B[33mWARNING: Ignoring invalid distribution - (/Users/kylesullivan/anaconda3/lib/python3.10/site-packages)\u001B[0m\u001B[33m\r\n",
      "\u001B[0m\u001B[33mWARNING: Ignoring invalid distribution -orch (/Users/kylesullivan/anaconda3/lib/python3.10/site-packages)\u001B[0m\u001B[33m\r\n",
      "\u001B[0m\r\n",
      "\u001B[1m[\u001B[0m\u001B[34;49mnotice\u001B[0m\u001B[1;39;49m]\u001B[0m\u001B[39;49m A new release of pip is available: \u001B[0m\u001B[31;49m23.3.2\u001B[0m\u001B[39;49m -> \u001B[0m\u001B[32;49m24.0\u001B[0m\r\n",
      "\u001B[1m[\u001B[0m\u001B[34;49mnotice\u001B[0m\u001B[1;39;49m]\u001B[0m\u001B[39;49m To update, run: \u001B[0m\u001B[32;49mpip install --upgrade pip\u001B[0m\r\n",
      "\u001B[33mWARNING: Ignoring invalid distribution - (/Users/kylesullivan/anaconda3/lib/python3.10/site-packages)\u001B[0m\u001B[33m\r\n",
      "\u001B[0m\u001B[33mWARNING: Ignoring invalid distribution -orch (/Users/kylesullivan/anaconda3/lib/python3.10/site-packages)\u001B[0m\u001B[33m\r\n",
      "\u001B[0mRequirement already satisfied: pytorch-minimize in /Users/kylesullivan/anaconda3/lib/python3.10/site-packages (0.0.2)\r\n",
      "Requirement already satisfied: numpy>=1.18.0 in /Users/kylesullivan/anaconda3/lib/python3.10/site-packages (from pytorch-minimize) (1.23.5)\r\n",
      "Requirement already satisfied: scipy>=1.6 in /Users/kylesullivan/anaconda3/lib/python3.10/site-packages (from pytorch-minimize) (1.10.0)\r\n",
      "Requirement already satisfied: torch>=1.9.0 in /Users/kylesullivan/anaconda3/lib/python3.10/site-packages (from pytorch-minimize) (2.1.0)\r\n",
      "Requirement already satisfied: filelock in /Users/kylesullivan/anaconda3/lib/python3.10/site-packages (from torch>=1.9.0->pytorch-minimize) (3.9.0)\r\n",
      "Requirement already satisfied: typing-extensions in /Users/kylesullivan/anaconda3/lib/python3.10/site-packages (from torch>=1.9.0->pytorch-minimize) (4.5.0)\r\n",
      "Requirement already satisfied: sympy in /Users/kylesullivan/anaconda3/lib/python3.10/site-packages (from torch>=1.9.0->pytorch-minimize) (1.11.1)\r\n",
      "Requirement already satisfied: networkx in /Users/kylesullivan/anaconda3/lib/python3.10/site-packages (from torch>=1.9.0->pytorch-minimize) (2.8.4)\r\n",
      "Requirement already satisfied: jinja2 in /Users/kylesullivan/anaconda3/lib/python3.10/site-packages (from torch>=1.9.0->pytorch-minimize) (3.1.2)\r\n",
      "Requirement already satisfied: fsspec in /Users/kylesullivan/anaconda3/lib/python3.10/site-packages (from torch>=1.9.0->pytorch-minimize) (2023.10.0)\r\n",
      "Requirement already satisfied: MarkupSafe>=2.0 in /Users/kylesullivan/anaconda3/lib/python3.10/site-packages (from jinja2->torch>=1.9.0->pytorch-minimize) (2.1.1)\r\n",
      "Requirement already satisfied: mpmath>=0.19 in /Users/kylesullivan/anaconda3/lib/python3.10/site-packages/mpmath-1.2.1-py3.10.egg (from sympy->torch>=1.9.0->pytorch-minimize) (1.2.1)\r\n",
      "\u001B[33mWARNING: Ignoring invalid distribution - (/Users/kylesullivan/anaconda3/lib/python3.10/site-packages)\u001B[0m\u001B[33m\r\n",
      "\u001B[0m\u001B[33mWARNING: Ignoring invalid distribution -orch (/Users/kylesullivan/anaconda3/lib/python3.10/site-packages)\u001B[0m\u001B[33m\r\n",
      "\u001B[0m\r\n",
      "\u001B[1m[\u001B[0m\u001B[34;49mnotice\u001B[0m\u001B[1;39;49m]\u001B[0m\u001B[39;49m A new release of pip is available: \u001B[0m\u001B[31;49m23.3.2\u001B[0m\u001B[39;49m -> \u001B[0m\u001B[32;49m24.0\u001B[0m\r\n",
      "\u001B[1m[\u001B[0m\u001B[34;49mnotice\u001B[0m\u001B[1;39;49m]\u001B[0m\u001B[39;49m To update, run: \u001B[0m\u001B[32;49mpip install --upgrade pip\u001B[0m\r\n",
      "\u001B[33mWARNING: Ignoring invalid distribution - (/Users/kylesullivan/anaconda3/lib/python3.10/site-packages)\u001B[0m\u001B[33m\r\n",
      "\u001B[0m\u001B[33mWARNING: Ignoring invalid distribution -orch (/Users/kylesullivan/anaconda3/lib/python3.10/site-packages)\u001B[0m\u001B[33m\r\n",
      "\u001B[0mRequirement already satisfied: beautifulsoup4 in /Users/kylesullivan/anaconda3/lib/python3.10/site-packages (4.11.1)\r\n",
      "Requirement already satisfied: soupsieve>1.2 in /Users/kylesullivan/anaconda3/lib/python3.10/site-packages (from beautifulsoup4) (2.3.2.post1)\r\n",
      "\u001B[33mWARNING: Ignoring invalid distribution - (/Users/kylesullivan/anaconda3/lib/python3.10/site-packages)\u001B[0m\u001B[33m\r\n",
      "\u001B[0m\u001B[33mWARNING: Ignoring invalid distribution -orch (/Users/kylesullivan/anaconda3/lib/python3.10/site-packages)\u001B[0m\u001B[33m\r\n",
      "\u001B[0m\r\n",
      "\u001B[1m[\u001B[0m\u001B[34;49mnotice\u001B[0m\u001B[1;39;49m]\u001B[0m\u001B[39;49m A new release of pip is available: \u001B[0m\u001B[31;49m23.3.2\u001B[0m\u001B[39;49m -> \u001B[0m\u001B[32;49m24.0\u001B[0m\r\n",
      "\u001B[1m[\u001B[0m\u001B[34;49mnotice\u001B[0m\u001B[1;39;49m]\u001B[0m\u001B[39;49m To update, run: \u001B[0m\u001B[32;49mpip install --upgrade pip\u001B[0m\r\n",
      "\u001B[33mWARNING: Ignoring invalid distribution - (/Users/kylesullivan/anaconda3/lib/python3.10/site-packages)\u001B[0m\u001B[33m\r\n",
      "\u001B[0m\u001B[33mWARNING: Ignoring invalid distribution -orch (/Users/kylesullivan/anaconda3/lib/python3.10/site-packages)\u001B[0m\u001B[33m\r\n",
      "\u001B[0mRequirement already satisfied: pyopenssl in /Users/kylesullivan/anaconda3/lib/python3.10/site-packages (23.0.0)\r\n",
      "Requirement already satisfied: cryptography<40,>=38.0.0 in /Users/kylesullivan/anaconda3/lib/python3.10/site-packages (from pyopenssl) (39.0.1)\r\n",
      "Requirement already satisfied: cffi>=1.12 in /Users/kylesullivan/anaconda3/lib/python3.10/site-packages (from cryptography<40,>=38.0.0->pyopenssl) (1.15.1)\r\n",
      "Requirement already satisfied: pycparser in /Users/kylesullivan/anaconda3/lib/python3.10/site-packages (from cffi>=1.12->cryptography<40,>=38.0.0->pyopenssl) (2.21)\r\n",
      "\u001B[33mWARNING: Ignoring invalid distribution - (/Users/kylesullivan/anaconda3/lib/python3.10/site-packages)\u001B[0m\u001B[33m\r\n",
      "\u001B[0m\u001B[33mWARNING: Ignoring invalid distribution -orch (/Users/kylesullivan/anaconda3/lib/python3.10/site-packages)\u001B[0m\u001B[33m\r\n",
      "\u001B[0m\r\n",
      "\u001B[1m[\u001B[0m\u001B[34;49mnotice\u001B[0m\u001B[1;39;49m]\u001B[0m\u001B[39;49m A new release of pip is available: \u001B[0m\u001B[31;49m23.3.2\u001B[0m\u001B[39;49m -> \u001B[0m\u001B[32;49m24.0\u001B[0m\r\n",
      "\u001B[1m[\u001B[0m\u001B[34;49mnotice\u001B[0m\u001B[1;39;49m]\u001B[0m\u001B[39;49m To update, run: \u001B[0m\u001B[32;49mpip install --upgrade pip\u001B[0m\r\n",
      "\u001B[33mWARNING: Ignoring invalid distribution - (/Users/kylesullivan/anaconda3/lib/python3.10/site-packages)\u001B[0m\u001B[33m\r\n",
      "\u001B[0m\u001B[33mWARNING: Ignoring invalid distribution -orch (/Users/kylesullivan/anaconda3/lib/python3.10/site-packages)\u001B[0m\u001B[33m\r\n",
      "\u001B[0mRequirement already satisfied: aia in /Users/kylesullivan/anaconda3/lib/python3.10/site-packages (0.2.0)\r\n",
      "\u001B[33mWARNING: Ignoring invalid distribution - (/Users/kylesullivan/anaconda3/lib/python3.10/site-packages)\u001B[0m\u001B[33m\r\n",
      "\u001B[0m\u001B[33mWARNING: Ignoring invalid distribution -orch (/Users/kylesullivan/anaconda3/lib/python3.10/site-packages)\u001B[0m\u001B[33m\r\n",
      "\u001B[0m\r\n",
      "\u001B[1m[\u001B[0m\u001B[34;49mnotice\u001B[0m\u001B[1;39;49m]\u001B[0m\u001B[39;49m A new release of pip is available: \u001B[0m\u001B[31;49m23.3.2\u001B[0m\u001B[39;49m -> \u001B[0m\u001B[32;49m24.0\u001B[0m\r\n",
      "\u001B[1m[\u001B[0m\u001B[34;49mnotice\u001B[0m\u001B[1;39;49m]\u001B[0m\u001B[39;49m To update, run: \u001B[0m\u001B[32;49mpip install --upgrade pip\u001B[0m\r\n",
      "\u001B[33mWARNING: Ignoring invalid distribution - (/Users/kylesullivan/anaconda3/lib/python3.10/site-packages)\u001B[0m\u001B[33m\r\n",
      "\u001B[0m\u001B[33mWARNING: Ignoring invalid distribution -orch (/Users/kylesullivan/anaconda3/lib/python3.10/site-packages)\u001B[0m\u001B[33m\r\n",
      "\u001B[0mRequirement already satisfied: numdifftools in /Users/kylesullivan/anaconda3/lib/python3.10/site-packages (0.9.41)\r\n",
      "Requirement already satisfied: numpy>=1.9 in /Users/kylesullivan/anaconda3/lib/python3.10/site-packages (from numdifftools) (1.23.5)\r\n",
      "Requirement already satisfied: scipy>=0.8 in /Users/kylesullivan/anaconda3/lib/python3.10/site-packages (from numdifftools) (1.10.0)\r\n",
      "\u001B[33mWARNING: Ignoring invalid distribution - (/Users/kylesullivan/anaconda3/lib/python3.10/site-packages)\u001B[0m\u001B[33m\r\n",
      "\u001B[0m\u001B[33mWARNING: Ignoring invalid distribution -orch (/Users/kylesullivan/anaconda3/lib/python3.10/site-packages)\u001B[0m\u001B[33m\r\n",
      "\u001B[0m\r\n",
      "\u001B[1m[\u001B[0m\u001B[34;49mnotice\u001B[0m\u001B[1;39;49m]\u001B[0m\u001B[39;49m A new release of pip is available: \u001B[0m\u001B[31;49m23.3.2\u001B[0m\u001B[39;49m -> \u001B[0m\u001B[32;49m24.0\u001B[0m\r\n",
      "\u001B[1m[\u001B[0m\u001B[34;49mnotice\u001B[0m\u001B[1;39;49m]\u001B[0m\u001B[39;49m To update, run: \u001B[0m\u001B[32;49mpip install --upgrade pip\u001B[0m\r\n",
      "\u001B[33mWARNING: Ignoring invalid distribution - (/Users/kylesullivan/anaconda3/lib/python3.10/site-packages)\u001B[0m\u001B[33m\r\n",
      "\u001B[0m\u001B[33mWARNING: Ignoring invalid distribution -orch (/Users/kylesullivan/anaconda3/lib/python3.10/site-packages)\u001B[0m\u001B[33m\r\n",
      "\u001B[0mRequirement already satisfied: sklearn in /Users/kylesullivan/anaconda3/lib/python3.10/site-packages (0.0.post11)\r\n",
      "\u001B[33mWARNING: Ignoring invalid distribution - (/Users/kylesullivan/anaconda3/lib/python3.10/site-packages)\u001B[0m\u001B[33m\r\n",
      "\u001B[0m\u001B[33mWARNING: Ignoring invalid distribution -orch (/Users/kylesullivan/anaconda3/lib/python3.10/site-packages)\u001B[0m\u001B[33m\r\n",
      "\u001B[0m\r\n",
      "\u001B[1m[\u001B[0m\u001B[34;49mnotice\u001B[0m\u001B[1;39;49m]\u001B[0m\u001B[39;49m A new release of pip is available: \u001B[0m\u001B[31;49m23.3.2\u001B[0m\u001B[39;49m -> \u001B[0m\u001B[32;49m24.0\u001B[0m\r\n",
      "\u001B[1m[\u001B[0m\u001B[34;49mnotice\u001B[0m\u001B[1;39;49m]\u001B[0m\u001B[39;49m To update, run: \u001B[0m\u001B[32;49mpip install --upgrade pip\u001B[0m\r\n",
      "\u001B[33mWARNING: Ignoring invalid distribution - (/Users/kylesullivan/anaconda3/lib/python3.10/site-packages)\u001B[0m\u001B[33m\r\n",
      "\u001B[0m\u001B[33mWARNING: Ignoring invalid distribution -orch (/Users/kylesullivan/anaconda3/lib/python3.10/site-packages)\u001B[0m\u001B[33m\r\n",
      "\u001B[0mRequirement already satisfied: tensorflow in /Users/kylesullivan/anaconda3/lib/python3.10/site-packages (2.13.0)\r\n",
      "Requirement already satisfied: tensorflow-macos==2.13.0 in /Users/kylesullivan/anaconda3/lib/python3.10/site-packages (from tensorflow) (2.13.0)\r\n",
      "Requirement already satisfied: absl-py>=1.0.0 in /Users/kylesullivan/anaconda3/lib/python3.10/site-packages (from tensorflow-macos==2.13.0->tensorflow) (1.4.0)\r\n",
      "Requirement already satisfied: astunparse>=1.6.0 in /Users/kylesullivan/anaconda3/lib/python3.10/site-packages (from tensorflow-macos==2.13.0->tensorflow) (1.6.3)\r\n",
      "Requirement already satisfied: flatbuffers>=23.1.21 in /Users/kylesullivan/anaconda3/lib/python3.10/site-packages (from tensorflow-macos==2.13.0->tensorflow) (23.5.26)\r\n",
      "Requirement already satisfied: gast<=0.4.0,>=0.2.1 in /Users/kylesullivan/anaconda3/lib/python3.10/site-packages (from tensorflow-macos==2.13.0->tensorflow) (0.4.0)\r\n",
      "Requirement already satisfied: google-pasta>=0.1.1 in /Users/kylesullivan/anaconda3/lib/python3.10/site-packages (from tensorflow-macos==2.13.0->tensorflow) (0.2.0)\r\n",
      "Requirement already satisfied: h5py>=2.9.0 in /Users/kylesullivan/anaconda3/lib/python3.10/site-packages (from tensorflow-macos==2.13.0->tensorflow) (3.7.0)\r\n",
      "Requirement already satisfied: libclang>=13.0.0 in /Users/kylesullivan/anaconda3/lib/python3.10/site-packages (from tensorflow-macos==2.13.0->tensorflow) (16.0.6)\r\n",
      "Requirement already satisfied: numpy<=1.24.3,>=1.22 in /Users/kylesullivan/anaconda3/lib/python3.10/site-packages (from tensorflow-macos==2.13.0->tensorflow) (1.23.5)\r\n",
      "Requirement already satisfied: opt-einsum>=2.3.2 in /Users/kylesullivan/anaconda3/lib/python3.10/site-packages (from tensorflow-macos==2.13.0->tensorflow) (3.3.0)\r\n",
      "Requirement already satisfied: packaging in /Users/kylesullivan/anaconda3/lib/python3.10/site-packages (from tensorflow-macos==2.13.0->tensorflow) (22.0)\r\n",
      "Requirement already satisfied: protobuf!=4.21.0,!=4.21.1,!=4.21.2,!=4.21.3,!=4.21.4,!=4.21.5,<5.0.0dev,>=3.20.3 in /Users/kylesullivan/anaconda3/lib/python3.10/site-packages (from tensorflow-macos==2.13.0->tensorflow) (4.23.4)\r\n",
      "Requirement already satisfied: setuptools in /Users/kylesullivan/anaconda3/lib/python3.10/site-packages (from tensorflow-macos==2.13.0->tensorflow) (65.6.3)\r\n",
      "Requirement already satisfied: six>=1.12.0 in /Users/kylesullivan/anaconda3/lib/python3.10/site-packages (from tensorflow-macos==2.13.0->tensorflow) (1.16.0)\r\n",
      "Requirement already satisfied: termcolor>=1.1.0 in /Users/kylesullivan/anaconda3/lib/python3.10/site-packages (from tensorflow-macos==2.13.0->tensorflow) (2.3.0)\r\n",
      "Requirement already satisfied: typing-extensions<4.6.0,>=3.6.6 in /Users/kylesullivan/anaconda3/lib/python3.10/site-packages (from tensorflow-macos==2.13.0->tensorflow) (4.5.0)\r\n",
      "Requirement already satisfied: wrapt>=1.11.0 in /Users/kylesullivan/anaconda3/lib/python3.10/site-packages (from tensorflow-macos==2.13.0->tensorflow) (1.14.1)\r\n",
      "Requirement already satisfied: grpcio<2.0,>=1.24.3 in /Users/kylesullivan/anaconda3/lib/python3.10/site-packages (from tensorflow-macos==2.13.0->tensorflow) (1.56.0)\r\n",
      "Requirement already satisfied: tensorboard<2.14,>=2.13 in /Users/kylesullivan/anaconda3/lib/python3.10/site-packages (from tensorflow-macos==2.13.0->tensorflow) (2.13.0)\r\n",
      "Requirement already satisfied: tensorflow-estimator<2.14,>=2.13.0 in /Users/kylesullivan/anaconda3/lib/python3.10/site-packages (from tensorflow-macos==2.13.0->tensorflow) (2.13.0)\r\n",
      "Requirement already satisfied: keras<2.14,>=2.13.1 in /Users/kylesullivan/anaconda3/lib/python3.10/site-packages (from tensorflow-macos==2.13.0->tensorflow) (2.13.1)\r\n",
      "Requirement already satisfied: wheel<1.0,>=0.23.0 in /Users/kylesullivan/anaconda3/lib/python3.10/site-packages (from astunparse>=1.6.0->tensorflow-macos==2.13.0->tensorflow) (0.38.4)\r\n",
      "Requirement already satisfied: google-auth<3,>=1.6.3 in /Users/kylesullivan/anaconda3/lib/python3.10/site-packages (from tensorboard<2.14,>=2.13->tensorflow-macos==2.13.0->tensorflow) (2.22.0)\r\n",
      "Requirement already satisfied: google-auth-oauthlib<1.1,>=0.5 in /Users/kylesullivan/anaconda3/lib/python3.10/site-packages (from tensorboard<2.14,>=2.13->tensorflow-macos==2.13.0->tensorflow) (1.0.0)\r\n",
      "Requirement already satisfied: markdown>=2.6.8 in /Users/kylesullivan/anaconda3/lib/python3.10/site-packages (from tensorboard<2.14,>=2.13->tensorflow-macos==2.13.0->tensorflow) (3.4.1)\r\n",
      "Requirement already satisfied: requests<3,>=2.21.0 in /Users/kylesullivan/anaconda3/lib/python3.10/site-packages (from tensorboard<2.14,>=2.13->tensorflow-macos==2.13.0->tensorflow) (2.31.0)\r\n",
      "Requirement already satisfied: tensorboard-data-server<0.8.0,>=0.7.0 in /Users/kylesullivan/anaconda3/lib/python3.10/site-packages (from tensorboard<2.14,>=2.13->tensorflow-macos==2.13.0->tensorflow) (0.7.1)\r\n",
      "Requirement already satisfied: werkzeug>=1.0.1 in /Users/kylesullivan/anaconda3/lib/python3.10/site-packages (from tensorboard<2.14,>=2.13->tensorflow-macos==2.13.0->tensorflow) (2.2.2)\r\n",
      "Requirement already satisfied: cachetools<6.0,>=2.0.0 in /Users/kylesullivan/anaconda3/lib/python3.10/site-packages (from google-auth<3,>=1.6.3->tensorboard<2.14,>=2.13->tensorflow-macos==2.13.0->tensorflow) (5.3.1)\r\n",
      "Requirement already satisfied: pyasn1-modules>=0.2.1 in /Users/kylesullivan/anaconda3/lib/python3.10/site-packages (from google-auth<3,>=1.6.3->tensorboard<2.14,>=2.13->tensorflow-macos==2.13.0->tensorflow) (0.2.8)\r\n",
      "Requirement already satisfied: rsa<5,>=3.1.4 in /Users/kylesullivan/anaconda3/lib/python3.10/site-packages (from google-auth<3,>=1.6.3->tensorboard<2.14,>=2.13->tensorflow-macos==2.13.0->tensorflow) (4.9)\r\n",
      "Requirement already satisfied: urllib3<2.0 in /Users/kylesullivan/anaconda3/lib/python3.10/site-packages (from google-auth<3,>=1.6.3->tensorboard<2.14,>=2.13->tensorflow-macos==2.13.0->tensorflow) (1.26.14)\r\n",
      "Requirement already satisfied: requests-oauthlib>=0.7.0 in /Users/kylesullivan/anaconda3/lib/python3.10/site-packages (from google-auth-oauthlib<1.1,>=0.5->tensorboard<2.14,>=2.13->tensorflow-macos==2.13.0->tensorflow) (1.3.1)\r\n",
      "Requirement already satisfied: charset-normalizer<4,>=2 in /Users/kylesullivan/anaconda3/lib/python3.10/site-packages (from requests<3,>=2.21.0->tensorboard<2.14,>=2.13->tensorflow-macos==2.13.0->tensorflow) (2.0.4)\r\n",
      "Requirement already satisfied: idna<4,>=2.5 in /Users/kylesullivan/anaconda3/lib/python3.10/site-packages (from requests<3,>=2.21.0->tensorboard<2.14,>=2.13->tensorflow-macos==2.13.0->tensorflow) (3.4)\r\n",
      "Requirement already satisfied: certifi>=2017.4.17 in /Users/kylesullivan/anaconda3/lib/python3.10/site-packages (from requests<3,>=2.21.0->tensorboard<2.14,>=2.13->tensorflow-macos==2.13.0->tensorflow) (2023.7.22)\r\n",
      "Requirement already satisfied: MarkupSafe>=2.1.1 in /Users/kylesullivan/anaconda3/lib/python3.10/site-packages (from werkzeug>=1.0.1->tensorboard<2.14,>=2.13->tensorflow-macos==2.13.0->tensorflow) (2.1.1)\r\n",
      "Requirement already satisfied: pyasn1<0.5.0,>=0.4.6 in /Users/kylesullivan/anaconda3/lib/python3.10/site-packages (from pyasn1-modules>=0.2.1->google-auth<3,>=1.6.3->tensorboard<2.14,>=2.13->tensorflow-macos==2.13.0->tensorflow) (0.4.8)\r\n",
      "Requirement already satisfied: oauthlib>=3.0.0 in /Users/kylesullivan/anaconda3/lib/python3.10/site-packages (from requests-oauthlib>=0.7.0->google-auth-oauthlib<1.1,>=0.5->tensorboard<2.14,>=2.13->tensorflow-macos==2.13.0->tensorflow) (3.2.2)\r\n",
      "\u001B[33mWARNING: Ignoring invalid distribution - (/Users/kylesullivan/anaconda3/lib/python3.10/site-packages)\u001B[0m\u001B[33m\r\n",
      "\u001B[0m\u001B[33mWARNING: Ignoring invalid distribution -orch (/Users/kylesullivan/anaconda3/lib/python3.10/site-packages)\u001B[0m\u001B[33m\r\n",
      "\u001B[0m\r\n",
      "\u001B[1m[\u001B[0m\u001B[34;49mnotice\u001B[0m\u001B[1;39;49m]\u001B[0m\u001B[39;49m A new release of pip is available: \u001B[0m\u001B[31;49m23.3.2\u001B[0m\u001B[39;49m -> \u001B[0m\u001B[32;49m24.0\u001B[0m\r\n",
      "\u001B[1m[\u001B[0m\u001B[34;49mnotice\u001B[0m\u001B[1;39;49m]\u001B[0m\u001B[39;49m To update, run: \u001B[0m\u001B[32;49mpip install --upgrade pip\u001B[0m\r\n"
     ]
    }
   ],
   "source": [
    "!pip install pandasql\n",
    "!pip install pandas\n",
    "!pip install plotly\n",
    "!pip install optimparallel\n",
    "!pip install torch\n",
    "!pip install tensorflow\n",
    "!pip install tensorflow_probability\n",
    "!pip install pytorch-minimize\n",
    "!pip install beautifulsoup4\n",
    "!pip install pyopenssl\n",
    "!pip install aia\n",
    "!pip install numdifftools\n",
    "!pip install sklearn\n",
    "!pip install tensorflow"
   ]
  },
  {
   "cell_type": "code",
   "source": [
    "import pandas as pd\n",
    "import numpy as np\n",
    "import functools\n",
    "import pickle\n",
    "\n",
    "from BB_solver import bb_ll\n",
    "from BB_solver import pre_obj_fn\n",
    "\n",
    "from bs4 import BeautifulSoup\n",
    "from aia import AIASession\n",
    "from urllib.request import urlopen\n",
    "from scipy.optimize import Bounds\n",
    "from optimparallel import minimize_parallel\n",
    "\n",
    "from sklearn.linear_model import LogisticRegression\n",
    "from sklearn.neural_network import MLPClassifier\n",
    "from sklearn.preprocessing import PolynomialFeatures\n",
    "from sklearn.svm import SVC\n",
    "from sklearn.neighbors import KNeighborsClassifier\n",
    "from sklearn.ensemble import ExtraTreesClassifier, GradientBoostingClassifier, AdaBoostClassifier, RandomForestClassifier, StackingClassifier\n",
    "from sklearn.preprocessing import StandardScaler\n",
    "from sklearn.pipeline import Pipeline\n",
    "from sklearn.model_selection import GridSearchCV\n",
    "import xgboost as XGBoost\n",
    "import tensorflow as tf\n",
    "\n",
    "from random import random"
   ],
   "metadata": {
    "id": "qT-ndQv52reg",
    "ExecuteTime": {
     "end_time": "2024-02-29T07:01:06.627750Z",
     "start_time": "2024-02-29T07:01:03.700706Z"
    }
   },
   "execution_count": 2,
   "outputs": []
  },
  {
   "cell_type": "markdown",
   "source": [
    "\n",
    "# Data Wrangling"
   ],
   "metadata": {
    "id": "xZdYL2WyxjUG"
   }
  },
  {
   "cell_type": "code",
   "source": [
    "year = 2019\n",
    "box_scores_df = pd.read_csv('/Users/kylesullivan/Documents/Professional/Projects/Data/ncaam{0}.csv'.format(year))\n",
    "last_day_before_tournament = 135\n",
    "recency_denom = 15"
   ],
   "metadata": {
    "id": "_cvEHVdQ4VDu",
    "ExecuteTime": {
     "end_time": "2024-02-29T07:01:06.646622Z",
     "start_time": "2024-02-29T07:01:06.627982Z"
    }
   },
   "execution_count": 3,
   "outputs": []
  },
  {
   "cell_type": "markdown",
   "source": [
    "## Constructing Main Dataframe"
   ],
   "metadata": {
    "id": "P1q_Q3deCIGL"
   }
  },
  {
   "cell_type": "markdown",
   "source": [
    "Make box scores dataframe with added shooting percentage columns"
   ],
   "metadata": {
    "id": "M9vcT7a2CeMI"
   }
  },
  {
   "cell_type": "code",
   "source": [
    "# make shooting percentage columns\n",
    "box_scores_df['FG%'] = box_scores_df['FGM'] / box_scores_df['FGA']\n",
    "box_scores_df['3FG%'] = box_scores_df['3FGM'] / box_scores_df['3FGA']\n",
    "box_scores_df['FT%'] = box_scores_df['FTM'] / box_scores_df['FTA']\n",
    "\n",
    "box_scores_df['EFG_N'] = round(box_scores_df['FGM'] + 0.5 * box_scores_df['3FGM'], 0).astype('int')\n",
    "box_scores_df['EFG_D'] = round(box_scores_df['FGA'], 0).astype('int')\n",
    "\n",
    "box_scores_df['EFG2_N'] = round(box_scores_df['FGM'] - box_scores_df['3FGM'], 0).astype('int')\n",
    "box_scores_df['EFG2_D'] = round(box_scores_df['FGA'] - box_scores_df['3FGA'], 0).astype('int')\n",
    "\n",
    "box_scores_df['EFG3_N'] = round(box_scores_df['3FGM'], 0).astype('int')\n",
    "box_scores_df['EFG3_D'] = round(box_scores_df['3FGA'], 0).astype('int')\n",
    "\n",
    "box_scores_df['EFT_N'] = round(box_scores_df['FTM'], 0).astype('int')\n",
    "box_scores_df['EFT_D'] = round(box_scores_df['FGA'], 0).astype('int')\n",
    "box_scores_df['EFT_N'] = box_scores_df.apply(lambda row: min(row['EFT_N'], row['EFT_D']), axis=1).astype('int')\n",
    "\n",
    "box_scores_df['EAST_N'] = round(box_scores_df['AST'], 0).astype('int')\n",
    "box_scores_df['EAST_D'] = round(box_scores_df['FGM'], 0).astype('int')"
   ],
   "metadata": {
    "id": "BMQMytFkFrHa",
    "ExecuteTime": {
     "end_time": "2024-02-29T07:01:06.697470Z",
     "start_time": "2024-02-29T07:01:06.650650Z"
    }
   },
   "execution_count": 4,
   "outputs": []
  },
  {
   "cell_type": "code",
   "execution_count": 5,
   "outputs": [
    {
     "data": {
      "text/plain": "       GameId  OppTeamID  TeamID           Team  DayNum  ConfTourney  \\\n0           1       1380    1104        Alabama       1            0   \n1           1       1104    1380  Southern Univ       1            0   \n2           2       1378    1105    Alabama A&M       1            0   \n3           2       1105    1378  South Florida       1            0   \n4           3       1235    1106     Alabama St       1            0   \n...       ...        ...     ...            ...     ...          ...   \n11055    5528       1120    1438       Virginia     152            0   \n11056    5529       1277    1403     Texas Tech     152            0   \n11057    5529       1403    1277    Michigan St     152            0   \n11058    5530       1438    1403     Texas Tech     154            0   \n11059    5530       1403    1438       Virginia     154            0   \n\n       MMTourney  NumOT  Score   FGM  ...  EFG_N  EFG_D  EFG2_N  EFG2_D  \\\n0              0    0.0     82  27.0  ...     32     55      18      31   \n1              0    0.0     62  21.0  ...     22     55      18      38   \n2              0    0.0     63  22.0  ...     26     52      13      27   \n3              0    0.0     80  30.0  ...     34     53      21      32   \n4              0    0.0     53  20.0  ...     24     55      11      29   \n...          ...    ...    ...   ...  ...    ...    ...     ...     ...   \n11055          1    0.0     63  25.0  ...     28     51      18      32   \n11056          1    0.0     61  22.0  ...     26     51      13      28   \n11057          1    0.0     51  15.0  ...     18     47       8      23   \n11058          1    1.0     77  27.0  ...     32     63      17      33   \n11059          1    1.0     85  27.0  ...     32     59      16      35   \n\n       EFG3_N  EFG3_D  EFT_N  EFT_D  EAST_N  EAST_D  \n0           9      24     19     55      17      27  \n1           3      17     17     55       8      21  \n2           9      25     10     52      18      22  \n3           9      21     11     53      20      30  \n4           9      26      4     55      11      20  \n...       ...     ...    ...    ...     ...     ...  \n11055       7      19      6     51      15      25  \n11056       9      23      8     51       8      22  \n11057       7      24     14     47       6      15  \n11058      10      30     13     63       9      27  \n11059      11      24     20     59      15      27  \n\n[11060 rows x 42 columns]",
      "text/html": "<div>\n<style scoped>\n    .dataframe tbody tr th:only-of-type {\n        vertical-align: middle;\n    }\n\n    .dataframe tbody tr th {\n        vertical-align: top;\n    }\n\n    .dataframe thead th {\n        text-align: right;\n    }\n</style>\n<table border=\"1\" class=\"dataframe\">\n  <thead>\n    <tr style=\"text-align: right;\">\n      <th></th>\n      <th>GameId</th>\n      <th>OppTeamID</th>\n      <th>TeamID</th>\n      <th>Team</th>\n      <th>DayNum</th>\n      <th>ConfTourney</th>\n      <th>MMTourney</th>\n      <th>NumOT</th>\n      <th>Score</th>\n      <th>FGM</th>\n      <th>...</th>\n      <th>EFG_N</th>\n      <th>EFG_D</th>\n      <th>EFG2_N</th>\n      <th>EFG2_D</th>\n      <th>EFG3_N</th>\n      <th>EFG3_D</th>\n      <th>EFT_N</th>\n      <th>EFT_D</th>\n      <th>EAST_N</th>\n      <th>EAST_D</th>\n    </tr>\n  </thead>\n  <tbody>\n    <tr>\n      <th>0</th>\n      <td>1</td>\n      <td>1380</td>\n      <td>1104</td>\n      <td>Alabama</td>\n      <td>1</td>\n      <td>0</td>\n      <td>0</td>\n      <td>0.0</td>\n      <td>82</td>\n      <td>27.0</td>\n      <td>...</td>\n      <td>32</td>\n      <td>55</td>\n      <td>18</td>\n      <td>31</td>\n      <td>9</td>\n      <td>24</td>\n      <td>19</td>\n      <td>55</td>\n      <td>17</td>\n      <td>27</td>\n    </tr>\n    <tr>\n      <th>1</th>\n      <td>1</td>\n      <td>1104</td>\n      <td>1380</td>\n      <td>Southern Univ</td>\n      <td>1</td>\n      <td>0</td>\n      <td>0</td>\n      <td>0.0</td>\n      <td>62</td>\n      <td>21.0</td>\n      <td>...</td>\n      <td>22</td>\n      <td>55</td>\n      <td>18</td>\n      <td>38</td>\n      <td>3</td>\n      <td>17</td>\n      <td>17</td>\n      <td>55</td>\n      <td>8</td>\n      <td>21</td>\n    </tr>\n    <tr>\n      <th>2</th>\n      <td>2</td>\n      <td>1378</td>\n      <td>1105</td>\n      <td>Alabama A&amp;M</td>\n      <td>1</td>\n      <td>0</td>\n      <td>0</td>\n      <td>0.0</td>\n      <td>63</td>\n      <td>22.0</td>\n      <td>...</td>\n      <td>26</td>\n      <td>52</td>\n      <td>13</td>\n      <td>27</td>\n      <td>9</td>\n      <td>25</td>\n      <td>10</td>\n      <td>52</td>\n      <td>18</td>\n      <td>22</td>\n    </tr>\n    <tr>\n      <th>3</th>\n      <td>2</td>\n      <td>1105</td>\n      <td>1378</td>\n      <td>South Florida</td>\n      <td>1</td>\n      <td>0</td>\n      <td>0</td>\n      <td>0.0</td>\n      <td>80</td>\n      <td>30.0</td>\n      <td>...</td>\n      <td>34</td>\n      <td>53</td>\n      <td>21</td>\n      <td>32</td>\n      <td>9</td>\n      <td>21</td>\n      <td>11</td>\n      <td>53</td>\n      <td>20</td>\n      <td>30</td>\n    </tr>\n    <tr>\n      <th>4</th>\n      <td>3</td>\n      <td>1235</td>\n      <td>1106</td>\n      <td>Alabama St</td>\n      <td>1</td>\n      <td>0</td>\n      <td>0</td>\n      <td>0.0</td>\n      <td>53</td>\n      <td>20.0</td>\n      <td>...</td>\n      <td>24</td>\n      <td>55</td>\n      <td>11</td>\n      <td>29</td>\n      <td>9</td>\n      <td>26</td>\n      <td>4</td>\n      <td>55</td>\n      <td>11</td>\n      <td>20</td>\n    </tr>\n    <tr>\n      <th>...</th>\n      <td>...</td>\n      <td>...</td>\n      <td>...</td>\n      <td>...</td>\n      <td>...</td>\n      <td>...</td>\n      <td>...</td>\n      <td>...</td>\n      <td>...</td>\n      <td>...</td>\n      <td>...</td>\n      <td>...</td>\n      <td>...</td>\n      <td>...</td>\n      <td>...</td>\n      <td>...</td>\n      <td>...</td>\n      <td>...</td>\n      <td>...</td>\n      <td>...</td>\n      <td>...</td>\n    </tr>\n    <tr>\n      <th>11055</th>\n      <td>5528</td>\n      <td>1120</td>\n      <td>1438</td>\n      <td>Virginia</td>\n      <td>152</td>\n      <td>0</td>\n      <td>1</td>\n      <td>0.0</td>\n      <td>63</td>\n      <td>25.0</td>\n      <td>...</td>\n      <td>28</td>\n      <td>51</td>\n      <td>18</td>\n      <td>32</td>\n      <td>7</td>\n      <td>19</td>\n      <td>6</td>\n      <td>51</td>\n      <td>15</td>\n      <td>25</td>\n    </tr>\n    <tr>\n      <th>11056</th>\n      <td>5529</td>\n      <td>1277</td>\n      <td>1403</td>\n      <td>Texas Tech</td>\n      <td>152</td>\n      <td>0</td>\n      <td>1</td>\n      <td>0.0</td>\n      <td>61</td>\n      <td>22.0</td>\n      <td>...</td>\n      <td>26</td>\n      <td>51</td>\n      <td>13</td>\n      <td>28</td>\n      <td>9</td>\n      <td>23</td>\n      <td>8</td>\n      <td>51</td>\n      <td>8</td>\n      <td>22</td>\n    </tr>\n    <tr>\n      <th>11057</th>\n      <td>5529</td>\n      <td>1403</td>\n      <td>1277</td>\n      <td>Michigan St</td>\n      <td>152</td>\n      <td>0</td>\n      <td>1</td>\n      <td>0.0</td>\n      <td>51</td>\n      <td>15.0</td>\n      <td>...</td>\n      <td>18</td>\n      <td>47</td>\n      <td>8</td>\n      <td>23</td>\n      <td>7</td>\n      <td>24</td>\n      <td>14</td>\n      <td>47</td>\n      <td>6</td>\n      <td>15</td>\n    </tr>\n    <tr>\n      <th>11058</th>\n      <td>5530</td>\n      <td>1438</td>\n      <td>1403</td>\n      <td>Texas Tech</td>\n      <td>154</td>\n      <td>0</td>\n      <td>1</td>\n      <td>1.0</td>\n      <td>77</td>\n      <td>27.0</td>\n      <td>...</td>\n      <td>32</td>\n      <td>63</td>\n      <td>17</td>\n      <td>33</td>\n      <td>10</td>\n      <td>30</td>\n      <td>13</td>\n      <td>63</td>\n      <td>9</td>\n      <td>27</td>\n    </tr>\n    <tr>\n      <th>11059</th>\n      <td>5530</td>\n      <td>1403</td>\n      <td>1438</td>\n      <td>Virginia</td>\n      <td>154</td>\n      <td>0</td>\n      <td>1</td>\n      <td>1.0</td>\n      <td>85</td>\n      <td>27.0</td>\n      <td>...</td>\n      <td>32</td>\n      <td>59</td>\n      <td>16</td>\n      <td>35</td>\n      <td>11</td>\n      <td>24</td>\n      <td>20</td>\n      <td>59</td>\n      <td>15</td>\n      <td>27</td>\n    </tr>\n  </tbody>\n</table>\n<p>11060 rows × 42 columns</p>\n</div>"
     },
     "execution_count": 5,
     "metadata": {},
     "output_type": "execute_result"
    }
   ],
   "source": [
    "box_scores_df"
   ],
   "metadata": {
    "collapsed": false,
    "ExecuteTime": {
     "end_time": "2024-02-29T07:01:06.709789Z",
     "start_time": "2024-02-29T07:01:06.700720Z"
    }
   }
  },
  {
   "cell_type": "markdown",
   "source": [
    "Include opponent data"
   ],
   "metadata": {
    "id": "eDXxNrMmHxLz"
   }
  },
  {
   "cell_type": "code",
   "source": [
    "# make a copy of the box scores data with flipped binary 'Home' column values\n",
    "#    (0 -> 1 and 1 -> 0)\n",
    "box_scores_home_away_flipped_df = box_scores_df.copy()\n",
    "\n",
    "box_scores_home_away_flipped_df['Home'] = \\\n",
    "  box_scores_home_away_flipped_df['Home'] \\\n",
    "  .replace(1, -1).replace(0, 1).replace(-1, 0)\n",
    "\n",
    "# since this houses the soon to be opponent data, rename 'Team' as 'Opponent'\n",
    "box_scores_home_away_flipped_df = \\\n",
    "  box_scores_home_away_flipped_df.rename(columns={\"Team\":\"Opponent\"})"
   ],
   "metadata": {
    "id": "V5TESm9Lhrnd",
    "ExecuteTime": {
     "end_time": "2024-02-29T07:01:06.714578Z",
     "start_time": "2024-02-29T07:01:06.709977Z"
    }
   },
   "execution_count": 6,
   "outputs": []
  },
  {
   "cell_type": "code",
   "source": [
    "# merge box score data and box scores flipped dataframes\n",
    "#    (team and opponent data sets) on the home team\n",
    "home_games_df = \\\n",
    "  box_scores_df.merge(box_scores_home_away_flipped_df, how='inner',\n",
    "                      left_on=['GameId', 'Home', 'DayNum', 'Team'],\n",
    "                      right_on=['GameId', 'Home', 'DayNum', 'HomeTeam'])\n",
    "\n",
    "# for the home team data, rename the opponent columns with '_Opp'\n",
    "#    suffix convention\n",
    "for col in home_games_df.columns:\n",
    "  if '_x' in col:\n",
    "    home_games_df = \\\n",
    "      home_games_df.rename(columns={col: col.replace('_x', '')})\n",
    "\n",
    "  elif '_y' in col:\n",
    "    home_games_df = \\\n",
    "      home_games_df.rename(columns={col: col.replace('_y', '_Opp')})\n",
    "\n",
    "# remove unneccesary columns from home team data\n",
    "home_games_df = home_games_df.drop(columns=['HomeTeam', 'AwayTeam',\n",
    "                                            'HomeTeam_Opp', 'AwayTeam_Opp',\n",
    "                                            'NeutralSite_Opp'])\n",
    "\n",
    "# merge box score data and box scores flipped dataframes\n",
    "#    (team and opponent data sets) on the away team\n",
    "away_games_df = \\\n",
    "  box_scores_df.merge(box_scores_home_away_flipped_df,how='inner',\n",
    "                      left_on=['GameId', 'Home', 'DayNum', 'Team'],\n",
    "                      right_on=['GameId', 'Home', 'DayNum', 'AwayTeam'])\n",
    "\n",
    "# for the away team data, rename the opponent columns with '_Opp'\n",
    "#    suffix convention\n",
    "for col in away_games_df.columns:\n",
    "  if '_x' in col:\n",
    "    away_games_df = \\\n",
    "      away_games_df.rename(columns={col: col.replace('_x', '')})\n",
    "\n",
    "  elif '_y' in col:\n",
    "    away_games_df = \\\n",
    "      away_games_df.rename(columns={col: col.replace('_y', '_Opp')})\n",
    "\n",
    "# remove unneccesary columns from away team data\n",
    "away_games_df = \\\n",
    "  away_games_df.drop(columns=['HomeTeam', 'AwayTeam', 'HomeTeam_Opp',\n",
    "                              'AwayTeam_Opp', 'NeutralSite_Opp'])"
   ],
   "metadata": {
    "id": "ZCoVQvyqWxPg",
    "ExecuteTime": {
     "end_time": "2024-02-29T07:01:06.808353Z",
     "start_time": "2024-02-29T07:01:06.716993Z"
    }
   },
   "execution_count": 7,
   "outputs": []
  },
  {
   "cell_type": "code",
   "source": [
    "# concatenate home and away team dataframes into a new all games dataframe\n",
    "all_games_df = pd.concat([home_games_df, away_games_df])\n",
    "\n",
    "# make a binary win column taking 1 (win) or 0 (loss)\n",
    "all_games_df['Win'] = \\\n",
    "  np.sign(all_games_df['Score'] - all_games_df['Score_Opp']).replace(-1, 0)\n",
    "\n",
    "# sort all games dataframe on 'GameId' (first, ascending) and\n",
    "#    'Home' (second, descending)\n",
    "all_games_df = \\\n",
    "  all_games_df.sort_values([\"GameId\", \"Home\"], ascending = [True, False])"
   ],
   "metadata": {
    "id": "hMo9-clGbg-1",
    "ExecuteTime": {
     "end_time": "2024-02-29T07:01:06.811371Z",
     "start_time": "2024-02-29T07:01:06.801687Z"
    }
   },
   "execution_count": 8,
   "outputs": []
  },
  {
   "cell_type": "markdown",
   "source": [
    "Make offensive and defensive rebounding factor columns"
   ],
   "metadata": {
    "id": "fCS8C95IXbK2"
   }
  },
  {
   "cell_type": "code",
   "source": [
    "# make last of the factors columns (effective turnover rate,\n",
    "#    effective rebound rates, which will be be split into 2 fields\n",
    "#    (offensive and defensive rebounds)\n",
    "all_games_df['ETOV_N'] = round(all_games_df['TOV_Opp'], 0).astype('int')\n",
    "all_games_df['ETOV_N_Opp'] = round(all_games_df['TOV'], 0).astype('int')\n",
    "\n",
    "all_games_df['ETOV_D'] = round(all_games_df['FGA_Opp'] + 0.44 * all_games_df['FTA_Opp'] + all_games_df['TOV_Opp']).astype('int')\n",
    "all_games_df['ETOV_D_Opp'] = round(all_games_df['FGA'] + 0.44 * all_games_df['FTA'] + all_games_df['TOV']).astype('int')\n",
    "\n",
    "# make effective offensive rebound columns (for team and opponent)\n",
    "all_games_df['EORB_N'] = round(all_games_df['ORB'], 0).astype('int')\n",
    "all_games_df['EORB_D'] = round(all_games_df['ORB'] + all_games_df['DRB_Opp'], 0).astype('int')\n",
    "\n",
    "all_games_df['EORB_N_Opp'] = round(all_games_df['ORB_Opp'], 0).astype('int')\n",
    "all_games_df['EORB_D_Opp'] = round(all_games_df['ORB_Opp'] + all_games_df['DRB'], 0).astype('int')\n",
    "\n",
    "# make effective defensive rebound columns (for team and opponent)\n",
    "all_games_df['EDRB_N'] = round(all_games_df['DRB'], 0).astype('int')\n",
    "all_games_df['EDRB_D'] = round(all_games_df['DRB'] + all_games_df['ORB_Opp'], 0).astype('int')\n",
    "\n",
    "all_games_df['EDRB_N_Opp'] = round(all_games_df['DRB_Opp'], 0).astype('int')\n",
    "all_games_df['EDRB_D_Opp'] = round(all_games_df['DRB_Opp'] + all_games_df['ORB'], 0).astype('int')\n",
    "\n",
    "# make effctive blocks columns\n",
    "all_games_df['EBLK_N'] = round(all_games_df['BLK'], 0).astype('int')\n",
    "all_games_df['EBLK_D'] = round(all_games_df['FGA_Opp'], 0).astype('int')\n",
    "\n",
    "all_games_df['EBLK_N_Opp'] = round(all_games_df['BLK_Opp'], 0).astype('int')\n",
    "all_games_df['EBLK_D_Opp'] = round(all_games_df['FGA'], 0).astype('int')\n",
    "\n",
    "# regarding the home column, make away games -1 and neutral site games 0\n",
    "all_games_df['Home'] = all_games_df['Home'].replace(0, -1)\n",
    "\n",
    "all_games_df['Home'] = \\\n",
    "  np.where(all_games_df['NeutralSite'] == 1, 0, all_games_df['Home'])\n",
    "\n",
    "all_games_df['Tourney'] = all_games_df.apply(lambda x: x['ConfTourney'] + x['MMTourney'], axis=1)"
   ],
   "metadata": {
    "id": "gIUGV5pwWm5t",
    "ExecuteTime": {
     "end_time": "2024-02-29T07:01:06.869812Z",
     "start_time": "2024-02-29T07:01:06.813778Z"
    }
   },
   "execution_count": 9,
   "outputs": []
  },
  {
   "cell_type": "code",
   "execution_count": 10,
   "outputs": [],
   "source": [
    "all_games_df['DayNumAdj'] = all_games_df['DayNum'].apply(lambda x: np.abs(x-last_day_before_tournament-1)**(-1/recency_denom)\n",
    "                            if x-last_day_before_tournament <= 0 else None)"
   ],
   "metadata": {
    "collapsed": false,
    "ExecuteTime": {
     "end_time": "2024-02-29T07:01:06.891669Z",
     "start_time": "2024-02-29T07:01:06.878268Z"
    }
   }
  },
  {
   "cell_type": "code",
   "source": [
    "all_games_df = \\\n",
    "  all_games_df.drop(columns=['Conf_Opp', 'OppConf_Opp', 'OppTeamID_Opp',\n",
    "                             'TeamID_Opp', 'ConfTourney', 'MMTourney',\n",
    "                             'FGM', 'FGA', '3FGM', '3FGA', 'FTM',\n",
    "                             'FTA', 'ORB', 'DRB', 'AST', 'TOV', 'STL', 'BLK',\n",
    "                             'Fouls', 'FG%', '3FG%', 'FT%', 'ConfTourney_Opp',\n",
    "                             'MMTourney_Opp', 'NumOT_Opp', 'FGM_Opp', 'FGA_Opp',\n",
    "                             '3FGM_Opp', '3FGA_Opp', 'FTM_Opp', 'FTA_Opp',\n",
    "                             'ORB_Opp', 'DRB_Opp', 'AST_Opp', 'TOV_Opp',\n",
    "                             'STL_Opp', 'BLK_Opp', 'Fouls_Opp', 'FG%_Opp',\n",
    "                             '3FG%_Opp', 'FT%_Opp', 'OppTeamID', 'TeamID',\n",
    "                             'NeutralSite'])"
   ],
   "metadata": {
    "id": "nsSyWpZ0ohTR",
    "ExecuteTime": {
     "end_time": "2024-02-29T07:01:06.897538Z",
     "start_time": "2024-02-29T07:01:06.890980Z"
    }
   },
   "execution_count": 11,
   "outputs": []
  },
  {
   "cell_type": "markdown",
   "source": [
    "## Encoding Team Names"
   ],
   "metadata": {
    "collapsed": false
   }
  },
  {
   "cell_type": "code",
   "execution_count": 12,
   "outputs": [],
   "source": [
    "codes, uniques = pd.factorize(all_games_df['Team'], sort=True)\n",
    "teams_dictionary = dict(zip(uniques, [_ for _ in range(len(uniques))]))\n",
    "inv_map = {v: k for k, v in teams_dictionary.items()}"
   ],
   "metadata": {
    "collapsed": false,
    "ExecuteTime": {
     "end_time": "2024-02-29T07:01:06.897916Z",
     "start_time": "2024-02-29T07:01:06.894026Z"
    }
   }
  },
  {
   "cell_type": "code",
   "execution_count": 13,
   "outputs": [],
   "source": [
    "def bin_score_diff(diff):\n",
    "    if abs(diff) <= 3:\n",
    "        if np.sign(diff) == 1:\n",
    "            return '0 < diff <= 3'\n",
    "        else:\n",
    "            return '-3 <= diff < 0'\n",
    "\n",
    "    if abs(diff) <= 6:\n",
    "        if np.sign(diff) == 1:\n",
    "            return '3 < diff <= 6'\n",
    "        else:\n",
    "            return '-6 <= diff < -3'\n",
    "\n",
    "    if abs(diff) <= 10:\n",
    "        if np.sign(diff) == 1:\n",
    "            return '6 < diff <= 10'\n",
    "        else:\n",
    "            return '-10 <= diff < -6'\n",
    "\n",
    "    if abs(diff) <= 15:\n",
    "        if np.sign(diff) == 1:\n",
    "            return '10 < diff <= 15'\n",
    "        else:\n",
    "            return '-15 <= diff < -10'\n",
    "\n",
    "    if abs(diff) <= 20:\n",
    "        if np.sign(diff) == 1:\n",
    "            return '15 < diff <= 20'\n",
    "        else:\n",
    "            return '-20 <= diff < -15'\n",
    "\n",
    "    if abs(diff) > 20:\n",
    "        if np.sign(diff) == 1:\n",
    "            return 'diff > 20'\n",
    "        else:\n",
    "            return 'diff < -20'"
   ],
   "metadata": {
    "collapsed": false,
    "ExecuteTime": {
     "end_time": "2024-02-29T07:01:06.905154Z",
     "start_time": "2024-02-29T07:01:06.898027Z"
    }
   }
  },
  {
   "cell_type": "code",
   "execution_count": 14,
   "outputs": [
    {
     "data": {
      "text/plain": "       Winner  Loser  ScoreDiff  Home  Tourney  DayNum  DayNumAdj  \\\n0           3    271         20     1        0       1   0.721071   \n2         269      4         17     1        0       1   0.721071   \n4         127      5         26     1        0       1   0.721071   \n6         301      6         17     1        0       1   0.721071   \n8          10     36          8     1        0       1   0.721071   \n...       ...    ...        ...   ...      ...     ...        ...   \n10924     278    273          2     0        1     132   0.911722   \n10926      21    289         11     0        1     134   0.954842   \n10928      84    231          6     0        1     134   0.954842   \n10930      10    276          9     0        1     135   1.000000   \n10932     185    189          4     0        1     135   1.000000   \n\n         BinnedOutcome  \n0      15 < diff <= 20  \n2      15 < diff <= 20  \n4            diff > 20  \n6      15 < diff <= 20  \n8       6 < diff <= 10  \n...                ...  \n10924    0 < diff <= 3  \n10926  10 < diff <= 15  \n10928    3 < diff <= 6  \n10930   6 < diff <= 10  \n10932    3 < diff <= 6  \n\n[5467 rows x 8 columns]",
      "text/html": "<div>\n<style scoped>\n    .dataframe tbody tr th:only-of-type {\n        vertical-align: middle;\n    }\n\n    .dataframe tbody tr th {\n        vertical-align: top;\n    }\n\n    .dataframe thead th {\n        text-align: right;\n    }\n</style>\n<table border=\"1\" class=\"dataframe\">\n  <thead>\n    <tr style=\"text-align: right;\">\n      <th></th>\n      <th>Winner</th>\n      <th>Loser</th>\n      <th>ScoreDiff</th>\n      <th>Home</th>\n      <th>Tourney</th>\n      <th>DayNum</th>\n      <th>DayNumAdj</th>\n      <th>BinnedOutcome</th>\n    </tr>\n  </thead>\n  <tbody>\n    <tr>\n      <th>0</th>\n      <td>3</td>\n      <td>271</td>\n      <td>20</td>\n      <td>1</td>\n      <td>0</td>\n      <td>1</td>\n      <td>0.721071</td>\n      <td>15 &lt; diff &lt;= 20</td>\n    </tr>\n    <tr>\n      <th>2</th>\n      <td>269</td>\n      <td>4</td>\n      <td>17</td>\n      <td>1</td>\n      <td>0</td>\n      <td>1</td>\n      <td>0.721071</td>\n      <td>15 &lt; diff &lt;= 20</td>\n    </tr>\n    <tr>\n      <th>4</th>\n      <td>127</td>\n      <td>5</td>\n      <td>26</td>\n      <td>1</td>\n      <td>0</td>\n      <td>1</td>\n      <td>0.721071</td>\n      <td>diff &gt; 20</td>\n    </tr>\n    <tr>\n      <th>6</th>\n      <td>301</td>\n      <td>6</td>\n      <td>17</td>\n      <td>1</td>\n      <td>0</td>\n      <td>1</td>\n      <td>0.721071</td>\n      <td>15 &lt; diff &lt;= 20</td>\n    </tr>\n    <tr>\n      <th>8</th>\n      <td>10</td>\n      <td>36</td>\n      <td>8</td>\n      <td>1</td>\n      <td>0</td>\n      <td>1</td>\n      <td>0.721071</td>\n      <td>6 &lt; diff &lt;= 10</td>\n    </tr>\n    <tr>\n      <th>...</th>\n      <td>...</td>\n      <td>...</td>\n      <td>...</td>\n      <td>...</td>\n      <td>...</td>\n      <td>...</td>\n      <td>...</td>\n      <td>...</td>\n    </tr>\n    <tr>\n      <th>10924</th>\n      <td>278</td>\n      <td>273</td>\n      <td>2</td>\n      <td>0</td>\n      <td>1</td>\n      <td>132</td>\n      <td>0.911722</td>\n      <td>0 &lt; diff &lt;= 3</td>\n    </tr>\n    <tr>\n      <th>10926</th>\n      <td>21</td>\n      <td>289</td>\n      <td>11</td>\n      <td>0</td>\n      <td>1</td>\n      <td>134</td>\n      <td>0.954842</td>\n      <td>10 &lt; diff &lt;= 15</td>\n    </tr>\n    <tr>\n      <th>10928</th>\n      <td>84</td>\n      <td>231</td>\n      <td>6</td>\n      <td>0</td>\n      <td>1</td>\n      <td>134</td>\n      <td>0.954842</td>\n      <td>3 &lt; diff &lt;= 6</td>\n    </tr>\n    <tr>\n      <th>10930</th>\n      <td>10</td>\n      <td>276</td>\n      <td>9</td>\n      <td>0</td>\n      <td>1</td>\n      <td>135</td>\n      <td>1.000000</td>\n      <td>6 &lt; diff &lt;= 10</td>\n    </tr>\n    <tr>\n      <th>10932</th>\n      <td>185</td>\n      <td>189</td>\n      <td>4</td>\n      <td>0</td>\n      <td>1</td>\n      <td>135</td>\n      <td>1.000000</td>\n      <td>3 &lt; diff &lt;= 6</td>\n    </tr>\n  </tbody>\n</table>\n<p>5467 rows × 8 columns</p>\n</div>"
     },
     "execution_count": 14,
     "metadata": {},
     "output_type": "execute_result"
    }
   ],
   "source": [
    "games_df = all_games_df[['Team', 'Opponent', 'Score', 'Score_Opp', 'Home', 'Tourney', 'DayNum', 'DayNumAdj']]\n",
    "games_df = games_df[games_df['DayNum'] <= last_day_before_tournament]\n",
    "\n",
    "games_df = games_df.reset_index()\n",
    "games_df['Score'] = games_df['Score'] - games_df['Score_Opp']\n",
    "games_df = games_df.drop(columns=['Score_Opp'])\n",
    "games_df = games_df.rename(columns={'Score':'ScoreDiff'})\n",
    "games_df['Home'] = games_df.apply(lambda row: row['Home'] if row['ScoreDiff'] > 0 else (-row['Home'] if row['ScoreDiff'] < 0 else 0), axis=1)\n",
    "games_df['Winner'] = games_df.apply(lambda row: row['Team'] if row['ScoreDiff'] > 0 else row['Opponent'], axis=1)\n",
    "games_df['Loser'] = games_df.apply(lambda row: row['Team'] if row['ScoreDiff'] < 0 else row['Opponent'], axis=1)\n",
    "games_df['ScoreDiff'] = np.abs(games_df['ScoreDiff'])\n",
    "games_df = games_df[['index', 'Winner', 'Loser', 'ScoreDiff', 'Home', 'Tourney', 'DayNum', 'DayNumAdj']]\n",
    "\n",
    "games_df = games_df[games_df.index % 2 == 0]\n",
    "games_df = games_df.drop(columns='index')\n",
    "\n",
    "teams_set = set(all_games_df['Team'].tolist())\n",
    "teams_list = list(teams_set)\n",
    "teams_list.sort()\n",
    "\n",
    "games_df = games_df.replace({\"Winner\": teams_dictionary})\n",
    "games_df = games_df.replace({\"Loser\": teams_dictionary})\n",
    "\n",
    "games_df['BinnedOutcome'] = games_df['ScoreDiff'].apply(bin_score_diff)\n",
    "\n",
    "games_array = games_df.to_numpy()\n",
    "games_df"
   ],
   "metadata": {
    "collapsed": false,
    "ExecuteTime": {
     "end_time": "2024-02-29T07:01:07.086958Z",
     "start_time": "2024-02-29T07:01:06.902447Z"
    }
   }
  },
  {
   "cell_type": "code",
   "execution_count": 15,
   "outputs": [
    {
     "data": {
      "text/plain": "{'0 < diff <= 3',\n '10 < diff <= 15',\n '15 < diff <= 20',\n '3 < diff <= 6',\n '6 < diff <= 10',\n 'diff > 20'}"
     },
     "execution_count": 15,
     "metadata": {},
     "output_type": "execute_result"
    }
   ],
   "source": [
    "set(games_df['BinnedOutcome'])"
   ],
   "metadata": {
    "collapsed": false,
    "ExecuteTime": {
     "end_time": "2024-02-29T07:01:07.090687Z",
     "start_time": "2024-02-29T07:01:07.087569Z"
    }
   }
  },
  {
   "cell_type": "markdown",
   "source": [
    "# Get Initial Rankings"
   ],
   "metadata": {
    "collapsed": false
   }
  },
  {
   "cell_type": "markdown",
   "source": [
    "These will be used for weighting games when solving for alpha and beta values across various metrics"
   ],
   "metadata": {
    "collapsed": false
   }
  },
  {
   "cell_type": "code",
   "execution_count": 16,
   "outputs": [],
   "source": [
    "def pre_solver(teams_list, winners, losers, home, binned_outcome):\n",
    "\n",
    "    new_pre_obj_fn = functools.partial(pre_obj_fn, args=[winners, losers, home, binned_outcome])\n",
    "    x0 = [1.0 for _ in range(len(teams_list))]\n",
    "\n",
    "    x0.append(1.0)\n",
    "    x0 = tf.convert_to_tensor(x0, tf.float64)\n",
    "\n",
    "    result = minimize_parallel(fun=new_pre_obj_fn, x0=x0, parallel={'forward':False, 'max_workers': 10})\n",
    "\n",
    "    return result"
   ],
   "metadata": {
    "collapsed": false,
    "ExecuteTime": {
     "end_time": "2024-02-29T07:01:07.092583Z",
     "start_time": "2024-02-29T07:01:07.090843Z"
    }
   }
  },
  {
   "cell_type": "code",
   "execution_count": 17,
   "outputs": [
    {
     "name": "stdout",
     "output_type": "stream",
     "text": [
      "Loss: 1.609096828779901\n"
     ]
    },
    {
     "data": {
      "text/plain": "array([ 4.17773081e-01, -1.28763797e+00,  5.60504613e+00,  4.91250490e+00,\n       -6.06722957e+00, -5.92004142e+00, -9.73102383e+00,  1.51078854e+00,\n        1.21659846e+00,  4.78104383e+00,  5.02714850e+00,  2.07380014e+00,\n       -5.10789343e+00,  6.91003318e+00, -2.92162491e+00, -1.65062795e+00,\n        9.50876507e+00,  1.69607274e+00,  3.20554154e+00,  3.70929505e+00,\n        6.79415063e+00,  4.50366262e+00, -2.84471436e+00, -5.05655189e+00,\n        6.59397235e+00,  3.89758750e+00, -1.27559099e+00,  2.68739904e+00,\n       -4.19475795e-01,  1.55521468e+00, -6.20176211e+00,  8.58743175e-01,\n        7.24660894e+00,  5.80929202e+00,  2.16004371e+00, -7.06878818e-01,\n        1.49555761e-01, -6.58271727e-01, -2.07384762e+00,  8.89434464e-02,\n       -4.60997455e+00, -1.10194614e+00, -2.90599182e-01, -4.22706780e+00,\n       -3.52175176e+00, -5.31750755e+00,  2.31205851e+00, -3.27089725e+00,\n       -2.38616004e+00, -8.48433888e+00,  5.47006134e+00, -3.02917017e+00,\n        8.61165265e+00, -2.15672346e+00,  3.02597362e+00,  1.32828147e+00,\n        1.63311473e+00,  6.26536983e+00,  3.57551184e+00,  5.79410201e-01,\n        4.66922706e+00, -7.44945472e+00, -2.71716116e+00,  7.65385869e+00,\n        1.59808693e+00,  2.51886867e+00,  6.03359719e+00,  4.06638621e+00,\n       -4.01839719e+00, -1.12099238e+01, -2.52191450e+00, -8.61836582e-01,\n        9.84840895e-01, -1.99232572e+00,  1.27697399e+01, -1.94410005e-01,\n       -4.33919648e+00, -2.24250429e+00,  9.45168351e-01, -2.09969984e+00,\n        4.81660426e+00, -2.29622641e+00, -4.30440257e+00,  8.26867865e-01,\n       -1.59679137e+00,  1.22487236e+00, -1.19087999e+00, -5.68742245e-01,\n        8.90867528e+00, -4.06675547e+00, -2.40527756e+00,  8.35179368e+00,\n       -5.08960104e-01,  5.55105584e+00,  4.55525288e+00, -2.39638897e+00,\n        3.28332687e+00, -1.31379553e+00,  1.23937204e+00,  2.86641760e+00,\n        4.93880040e+00,  3.13167312e-02,  4.26412089e+00,  1.31580522e+01,\n       -2.71246705e+00,  5.12432292e+00,  2.37584499e+00, -2.73414923e-01,\n        1.44499939e+00,  1.53104649e+00, -1.14761841e+00,  1.84449570e+00,\n       -2.30560326e+00,  7.03048959e+00, -1.76376201e+00, -5.33627556e+00,\n       -1.31169737e-01,  1.78340274e+00, -7.01523017e+00, -6.31597506e+00,\n        5.73613892e+00, -1.81912144e+00, -5.74719980e+00,  7.26128908e+00,\n       -1.14838392e+00, -1.75126654e-01,  6.58507550e+00,  9.90414269e+00,\n       -4.10103181e+00, -3.42103976e-02,  2.46275239e+00, -3.57134948e+00,\n        6.98231364e+00,  6.37051421e+00, -6.65786430e+00, -1.15094613e+00,\n        1.00982263e+01, -2.28539080e+00,  7.24536282e+00,  5.49462569e-01,\n       -3.66180464e+00, -1.74750597e+00, -7.80602661e-01,  3.54531124e+00,\n        6.16496162e+00, -1.04916001e+00, -2.54078612e+00, -1.21524289e+00,\n        1.51948467e+00,  9.64228278e+00,  1.58425676e+00, -2.56431389e+00,\n        3.58172257e+00, -1.78189288e+00, -1.07725332e+01, -8.72896045e+00,\n       -2.96636915e+00, -4.35408478e+00, -4.64006176e+00, -9.05002710e-01,\n        7.55303677e+00, -6.91266074e-01,  7.81471803e+00,  8.53178314e-01,\n       -3.92619511e+00,  4.86883096e+00,  1.17029472e+00,  6.56159977e+00,\n        1.93060485e+00,  1.20480343e+01,  1.32595011e+01,  5.72592002e+00,\n        6.98535244e+00,  8.74939552e+00,  5.06567571e+00, -2.36463554e-01,\n       -1.96736265e-01, -4.55374415e+00,  1.43944130e+00, -1.76480892e+00,\n       -2.46728423e+00, -4.84361755e+00, -5.14410983e+00,  5.41871096e+00,\n       -3.31473197e-01, -7.29753046e-01,  4.21477763e+00,  3.71458357e+00,\n       -5.48551191e+00, -3.83499327e+00,  7.58654515e+00, -1.29025136e-01,\n       -1.30259995e+00, -5.64688465e+00,  8.45736719e+00,  8.65314576e+00,\n       -5.96358777e+00,  1.42722740e+00,  4.80125431e+00, -2.62673224e+00,\n       -4.63198967e+00, -4.89034275e+00, -3.22569064e+00, -3.59225027e+00,\n        1.19526701e+01, -5.97520909e-01,  1.26459377e+00,  8.90701581e-01,\n        3.23086938e+00, -2.30019859e+00, -4.05380673e-01,  7.74507093e+00,\n       -8.32615155e+00,  5.89922382e+00,  1.26344689e+00, -6.18933506e-01,\n        7.29114389e+00,  7.41286826e+00,  4.71877002e+00,  4.49905490e-01,\n       -3.01482625e+00,  8.24298904e+00,  5.07495704e+00,  9.64945909e-01,\n       -2.52070153e-01,  2.07467404e+00,  8.90966974e+00,  1.93218451e+00,\n        5.39526266e+00, -4.40947246e+00, -3.84532261e+00, -2.42179037e+00,\n        6.12836358e-01, -1.43216802e+00,  4.62836574e+00,  1.09902765e+01,\n       -2.14942002e-02,  1.57397377e+00,  2.53146317e+00, -2.78801114e+00,\n        1.28945373e+00,  1.20545965e-03, -3.19054555e+00,  5.02070890e+00,\n       -4.82894283e+00,  4.13797247e+00,  1.86986989e+00, -3.82665535e+00,\n       -1.56234701e+00, -3.11177662e+00, -4.18297523e+00, -5.80341869e+00,\n        3.71658404e+00, -1.42054777e+00, -1.08064439e+00,  5.66391313e-01,\n        2.72732154e+00,  4.48002962e+00,  2.25426887e+00,  5.42515638e+00,\n       -5.76245595e+00,  6.33614352e-01, -7.80179289e+00,  1.19008124e+00,\n        4.14687728e+00, -2.96167462e+00, -4.04144536e-01,  3.89274361e+00,\n        9.16817620e-01,  2.84946435e+00,  2.02828966e+00, -3.88520529e+00,\n       -3.54818464e+00,  4.07635448e+00, -3.09375473e+00, -3.26896305e+00,\n        3.25594421e+00, -1.27653418e-01,  2.26390963e+00,  8.96985178e+00,\n       -2.78860421e+00,  3.82144634e+00, -4.50790827e+00, -1.65893328e+00,\n        7.08438602e+00, -2.02864235e+00,  5.97437158e+00, -3.01892412e+00,\n       -2.12362768e+00,  2.48621474e+00,  1.02808151e+01, -1.89283008e+00,\n       -4.05069635e+00,  9.45402463e+00,  4.43525806e+00,  1.29016086e+00,\n        1.00032053e+01,  4.64589983e+00, -1.69505159e+00, -1.98209698e+00,\n       -1.98818490e+00,  1.41546434e+00,  4.68599131e-01,  1.63107397e-01,\n        2.47816597e+00, -3.84886126e+00, -2.10389206e-01,  5.48736608e+00,\n        3.90387325e+00,  2.40289184e+00, -2.46231937e+00, -6.79404438e+00,\n        1.46815757e+00, -2.43229735e+00,  1.50102764e+00,  6.15177021e+00,\n        9.69753879e-01,  9.14923899e-01, -1.61424421e+00,  1.76162983e-01,\n        3.19555592e+00,  7.03913220e+00,  3.18436805e+00,  6.13136122e+00,\n       -3.18421963e+00, -1.03981402e+00,  4.07467581e+00,  2.92259840e+00,\n        7.37689843e+00,  1.27868670e+01,  9.85436495e+00, -1.67743892e+00,\n       -3.80397703e-01, -4.93426351e-01, -1.74904598e+00, -1.55434210e+00,\n        1.61786798e+00, -5.46687149e+00,  7.55945900e-01,  4.75729369e+00,\n        1.91807241e+00, -2.10290521e-01,  2.87474683e+00,  2.95911733e+00,\n       -9.58322265e-01,  5.14884353e-01,  9.40299241e+00,  6.64648581e+00,\n        4.12910785e+00, -2.73731135e+00,  4.71803062e+00,  3.09998873e+00,\n       -1.38027746e+00,  1.29073252e+00])"
     },
     "execution_count": 17,
     "metadata": {},
     "output_type": "execute_result"
    }
   ],
   "source": [
    "result = pre_solver(teams_list, np.array(games_df['Winner']), np.array(games_df['Loser']), np.array(games_df['Home']),\n",
    "                    np.array(games_df['BinnedOutcome']))\n",
    "print(\"Loss:\", result.fun)\n",
    "result.x"
   ],
   "metadata": {
    "collapsed": false,
    "ExecuteTime": {
     "end_time": "2024-02-29T07:02:27.525801Z",
     "start_time": "2024-02-29T07:01:07.098820Z"
    }
   }
  },
  {
   "cell_type": "code",
   "execution_count": 18,
   "outputs": [
    {
     "data": {
      "text/plain": "             Team    Rating\n170   Michigan St  2.697715\n103       Gonzaga  2.675392\n329      Virginia  2.593714\n74           Duke  2.589946\n169      Michigan  2.431137\n..            ...       ...\n49     Chicago St -2.086918\n155  MS Valley St -2.140746\n6       Alcorn St -2.361245\n154    MD E Shore -2.590425\n69    Delaware St -2.686670\n\n[353 rows x 2 columns]",
      "text/html": "<div>\n<style scoped>\n    .dataframe tbody tr th:only-of-type {\n        vertical-align: middle;\n    }\n\n    .dataframe tbody tr th {\n        vertical-align: top;\n    }\n\n    .dataframe thead th {\n        text-align: right;\n    }\n</style>\n<table border=\"1\" class=\"dataframe\">\n  <thead>\n    <tr style=\"text-align: right;\">\n      <th></th>\n      <th>Team</th>\n      <th>Rating</th>\n    </tr>\n  </thead>\n  <tbody>\n    <tr>\n      <th>170</th>\n      <td>Michigan St</td>\n      <td>2.697715</td>\n    </tr>\n    <tr>\n      <th>103</th>\n      <td>Gonzaga</td>\n      <td>2.675392</td>\n    </tr>\n    <tr>\n      <th>329</th>\n      <td>Virginia</td>\n      <td>2.593714</td>\n    </tr>\n    <tr>\n      <th>74</th>\n      <td>Duke</td>\n      <td>2.589946</td>\n    </tr>\n    <tr>\n      <th>169</th>\n      <td>Michigan</td>\n      <td>2.431137</td>\n    </tr>\n    <tr>\n      <th>...</th>\n      <td>...</td>\n      <td>...</td>\n    </tr>\n    <tr>\n      <th>49</th>\n      <td>Chicago St</td>\n      <td>-2.086918</td>\n    </tr>\n    <tr>\n      <th>155</th>\n      <td>MS Valley St</td>\n      <td>-2.140746</td>\n    </tr>\n    <tr>\n      <th>6</th>\n      <td>Alcorn St</td>\n      <td>-2.361245</td>\n    </tr>\n    <tr>\n      <th>154</th>\n      <td>MD E Shore</td>\n      <td>-2.590425</td>\n    </tr>\n    <tr>\n      <th>69</th>\n      <td>Delaware St</td>\n      <td>-2.686670</td>\n    </tr>\n  </tbody>\n</table>\n<p>353 rows × 2 columns</p>\n</div>"
     },
     "execution_count": 18,
     "metadata": {},
     "output_type": "execute_result"
    }
   ],
   "source": [
    "ratings = pd.DataFrame(data=result.x[:-1], columns=['Rating'])\n",
    "ratings['Team'] = [_ for _ in range(len(result.x[:-1]))]\n",
    "ratings = ratings[['Team', 'Rating']]\n",
    "ratings_std = ratings['Rating'].std()\n",
    "ratings['Rating'] -= ratings['Rating'].mean()\n",
    "ratings['Rating'] /= ratings_std\n",
    "ratings = ratings.replace({'Team': inv_map})\n",
    "ratings = ratings.sort_values(by='Rating', ascending=False)\n",
    "teams_dict = ratings.set_index('Team').to_dict()['Rating']\n",
    "ratings"
   ],
   "metadata": {
    "collapsed": false,
    "ExecuteTime": {
     "end_time": "2024-02-29T07:02:27.541405Z",
     "start_time": "2024-02-29T07:02:27.533822Z"
    }
   }
  },
  {
   "cell_type": "code",
   "execution_count": 19,
   "outputs": [],
   "source": [
    "all_games_df['Rating'] = all_games_df.apply(lambda row : teams_dict[row['Team']], axis=1)\n",
    "all_games_df['OppRating'] = all_games_df.apply(lambda row : teams_dict[row['Opponent']], axis=1)\n",
    "\n",
    "all_games_df['AvgRating'] = all_games_df.apply(lambda row: (row['Rating'] + row['OppRating']) / 2, axis=1)\n",
    "all_games_df['RatingAdj'] = all_games_df['AvgRating'].apply(lambda x: 2/(1+np.exp(-x)))"
   ],
   "metadata": {
    "collapsed": false,
    "ExecuteTime": {
     "end_time": "2024-02-29T07:02:27.646759Z",
     "start_time": "2024-02-29T07:02:27.542423Z"
    }
   }
  },
  {
   "cell_type": "code",
   "execution_count": 20,
   "outputs": [
    {
     "data": {
      "text/plain": "      GameId  Team  DayNum  NumOT  Score  Home        Conf     OppConf  Seed  \\\n0          1     3       1    0.0     82     1         sec        swac   NaN   \n0          1   271       1    0.0     62    -1        swac         sec   NaN   \n1          2   269       1    0.0     80     1         aac        swac   NaN   \n1          2     4       1    0.0     63    -1        swac         aac   NaN   \n2          3   127       1    0.0     79     1  big_twelve        swac   6.0   \n...      ...   ...     ...    ...    ...   ...         ...         ...   ...   \n5527    5528    16     152    0.0     62     0         sec         acc   5.0   \n5528    5529   296     152    0.0     61     0  big_twelve     big_ten   3.0   \n5528    5529   170     152    0.0     51     0     big_ten  big_twelve   2.0   \n5529    5530   329     154    1.0     85     0         acc  big_twelve   1.0   \n5529    5530   296     154    1.0     77     0  big_twelve         acc   3.0   \n\n      EFG_N  ...  EBLK_N  EBLK_D  EBLK_N_Opp  EBLK_D_Opp  Tourney  DayNumAdj  \\\n0        32  ...       6      55           2          55        0   0.721071   \n0        22  ...       2      55           6          55        0   0.721071   \n1        34  ...       4      52           0          53        0   0.721071   \n1        26  ...       0      53           4          52        0   0.721071   \n2        37  ...       5      55           3          67        0   0.721071   \n...     ...  ...     ...     ...         ...         ...      ...        ...   \n5527     26  ...       3      51           9          55        1        NaN   \n5528     26  ...       4      47           2          51        1        NaN   \n5528     18  ...       2      51           4          47        1        NaN   \n5529     32  ...       3      63           3          59        1        NaN   \n5529     32  ...       3      59           3          63        1        NaN   \n\n        Rating  OppRating  AvgRating  RatingAdj  \n0     0.860997  -1.074899  -0.106951   0.946575  \n0    -1.074899   0.860997  -0.106951   0.946575  \n1     0.407034  -1.555044  -0.574005   0.720626  \n1    -1.555044   0.407034  -0.574005   0.720626  \n2     1.959384  -1.522656   0.218364   1.108750  \n...        ...        ...        ...        ...  \n5527  1.872383   2.593714   2.233049   1.806357  \n5528  1.981182   2.697715   2.339449   1.824184  \n5528  2.697715   1.981182   2.339449   1.824184  \n5529  2.593714   1.981182   2.287448   1.815664  \n5529  1.981182   2.593714   2.287448   1.815664  \n\n[11060 rows x 55 columns]",
      "text/html": "<div>\n<style scoped>\n    .dataframe tbody tr th:only-of-type {\n        vertical-align: middle;\n    }\n\n    .dataframe tbody tr th {\n        vertical-align: top;\n    }\n\n    .dataframe thead th {\n        text-align: right;\n    }\n</style>\n<table border=\"1\" class=\"dataframe\">\n  <thead>\n    <tr style=\"text-align: right;\">\n      <th></th>\n      <th>GameId</th>\n      <th>Team</th>\n      <th>DayNum</th>\n      <th>NumOT</th>\n      <th>Score</th>\n      <th>Home</th>\n      <th>Conf</th>\n      <th>OppConf</th>\n      <th>Seed</th>\n      <th>EFG_N</th>\n      <th>...</th>\n      <th>EBLK_N</th>\n      <th>EBLK_D</th>\n      <th>EBLK_N_Opp</th>\n      <th>EBLK_D_Opp</th>\n      <th>Tourney</th>\n      <th>DayNumAdj</th>\n      <th>Rating</th>\n      <th>OppRating</th>\n      <th>AvgRating</th>\n      <th>RatingAdj</th>\n    </tr>\n  </thead>\n  <tbody>\n    <tr>\n      <th>0</th>\n      <td>1</td>\n      <td>3</td>\n      <td>1</td>\n      <td>0.0</td>\n      <td>82</td>\n      <td>1</td>\n      <td>sec</td>\n      <td>swac</td>\n      <td>NaN</td>\n      <td>32</td>\n      <td>...</td>\n      <td>6</td>\n      <td>55</td>\n      <td>2</td>\n      <td>55</td>\n      <td>0</td>\n      <td>0.721071</td>\n      <td>0.860997</td>\n      <td>-1.074899</td>\n      <td>-0.106951</td>\n      <td>0.946575</td>\n    </tr>\n    <tr>\n      <th>0</th>\n      <td>1</td>\n      <td>271</td>\n      <td>1</td>\n      <td>0.0</td>\n      <td>62</td>\n      <td>-1</td>\n      <td>swac</td>\n      <td>sec</td>\n      <td>NaN</td>\n      <td>22</td>\n      <td>...</td>\n      <td>2</td>\n      <td>55</td>\n      <td>6</td>\n      <td>55</td>\n      <td>0</td>\n      <td>0.721071</td>\n      <td>-1.074899</td>\n      <td>0.860997</td>\n      <td>-0.106951</td>\n      <td>0.946575</td>\n    </tr>\n    <tr>\n      <th>1</th>\n      <td>2</td>\n      <td>269</td>\n      <td>1</td>\n      <td>0.0</td>\n      <td>80</td>\n      <td>1</td>\n      <td>aac</td>\n      <td>swac</td>\n      <td>NaN</td>\n      <td>34</td>\n      <td>...</td>\n      <td>4</td>\n      <td>52</td>\n      <td>0</td>\n      <td>53</td>\n      <td>0</td>\n      <td>0.721071</td>\n      <td>0.407034</td>\n      <td>-1.555044</td>\n      <td>-0.574005</td>\n      <td>0.720626</td>\n    </tr>\n    <tr>\n      <th>1</th>\n      <td>2</td>\n      <td>4</td>\n      <td>1</td>\n      <td>0.0</td>\n      <td>63</td>\n      <td>-1</td>\n      <td>swac</td>\n      <td>aac</td>\n      <td>NaN</td>\n      <td>26</td>\n      <td>...</td>\n      <td>0</td>\n      <td>53</td>\n      <td>4</td>\n      <td>52</td>\n      <td>0</td>\n      <td>0.721071</td>\n      <td>-1.555044</td>\n      <td>0.407034</td>\n      <td>-0.574005</td>\n      <td>0.720626</td>\n    </tr>\n    <tr>\n      <th>2</th>\n      <td>3</td>\n      <td>127</td>\n      <td>1</td>\n      <td>0.0</td>\n      <td>79</td>\n      <td>1</td>\n      <td>big_twelve</td>\n      <td>swac</td>\n      <td>6.0</td>\n      <td>37</td>\n      <td>...</td>\n      <td>5</td>\n      <td>55</td>\n      <td>3</td>\n      <td>67</td>\n      <td>0</td>\n      <td>0.721071</td>\n      <td>1.959384</td>\n      <td>-1.522656</td>\n      <td>0.218364</td>\n      <td>1.108750</td>\n    </tr>\n    <tr>\n      <th>...</th>\n      <td>...</td>\n      <td>...</td>\n      <td>...</td>\n      <td>...</td>\n      <td>...</td>\n      <td>...</td>\n      <td>...</td>\n      <td>...</td>\n      <td>...</td>\n      <td>...</td>\n      <td>...</td>\n      <td>...</td>\n      <td>...</td>\n      <td>...</td>\n      <td>...</td>\n      <td>...</td>\n      <td>...</td>\n      <td>...</td>\n      <td>...</td>\n      <td>...</td>\n      <td>...</td>\n    </tr>\n    <tr>\n      <th>5527</th>\n      <td>5528</td>\n      <td>16</td>\n      <td>152</td>\n      <td>0.0</td>\n      <td>62</td>\n      <td>0</td>\n      <td>sec</td>\n      <td>acc</td>\n      <td>5.0</td>\n      <td>26</td>\n      <td>...</td>\n      <td>3</td>\n      <td>51</td>\n      <td>9</td>\n      <td>55</td>\n      <td>1</td>\n      <td>NaN</td>\n      <td>1.872383</td>\n      <td>2.593714</td>\n      <td>2.233049</td>\n      <td>1.806357</td>\n    </tr>\n    <tr>\n      <th>5528</th>\n      <td>5529</td>\n      <td>296</td>\n      <td>152</td>\n      <td>0.0</td>\n      <td>61</td>\n      <td>0</td>\n      <td>big_twelve</td>\n      <td>big_ten</td>\n      <td>3.0</td>\n      <td>26</td>\n      <td>...</td>\n      <td>4</td>\n      <td>47</td>\n      <td>2</td>\n      <td>51</td>\n      <td>1</td>\n      <td>NaN</td>\n      <td>1.981182</td>\n      <td>2.697715</td>\n      <td>2.339449</td>\n      <td>1.824184</td>\n    </tr>\n    <tr>\n      <th>5528</th>\n      <td>5529</td>\n      <td>170</td>\n      <td>152</td>\n      <td>0.0</td>\n      <td>51</td>\n      <td>0</td>\n      <td>big_ten</td>\n      <td>big_twelve</td>\n      <td>2.0</td>\n      <td>18</td>\n      <td>...</td>\n      <td>2</td>\n      <td>51</td>\n      <td>4</td>\n      <td>47</td>\n      <td>1</td>\n      <td>NaN</td>\n      <td>2.697715</td>\n      <td>1.981182</td>\n      <td>2.339449</td>\n      <td>1.824184</td>\n    </tr>\n    <tr>\n      <th>5529</th>\n      <td>5530</td>\n      <td>329</td>\n      <td>154</td>\n      <td>1.0</td>\n      <td>85</td>\n      <td>0</td>\n      <td>acc</td>\n      <td>big_twelve</td>\n      <td>1.0</td>\n      <td>32</td>\n      <td>...</td>\n      <td>3</td>\n      <td>63</td>\n      <td>3</td>\n      <td>59</td>\n      <td>1</td>\n      <td>NaN</td>\n      <td>2.593714</td>\n      <td>1.981182</td>\n      <td>2.287448</td>\n      <td>1.815664</td>\n    </tr>\n    <tr>\n      <th>5529</th>\n      <td>5530</td>\n      <td>296</td>\n      <td>154</td>\n      <td>1.0</td>\n      <td>77</td>\n      <td>0</td>\n      <td>big_twelve</td>\n      <td>acc</td>\n      <td>3.0</td>\n      <td>32</td>\n      <td>...</td>\n      <td>3</td>\n      <td>59</td>\n      <td>3</td>\n      <td>63</td>\n      <td>1</td>\n      <td>NaN</td>\n      <td>1.981182</td>\n      <td>2.593714</td>\n      <td>2.287448</td>\n      <td>1.815664</td>\n    </tr>\n  </tbody>\n</table>\n<p>11060 rows × 55 columns</p>\n</div>"
     },
     "execution_count": 20,
     "metadata": {},
     "output_type": "execute_result"
    }
   ],
   "source": [
    "all_games_df = all_games_df.replace({\"Team\": teams_dictionary})\n",
    "all_games_df = all_games_df.replace({\"Opponent\": teams_dictionary})\n",
    "all_games_df = all_games_df.replace({\"Team\": teams_dictionary})\n",
    "all_games_df = all_games_df.replace({\"Opponent\": teams_dictionary})\n",
    "all_games_df"
   ],
   "metadata": {
    "collapsed": false,
    "ExecuteTime": {
     "end_time": "2024-02-29T07:02:27.771659Z",
     "start_time": "2024-02-29T07:02:27.647587Z"
    }
   }
  },
  {
   "cell_type": "markdown",
   "source": [
    "# Beta-Binomial Model"
   ],
   "metadata": {
    "collapsed": false
   }
  },
  {
   "cell_type": "markdown",
   "source": [
    "## Alpha-Beta Solver"
   ],
   "metadata": {
    "collapsed": false
   }
  },
  {
   "cell_type": "code",
   "execution_count": 21,
   "outputs": [],
   "source": [
    "def ab_solver(winners, losers, loc, metric_n, metric_d, recency_weights, ratings_weights, x0=None):\n",
    "\n",
    "    teams_n = len(set(winners))\n",
    "\n",
    "    if x0 is None:\n",
    "        alphas = [100.0 for _ in range(teams_n)]\n",
    "        betas = [200.0 for _ in range(teams_n)]\n",
    "        home_alpha = [10.0]\n",
    "        neutral_alpha = [5.0]\n",
    "        home_beta = [10.0]\n",
    "        neutral_beta = [5.0]\n",
    "        x0 = alphas + betas + home_alpha + neutral_alpha + home_beta + neutral_beta\n",
    "\n",
    "    obj_fn = functools.partial(bb_ll, args=[winners, losers, loc, metric_n, metric_d, recency_weights, ratings_weights, teams_n])\n",
    "\n",
    "    lower_ab = [0.001 for _ in range(2*teams_n)]\n",
    "    lower_alpha_ha = [0, 0, 0, 0]\n",
    "    lower = lower_ab + lower_alpha_ha\n",
    "\n",
    "    upper_ab = [np.inf for _ in range(2*teams_n)]\n",
    "    upper_alpha_ha = [np.inf, np.inf, np.inf, np.inf]\n",
    "    upper = upper_ab + upper_alpha_ha\n",
    "\n",
    "    bounds = Bounds(lower, upper)\n",
    "\n",
    "    result = minimize_parallel(fun=obj_fn, x0=x0, parallel={'max_workers': 10, 'forward':False}, bounds=bounds)\n",
    "\n",
    "    return result"
   ],
   "metadata": {
    "collapsed": false,
    "ExecuteTime": {
     "end_time": "2024-02-29T07:02:27.776839Z",
     "start_time": "2024-02-29T07:02:27.773136Z"
    }
   }
  },
  {
   "cell_type": "code",
   "execution_count": 22,
   "outputs": [],
   "source": [
    "def ab_populator(games_df, metrics, x_dic, loc_dic, last_pre_tour_game):\n",
    "\n",
    "    train_df = games_df[games_df['DayNum'] <= last_pre_tour_game]\n",
    "\n",
    "    for iteration in range(3):\n",
    "        print('----------------------------------------')\n",
    "        print(\"Iteration:\", iteration+1)\n",
    "        print('----------------------------------------')\n",
    "        for metric in metrics:\n",
    "\n",
    "            alphas = x_vals_dict.get(metric+'_alphas', None)\n",
    "            betas = x_vals_dict.get(metric+'_betas', None)\n",
    "            home_alpha_weight = home_adv_dict.get(metric+'_home_alpha', None)\n",
    "            neutral_alpha_weight = home_adv_dict.get(metric+'_neutral_alpha', None)\n",
    "            home_beta_weight = home_adv_dict.get(metric+'_home_beta', None)\n",
    "            neutral_beta_weight = home_adv_dict.get(metric+'_neutral_beta', None)\n",
    "\n",
    "            if (alphas is not None) and (betas is not None) and (home_alpha_weight is not None) and\\\n",
    "                    (neutral_alpha_weight is not None) and (home_beta_weight is not None) and\\\n",
    "                    (neutral_beta_weight is not None):\n",
    "                x0 = list(alphas) + list(betas) + [home_alpha_weight] + [neutral_alpha_weight] +\\\n",
    "                     [home_beta_weight] + [neutral_beta_weight]\n",
    "            else:\n",
    "                x0 = None\n",
    "\n",
    "            n_data = train_df[metric+'_N'].to_list()\n",
    "            d_data = train_df[metric+'_D'].to_list()\n",
    "\n",
    "            result = ab_solver(train_df['Team'].to_list(), train_df['Opponent'].to_list(), train_df['Home'].to_list(),\n",
    "                               np.array(n_data), np.array(d_data), np.array(train_df['DayNumAdj'].to_list()),\n",
    "                               np.array(train_df['RatingAdj'].to_list()), x0)\n",
    "\n",
    "            n_teams = len(set(train_df['Team'].to_list()))\n",
    "            print(metric, \": \", \"converged\" if result.success else \"failed\", \" | Loss: \", round(result.fun, 2), sep=\"\")\n",
    "\n",
    "            alpha = result.x[0:n_teams]\n",
    "            beta = result.x[n_teams:2*n_teams]\n",
    "            home_alpha_weight = result.x[-4]\n",
    "            neutral_alpha_weight = result.x[-3]\n",
    "            home_beta_weight = result.x[-2]\n",
    "            neutral_beta_weight = result.x[-1]\n",
    "\n",
    "            x_dic[metric+'_alphas'] = alpha\n",
    "            x_dic[metric+'_betas'] = beta\n",
    "            loc_dic[metric+'_home_alpha'] = home_alpha_weight\n",
    "            loc_dic[metric+'_neutral_alpha'] = neutral_alpha_weight\n",
    "            loc_dic[metric+'_home_beta'] = home_beta_weight\n",
    "            loc_dic[metric+'_neutral_beta'] = neutral_beta_weight\n",
    "\n",
    "    for metric in metrics:\n",
    "        games_df[metric+'_alphas_team1'] = games_df.apply(lambda row: x_dic[metric+'_alphas'][row['Team']] +\n",
    "                                                                      (loc_dic[metric+'_home_alpha'] if row['Home'] == 1 else\n",
    "                                                                       (loc_dic[metric+'_neutral_alpha'] if row['Home'] == 0 else 0)), axis=1)\n",
    "\n",
    "        games_df[metric+'_betas_team1'] = games_df.apply(lambda row: x_dic[metric+'_betas'][row['Team']] +\n",
    "                                                                     (loc_dic[metric+'_home_beta'] if row['Home'] == 1 else\n",
    "                                                                      (loc_dic[metric+'_neutral_beta'] if row['Home'] == 0 else 0)), axis=1)\n",
    "\n",
    "        games_df[metric+'_alphas_team2'] = games_df.apply(lambda row: x_dic[metric+'_alphas'][row['Opponent']] +\n",
    "                                                                      (loc_dic[metric+'_home_alpha'] if row['Home'] == -1 else\n",
    "                                                                       (loc_dic[metric+'_neutral_alpha'] if row['Home'] == 0 else 0)), axis=1)\n",
    "\n",
    "        games_df[metric+'_betas_team2'] = games_df.apply(lambda row: x_dic[metric+'_betas'][row['Opponent']] +\n",
    "                                                                     (loc_dic[metric+'_home_beta'] if row['Home'] == -1 else\n",
    "                                                                      (loc_dic[metric+'_neutral_beta'] if row['Home'] == 0 else 0)), axis=1)\n",
    "\n",
    "        games_df[metric+'_avgs_team1'] = games_df.apply(lambda row: row[metric+'_alphas_team1'] /\n",
    "                                                                    (row[metric+'_alphas_team1'] + row[metric+'_betas_team2']), axis=1)\n",
    "\n",
    "        games_df[metric+'_avgs_team2'] = games_df.apply(lambda row: row[metric+'_alphas_team2'] /\n",
    "                                                                    (row[metric+'_alphas_team2'] + row[metric+'_betas_team1']), axis=1)\n",
    "\n",
    "    games_df['EDRB_avgs_team1'] = games_df.apply(lambda row: row['EORB_betas_team1'] /\n",
    "                                                                (row['EORB_betas_team1'] + row['EORB_alphas_team2']), axis=1)\n",
    "\n",
    "    games_df['EDRB_avgs_team2'] = games_df.apply(lambda row: row['EORB_betas_team2'] /\n",
    "                                                                (row['EORB_betas_team2'] + row['EORB_alphas_team1']), axis=1)"
   ],
   "metadata": {
    "collapsed": false,
    "ExecuteTime": {
     "end_time": "2024-02-29T07:02:27.783819Z",
     "start_time": "2024-02-29T07:02:27.781521Z"
    }
   }
  },
  {
   "cell_type": "code",
   "execution_count": 23,
   "outputs": [
    {
     "name": "stdout",
     "output_type": "stream",
     "text": [
      "----------------------------------------\n",
      "Iteration: 1\n",
      "----------------------------------------\n",
      "EFG: converged | Loss: 24280.46\n",
      "EFG2: converged | Loss: 20736.48\n",
      "EFG3: converged | Loss: 18376.53\n",
      "EFT: converged | Loss: 26338.6\n",
      "EORB: converged | Loss: 20141.52\n",
      "EAST: converged | Loss: 20822.55\n",
      "ETOV: converged | Loss: 21776.41\n",
      "EBLK: converged | Loss: 16308.2\n",
      "----------------------------------------\n",
      "Iteration: 2\n",
      "----------------------------------------\n",
      "EFG: converged | Loss: 24280.46\n",
      "EFG2: converged | Loss: 20723.87\n",
      "EFG3: converged | Loss: 18375.81\n",
      "EFT: converged | Loss: 26338.6\n",
      "EORB: converged | Loss: 20141.49\n",
      "EAST: converged | Loss: 20822.55\n",
      "ETOV: converged | Loss: 21776.4\n",
      "EBLK: converged | Loss: 16308.03\n",
      "----------------------------------------\n",
      "Iteration: 3\n",
      "----------------------------------------\n",
      "EFG: converged | Loss: 24280.46\n",
      "EFG2: converged | Loss: 20723.76\n",
      "EFG3: converged | Loss: 18375.81\n",
      "EFT: converged | Loss: 26338.6\n",
      "EORB: converged | Loss: 20141.48\n",
      "EAST: converged | Loss: 20822.55\n",
      "ETOV: converged | Loss: 21776.37\n",
      "EBLK: converged | Loss: 16307.63\n"
     ]
    }
   ],
   "source": [
    "metrics = ['EFG', 'EFG2', 'EFG3', 'EFT', 'EORB', 'EAST', 'ETOV', 'EBLK']\n",
    "\n",
    "try:\n",
    "    with open('Data/{0}_x_vals_lr_dict.pkl'.format(year), 'rb') as f:\n",
    "        x_vals_dict = pickle.load(f)\n",
    "\n",
    "    with open('Data/{0}_home_adv_lr_dict.pkl'.format(year), 'rb') as f:\n",
    "        home_adv_dict = pickle.load(f)\n",
    "\n",
    "    for metric in metrics:\n",
    "        all_games_df[metric+'_alphas_team1'] = all_games_df.apply(lambda row: x_vals_dict[metric+'_alphas'][row['Team']] +\n",
    "                                                                              (home_adv_dict[metric+'_home_alpha'] if row['Home'] == 1 else\n",
    "                                                                               (home_adv_dict[metric+'_neutral_alpha'] if row['Home'] == 0 else 0)),\n",
    "                                                                  axis=1)\n",
    "\n",
    "        all_games_df[metric+'_betas_team1'] = all_games_df.apply(lambda row: x_vals_dict[metric+'_betas'][row['Team']] +\n",
    "                                                                             (home_adv_dict[metric+'_home_beta'] if row['Home'] == 1 else\n",
    "                                                                              (home_adv_dict[metric+'_neutral_beta'] if row['Home'] == 0 else 0)), axis=1)\n",
    "\n",
    "        all_games_df[metric+'_alphas_team2'] = all_games_df.apply(lambda row: x_vals_dict[metric+'_alphas'][row['Opponent']] +\n",
    "                                                                              (home_adv_dict[metric+'_home_alpha'] if row['Home'] == -1 else\n",
    "                                                                               (home_adv_dict[metric+'_neutral_alpha'] if row['Home'] == 0 else 0)),\n",
    "                                                                  axis=1)\n",
    "\n",
    "        all_games_df[metric+'_betas_team2'] = all_games_df.apply(lambda row: x_vals_dict[metric+'_betas'][row['Opponent']] +\n",
    "                                                                             (home_adv_dict[metric+'_home_beta'] if row['Home'] == -1 else\n",
    "                                                                              (home_adv_dict[metric+'_neutral_beta'] if row['Home'] == 0 else 0)), axis=1)\n",
    "\n",
    "        all_games_df[metric+'_avgs_team1'] = all_games_df.apply(lambda row: row[metric+'_alphas_team1'] /\n",
    "                                                                            (row[metric+'_alphas_team1'] + row[metric+'_betas_team2']), axis=1)\n",
    "\n",
    "        all_games_df[metric+'_avgs_team2'] = all_games_df.apply(lambda row: row[metric+'_alphas_team2'] /\n",
    "                                                                            (row[metric+'_alphas_team2'] + row[metric+'_betas_team1']), axis=1)\n",
    "\n",
    "    all_games_df['EDRB_avgs_team1'] = all_games_df.apply(lambda row: row['EORB_betas_team1'] /\n",
    "                                                             (row['EORB_betas_team1'] + row['EORB_alphas_team2']), axis=1)\n",
    "\n",
    "    all_games_df['EDRB_avgs_team2'] = all_games_df.apply(lambda row: row['EORB_betas_team2'] /\n",
    "                                                             (row['EORB_betas_team2'] + row['EORB_alphas_team1']), axis=1)\n",
    "\n",
    "except FileNotFoundError:\n",
    "    x_vals_dict = dict()\n",
    "    home_adv_dict = dict()\n",
    "    ab_populator(all_games_df, metrics, x_vals_dict, home_adv_dict, last_day_before_tournament)\n",
    "\n",
    "    with open('Data/{0}_x_vals_lr_dict.pkl'.format(year), 'wb') as f:\n",
    "        pickle.dump(x_vals_dict, f)\n",
    "\n",
    "    with open('Data/{0}_home_adv_lr_dict.pkl'.format(year), 'wb') as f:\n",
    "        pickle.dump(home_adv_dict, f)"
   ],
   "metadata": {
    "collapsed": false,
    "ExecuteTime": {
     "end_time": "2024-02-29T09:05:01.982577Z",
     "start_time": "2024-02-29T07:02:27.788035Z"
    }
   }
  },
  {
   "cell_type": "markdown",
   "source": [
    "Check that this date corresponds to the four play-in games"
   ],
   "metadata": {
    "collapsed": false
   }
  },
  {
   "cell_type": "code",
   "execution_count": 24,
   "outputs": [
    {
     "data": {
      "text/plain": "      GameId  DayNum  Team  Opponent  Win\n5463    5464     134   289        21    0\n5463    5464     134    21       289    1\n5464    5465     134   231        84    0\n5464    5465     134    84       231    1\n5465    5466     135   276        10    0\n5465    5466     135    10       276    1\n5466    5467     135   189       185    0\n5466    5467     135   185       189    1",
      "text/html": "<div>\n<style scoped>\n    .dataframe tbody tr th:only-of-type {\n        vertical-align: middle;\n    }\n\n    .dataframe tbody tr th {\n        vertical-align: top;\n    }\n\n    .dataframe thead th {\n        text-align: right;\n    }\n</style>\n<table border=\"1\" class=\"dataframe\">\n  <thead>\n    <tr style=\"text-align: right;\">\n      <th></th>\n      <th>GameId</th>\n      <th>DayNum</th>\n      <th>Team</th>\n      <th>Opponent</th>\n      <th>Win</th>\n    </tr>\n  </thead>\n  <tbody>\n    <tr>\n      <th>5463</th>\n      <td>5464</td>\n      <td>134</td>\n      <td>289</td>\n      <td>21</td>\n      <td>0</td>\n    </tr>\n    <tr>\n      <th>5463</th>\n      <td>5464</td>\n      <td>134</td>\n      <td>21</td>\n      <td>289</td>\n      <td>1</td>\n    </tr>\n    <tr>\n      <th>5464</th>\n      <td>5465</td>\n      <td>134</td>\n      <td>231</td>\n      <td>84</td>\n      <td>0</td>\n    </tr>\n    <tr>\n      <th>5464</th>\n      <td>5465</td>\n      <td>134</td>\n      <td>84</td>\n      <td>231</td>\n      <td>1</td>\n    </tr>\n    <tr>\n      <th>5465</th>\n      <td>5466</td>\n      <td>135</td>\n      <td>276</td>\n      <td>10</td>\n      <td>0</td>\n    </tr>\n    <tr>\n      <th>5465</th>\n      <td>5466</td>\n      <td>135</td>\n      <td>10</td>\n      <td>276</td>\n      <td>1</td>\n    </tr>\n    <tr>\n      <th>5466</th>\n      <td>5467</td>\n      <td>135</td>\n      <td>189</td>\n      <td>185</td>\n      <td>0</td>\n    </tr>\n    <tr>\n      <th>5466</th>\n      <td>5467</td>\n      <td>135</td>\n      <td>185</td>\n      <td>189</td>\n      <td>1</td>\n    </tr>\n  </tbody>\n</table>\n</div>"
     },
     "execution_count": 24,
     "metadata": {},
     "output_type": "execute_result"
    }
   ],
   "source": [
    "all_games_df[(all_games_df['DayNum'] >= last_day_before_tournament-1) & (all_games_df['DayNum'] <= last_day_before_tournament)][['GameId', 'DayNum', 'Team', 'Opponent', 'Win']]"
   ],
   "metadata": {
    "collapsed": false,
    "ExecuteTime": {
     "end_time": "2024-02-29T09:05:02.005701Z",
     "start_time": "2024-02-29T09:04:51.745699Z"
    }
   }
  },
  {
   "cell_type": "markdown",
   "source": [
    "# Save the Results"
   ],
   "metadata": {
    "collapsed": false
   }
  },
  {
   "cell_type": "code",
   "execution_count": 25,
   "outputs": [],
   "source": [
    "compression_opts = dict(method='zip', archive_name='NCAA_df_{0}.csv'.format(str(year)[-2:]))\n",
    "all_games_df.to_csv('NCAA_df_{0}.zip'.format(str(year)[-2:]), index=False, compression=compression_opts)"
   ],
   "metadata": {
    "collapsed": false,
    "ExecuteTime": {
     "end_time": "2024-02-29T09:05:02.005869Z",
     "start_time": "2024-02-29T09:04:51.751889Z"
    }
   }
  },
  {
   "cell_type": "markdown",
   "source": [
    "# Reinstate Team Names"
   ],
   "metadata": {
    "collapsed": false
   }
  },
  {
   "cell_type": "code",
   "execution_count": 59,
   "outputs": [
    {
     "data": {
      "text/plain": "      GameId           Team  DayNum  NumOT  Score  Home        Conf  \\\n0          1        Alabama       1    0.0     82     1         sec   \n0          1  Southern Univ       1    0.0     62    -1        swac   \n1          2  South Florida       1    0.0     80     1         aac   \n1          2    Alabama A&M       1    0.0     63    -1        swac   \n2          3        Iowa St       1    0.0     79     1  big_twelve   \n...      ...            ...     ...    ...    ...   ...         ...   \n5527    5528         Auburn     152    0.0     62     0         sec   \n5528    5529     Texas Tech     152    0.0     61     0  big_twelve   \n5528    5529    Michigan St     152    0.0     51     0     big_ten   \n5529    5530       Virginia     154    1.0     85     0         acc   \n5529    5530     Texas Tech     154    1.0     77     0  big_twelve   \n\n         OppConf  Seed  EFG_N  ...  ETOV_avgs_team1  ETOV_avgs_team2  \\\n0           swac   NaN     32  ...         0.198659         0.176691   \n0            sec   NaN     22  ...         0.176691         0.198659   \n1           swac   NaN     34  ...         0.243516         0.204495   \n1            aac   NaN     26  ...         0.204495         0.243516   \n2           swac   6.0     37  ...         0.188177         0.147219   \n...          ...   ...    ...  ...              ...              ...   \n5527         acc   5.0     26  ...         0.169300         0.145594   \n5528     big_ten   3.0     26  ...         0.201261         0.132979   \n5528  big_twelve   2.0     18  ...         0.132979         0.201261   \n5529  big_twelve   1.0     32  ...         0.155862         0.154279   \n5529         acc   3.0     32  ...         0.154279         0.155862   \n\n      EBLK_alphas_team1  EBLK_betas_team1  EBLK_alphas_team2  \\\n0             70.857967        769.755656          31.713175   \n0             31.713175        520.838352          70.857967   \n1             49.328668        635.022225          18.774461   \n1             18.774461        582.000176          49.328668   \n2             67.164063       1130.381158          37.225651   \n...                 ...               ...                ...   \n5527          80.198407        960.833364          63.842209   \n5528          77.580444       1182.436534          78.145256   \n5528          78.145256        966.831651          77.580444   \n5529          63.842209        980.463322          77.580444   \n5529          77.580444       1182.436534          63.842209   \n\n      EBLK_betas_team2  EBLK_avgs_team1  EBLK_avgs_team2  EDRB_avgs_team1  \\\n0           520.838352         0.119754         0.039569         0.760160   \n0           769.755656         0.039569         0.119754         0.628058   \n1           582.000176         0.078135         0.028716         0.767869   \n1           635.022225         0.028716         0.078135         0.580400   \n2           509.346441         0.116501         0.031882         0.709813   \n...                ...              ...              ...              ...   \n5527        980.463322         0.075612         0.062305         0.681012   \n5528        966.831651         0.074281         0.061991         0.663684   \n5528       1182.436534         0.061991         0.074281         0.742242   \n5529       1182.436534         0.051226         0.073324         0.756856   \n5529        980.463322         0.073324         0.051226         0.711769   \n\n     EDRB_avgs_team2  \n0           0.628058  \n0           0.760160  \n1           0.580400  \n1           0.767869  \n2           0.649918  \n...              ...  \n5527        0.718342  \n5528        0.742242  \n5528        0.663684  \n5529        0.711769  \n5529        0.756856  \n\n[11060 rows x 105 columns]",
      "text/html": "<div>\n<style scoped>\n    .dataframe tbody tr th:only-of-type {\n        vertical-align: middle;\n    }\n\n    .dataframe tbody tr th {\n        vertical-align: top;\n    }\n\n    .dataframe thead th {\n        text-align: right;\n    }\n</style>\n<table border=\"1\" class=\"dataframe\">\n  <thead>\n    <tr style=\"text-align: right;\">\n      <th></th>\n      <th>GameId</th>\n      <th>Team</th>\n      <th>DayNum</th>\n      <th>NumOT</th>\n      <th>Score</th>\n      <th>Home</th>\n      <th>Conf</th>\n      <th>OppConf</th>\n      <th>Seed</th>\n      <th>EFG_N</th>\n      <th>...</th>\n      <th>ETOV_avgs_team1</th>\n      <th>ETOV_avgs_team2</th>\n      <th>EBLK_alphas_team1</th>\n      <th>EBLK_betas_team1</th>\n      <th>EBLK_alphas_team2</th>\n      <th>EBLK_betas_team2</th>\n      <th>EBLK_avgs_team1</th>\n      <th>EBLK_avgs_team2</th>\n      <th>EDRB_avgs_team1</th>\n      <th>EDRB_avgs_team2</th>\n    </tr>\n  </thead>\n  <tbody>\n    <tr>\n      <th>0</th>\n      <td>1</td>\n      <td>Alabama</td>\n      <td>1</td>\n      <td>0.0</td>\n      <td>82</td>\n      <td>1</td>\n      <td>sec</td>\n      <td>swac</td>\n      <td>NaN</td>\n      <td>32</td>\n      <td>...</td>\n      <td>0.198659</td>\n      <td>0.176691</td>\n      <td>70.857967</td>\n      <td>769.755656</td>\n      <td>31.713175</td>\n      <td>520.838352</td>\n      <td>0.119754</td>\n      <td>0.039569</td>\n      <td>0.760160</td>\n      <td>0.628058</td>\n    </tr>\n    <tr>\n      <th>0</th>\n      <td>1</td>\n      <td>Southern Univ</td>\n      <td>1</td>\n      <td>0.0</td>\n      <td>62</td>\n      <td>-1</td>\n      <td>swac</td>\n      <td>sec</td>\n      <td>NaN</td>\n      <td>22</td>\n      <td>...</td>\n      <td>0.176691</td>\n      <td>0.198659</td>\n      <td>31.713175</td>\n      <td>520.838352</td>\n      <td>70.857967</td>\n      <td>769.755656</td>\n      <td>0.039569</td>\n      <td>0.119754</td>\n      <td>0.628058</td>\n      <td>0.760160</td>\n    </tr>\n    <tr>\n      <th>1</th>\n      <td>2</td>\n      <td>South Florida</td>\n      <td>1</td>\n      <td>0.0</td>\n      <td>80</td>\n      <td>1</td>\n      <td>aac</td>\n      <td>swac</td>\n      <td>NaN</td>\n      <td>34</td>\n      <td>...</td>\n      <td>0.243516</td>\n      <td>0.204495</td>\n      <td>49.328668</td>\n      <td>635.022225</td>\n      <td>18.774461</td>\n      <td>582.000176</td>\n      <td>0.078135</td>\n      <td>0.028716</td>\n      <td>0.767869</td>\n      <td>0.580400</td>\n    </tr>\n    <tr>\n      <th>1</th>\n      <td>2</td>\n      <td>Alabama A&amp;M</td>\n      <td>1</td>\n      <td>0.0</td>\n      <td>63</td>\n      <td>-1</td>\n      <td>swac</td>\n      <td>aac</td>\n      <td>NaN</td>\n      <td>26</td>\n      <td>...</td>\n      <td>0.204495</td>\n      <td>0.243516</td>\n      <td>18.774461</td>\n      <td>582.000176</td>\n      <td>49.328668</td>\n      <td>635.022225</td>\n      <td>0.028716</td>\n      <td>0.078135</td>\n      <td>0.580400</td>\n      <td>0.767869</td>\n    </tr>\n    <tr>\n      <th>2</th>\n      <td>3</td>\n      <td>Iowa St</td>\n      <td>1</td>\n      <td>0.0</td>\n      <td>79</td>\n      <td>1</td>\n      <td>big_twelve</td>\n      <td>swac</td>\n      <td>6.0</td>\n      <td>37</td>\n      <td>...</td>\n      <td>0.188177</td>\n      <td>0.147219</td>\n      <td>67.164063</td>\n      <td>1130.381158</td>\n      <td>37.225651</td>\n      <td>509.346441</td>\n      <td>0.116501</td>\n      <td>0.031882</td>\n      <td>0.709813</td>\n      <td>0.649918</td>\n    </tr>\n    <tr>\n      <th>...</th>\n      <td>...</td>\n      <td>...</td>\n      <td>...</td>\n      <td>...</td>\n      <td>...</td>\n      <td>...</td>\n      <td>...</td>\n      <td>...</td>\n      <td>...</td>\n      <td>...</td>\n      <td>...</td>\n      <td>...</td>\n      <td>...</td>\n      <td>...</td>\n      <td>...</td>\n      <td>...</td>\n      <td>...</td>\n      <td>...</td>\n      <td>...</td>\n      <td>...</td>\n      <td>...</td>\n    </tr>\n    <tr>\n      <th>5527</th>\n      <td>5528</td>\n      <td>Auburn</td>\n      <td>152</td>\n      <td>0.0</td>\n      <td>62</td>\n      <td>0</td>\n      <td>sec</td>\n      <td>acc</td>\n      <td>5.0</td>\n      <td>26</td>\n      <td>...</td>\n      <td>0.169300</td>\n      <td>0.145594</td>\n      <td>80.198407</td>\n      <td>960.833364</td>\n      <td>63.842209</td>\n      <td>980.463322</td>\n      <td>0.075612</td>\n      <td>0.062305</td>\n      <td>0.681012</td>\n      <td>0.718342</td>\n    </tr>\n    <tr>\n      <th>5528</th>\n      <td>5529</td>\n      <td>Texas Tech</td>\n      <td>152</td>\n      <td>0.0</td>\n      <td>61</td>\n      <td>0</td>\n      <td>big_twelve</td>\n      <td>big_ten</td>\n      <td>3.0</td>\n      <td>26</td>\n      <td>...</td>\n      <td>0.201261</td>\n      <td>0.132979</td>\n      <td>77.580444</td>\n      <td>1182.436534</td>\n      <td>78.145256</td>\n      <td>966.831651</td>\n      <td>0.074281</td>\n      <td>0.061991</td>\n      <td>0.663684</td>\n      <td>0.742242</td>\n    </tr>\n    <tr>\n      <th>5528</th>\n      <td>5529</td>\n      <td>Michigan St</td>\n      <td>152</td>\n      <td>0.0</td>\n      <td>51</td>\n      <td>0</td>\n      <td>big_ten</td>\n      <td>big_twelve</td>\n      <td>2.0</td>\n      <td>18</td>\n      <td>...</td>\n      <td>0.132979</td>\n      <td>0.201261</td>\n      <td>78.145256</td>\n      <td>966.831651</td>\n      <td>77.580444</td>\n      <td>1182.436534</td>\n      <td>0.061991</td>\n      <td>0.074281</td>\n      <td>0.742242</td>\n      <td>0.663684</td>\n    </tr>\n    <tr>\n      <th>5529</th>\n      <td>5530</td>\n      <td>Virginia</td>\n      <td>154</td>\n      <td>1.0</td>\n      <td>85</td>\n      <td>0</td>\n      <td>acc</td>\n      <td>big_twelve</td>\n      <td>1.0</td>\n      <td>32</td>\n      <td>...</td>\n      <td>0.155862</td>\n      <td>0.154279</td>\n      <td>63.842209</td>\n      <td>980.463322</td>\n      <td>77.580444</td>\n      <td>1182.436534</td>\n      <td>0.051226</td>\n      <td>0.073324</td>\n      <td>0.756856</td>\n      <td>0.711769</td>\n    </tr>\n    <tr>\n      <th>5529</th>\n      <td>5530</td>\n      <td>Texas Tech</td>\n      <td>154</td>\n      <td>1.0</td>\n      <td>77</td>\n      <td>0</td>\n      <td>big_twelve</td>\n      <td>acc</td>\n      <td>3.0</td>\n      <td>32</td>\n      <td>...</td>\n      <td>0.154279</td>\n      <td>0.155862</td>\n      <td>77.580444</td>\n      <td>1182.436534</td>\n      <td>63.842209</td>\n      <td>980.463322</td>\n      <td>0.073324</td>\n      <td>0.051226</td>\n      <td>0.711769</td>\n      <td>0.756856</td>\n    </tr>\n  </tbody>\n</table>\n<p>11060 rows × 105 columns</p>\n</div>"
     },
     "execution_count": 59,
     "metadata": {},
     "output_type": "execute_result"
    }
   ],
   "source": [
    "inv_map = {v: k for k, v in teams_dictionary.items()}\n",
    "all_games_df = all_games_df.replace({\"Team\": inv_map})\n",
    "all_games_df = all_games_df.replace({\"Opponent\": inv_map})\n",
    "all_games_df"
   ],
   "metadata": {
    "collapsed": false,
    "ExecuteTime": {
     "end_time": "2024-02-29T09:21:29.310569Z",
     "start_time": "2024-02-29T09:21:29.190252Z"
    }
   }
  },
  {
   "cell_type": "markdown",
   "source": [
    "# GaTech's LRMC"
   ],
   "metadata": {
    "collapsed": false
   }
  },
  {
   "cell_type": "markdown",
   "source": [
    "Helper Function"
   ],
   "metadata": {
    "collapsed": false
   }
  },
  {
   "cell_type": "code",
   "execution_count": 60,
   "outputs": [],
   "source": [
    "def only_smaller(lst):\n",
    "    lst = list(lst)\n",
    "    smallest = lst[0]\n",
    "    new_lst = []\n",
    "    for item in lst:\n",
    "        if item < smallest:\n",
    "            smallest = item\n",
    "        new_lst.append(smallest)\n",
    "    return new_lst"
   ],
   "metadata": {
    "collapsed": false,
    "ExecuteTime": {
     "end_time": "2024-02-29T09:21:29.313582Z",
     "start_time": "2024-02-29T09:21:29.310827Z"
    }
   }
  },
  {
   "cell_type": "markdown",
   "source": [
    "## Getting the Rankings"
   ],
   "metadata": {
    "collapsed": false
   }
  },
  {
   "cell_type": "code",
   "execution_count": 80,
   "outputs": [],
   "source": [
    "temp = all_games_df[all_games_df['DayNum'] >= last_day_before_tournament+1][['Team', 'Opponent']]\n",
    "temp = temp['Team'].to_list() + temp['Opponent'].to_list()\n",
    "tour_teams = list(set(temp))\n",
    "\n",
    "tour_games = all_games_df[all_games_df['DayNum'] >= last_day_before_tournament+1][['GameId', 'Team', 'Opponent', 'Win']]\n",
    "\n",
    "tour_games['Winner'] = tour_games.apply(lambda x: x['Team'] if x['Win'] else x['Opponent'], axis=1)\n",
    "tour_games_long = tour_games.copy()"
   ],
   "metadata": {
    "collapsed": false,
    "ExecuteTime": {
     "end_time": "2024-02-29T10:34:54.622816Z",
     "start_time": "2024-02-29T10:34:54.609605Z"
    }
   }
  },
  {
   "cell_type": "code",
   "execution_count": 62,
   "outputs": [
    {
     "name": "stdout",
     "output_type": "stream",
     "text": [
      "St Louis 71\n",
      "Northeastern 68\n",
      "Iona 185\n",
      "Iowa St 15\n",
      "Wisconsin 13\n",
      "Florida 30\n",
      "Abilene Chr 160\n",
      "Michigan 6\n",
      "St Mary's CA 39\n",
      "Kansas 18\n",
      "Baylor 50\n",
      "Colgate 100\n",
      "N Dakota St 203\n",
      "Houston 17\n",
      "Virginia 4\n",
      "Seton Hall 53\n",
      "North Carolina 5\n",
      "Oregon 32\n",
      "UCF 54\n",
      "Bradley 148\n",
      "Syracuse 38\n",
      "Yale 92\n",
      "Belmont 47\n",
      "Tennessee 7\n",
      "Michigan St 3\n",
      "Marquette 26\n",
      "Florida St 16\n",
      "Maryland 28\n",
      "Texas Tech 8\n",
      "Ohio St 45\n",
      "Utah St 29\n",
      "Montana 114\n",
      "Gonzaga 1\n",
      "Minnesota 51\n",
      "Vermont 67\n",
      "Purdue 11\n",
      "UC Irvine 65\n",
      "Virginia Tech 14\n",
      "Kansas St 25\n",
      "Duke 2\n",
      "Old Dominion 90\n",
      "Oklahoma 40\n",
      "Washington 36\n",
      "Iowa 43\n",
      "Wofford 24\n",
      "Arizona St 57\n",
      "Mississippi 42\n",
      "Buffalo 12\n",
      "F Dickinson 196\n",
      "Auburn 10\n",
      "Kentucky 9\n",
      "Nevada 19\n",
      "LSU 23\n",
      "Cincinnati 27\n",
      "Gardner Webb 157\n",
      "Mississippi St 21\n",
      "Murray St 52\n",
      "VA_Commonwealth 35\n",
      "Villanova 22\n",
      "Georgia St 97\n",
      "N Kentucky 84\n",
      "Liberty 64\n",
      "Louisville 20\n",
      "New Mexico St 41\n",
      "St Louis 71\n",
      "Northeastern 68\n",
      "Iona 185\n",
      "Iowa St 15\n",
      "Wisconsin 13\n",
      "Florida 30\n",
      "Abilene Chr 160\n",
      "Michigan 6\n",
      "St Mary's CA 39\n",
      "Kansas 18\n",
      "Baylor 50\n",
      "Colgate 100\n",
      "N Dakota St 203\n",
      "Houston 17\n",
      "Virginia 4\n",
      "Seton Hall 53\n",
      "North Carolina 5\n",
      "Oregon 32\n",
      "UCF 54\n",
      "Bradley 148\n",
      "Syracuse 38\n",
      "Yale 92\n",
      "Belmont 47\n",
      "Tennessee 7\n",
      "Michigan St 3\n",
      "Marquette 26\n",
      "Florida St 16\n",
      "Maryland 28\n",
      "Texas Tech 8\n",
      "Ohio St 45\n",
      "Utah St 29\n",
      "Montana 114\n",
      "Gonzaga 1\n",
      "Minnesota 51\n",
      "Vermont 67\n",
      "Purdue 11\n",
      "UC Irvine 65\n",
      "Virginia Tech 14\n",
      "Kansas St 25\n",
      "Duke 2\n",
      "Old Dominion 90\n",
      "Oklahoma 40\n",
      "Washington 36\n",
      "Iowa 43\n",
      "Wofford 24\n",
      "Arizona St 57\n",
      "Mississippi 42\n",
      "Buffalo 12\n",
      "F Dickinson 196\n",
      "Auburn 10\n",
      "Kentucky 9\n",
      "Nevada 19\n",
      "LSU 23\n",
      "Cincinnati 27\n",
      "Gardner Webb 157\n",
      "Mississippi St 21\n",
      "Murray St 52\n"
     ]
    }
   ],
   "source": [
    "ranking_dict = {}\n",
    "unmatched_schools = []\n",
    "for team in tour_teams:\n",
    "    team_cleaned = team.replace(' ', '_')\n",
    "    url = \"https://www2.isye.gatech.edu/~jsokol/lrmc/TEAMS/{0}/\".format(year) + team_cleaned + \".lrmc.sort0.php\"\n",
    "\n",
    "    try:\n",
    "        aia_session = AIASession()\n",
    "        context = aia_session.ssl_context_from_url(url)\n",
    "        response = urlopen(url, context=context)\n",
    "        soup = BeautifulSoup(response)\n",
    "        metadata = soup.find_all('b')\n",
    "        val = metadata[1]\n",
    "        val = str(val)\n",
    "        loc = val.find(\"=\")\n",
    "        val = val[loc+1:]\n",
    "        loc = val.find(\"<\")\n",
    "        val = val[:loc]\n",
    "        val = val.strip()\n",
    "        val = int(val)\n",
    "        ranking_dict[team] = val\n",
    "        print(team, val)\n",
    "\n",
    "    except:\n",
    "        unmatched_schools.append(team)"
   ],
   "metadata": {
    "collapsed": false
   }
  },
  {
   "cell_type": "markdown",
   "source": [
    "Check that all schools matched (the list should be empty)"
   ],
   "metadata": {
    "collapsed": false
   }
  },
  {
   "cell_type": "code",
   "execution_count": 78,
   "outputs": [
    {
     "data": {
      "text/plain": "['VCU']"
     },
     "execution_count": 78,
     "metadata": {},
     "output_type": "execute_result"
    }
   ],
   "source": [
    "unmatched_schools"
   ],
   "metadata": {
    "collapsed": false,
    "ExecuteTime": {
     "end_time": "2024-02-29T10:34:38.302003Z",
     "start_time": "2024-02-29T10:34:38.294527Z"
    }
   }
  },
  {
   "cell_type": "code",
   "execution_count": 81,
   "outputs": [],
   "source": [
    "tour_games_long['Team'] = tour_games_long['Team'].apply(lambda x: 'VA_Commonwealth' if x == 'VCU' else x)\n",
    "tour_games_long['Opponent'] = tour_games_long['Opponent'].apply(lambda x: 'VA_Commonwealth' if x == 'VCU' else x)\n",
    "tour_teams.remove('VCU')\n",
    "tour_teams.append('VA_Commonwealth')"
   ],
   "metadata": {
    "collapsed": false,
    "ExecuteTime": {
     "end_time": "2024-02-29T10:34:56.931429Z",
     "start_time": "2024-02-29T10:34:56.924279Z"
    }
   }
  },
  {
   "cell_type": "code",
   "execution_count": 82,
   "outputs": [
    {
     "name": "stdout",
     "output_type": "stream",
     "text": [
      "VA_Commonwealth 35\n"
     ]
    }
   ],
   "source": [
    "unmatched_schools = []\n",
    "for team in ['VA_Commonwealth']:\n",
    "    team_cleaned = team.replace(' ', '_')\n",
    "    url = \"https://www2.isye.gatech.edu/~jsokol/lrmc/TEAMS/{0}/\".format(year) + team_cleaned + \".lrmc.sort0.php\"\n",
    "\n",
    "    try:\n",
    "        aia_session = AIASession()\n",
    "        context = aia_session.ssl_context_from_url(url)\n",
    "        response = urlopen(url, context=context)\n",
    "        soup = BeautifulSoup(response)\n",
    "        metadata = soup.find_all('b')\n",
    "        val = metadata[1]\n",
    "        val = str(val)\n",
    "        loc = val.find(\"=\")\n",
    "        val = val[loc+1:]\n",
    "        loc = val.find(\"<\")\n",
    "        val = val[:loc]\n",
    "        val = val.strip()\n",
    "        val = int(val)\n",
    "        ranking_dict[team] = val\n",
    "        print(team, val)\n",
    "\n",
    "    except:\n",
    "        unmatched_schools.append(team)"
   ],
   "metadata": {
    "collapsed": false,
    "ExecuteTime": {
     "end_time": "2024-02-29T10:35:01.983316Z",
     "start_time": "2024-02-29T10:34:59.145983Z"
    }
   }
  },
  {
   "cell_type": "code",
   "execution_count": 83,
   "outputs": [
    {
     "data": {
      "text/plain": "[]"
     },
     "execution_count": 83,
     "metadata": {},
     "output_type": "execute_result"
    }
   ],
   "source": [
    "unmatched_schools"
   ],
   "metadata": {
    "collapsed": false,
    "ExecuteTime": {
     "end_time": "2024-02-29T10:35:03.027748Z",
     "start_time": "2024-02-29T10:35:03.000176Z"
    }
   }
  },
  {
   "cell_type": "markdown",
   "source": [
    "Check rankings"
   ],
   "metadata": {
    "collapsed": false
   }
  },
  {
   "cell_type": "code",
   "execution_count": 84,
   "outputs": [
    {
     "data": {
      "text/plain": "[('Gonzaga', 1),\n ('Duke', 2),\n ('Michigan St', 3),\n ('Virginia', 4),\n ('North Carolina', 5),\n ('Michigan', 6),\n ('Tennessee', 7),\n ('Texas Tech', 8),\n ('Kentucky', 9),\n ('Auburn', 10),\n ('Purdue', 11),\n ('Buffalo', 12),\n ('Wisconsin', 13),\n ('Virginia Tech', 14),\n ('Iowa St', 15),\n ('Florida St', 16),\n ('Houston', 17),\n ('Kansas', 18),\n ('Nevada', 19),\n ('Louisville', 20),\n ('Mississippi St', 21),\n ('Villanova', 22),\n ('LSU', 23),\n ('Wofford', 24),\n ('Kansas St', 25),\n ('Marquette', 26),\n ('Cincinnati', 27),\n ('Maryland', 28),\n ('Utah St', 29),\n ('Florida', 30),\n ('Oregon', 32),\n ('VA_Commonwealth', 35),\n ('Washington', 36),\n ('Syracuse', 38),\n (\"St Mary's CA\", 39),\n ('Oklahoma', 40),\n ('New Mexico St', 41),\n ('Mississippi', 42),\n ('Iowa', 43),\n ('Ohio St', 45),\n ('Belmont', 47),\n ('Baylor', 50),\n ('Minnesota', 51),\n ('Murray St', 52),\n ('Seton Hall', 53),\n ('UCF', 54),\n ('Arizona St', 57),\n ('Liberty', 64),\n ('UC Irvine', 65),\n ('Vermont', 67),\n ('Northeastern', 68),\n ('St Louis', 71),\n ('N Kentucky', 84),\n ('Old Dominion', 90),\n ('Yale', 92),\n ('Georgia St', 97),\n ('Colgate', 100),\n ('Montana', 114),\n ('Bradley', 148),\n ('Gardner Webb', 157),\n ('Abilene Chr', 160),\n ('Iona', 185),\n ('F Dickinson', 196),\n ('N Dakota St', 203)]"
     },
     "execution_count": 84,
     "metadata": {},
     "output_type": "execute_result"
    }
   ],
   "source": [
    "sorted(ranking_dict.items(), key=lambda x:x[1])"
   ],
   "metadata": {
    "collapsed": false,
    "ExecuteTime": {
     "end_time": "2024-02-29T10:35:04.864161Z",
     "start_time": "2024-02-29T10:35:04.854346Z"
    }
   }
  },
  {
   "cell_type": "markdown",
   "source": [
    "## LRMC Tournament Performance"
   ],
   "metadata": {
    "collapsed": false
   }
  },
  {
   "cell_type": "code",
   "execution_count": 85,
   "outputs": [
    {
     "name": "stdout",
     "output_type": "stream",
     "text": [
      "Kentucky defeats Abilene Chr\n",
      "Auburn defeats New Mexico St\n",
      "Maryland defeats Belmont\n",
      "Michigan St defeats Bradley\n",
      "Gonzaga defeats F Dickinson\n",
      "Florida St defeats Vermont\n",
      "Kansas defeats Northeastern\n",
      "LSU defeats Yale\n",
      "Michigan defeats Montana\n",
      "Purdue defeats Old Dominion\n",
      "Wofford defeats Seton Hall\n",
      "Villanova defeats St Mary's CA\n",
      "Buffalo defeats Arizona St\n",
      "Tennessee defeats Colgate\n",
      "Duke defeats N Dakota St\n",
      "Virginia defeats Gardner Webb\n",
      "Houston defeats Georgia St\n",
      "North Carolina defeats Iona\n",
      "Oklahoma defeats Mississippi\n",
      "Texas Tech defeats N Kentucky\n",
      "Virginia Tech defeats St Louis\n",
      "Auburn defeats Kansas\n",
      "Gonzaga defeats Baylor\n",
      "Michigan defeats Florida\n",
      "Florida St defeats Murray St\n",
      "Kentucky defeats Wofford\n",
      "LSU defeats Maryland\n",
      "Michigan St defeats Minnesota\n",
      "Purdue defeats Villanova\n",
      "Texas Tech defeats Buffalo\n",
      "Tennessee defeats Iowa\n",
      "Virginia Tech defeats Liberty\n",
      "North Carolina defeats Washington\n",
      "Virginia defeats Oklahoma\n",
      "Gonzaga defeats Florida St\n",
      "Virginia defeats Oregon\n",
      "Kentucky defeats Houston\n",
      "Michigan St defeats LSU\n",
      "Virginia defeats Purdue\n",
      "Virginia defeats Auburn\n"
     ]
    },
    {
     "data": {
      "text/plain": "40"
     },
     "execution_count": 85,
     "metadata": {},
     "output_type": "execute_result"
    }
   ],
   "source": [
    "tour_games = all_games_df[all_games_df['DayNum'] >= last_day_before_tournament+1][['GameId', 'Team', 'Opponent', 'Win']]\n",
    "\n",
    "for team in tour_teams:\n",
    "    tour_games.loc[tour_games['Team'] == team, 'Team_Rank'] = ranking_dict[team]\n",
    "    tour_games.loc[tour_games['Opponent'] == team, 'Opp_Rank'] = ranking_dict[team]\n",
    "\n",
    "tour_games['Winner'] = tour_games.apply(lambda x: x['Team'] if x['Win'] else x['Opponent'], axis=1)\n",
    "tour_games_long = tour_games.copy()\n",
    "\n",
    "for i in range(7):\n",
    "    tour_games['Cum_Rank'] = tour_games.apply(lambda x: min(x['Team_Rank'], x['Opp_Rank']), axis=1)\n",
    "    tour_games['Cum_Team_Rank_Final'] = 0\n",
    "    tour_games['Cum_Opp_Rank_Final'] = 0\n",
    "    for team in tour_teams:\n",
    "        lst = tour_games[tour_games['Opponent'] == team][['Cum_Rank']].apply(only_smaller, axis=0)['Cum_Rank'].tolist()\n",
    "        lst.insert(0, 1000)\n",
    "        lst.pop()\n",
    "        tour_games.loc[tour_games['Opponent'] == team, 'Cum_Opp_Rank_Final'] = lst\n",
    "\n",
    "        lst2 = tour_games[tour_games['Team'] == team][['Cum_Rank']].apply(only_smaller, axis=0)['Cum_Rank'].tolist()\n",
    "        lst2.insert(0, 1000)\n",
    "        lst2.pop()\n",
    "        tour_games.loc[tour_games['Team'] == team, 'Cum_Team_Rank_Final'] = lst2\n",
    "\n",
    "    tour_games['Opp_Rank'] = tour_games.apply(lambda x : min(x['Cum_Opp_Rank_Final'], x['Opp_Rank']), axis=1)\n",
    "    tour_games['Team_Rank'] = tour_games.apply(lambda x : min(x['Cum_Team_Rank_Final'], x['Team_Rank']), axis=1)\n",
    "\n",
    "tour_games['Pred_Winner'] = tour_games.apply(lambda x: x['Team'] if x['Team_Rank'] < x['Opp_Rank'] else x['Opponent'], axis=1)\n",
    "tour_games['Pred_Loser'] = tour_games.apply(lambda x: x['Team'] if x['Team_Rank'] > x['Opp_Rank'] else x['Opponent'], axis=1)\n",
    "\n",
    "tour_games['Correct'] = tour_games.apply(lambda x: 1 if x['Pred_Winner'] == x['Winner'] else 0, axis=1)\n",
    "\n",
    "tour_games_long['Pred_Winner'] = tour_games_long.apply(lambda x: x['Team'] if x['Team_Rank'] < x['Opp_Rank'] else x['Opponent'], axis=1)\n",
    "tour_games_long['Pred_Loser'] = tour_games_long.apply(lambda x: x['Team'] if x['Team_Rank'] > x['Opp_Rank'] else x['Opponent'], axis=1)\n",
    "tour_games_long['Correct'] = tour_games_long.apply(lambda x: 1 if x['Pred_Winner'] == x['Winner'] else 0, axis=1)\n",
    "tour_games_long = tour_games_long[['GameId', 'Pred_Winner', 'Pred_Loser', 'Correct', 'Team_Rank', 'Opp_Rank']]\n",
    "tour_games_long = tour_games_long.reset_index(drop=True)\n",
    "tour_games_long = tour_games_long[tour_games_long.index % 2 == 0]\n",
    "tour_games_long = tour_games_long.to_numpy()\n",
    "\n",
    "tour_games = tour_games[['GameId', 'Pred_Winner', 'Pred_Loser', 'Correct', 'Team_Rank', 'Opp_Rank']]\n",
    "tour_games = tour_games.reset_index(drop=True)\n",
    "tour_games = tour_games[tour_games.index % 2 == 0]\n",
    "\n",
    "tour_games = tour_games.to_numpy()\n",
    "\n",
    "correct_count = 0\n",
    "tour_teams_copy = tour_teams.copy()\n",
    "for game in tour_games:\n",
    "    if game[1] in tour_teams_copy and game[3]:\n",
    "        correct_count += 1\n",
    "        print(game[1], 'defeats', game[2])\n",
    "    try:\n",
    "        tour_teams_copy.remove(game[2])\n",
    "    except:\n",
    "        pass\n",
    "correct_count"
   ],
   "metadata": {
    "collapsed": false,
    "ExecuteTime": {
     "end_time": "2024-02-29T10:35:06.056728Z",
     "start_time": "2024-02-29T10:35:05.628371Z"
    }
   }
  },
  {
   "cell_type": "markdown",
   "source": [
    "The win total when picking all match-up winners at the start (like with a normal bracket) is shown above.\n",
    "Below are the results when picking each match-up winner based on which teams made it to this stage in the tournament\n",
    "(note that it does not take into consideration the teams' performance in earlier rounds of the tournament – all\n",
    "features used in the models are taken prior to the start of the tournament). The top method is more difficult,\n",
    "because even though you may have correctly predicted that Team B defeats Team C, if you had Team B losing to\n",
    "Team A in the previous round, then you wouldn't have the option of choosing Team B in this round\n",
    "(you would have likely chosen Team A – your prejected winner from the previous round, whom you thought would\n",
    "be playing in this next game). If a top team loses early, but you had them winning in many future rounds,\n",
    "then you no longer would have a chance at picking any of those games correctly."
   ],
   "metadata": {
    "collapsed": false
   }
  },
  {
   "cell_type": "code",
   "execution_count": 86,
   "outputs": [
    {
     "name": "stdout",
     "output_type": "stream",
     "text": [
      "Kentucky defeats Abilene Chr\n",
      "Auburn defeats New Mexico St\n",
      "Maryland defeats Belmont\n",
      "Michigan St defeats Bradley\n",
      "Gonzaga defeats F Dickinson\n",
      "Florida St defeats Vermont\n",
      "Kansas defeats Northeastern\n",
      "LSU defeats Yale\n",
      "Michigan defeats Montana\n",
      "Purdue defeats Old Dominion\n",
      "Wofford defeats Seton Hall\n",
      "Villanova defeats St Mary's CA\n",
      "Buffalo defeats Arizona St\n",
      "Tennessee defeats Colgate\n",
      "Duke defeats N Dakota St\n",
      "Virginia defeats Gardner Webb\n",
      "Houston defeats Georgia St\n",
      "North Carolina defeats Iona\n",
      "Oklahoma defeats Mississippi\n",
      "Texas Tech defeats N Kentucky\n",
      "Virginia Tech defeats St Louis\n",
      "UCF defeats UCF\n",
      "Auburn defeats Kansas\n",
      "Gonzaga defeats Baylor\n",
      "Michigan defeats Florida\n",
      "Florida St defeats Murray St\n",
      "Kentucky defeats Wofford\n",
      "LSU defeats Maryland\n",
      "Michigan St defeats Minnesota\n",
      "Purdue defeats Villanova\n",
      "Texas Tech defeats Buffalo\n",
      "Duke defeats UCF\n",
      "Houston defeats Ohio St\n",
      "Tennessee defeats Iowa\n",
      "Virginia Tech defeats Liberty\n",
      "North Carolina defeats Washington\n",
      "Virginia defeats Oklahoma\n",
      "Oregon defeats UC Irvine\n",
      "Gonzaga defeats Florida St\n",
      "Virginia defeats Oregon\n",
      "Duke defeats Virginia Tech\n",
      "Kentucky defeats Houston\n",
      "Michigan St defeats LSU\n",
      "Virginia defeats Purdue\n",
      "Virginia defeats Auburn\n",
      "Virginia defeats Texas Tech\n"
     ]
    },
    {
     "data": {
      "text/plain": "46"
     },
     "execution_count": 86,
     "metadata": {},
     "output_type": "execute_result"
    }
   ],
   "source": [
    "correct_count = 0\n",
    "tour_teams_copy = tour_teams.copy()\n",
    "for game in tour_games_long:\n",
    "    if game[3]:\n",
    "        correct_count += 1\n",
    "        print(game[1], 'defeats', game[2])\n",
    "    try:\n",
    "        tour_teams_copy.remove(game[2])\n",
    "    except:\n",
    "        pass\n",
    "correct_count"
   ],
   "metadata": {
    "collapsed": false,
    "ExecuteTime": {
     "end_time": "2024-02-29T10:35:07.829469Z",
     "start_time": "2024-02-29T10:35:07.820493Z"
    }
   }
  },
  {
   "cell_type": "markdown",
   "source": [
    "# Chalk Performance"
   ],
   "metadata": {
    "collapsed": false
   }
  },
  {
   "cell_type": "markdown",
   "source": [
    "When picking winners based on their seeds (chalk) we run into the issue of teams with the same seeds\n",
    "playing each other in the Final Four and championship rounds. I've chosen to award half a point when\n",
    "predicting the winner."
   ],
   "metadata": {
    "collapsed": false
   }
  },
  {
   "cell_type": "code",
   "execution_count": 87,
   "outputs": [],
   "source": [
    "tour_games = all_games_df[all_games_df['DayNum'] >= last_day_before_tournament+1][['GameId', 'Team', 'Opponent', 'Win', 'Seed', 'Seed_Opp']]\n",
    "\n",
    "tour_games['Winner'] = tour_games.apply(lambda x: x['Team'] if x['Win'] else x['Opponent'], axis=1)\n",
    "tour_games['Pred_Winner'] = tour_games.apply(lambda x: \"Tie\" if x['Seed'] == x['Seed_Opp'] else x['Team'] if x['Seed'] < x['Seed_Opp'] else x['Opponent'], axis=1)\n",
    "tour_games['Pred_Loser'] = tour_games.apply(lambda x: \"Tie\" if x['Seed'] == x['Seed_Opp'] else x['Team'] if x['Seed'] > x['Seed_Opp'] else x['Opponent'], axis=1)\n",
    "\n",
    "tour_games['Correct'] = tour_games.apply(lambda x: 0.5 if x['Pred_Winner'] == 'Tie' else 1 if x['Pred_Winner'] == x['Winner'] else 0, axis=1)\n",
    "tour_games = tour_games[['GameId', 'Pred_Winner', 'Pred_Loser', 'Correct', 'Seed', 'Seed_Opp']]\n",
    "tour_games = tour_games.reset_index(drop=True)\n",
    "tour_games = tour_games[tour_games.index % 2 == 0]\n",
    "tour_games = tour_games.to_numpy()"
   ],
   "metadata": {
    "collapsed": false,
    "ExecuteTime": {
     "end_time": "2024-02-29T10:35:10.405678Z",
     "start_time": "2024-02-29T10:35:10.370557Z"
    }
   }
  },
  {
   "cell_type": "code",
   "execution_count": 88,
   "outputs": [
    {
     "data": {
      "text/plain": "array([[5468, 'Kentucky', 'Abilene Chr', 1, 2.0, 15.0],\n       [5469, 'Auburn', 'New Mexico St', 1, 12.0, 5.0],\n       [5470, 'Syracuse', 'Baylor', 0, 8.0, 9.0],\n       [5471, 'Maryland', 'Belmont', 1, 6.0, 11.0],\n       [5472, 'Michigan St', 'Bradley', 1, 2.0, 15.0],\n       [5473, 'Gonzaga', 'F Dickinson', 1, 1.0, 16.0],\n       [5474, 'Nevada', 'Florida', 0, 7.0, 10.0],\n       [5475, 'Florida St', 'Vermont', 1, 13.0, 4.0],\n       [5476, 'Kansas', 'Northeastern', 1, 13.0, 4.0],\n       [5477, 'Louisville', 'Minnesota', 0, 10.0, 7.0],\n       [5478, 'LSU', 'Yale', 1, 14.0, 3.0],\n       [5479, 'Marquette', 'Murray St', 0, 12.0, 5.0],\n       [5480, 'Michigan', 'Montana', 1, 15.0, 2.0],\n       [5481, 'Purdue', 'Old Dominion', 1, 3.0, 14.0],\n       [5482, 'Wofford', 'Seton Hall', 1, 7.0, 10.0],\n       [5483, 'Villanova', \"St Mary's CA\", 1, 6.0, 11.0],\n       [5484, 'Buffalo', 'Arizona St', 1, 6.0, 11.0],\n       [5485, 'Cincinnati', 'Iowa', 0, 10.0, 7.0],\n       [5486, 'Tennessee', 'Colgate', 1, 2.0, 15.0],\n       [5487, 'Duke', 'N Dakota St', 1, 16.0, 1.0],\n       [5488, 'Virginia', 'Gardner Webb', 1, 1.0, 16.0],\n       [5489, 'Houston', 'Georgia St', 1, 3.0, 14.0],\n       [5490, 'North Carolina', 'Iona', 1, 1.0, 16.0],\n       [5491, 'Iowa St', 'Ohio St', 0, 11.0, 6.0],\n       [5492, 'Kansas St', 'UC Irvine', 0, 13.0, 4.0],\n       [5493, 'Mississippi St', 'Liberty', 0, 5.0, 12.0],\n       [5494, 'Mississippi', 'Oklahoma', 0, 9.0, 8.0],\n       [5495, 'Texas Tech', 'N Kentucky', 1, 3.0, 14.0],\n       [5496, 'Wisconsin', 'Oregon', 0, 5.0, 12.0],\n       [5497, 'Virginia Tech', 'St Louis', 1, 4.0, 13.0],\n       [5498, 'VCU', 'UCF', 0, 8.0, 9.0],\n       [5499, 'Utah St', 'Washington', 0, 9.0, 8.0],\n       [5500, 'Kansas', 'Auburn', 0, 4.0, 5.0],\n       [5501, 'Gonzaga', 'Baylor', 1, 1.0, 9.0],\n       [5502, 'Michigan', 'Florida', 1, 2.0, 10.0],\n       [5503, 'Florida St', 'Murray St', 1, 12.0, 4.0],\n       [5504, 'Kentucky', 'Wofford', 1, 7.0, 2.0],\n       [5505, 'LSU', 'Maryland', 1, 6.0, 3.0],\n       [5506, 'Michigan St', 'Minnesota', 1, 10.0, 2.0],\n       [5507, 'Purdue', 'Villanova', 1, 6.0, 3.0],\n       [5508, 'Texas Tech', 'Buffalo', 1, 3.0, 6.0],\n       [5509, 'Duke', 'UCF', 1, 9.0, 1.0],\n       [5510, 'Houston', 'Ohio St', 1, 11.0, 3.0],\n       [5511, 'Tennessee', 'Iowa', 1, 2.0, 10.0],\n       [5512, 'Virginia Tech', 'Liberty', 1, 4.0, 12.0],\n       [5513, 'North Carolina', 'Washington', 1, 9.0, 1.0],\n       [5514, 'Virginia', 'Oklahoma', 1, 1.0, 9.0],\n       [5515, 'Oregon', 'UC Irvine', 1, 13.0, 12.0],\n       [5516, 'Gonzaga', 'Florida St', 1, 1.0, 4.0],\n       [5517, 'Michigan', 'Texas Tech', 0, 3.0, 2.0],\n       [5518, 'Virginia', 'Oregon', 1, 1.0, 12.0],\n       [5519, 'Tennessee', 'Purdue', 0, 2.0, 3.0],\n       [5520, 'North Carolina', 'Auburn', 0, 1.0, 5.0],\n       [5521, 'Duke', 'Virginia Tech', 1, 4.0, 1.0],\n       [5522, 'Kentucky', 'Houston', 1, 2.0, 3.0],\n       [5523, 'Michigan St', 'LSU', 1, 2.0, 3.0],\n       [5524, 'Gonzaga', 'Texas Tech', 0, 3.0, 1.0],\n       [5525, 'Virginia', 'Purdue', 1, 1.0, 3.0],\n       [5526, 'Kentucky', 'Auburn', 0, 2.0, 5.0],\n       [5527, 'Duke', 'Michigan St', 0, 2.0, 1.0],\n       [5528, 'Virginia', 'Auburn', 1, 1.0, 5.0],\n       [5529, 'Michigan St', 'Texas Tech', 0, 3.0, 2.0],\n       [5530, 'Virginia', 'Texas Tech', 1, 1.0, 3.0]], dtype=object)"
     },
     "execution_count": 88,
     "metadata": {},
     "output_type": "execute_result"
    }
   ],
   "source": [
    "tour_games"
   ],
   "metadata": {
    "collapsed": false,
    "ExecuteTime": {
     "end_time": "2024-02-29T10:35:10.712351Z",
     "start_time": "2024-02-29T10:35:10.697487Z"
    }
   }
  },
  {
   "cell_type": "markdown",
   "source": [
    "Below are the results when picking each match-up winner based on which teams made it to this stage in the tournament\n",
    "(note that it does not take into consideration the teams' performance in earlier rounds of the tournament – all\n",
    "features used in the models are taken prior to the start of the tournament)."
   ],
   "metadata": {
    "collapsed": false
   }
  },
  {
   "cell_type": "code",
   "execution_count": 89,
   "outputs": [
    {
     "name": "stdout",
     "output_type": "stream",
     "text": [
      "Kentucky defeats Abilene Chr\n",
      "Auburn defeats New Mexico St\n",
      "Maryland defeats Belmont\n",
      "Michigan St defeats Bradley\n",
      "Gonzaga defeats F Dickinson\n",
      "Florida St defeats Vermont\n",
      "Kansas defeats Northeastern\n",
      "LSU defeats Yale\n",
      "Michigan defeats Montana\n",
      "Purdue defeats Old Dominion\n",
      "Wofford defeats Seton Hall\n",
      "Villanova defeats St Mary's CA\n",
      "Buffalo defeats Arizona St\n",
      "Tennessee defeats Colgate\n",
      "Duke defeats N Dakota St\n",
      "Virginia defeats Gardner Webb\n",
      "Houston defeats Georgia St\n",
      "North Carolina defeats Iona\n",
      "Texas Tech defeats N Kentucky\n",
      "Virginia Tech defeats St Louis\n",
      "Gonzaga defeats Baylor\n",
      "Michigan defeats Florida\n",
      "Florida St defeats Murray St\n",
      "Kentucky defeats Wofford\n",
      "LSU defeats Maryland\n",
      "Michigan St defeats Minnesota\n",
      "Purdue defeats Villanova\n",
      "Texas Tech defeats Buffalo\n",
      "Duke defeats UCF\n",
      "Houston defeats Ohio St\n",
      "Tennessee defeats Iowa\n",
      "Virginia Tech defeats Liberty\n",
      "North Carolina defeats Washington\n",
      "Virginia defeats Oklahoma\n",
      "Oregon defeats UC Irvine\n",
      "Gonzaga defeats Florida St\n",
      "Virginia defeats Oregon\n",
      "Duke defeats Virginia Tech\n",
      "Kentucky defeats Houston\n",
      "Michigan St defeats LSU\n",
      "Virginia defeats Purdue\n",
      "Virginia defeats Auburn\n",
      "Virginia defeats Texas Tech\n"
     ]
    },
    {
     "data": {
      "text/plain": "43"
     },
     "execution_count": 89,
     "metadata": {},
     "output_type": "execute_result"
    }
   ],
   "source": [
    "correct_count = 0\n",
    "tour_teams_copy = tour_teams.copy()\n",
    "for game in tour_games:\n",
    "    correct_count += game[3]\n",
    "    if game[3] == 1:\n",
    "        print(game[1], 'defeats', game[2])\n",
    "    elif game[3] == 0.5:\n",
    "        print(game[1], 'ties', game[2])\n",
    "    try:\n",
    "        tour_teams_copy.remove(game[2])\n",
    "    except:\n",
    "        pass\n",
    "correct_count"
   ],
   "metadata": {
    "collapsed": false,
    "ExecuteTime": {
     "end_time": "2024-02-29T10:35:12.032055Z",
     "start_time": "2024-02-29T10:35:11.990782Z"
    }
   }
  }
 ]
}
