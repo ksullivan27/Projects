{
 "cells": [
  {
   "cell_type": "markdown",
   "source": [
    "# Initialization"
   ],
   "metadata": {
    "collapsed": false
   }
  },
  {
   "cell_type": "markdown",
   "source": [
    "## Installations"
   ],
   "metadata": {
    "collapsed": false
   }
  },
  {
   "cell_type": "code",
   "execution_count": 1,
   "metadata": {
    "collapsed": true,
    "ExecuteTime": {
     "end_time": "2024-02-27T14:03:35.885312Z",
     "start_time": "2024-02-27T14:03:20.119856Z"
    }
   },
   "outputs": [
    {
     "name": "stdout",
     "output_type": "stream",
     "text": [
      "\u001B[33mWARNING: Ignoring invalid distribution - (/Users/kylesullivan/anaconda3/lib/python3.10/site-packages)\u001B[0m\u001B[33m\r\n",
      "\u001B[0m\u001B[33mWARNING: Ignoring invalid distribution -orch (/Users/kylesullivan/anaconda3/lib/python3.10/site-packages)\u001B[0m\u001B[33m\r\n",
      "\u001B[0mRequirement already satisfied: pandasql in /Users/kylesullivan/anaconda3/lib/python3.10/site-packages (0.7.3)\r\n",
      "Requirement already satisfied: numpy in /Users/kylesullivan/anaconda3/lib/python3.10/site-packages (from pandasql) (1.23.5)\r\n",
      "Requirement already satisfied: pandas in /Users/kylesullivan/anaconda3/lib/python3.10/site-packages (from pandasql) (1.5.3)\r\n",
      "Requirement already satisfied: sqlalchemy in /Users/kylesullivan/anaconda3/lib/python3.10/site-packages (from pandasql) (1.4.39)\r\n",
      "Requirement already satisfied: python-dateutil>=2.8.1 in /Users/kylesullivan/anaconda3/lib/python3.10/site-packages (from pandas->pandasql) (2.8.2)\r\n",
      "Requirement already satisfied: pytz>=2020.1 in /Users/kylesullivan/anaconda3/lib/python3.10/site-packages (from pandas->pandasql) (2022.7)\r\n",
      "Requirement already satisfied: six>=1.5 in /Users/kylesullivan/anaconda3/lib/python3.10/site-packages (from python-dateutil>=2.8.1->pandas->pandasql) (1.16.0)\r\n",
      "\u001B[33mWARNING: Ignoring invalid distribution - (/Users/kylesullivan/anaconda3/lib/python3.10/site-packages)\u001B[0m\u001B[33m\r\n",
      "\u001B[0m\u001B[33mWARNING: Ignoring invalid distribution -orch (/Users/kylesullivan/anaconda3/lib/python3.10/site-packages)\u001B[0m\u001B[33m\r\n",
      "\u001B[0m\r\n",
      "\u001B[1m[\u001B[0m\u001B[34;49mnotice\u001B[0m\u001B[1;39;49m]\u001B[0m\u001B[39;49m A new release of pip is available: \u001B[0m\u001B[31;49m23.3.2\u001B[0m\u001B[39;49m -> \u001B[0m\u001B[32;49m24.0\u001B[0m\r\n",
      "\u001B[1m[\u001B[0m\u001B[34;49mnotice\u001B[0m\u001B[1;39;49m]\u001B[0m\u001B[39;49m To update, run: \u001B[0m\u001B[32;49mpip install --upgrade pip\u001B[0m\r\n",
      "\u001B[33mWARNING: Ignoring invalid distribution - (/Users/kylesullivan/anaconda3/lib/python3.10/site-packages)\u001B[0m\u001B[33m\r\n",
      "\u001B[0m\u001B[33mWARNING: Ignoring invalid distribution -orch (/Users/kylesullivan/anaconda3/lib/python3.10/site-packages)\u001B[0m\u001B[33m\r\n",
      "\u001B[0mRequirement already satisfied: pandas in /Users/kylesullivan/anaconda3/lib/python3.10/site-packages (1.5.3)\r\n",
      "Requirement already satisfied: python-dateutil>=2.8.1 in /Users/kylesullivan/anaconda3/lib/python3.10/site-packages (from pandas) (2.8.2)\r\n",
      "Requirement already satisfied: pytz>=2020.1 in /Users/kylesullivan/anaconda3/lib/python3.10/site-packages (from pandas) (2022.7)\r\n",
      "Requirement already satisfied: numpy>=1.21.0 in /Users/kylesullivan/anaconda3/lib/python3.10/site-packages (from pandas) (1.23.5)\r\n",
      "Requirement already satisfied: six>=1.5 in /Users/kylesullivan/anaconda3/lib/python3.10/site-packages (from python-dateutil>=2.8.1->pandas) (1.16.0)\r\n",
      "\u001B[33mWARNING: Ignoring invalid distribution - (/Users/kylesullivan/anaconda3/lib/python3.10/site-packages)\u001B[0m\u001B[33m\r\n",
      "\u001B[0m\u001B[33mWARNING: Ignoring invalid distribution -orch (/Users/kylesullivan/anaconda3/lib/python3.10/site-packages)\u001B[0m\u001B[33m\r\n",
      "\u001B[0m\r\n",
      "\u001B[1m[\u001B[0m\u001B[34;49mnotice\u001B[0m\u001B[1;39;49m]\u001B[0m\u001B[39;49m A new release of pip is available: \u001B[0m\u001B[31;49m23.3.2\u001B[0m\u001B[39;49m -> \u001B[0m\u001B[32;49m24.0\u001B[0m\r\n",
      "\u001B[1m[\u001B[0m\u001B[34;49mnotice\u001B[0m\u001B[1;39;49m]\u001B[0m\u001B[39;49m To update, run: \u001B[0m\u001B[32;49mpip install --upgrade pip\u001B[0m\r\n",
      "\u001B[33mWARNING: Ignoring invalid distribution - (/Users/kylesullivan/anaconda3/lib/python3.10/site-packages)\u001B[0m\u001B[33m\r\n",
      "\u001B[0m\u001B[33mWARNING: Ignoring invalid distribution -orch (/Users/kylesullivan/anaconda3/lib/python3.10/site-packages)\u001B[0m\u001B[33m\r\n",
      "\u001B[0mRequirement already satisfied: plotly in /Users/kylesullivan/anaconda3/lib/python3.10/site-packages (5.9.0)\r\n",
      "Requirement already satisfied: tenacity>=6.2.0 in /Users/kylesullivan/anaconda3/lib/python3.10/site-packages (from plotly) (8.0.1)\r\n",
      "\u001B[33mWARNING: Ignoring invalid distribution - (/Users/kylesullivan/anaconda3/lib/python3.10/site-packages)\u001B[0m\u001B[33m\r\n",
      "\u001B[0m\u001B[33mWARNING: Ignoring invalid distribution -orch (/Users/kylesullivan/anaconda3/lib/python3.10/site-packages)\u001B[0m\u001B[33m\r\n",
      "\u001B[0m\r\n",
      "\u001B[1m[\u001B[0m\u001B[34;49mnotice\u001B[0m\u001B[1;39;49m]\u001B[0m\u001B[39;49m A new release of pip is available: \u001B[0m\u001B[31;49m23.3.2\u001B[0m\u001B[39;49m -> \u001B[0m\u001B[32;49m24.0\u001B[0m\r\n",
      "\u001B[1m[\u001B[0m\u001B[34;49mnotice\u001B[0m\u001B[1;39;49m]\u001B[0m\u001B[39;49m To update, run: \u001B[0m\u001B[32;49mpip install --upgrade pip\u001B[0m\r\n",
      "\u001B[33mWARNING: Ignoring invalid distribution - (/Users/kylesullivan/anaconda3/lib/python3.10/site-packages)\u001B[0m\u001B[33m\r\n",
      "\u001B[0m\u001B[33mWARNING: Ignoring invalid distribution -orch (/Users/kylesullivan/anaconda3/lib/python3.10/site-packages)\u001B[0m\u001B[33m\r\n",
      "\u001B[0mRequirement already satisfied: optimparallel in /Users/kylesullivan/anaconda3/lib/python3.10/site-packages (0.1.2)\r\n",
      "Requirement already satisfied: numpy in /Users/kylesullivan/anaconda3/lib/python3.10/site-packages (from optimparallel) (1.23.5)\r\n",
      "Requirement already satisfied: scipy in /Users/kylesullivan/anaconda3/lib/python3.10/site-packages (from optimparallel) (1.10.0)\r\n",
      "\u001B[33mWARNING: Ignoring invalid distribution - (/Users/kylesullivan/anaconda3/lib/python3.10/site-packages)\u001B[0m\u001B[33m\r\n",
      "\u001B[0m\u001B[33mWARNING: Ignoring invalid distribution -orch (/Users/kylesullivan/anaconda3/lib/python3.10/site-packages)\u001B[0m\u001B[33m\r\n",
      "\u001B[0m\r\n",
      "\u001B[1m[\u001B[0m\u001B[34;49mnotice\u001B[0m\u001B[1;39;49m]\u001B[0m\u001B[39;49m A new release of pip is available: \u001B[0m\u001B[31;49m23.3.2\u001B[0m\u001B[39;49m -> \u001B[0m\u001B[32;49m24.0\u001B[0m\r\n",
      "\u001B[1m[\u001B[0m\u001B[34;49mnotice\u001B[0m\u001B[1;39;49m]\u001B[0m\u001B[39;49m To update, run: \u001B[0m\u001B[32;49mpip install --upgrade pip\u001B[0m\r\n",
      "\u001B[33mWARNING: Ignoring invalid distribution - (/Users/kylesullivan/anaconda3/lib/python3.10/site-packages)\u001B[0m\u001B[33m\r\n",
      "\u001B[0m\u001B[33mWARNING: Ignoring invalid distribution -orch (/Users/kylesullivan/anaconda3/lib/python3.10/site-packages)\u001B[0m\u001B[33m\r\n",
      "\u001B[0mRequirement already satisfied: torch in /Users/kylesullivan/anaconda3/lib/python3.10/site-packages (2.1.0)\r\n",
      "Requirement already satisfied: filelock in /Users/kylesullivan/anaconda3/lib/python3.10/site-packages (from torch) (3.9.0)\r\n",
      "Requirement already satisfied: typing-extensions in /Users/kylesullivan/anaconda3/lib/python3.10/site-packages (from torch) (4.5.0)\r\n",
      "Requirement already satisfied: sympy in /Users/kylesullivan/anaconda3/lib/python3.10/site-packages (from torch) (1.11.1)\r\n",
      "Requirement already satisfied: networkx in /Users/kylesullivan/anaconda3/lib/python3.10/site-packages (from torch) (2.8.4)\r\n",
      "Requirement already satisfied: jinja2 in /Users/kylesullivan/anaconda3/lib/python3.10/site-packages (from torch) (3.1.2)\r\n",
      "Requirement already satisfied: fsspec in /Users/kylesullivan/anaconda3/lib/python3.10/site-packages (from torch) (2023.10.0)\r\n",
      "Requirement already satisfied: MarkupSafe>=2.0 in /Users/kylesullivan/anaconda3/lib/python3.10/site-packages (from jinja2->torch) (2.1.1)\r\n",
      "Requirement already satisfied: mpmath>=0.19 in /Users/kylesullivan/anaconda3/lib/python3.10/site-packages/mpmath-1.2.1-py3.10.egg (from sympy->torch) (1.2.1)\r\n",
      "\u001B[33mWARNING: Ignoring invalid distribution - (/Users/kylesullivan/anaconda3/lib/python3.10/site-packages)\u001B[0m\u001B[33m\r\n",
      "\u001B[0m\u001B[33mWARNING: Ignoring invalid distribution -orch (/Users/kylesullivan/anaconda3/lib/python3.10/site-packages)\u001B[0m\u001B[33m\r\n",
      "\u001B[0m\r\n",
      "\u001B[1m[\u001B[0m\u001B[34;49mnotice\u001B[0m\u001B[1;39;49m]\u001B[0m\u001B[39;49m A new release of pip is available: \u001B[0m\u001B[31;49m23.3.2\u001B[0m\u001B[39;49m -> \u001B[0m\u001B[32;49m24.0\u001B[0m\r\n",
      "\u001B[1m[\u001B[0m\u001B[34;49mnotice\u001B[0m\u001B[1;39;49m]\u001B[0m\u001B[39;49m To update, run: \u001B[0m\u001B[32;49mpip install --upgrade pip\u001B[0m\r\n",
      "\u001B[33mWARNING: Ignoring invalid distribution - (/Users/kylesullivan/anaconda3/lib/python3.10/site-packages)\u001B[0m\u001B[33m\r\n",
      "\u001B[0m\u001B[33mWARNING: Ignoring invalid distribution -orch (/Users/kylesullivan/anaconda3/lib/python3.10/site-packages)\u001B[0m\u001B[33m\r\n",
      "\u001B[0mRequirement already satisfied: tensorflow in /Users/kylesullivan/anaconda3/lib/python3.10/site-packages (2.13.0)\r\n",
      "Requirement already satisfied: tensorflow-macos==2.13.0 in /Users/kylesullivan/anaconda3/lib/python3.10/site-packages (from tensorflow) (2.13.0)\r\n",
      "Requirement already satisfied: absl-py>=1.0.0 in /Users/kylesullivan/anaconda3/lib/python3.10/site-packages (from tensorflow-macos==2.13.0->tensorflow) (1.4.0)\r\n",
      "Requirement already satisfied: astunparse>=1.6.0 in /Users/kylesullivan/anaconda3/lib/python3.10/site-packages (from tensorflow-macos==2.13.0->tensorflow) (1.6.3)\r\n",
      "Requirement already satisfied: flatbuffers>=23.1.21 in /Users/kylesullivan/anaconda3/lib/python3.10/site-packages (from tensorflow-macos==2.13.0->tensorflow) (23.5.26)\r\n",
      "Requirement already satisfied: gast<=0.4.0,>=0.2.1 in /Users/kylesullivan/anaconda3/lib/python3.10/site-packages (from tensorflow-macos==2.13.0->tensorflow) (0.4.0)\r\n",
      "Requirement already satisfied: google-pasta>=0.1.1 in /Users/kylesullivan/anaconda3/lib/python3.10/site-packages (from tensorflow-macos==2.13.0->tensorflow) (0.2.0)\r\n",
      "Requirement already satisfied: h5py>=2.9.0 in /Users/kylesullivan/anaconda3/lib/python3.10/site-packages (from tensorflow-macos==2.13.0->tensorflow) (3.7.0)\r\n",
      "Requirement already satisfied: libclang>=13.0.0 in /Users/kylesullivan/anaconda3/lib/python3.10/site-packages (from tensorflow-macos==2.13.0->tensorflow) (16.0.6)\r\n",
      "Requirement already satisfied: numpy<=1.24.3,>=1.22 in /Users/kylesullivan/anaconda3/lib/python3.10/site-packages (from tensorflow-macos==2.13.0->tensorflow) (1.23.5)\r\n",
      "Requirement already satisfied: opt-einsum>=2.3.2 in /Users/kylesullivan/anaconda3/lib/python3.10/site-packages (from tensorflow-macos==2.13.0->tensorflow) (3.3.0)\r\n",
      "Requirement already satisfied: packaging in /Users/kylesullivan/anaconda3/lib/python3.10/site-packages (from tensorflow-macos==2.13.0->tensorflow) (22.0)\r\n",
      "Requirement already satisfied: protobuf!=4.21.0,!=4.21.1,!=4.21.2,!=4.21.3,!=4.21.4,!=4.21.5,<5.0.0dev,>=3.20.3 in /Users/kylesullivan/anaconda3/lib/python3.10/site-packages (from tensorflow-macos==2.13.0->tensorflow) (4.23.4)\r\n",
      "Requirement already satisfied: setuptools in /Users/kylesullivan/anaconda3/lib/python3.10/site-packages (from tensorflow-macos==2.13.0->tensorflow) (65.6.3)\r\n",
      "Requirement already satisfied: six>=1.12.0 in /Users/kylesullivan/anaconda3/lib/python3.10/site-packages (from tensorflow-macos==2.13.0->tensorflow) (1.16.0)\r\n",
      "Requirement already satisfied: termcolor>=1.1.0 in /Users/kylesullivan/anaconda3/lib/python3.10/site-packages (from tensorflow-macos==2.13.0->tensorflow) (2.3.0)\r\n",
      "Requirement already satisfied: typing-extensions<4.6.0,>=3.6.6 in /Users/kylesullivan/anaconda3/lib/python3.10/site-packages (from tensorflow-macos==2.13.0->tensorflow) (4.5.0)\r\n",
      "Requirement already satisfied: wrapt>=1.11.0 in /Users/kylesullivan/anaconda3/lib/python3.10/site-packages (from tensorflow-macos==2.13.0->tensorflow) (1.14.1)\r\n",
      "Requirement already satisfied: grpcio<2.0,>=1.24.3 in /Users/kylesullivan/anaconda3/lib/python3.10/site-packages (from tensorflow-macos==2.13.0->tensorflow) (1.56.0)\r\n",
      "Requirement already satisfied: tensorboard<2.14,>=2.13 in /Users/kylesullivan/anaconda3/lib/python3.10/site-packages (from tensorflow-macos==2.13.0->tensorflow) (2.13.0)\r\n",
      "Requirement already satisfied: tensorflow-estimator<2.14,>=2.13.0 in /Users/kylesullivan/anaconda3/lib/python3.10/site-packages (from tensorflow-macos==2.13.0->tensorflow) (2.13.0)\r\n",
      "Requirement already satisfied: keras<2.14,>=2.13.1 in /Users/kylesullivan/anaconda3/lib/python3.10/site-packages (from tensorflow-macos==2.13.0->tensorflow) (2.13.1)\r\n",
      "Requirement already satisfied: wheel<1.0,>=0.23.0 in /Users/kylesullivan/anaconda3/lib/python3.10/site-packages (from astunparse>=1.6.0->tensorflow-macos==2.13.0->tensorflow) (0.38.4)\r\n",
      "Requirement already satisfied: google-auth<3,>=1.6.3 in /Users/kylesullivan/anaconda3/lib/python3.10/site-packages (from tensorboard<2.14,>=2.13->tensorflow-macos==2.13.0->tensorflow) (2.22.0)\r\n",
      "Requirement already satisfied: google-auth-oauthlib<1.1,>=0.5 in /Users/kylesullivan/anaconda3/lib/python3.10/site-packages (from tensorboard<2.14,>=2.13->tensorflow-macos==2.13.0->tensorflow) (1.0.0)\r\n",
      "Requirement already satisfied: markdown>=2.6.8 in /Users/kylesullivan/anaconda3/lib/python3.10/site-packages (from tensorboard<2.14,>=2.13->tensorflow-macos==2.13.0->tensorflow) (3.4.1)\r\n",
      "Requirement already satisfied: requests<3,>=2.21.0 in /Users/kylesullivan/anaconda3/lib/python3.10/site-packages (from tensorboard<2.14,>=2.13->tensorflow-macos==2.13.0->tensorflow) (2.31.0)\r\n",
      "Requirement already satisfied: tensorboard-data-server<0.8.0,>=0.7.0 in /Users/kylesullivan/anaconda3/lib/python3.10/site-packages (from tensorboard<2.14,>=2.13->tensorflow-macos==2.13.0->tensorflow) (0.7.1)\r\n",
      "Requirement already satisfied: werkzeug>=1.0.1 in /Users/kylesullivan/anaconda3/lib/python3.10/site-packages (from tensorboard<2.14,>=2.13->tensorflow-macos==2.13.0->tensorflow) (2.2.2)\r\n",
      "Requirement already satisfied: cachetools<6.0,>=2.0.0 in /Users/kylesullivan/anaconda3/lib/python3.10/site-packages (from google-auth<3,>=1.6.3->tensorboard<2.14,>=2.13->tensorflow-macos==2.13.0->tensorflow) (5.3.1)\r\n",
      "Requirement already satisfied: pyasn1-modules>=0.2.1 in /Users/kylesullivan/anaconda3/lib/python3.10/site-packages (from google-auth<3,>=1.6.3->tensorboard<2.14,>=2.13->tensorflow-macos==2.13.0->tensorflow) (0.2.8)\r\n",
      "Requirement already satisfied: rsa<5,>=3.1.4 in /Users/kylesullivan/anaconda3/lib/python3.10/site-packages (from google-auth<3,>=1.6.3->tensorboard<2.14,>=2.13->tensorflow-macos==2.13.0->tensorflow) (4.9)\r\n",
      "Requirement already satisfied: urllib3<2.0 in /Users/kylesullivan/anaconda3/lib/python3.10/site-packages (from google-auth<3,>=1.6.3->tensorboard<2.14,>=2.13->tensorflow-macos==2.13.0->tensorflow) (1.26.14)\r\n",
      "Requirement already satisfied: requests-oauthlib>=0.7.0 in /Users/kylesullivan/anaconda3/lib/python3.10/site-packages (from google-auth-oauthlib<1.1,>=0.5->tensorboard<2.14,>=2.13->tensorflow-macos==2.13.0->tensorflow) (1.3.1)\r\n",
      "Requirement already satisfied: charset-normalizer<4,>=2 in /Users/kylesullivan/anaconda3/lib/python3.10/site-packages (from requests<3,>=2.21.0->tensorboard<2.14,>=2.13->tensorflow-macos==2.13.0->tensorflow) (2.0.4)\r\n",
      "Requirement already satisfied: idna<4,>=2.5 in /Users/kylesullivan/anaconda3/lib/python3.10/site-packages (from requests<3,>=2.21.0->tensorboard<2.14,>=2.13->tensorflow-macos==2.13.0->tensorflow) (3.4)\r\n",
      "Requirement already satisfied: certifi>=2017.4.17 in /Users/kylesullivan/anaconda3/lib/python3.10/site-packages (from requests<3,>=2.21.0->tensorboard<2.14,>=2.13->tensorflow-macos==2.13.0->tensorflow) (2023.7.22)\r\n",
      "Requirement already satisfied: MarkupSafe>=2.1.1 in /Users/kylesullivan/anaconda3/lib/python3.10/site-packages (from werkzeug>=1.0.1->tensorboard<2.14,>=2.13->tensorflow-macos==2.13.0->tensorflow) (2.1.1)\r\n",
      "Requirement already satisfied: pyasn1<0.5.0,>=0.4.6 in /Users/kylesullivan/anaconda3/lib/python3.10/site-packages (from pyasn1-modules>=0.2.1->google-auth<3,>=1.6.3->tensorboard<2.14,>=2.13->tensorflow-macos==2.13.0->tensorflow) (0.4.8)\r\n",
      "Requirement already satisfied: oauthlib>=3.0.0 in /Users/kylesullivan/anaconda3/lib/python3.10/site-packages (from requests-oauthlib>=0.7.0->google-auth-oauthlib<1.1,>=0.5->tensorboard<2.14,>=2.13->tensorflow-macos==2.13.0->tensorflow) (3.2.2)\r\n",
      "\u001B[33mWARNING: Ignoring invalid distribution - (/Users/kylesullivan/anaconda3/lib/python3.10/site-packages)\u001B[0m\u001B[33m\r\n",
      "\u001B[0m\u001B[33mWARNING: Ignoring invalid distribution -orch (/Users/kylesullivan/anaconda3/lib/python3.10/site-packages)\u001B[0m\u001B[33m\r\n",
      "\u001B[0m\r\n",
      "\u001B[1m[\u001B[0m\u001B[34;49mnotice\u001B[0m\u001B[1;39;49m]\u001B[0m\u001B[39;49m A new release of pip is available: \u001B[0m\u001B[31;49m23.3.2\u001B[0m\u001B[39;49m -> \u001B[0m\u001B[32;49m24.0\u001B[0m\r\n",
      "\u001B[1m[\u001B[0m\u001B[34;49mnotice\u001B[0m\u001B[1;39;49m]\u001B[0m\u001B[39;49m To update, run: \u001B[0m\u001B[32;49mpip install --upgrade pip\u001B[0m\r\n",
      "\u001B[33mWARNING: Ignoring invalid distribution - (/Users/kylesullivan/anaconda3/lib/python3.10/site-packages)\u001B[0m\u001B[33m\r\n",
      "\u001B[0m\u001B[33mWARNING: Ignoring invalid distribution -orch (/Users/kylesullivan/anaconda3/lib/python3.10/site-packages)\u001B[0m\u001B[33m\r\n",
      "\u001B[0mRequirement already satisfied: tensorflow_probability in /Users/kylesullivan/anaconda3/lib/python3.10/site-packages (0.20.1)\r\n",
      "Requirement already satisfied: absl-py in /Users/kylesullivan/anaconda3/lib/python3.10/site-packages (from tensorflow_probability) (1.4.0)\r\n",
      "Requirement already satisfied: six>=1.10.0 in /Users/kylesullivan/anaconda3/lib/python3.10/site-packages (from tensorflow_probability) (1.16.0)\r\n",
      "Requirement already satisfied: numpy>=1.13.3 in /Users/kylesullivan/anaconda3/lib/python3.10/site-packages (from tensorflow_probability) (1.23.5)\r\n",
      "Requirement already satisfied: decorator in /Users/kylesullivan/anaconda3/lib/python3.10/site-packages (from tensorflow_probability) (5.1.1)\r\n",
      "Requirement already satisfied: cloudpickle>=1.3 in /Users/kylesullivan/anaconda3/lib/python3.10/site-packages (from tensorflow_probability) (2.0.0)\r\n",
      "Requirement already satisfied: gast>=0.3.2 in /Users/kylesullivan/anaconda3/lib/python3.10/site-packages (from tensorflow_probability) (0.4.0)\r\n",
      "Requirement already satisfied: dm-tree in /Users/kylesullivan/anaconda3/lib/python3.10/site-packages (from tensorflow_probability) (0.1.8)\r\n",
      "\u001B[33mWARNING: Ignoring invalid distribution - (/Users/kylesullivan/anaconda3/lib/python3.10/site-packages)\u001B[0m\u001B[33m\r\n",
      "\u001B[0m\u001B[33mWARNING: Ignoring invalid distribution -orch (/Users/kylesullivan/anaconda3/lib/python3.10/site-packages)\u001B[0m\u001B[33m\r\n",
      "\u001B[0m\r\n",
      "\u001B[1m[\u001B[0m\u001B[34;49mnotice\u001B[0m\u001B[1;39;49m]\u001B[0m\u001B[39;49m A new release of pip is available: \u001B[0m\u001B[31;49m23.3.2\u001B[0m\u001B[39;49m -> \u001B[0m\u001B[32;49m24.0\u001B[0m\r\n",
      "\u001B[1m[\u001B[0m\u001B[34;49mnotice\u001B[0m\u001B[1;39;49m]\u001B[0m\u001B[39;49m To update, run: \u001B[0m\u001B[32;49mpip install --upgrade pip\u001B[0m\r\n"
     ]
    }
   ],
   "source": [
    "!pip install pandasql\n",
    "!pip install pandas\n",
    "!pip install plotly\n",
    "!pip install optimparallel\n",
    "!pip install torch\n",
    "!pip install tensorflow\n",
    "!pip install tensorflow_probability"
   ]
  },
  {
   "cell_type": "markdown",
   "source": [
    "## Imports"
   ],
   "metadata": {
    "collapsed": false
   }
  },
  {
   "cell_type": "code",
   "execution_count": 272,
   "outputs": [],
   "source": [
    "import pandas as pd\n",
    "import numpy as np\n",
    "import functools\n",
    "import pickle\n",
    "\n",
    "from BB_solver import bb_ll\n",
    "\n",
    "from bs4 import BeautifulSoup\n",
    "from aia import AIASession\n",
    "from urllib.request import urlopen\n",
    "from scipy.optimize import Bounds\n",
    "from optimparallel import minimize_parallel\n",
    "\n",
    "from sklearn.model_selection import train_test_split\n",
    "from sklearn.linear_model import LogisticRegression\n",
    "from sklearn.neural_network import MLPClassifier\n",
    "from sklearn.preprocessing import PolynomialFeatures\n",
    "from sklearn.svm import SVC\n",
    "from sklearn.neighbors import KNeighborsClassifier\n",
    "from sklearn.ensemble import ExtraTreesClassifier, GradientBoostingClassifier, AdaBoostClassifier, RandomForestClassifier, StackingClassifier\n",
    "from sklearn.preprocessing import StandardScaler\n",
    "from sklearn.pipeline import Pipeline\n",
    "from sklearn.model_selection import GridSearchCV\n",
    "import xgboost as XGBoost"
   ],
   "metadata": {
    "collapsed": false,
    "ExecuteTime": {
     "end_time": "2024-02-28T14:16:53.694513Z",
     "start_time": "2024-02-28T14:16:53.673838Z"
    }
   }
  },
  {
   "cell_type": "markdown",
   "source": [
    "## Reading the data"
   ],
   "metadata": {
    "collapsed": false
   }
  },
  {
   "cell_type": "code",
   "execution_count": 457,
   "outputs": [],
   "source": [
    "ncaa_2011_df = pd.read_csv('/Users/kylesullivan/Documents/Professional/Projects/BB_Models/Data/NCAA_df_11.csv')\n",
    "ncaa_2012_df = pd.read_csv('/Users/kylesullivan/Documents/Professional/Projects/BB_Models/Data/NCAA_df_12.csv')\n",
    "ncaa_2013_df = pd.read_csv('/Users/kylesullivan/Documents/Professional/Projects/BB_Models/Data/NCAA_df_13.csv')\n",
    "ncaa_2014_df = pd.read_csv('/Users/kylesullivan/Documents/Professional/Projects/BB_Models/Data/NCAA_df_14.csv')\n",
    "ncaa_2015_df = pd.read_csv('/Users/kylesullivan/Documents/Professional/Projects/BB_Models/Data/NCAA_df_15.csv')\n",
    "ncaa_2016_df = pd.read_csv('/Users/kylesullivan/Documents/Professional/Projects/BB_Models/Data/NCAA_df_16.csv')\n",
    "ncaa_2017_df = pd.read_csv('/Users/kylesullivan/Documents/Professional/Projects/BB_Models/Data/NCAA_df_17.csv')\n",
    "ncaa_2018_df = pd.read_csv('/Users/kylesullivan/Documents/Professional/Projects/BB_Models/Data/NCAA_df_18.csv')\n",
    "ncaa_2019_df = pd.read_csv('/Users/kylesullivan/Documents/Professional/Projects/BB_Models/Data/NCAA_df_19.csv')\n",
    "ncaa_2021_df = pd.read_csv('/Users/kylesullivan/Documents/Professional/Projects/BB_Models/Data/NCAA_df_21.csv')\n",
    "ncaa_2022_df = pd.read_csv('/Users/kylesullivan/Documents/Professional/Projects/BB_Models/Data/NCAA_df_22.csv')"
   ],
   "metadata": {
    "collapsed": false,
    "ExecuteTime": {
     "end_time": "2024-02-28T18:00:58.821499Z",
     "start_time": "2024-02-28T18:00:57.831669Z"
    }
   }
  },
  {
   "cell_type": "markdown",
   "source": [
    "# Data Wrangling"
   ],
   "metadata": {
    "collapsed": false
   }
  },
  {
   "cell_type": "markdown",
   "source": [
    "## Feature Selection"
   ],
   "metadata": {
    "collapsed": false
   }
  },
  {
   "cell_type": "markdown",
   "source": [
    "We are training on % metrics (e.g., how predictive of winning was a high 3-point shooting percentage)\n",
    "to determine which features contribute most towards winning a single game.\n",
    "We are predicting on the beta binomial alpha/beta parameter values for both teams.\n",
    "We will standard scale test data on the \"_avgs_\" metrics with consist of $\\frac{alpha}{alpha+beta}$.\n",
    "Obviously, we don't know the in-game stats for the contest we are trying to predict."
   ],
   "metadata": {
    "collapsed": false
   }
  },
  {
   "cell_type": "code",
   "execution_count": 458,
   "outputs": [],
   "source": [
    "filter = [\n",
    "    # 'Team',\n",
    "    # 'Rating', 'OppRating',\n",
    "    'Win',\n",
    "    'EFG_alphas_team1', 'EFG_betas_team1', 'EFG_avgs_team1',\n",
    "    'EFG2_alphas_team1', 'EFG2_betas_team1', 'EFG2_avgs_team1',\n",
    "    'EFG3_alphas_team1', 'EFG3_betas_team1', 'EFG3_avgs_team1',\n",
    "    # 'EFT_alphas_team1', 'EFT_betas_team1', 'EFT_avgs_team1',\n",
    "    'EORB_alphas_team1', 'EORB_betas_team1', 'EORB_avgs_team1',\n",
    "    # 'EDRB_alphas_team1', 'EDRB_betas_team1', 'EDRB_avgs_team1',\n",
    "    'EAST_alphas_team1', 'EAST_betas_team1', 'EAST_avgs_team1',\n",
    "    'ETOV_alphas_team1', 'ETOV_betas_team1', 'ETOV_avgs_team1',\n",
    "    'EFG_alphas_team2', 'EFG_betas_team2', 'EFG_avgs_team2',\n",
    "    'EFG2_alphas_team2', 'EFG2_betas_team2', 'EFG2_avgs_team2',\n",
    "    'EFG3_alphas_team2', 'EFG3_betas_team2', 'EFG3_avgs_team2',\n",
    "    'EORB_alphas_team2', 'EORB_betas_team2', 'EORB_avgs_team2',\n",
    "    # 'EDRB_alphas_team2', 'EDRB_betas_team2', 'EDRB_avgs_team2',\n",
    "    'EAST_alphas_team2', 'EAST_betas_team2', 'EAST_avgs_team2',\n",
    "    'ETOV_alphas_team2', 'ETOV_betas_team2', 'ETOV_avgs_team2',\n",
    "    ]\n",
    "\n",
    "filter_predict = [\n",
    "    # 'Team',\n",
    "    # 'Rating', 'OppRating',\n",
    "    'EFG_avgs_team1',\n",
    "    'EFG2_avgs_team1',\n",
    "    'EFG3_avgs_team1',\n",
    "    # 'EFT_avgs_team1',\n",
    "    'EORB_avgs_team1',\n",
    "    # 'EDRB_avgs_team1',\n",
    "    'EAST_avgs_team1',\n",
    "    'ETOV_avgs_team1',\n",
    "    'EBLK_avgs_team1',\n",
    "\n",
    "    'EFG_avgs_team2',\n",
    "    'EFG2_avgs_team2',\n",
    "    'EFG3_avgs_team2',\n",
    "    # 'EFT_avgs_team2',\n",
    "    'EORB_avgs_team2',\n",
    "    # 'EDRB_avgs_team2',\n",
    "    'EAST_avgs_team2',\n",
    "    'ETOV_avgs_team2',\n",
    "    'EBLK_avgs_team2'\n",
    "]\n",
    "\n",
    "filter_train = [\n",
    "    # 'Team',\n",
    "    # 'Rating', 'OppRating',\n",
    "    'EFG%_team1',\n",
    "    'EFG2%_team1',\n",
    "    'EFG3%_team1',\n",
    "    # 'EFT%_team1',\n",
    "    'EORB%_team1',\n",
    "    # 'EDRB%_team1',\n",
    "    'EAST%_team1',\n",
    "    'ETOV%_team1',\n",
    "    'EBLK%_team1',\n",
    "\n",
    "    'EFG%_team2',\n",
    "    'EFG2%_team2',\n",
    "    'EFG3%_team2',\n",
    "    # 'EFT%_team2',\n",
    "    'EORB%_team2',\n",
    "    # 'EDRB%_team2',\n",
    "    'EAST%_team2',\n",
    "    'ETOV%_team2',\n",
    "    'EBLK%_team2',\n",
    "]"
   ],
   "metadata": {
    "collapsed": false,
    "ExecuteTime": {
     "end_time": "2024-02-28T18:01:01.261351Z",
     "start_time": "2024-02-28T18:01:01.257487Z"
    }
   }
  },
  {
   "cell_type": "markdown",
   "source": [
    "## Train Test Split (MM Tournament vs. Regular Season)"
   ],
   "metadata": {
    "collapsed": false
   }
  },
  {
   "cell_type": "code",
   "execution_count": 459,
   "outputs": [],
   "source": [
    "ncaa_tour_2011_df = ncaa_2011_df[ncaa_2011_df['DayNum'] > 135].drop_duplicates(subset=['GameId'])\n",
    "ncaa_tour_2012_df = ncaa_2012_df[ncaa_2012_df['DayNum'] > 135].drop_duplicates(subset=['GameId'])\n",
    "ncaa_tour_2013_df = ncaa_2013_df[ncaa_2013_df['DayNum'] > 135].drop_duplicates(subset=['GameId'])\n",
    "ncaa_tour_2014_df = ncaa_2014_df[ncaa_2014_df['DayNum'] > 135].drop_duplicates(subset=['GameId'])\n",
    "ncaa_tour_2015_df = ncaa_2015_df[ncaa_2015_df['DayNum'] > 135].drop_duplicates(subset=['GameId'])\n",
    "ncaa_tour_2016_df = ncaa_2016_df[ncaa_2016_df['DayNum'] > 135].drop_duplicates(subset=['GameId'])\n",
    "ncaa_tour_2017_df = ncaa_2017_df[ncaa_2017_df['DayNum'] > 135].drop_duplicates(subset=['GameId'])\n",
    "ncaa_tour_2018_df = ncaa_2018_df[ncaa_2018_df['DayNum'] > 135].drop_duplicates(subset=['GameId'])\n",
    "ncaa_tour_2019_df = ncaa_2019_df[ncaa_2019_df['DayNum'] > 135].drop_duplicates(subset=['GameId'])\n",
    "ncaa_tour_2021_df = ncaa_2021_df[ncaa_2021_df['DayNum'] > 136].drop_duplicates(subset=['GameId'])\n",
    "ncaa_tour_2022_df = ncaa_2022_df[ncaa_2022_df['DayNum'] > 135].drop_duplicates(subset=['GameId'])"
   ],
   "metadata": {
    "collapsed": false,
    "ExecuteTime": {
     "end_time": "2024-02-28T18:01:02.398514Z",
     "start_time": "2024-02-28T18:01:02.388147Z"
    }
   }
  },
  {
   "cell_type": "code",
   "execution_count": 460,
   "outputs": [],
   "source": [
    "ncaa_2011_df = ncaa_2011_df[ncaa_2011_df['DayNum'] <= 135]\n",
    "ncaa_2012_df = ncaa_2012_df[ncaa_2012_df['DayNum'] <= 135]\n",
    "ncaa_2013_df = ncaa_2013_df[ncaa_2013_df['DayNum'] <= 135]\n",
    "ncaa_2014_df = ncaa_2014_df[ncaa_2014_df['DayNum'] <= 135]\n",
    "ncaa_2015_df = ncaa_2015_df[ncaa_2015_df['DayNum'] <= 135]\n",
    "ncaa_2016_df = ncaa_2016_df[ncaa_2016_df['DayNum'] <= 135]\n",
    "ncaa_2017_df = ncaa_2017_df[ncaa_2017_df['DayNum'] <= 135]\n",
    "ncaa_2018_df = ncaa_2018_df[ncaa_2018_df['DayNum'] <= 135]\n",
    "ncaa_2019_df = ncaa_2019_df[ncaa_2019_df['DayNum'] <= 135]\n",
    "ncaa_2021_df = ncaa_2021_df[ncaa_2021_df['DayNum'] <= 136]\n",
    "ncaa_2022_df = ncaa_2022_df[ncaa_2022_df['DayNum'] <= 135]"
   ],
   "metadata": {
    "collapsed": false,
    "ExecuteTime": {
     "end_time": "2024-02-28T18:01:02.675685Z",
     "start_time": "2024-02-28T18:01:02.636161Z"
    }
   }
  },
  {
   "cell_type": "markdown",
   "source": [
    "## Feature Engineering"
   ],
   "metadata": {
    "collapsed": false
   }
  },
  {
   "cell_type": "code",
   "execution_count": 461,
   "outputs": [],
   "source": [
    "# concatenate the regular season game data\n",
    "frames = [ncaa_2011_df, ncaa_2012_df, ncaa_2013_df, ncaa_2014_df,\n",
    "          ncaa_2015_df, ncaa_2016_df, ncaa_2017_df, ncaa_2018_df,\n",
    "          ncaa_2019_df, ncaa_2021_df, ncaa_2022_df]\n",
    "combined_df = pd.concat(frames)\n",
    "\n",
    "# get training gold labels – regular season winners\n",
    "y_train = combined_df['Win']\n",
    "\n",
    "combined_df['EFG%_team1'] = combined_df['EFG_N'] / combined_df['EFG_D']\n",
    "combined_df['EFG2%_team1'] = combined_df['EFG2_N'] / combined_df['EFG2_D']\n",
    "combined_df['EFG3%_team1'] = combined_df['EFG3_N'] / combined_df['EFG3_D']\n",
    "# combined_df['EFT%_team1'] = combined_df['EFT_N'] / combined_df['EFT_D']\n",
    "combined_df['EORB%_team1'] = combined_df['EORB_N'] / combined_df['EORB_D']\n",
    "# combined_df['EDRB%_team1'] = combined_df['EDRB_N'] / combined_df['EDRB_D']\n",
    "combined_df['EAST%_team1'] = combined_df['EAST_N'] / combined_df['EAST_D']\n",
    "combined_df['ETOV%_team1'] = combined_df['ETOV_N'] / combined_df['ETOV_D']\n",
    "combined_df['EBLK%_team1'] = combined_df['EBLK_N'] / combined_df['EBLK_D']\n",
    "\n",
    "combined_df['EFG%_team2'] = combined_df['EFG_N_Opp'] / combined_df['EFG_D_Opp']\n",
    "combined_df['EFG2%_team2'] = combined_df['EFG2_N_Opp'] / combined_df['EFG2_D_Opp']\n",
    "combined_df['EFG3%_team2'] = combined_df['EFG3_N_Opp'] / combined_df['EFG3_D_Opp']\n",
    "# combined_df['EFT%_team2'] = combined_df['EFT_N_Opp'] / combined_df['EFT_D_Opp']\n",
    "combined_df['EORB%_team2'] = combined_df['EORB_N_Opp'] / combined_df['EORB_D_Opp']\n",
    "# combined_df['EDRB%_team2'] = combined_df['EDRB_N_Opp'] / combined_df['EDRB_D_Opp']\n",
    "combined_df['EAST%_team2'] = combined_df['EAST_N_Opp'] / combined_df['EAST_D_Opp']\n",
    "combined_df['ETOV%_team2'] = combined_df['ETOV_N_Opp'] / combined_df['ETOV_D_Opp']\n",
    "combined_df['EBLK%_team2'] = combined_df['EBLK_N_Opp'] / combined_df['EBLK_D_Opp']\n",
    "\n",
    "# instantiate standard scalers\n",
    "predict_scaler = StandardScaler()\n",
    "# get scaled test data\n",
    "predict_scaler.fit(combined_df[filter_predict])\n",
    "\n",
    "train_scaler = StandardScaler()\n",
    "# get scaled training data\n",
    "scaled_X_train = train_scaler.fit_transform(combined_df[filter_train])\n",
    "\n",
    "# concatenate the MM tournament game data\n",
    "frames = [ncaa_tour_2011_df, ncaa_tour_2012_df, ncaa_tour_2013_df, ncaa_tour_2014_df,\n",
    "          ncaa_tour_2015_df, ncaa_tour_2016_df, ncaa_tour_2017_df, ncaa_tour_2018_df,\n",
    "          ncaa_tour_2019_df, ncaa_tour_2021_df, ncaa_tour_2022_df]\n",
    "combined_tour_df = pd.concat(frames)\n",
    "\n",
    "# get test gold labels – MM tournament season winners\n",
    "y_test = combined_tour_df['Win']\n",
    "\n",
    "# scale the data\n",
    "scaled_X_test = predict_scaler.transform(combined_tour_df[filter_predict])\n",
    "scaled_X_test_11 = predict_scaler.transform(ncaa_tour_2011_df[filter_predict])\n",
    "scaled_X_test_12 = predict_scaler.transform(ncaa_tour_2012_df[filter_predict])\n",
    "scaled_X_test_13 = predict_scaler.transform(ncaa_tour_2013_df[filter_predict])\n",
    "scaled_X_test_14 = predict_scaler.transform(ncaa_tour_2014_df[filter_predict])\n",
    "scaled_X_test_15 = predict_scaler.transform(ncaa_tour_2015_df[filter_predict])\n",
    "scaled_X_test_16 = predict_scaler.transform(ncaa_tour_2016_df[filter_predict])\n",
    "scaled_X_test_17 = predict_scaler.transform(ncaa_tour_2017_df[filter_predict])\n",
    "scaled_X_test_18 = predict_scaler.transform(ncaa_tour_2018_df[filter_predict])\n",
    "scaled_X_test_19 = predict_scaler.transform(ncaa_tour_2019_df[filter_predict])\n",
    "scaled_X_test_21 = predict_scaler.transform(ncaa_tour_2021_df[filter_predict])\n",
    "scaled_X_test_22 = predict_scaler.transform(ncaa_tour_2022_df[filter_predict])\n",
    "\n",
    "# get the\n",
    "y_test_11 = ncaa_tour_2011_df['Win']\n",
    "y_test_12 = ncaa_tour_2012_df['Win']\n",
    "y_test_13 = ncaa_tour_2013_df['Win']\n",
    "y_test_14 = ncaa_tour_2014_df['Win']\n",
    "y_test_15 = ncaa_tour_2015_df['Win']\n",
    "y_test_16 = ncaa_tour_2016_df['Win']\n",
    "y_test_17 = ncaa_tour_2017_df['Win']\n",
    "y_test_18 = ncaa_tour_2018_df['Win']\n",
    "y_test_19 = ncaa_tour_2019_df['Win']\n",
    "y_test_21 = ncaa_tour_2021_df['Win']\n",
    "y_test_22 = ncaa_tour_2022_df['Win']"
   ],
   "metadata": {
    "collapsed": false,
    "ExecuteTime": {
     "end_time": "2024-02-28T18:01:11.657239Z",
     "start_time": "2024-02-28T18:01:11.526445Z"
    }
   }
  },
  {
   "cell_type": "markdown",
   "source": [
    "Check dataframe."
   ],
   "metadata": {
    "collapsed": false
   }
  },
  {
   "cell_type": "code",
   "execution_count": 462,
   "outputs": [
    {
     "data": {
      "text/plain": "       DayNum  EFG_avgs_team1  EFG%_team1  EFG_avgs_team1  EFG2_avgs_team1  \\\n318        13        0.537441    0.661538        0.537441         0.537719   \n488        15        0.568179    0.500000        0.568179         0.557546   \n740        18        0.594820    0.555556        0.594820         0.598715   \n1097       21        0.543681    0.593750        0.543681         0.529125   \n1185       22        0.504547    0.537037        0.504547         0.498119   \n...       ...             ...         ...             ...              ...   \n9709      120        0.573556    0.703704        0.573556         0.552437   \n10090     124        0.554556    0.550725        0.554556         0.544149   \n10459     129        0.547521    0.567164        0.547521         0.569000   \n10573     130        0.583303    0.551724        0.583303         0.597503   \n10655     131        0.536405    0.530612        0.536405         0.549776   \n\n       EFG3_avgs_team1  \n318           0.362724  \n488           0.413000  \n740           0.391232  \n1097          0.356199  \n1185          0.347783  \n...                ...  \n9709          0.389918  \n10090         0.379572  \n10459         0.342069  \n10573         0.352018  \n10655         0.338118  \n\n[359 rows x 6 columns]",
      "text/html": "<div>\n<style scoped>\n    .dataframe tbody tr th:only-of-type {\n        vertical-align: middle;\n    }\n\n    .dataframe tbody tr th {\n        vertical-align: top;\n    }\n\n    .dataframe thead th {\n        text-align: right;\n    }\n</style>\n<table border=\"1\" class=\"dataframe\">\n  <thead>\n    <tr style=\"text-align: right;\">\n      <th></th>\n      <th>DayNum</th>\n      <th>EFG_avgs_team1</th>\n      <th>EFG%_team1</th>\n      <th>EFG_avgs_team1</th>\n      <th>EFG2_avgs_team1</th>\n      <th>EFG3_avgs_team1</th>\n    </tr>\n  </thead>\n  <tbody>\n    <tr>\n      <th>318</th>\n      <td>13</td>\n      <td>0.537441</td>\n      <td>0.661538</td>\n      <td>0.537441</td>\n      <td>0.537719</td>\n      <td>0.362724</td>\n    </tr>\n    <tr>\n      <th>488</th>\n      <td>15</td>\n      <td>0.568179</td>\n      <td>0.500000</td>\n      <td>0.568179</td>\n      <td>0.557546</td>\n      <td>0.413000</td>\n    </tr>\n    <tr>\n      <th>740</th>\n      <td>18</td>\n      <td>0.594820</td>\n      <td>0.555556</td>\n      <td>0.594820</td>\n      <td>0.598715</td>\n      <td>0.391232</td>\n    </tr>\n    <tr>\n      <th>1097</th>\n      <td>21</td>\n      <td>0.543681</td>\n      <td>0.593750</td>\n      <td>0.543681</td>\n      <td>0.529125</td>\n      <td>0.356199</td>\n    </tr>\n    <tr>\n      <th>1185</th>\n      <td>22</td>\n      <td>0.504547</td>\n      <td>0.537037</td>\n      <td>0.504547</td>\n      <td>0.498119</td>\n      <td>0.347783</td>\n    </tr>\n    <tr>\n      <th>...</th>\n      <td>...</td>\n      <td>...</td>\n      <td>...</td>\n      <td>...</td>\n      <td>...</td>\n      <td>...</td>\n    </tr>\n    <tr>\n      <th>9709</th>\n      <td>120</td>\n      <td>0.573556</td>\n      <td>0.703704</td>\n      <td>0.573556</td>\n      <td>0.552437</td>\n      <td>0.389918</td>\n    </tr>\n    <tr>\n      <th>10090</th>\n      <td>124</td>\n      <td>0.554556</td>\n      <td>0.550725</td>\n      <td>0.554556</td>\n      <td>0.544149</td>\n      <td>0.379572</td>\n    </tr>\n    <tr>\n      <th>10459</th>\n      <td>129</td>\n      <td>0.547521</td>\n      <td>0.567164</td>\n      <td>0.547521</td>\n      <td>0.569000</td>\n      <td>0.342069</td>\n    </tr>\n    <tr>\n      <th>10573</th>\n      <td>130</td>\n      <td>0.583303</td>\n      <td>0.551724</td>\n      <td>0.583303</td>\n      <td>0.597503</td>\n      <td>0.352018</td>\n    </tr>\n    <tr>\n      <th>10655</th>\n      <td>131</td>\n      <td>0.536405</td>\n      <td>0.530612</td>\n      <td>0.536405</td>\n      <td>0.549776</td>\n      <td>0.338118</td>\n    </tr>\n  </tbody>\n</table>\n<p>359 rows × 6 columns</p>\n</div>"
     },
     "execution_count": 462,
     "metadata": {},
     "output_type": "execute_result"
    }
   ],
   "source": [
    "combined_df[combined_df['Team'] == 'Duke'][['DayNum', 'EFG_avgs_team1', 'EFG%_team1', 'EFG_avgs_team1',\n",
    "                                            'EFG2_avgs_team1',\n",
    "                                            'EFG3_avgs_team1',]]"
   ],
   "metadata": {
    "collapsed": false,
    "ExecuteTime": {
     "end_time": "2024-02-28T18:01:12.447726Z",
     "start_time": "2024-02-28T18:01:12.429864Z"
    }
   }
  },
  {
   "cell_type": "markdown",
   "source": [
    "## Hyperparameter-Tuning"
   ],
   "metadata": {
    "collapsed": false
   }
  },
  {
   "cell_type": "markdown",
   "source": [
    "We'll use grid search with k=3 folds cross validation"
   ],
   "metadata": {
    "collapsed": false
   }
  },
  {
   "cell_type": "code",
   "execution_count": 464,
   "outputs": [],
   "source": [
    "def ParameterSearch(regressor, degree, scaler_bool, interaction_only, X_train, y_train):\n",
    "    \"\"\"\n",
    "    This is a k=5 cross fold validation function to find optimal parameters for\n",
    "    different regressors.\n",
    "\n",
    "    Parameters:\n",
    "    ------------\n",
    "    regressor: (string)\n",
    "      type or regressor to be run (\"rfr\", \"etr\", \"gbr\", \"xgb\", \"knnr\", \"ablr\",\n",
    "                                   \"svr\", \"lr\")\n",
    "    scaler_bool: bool\n",
    "      True to apply standard scaler to the input data first\n",
    "    degree: int\n",
    "      degree to which the X_train input will be converted prior to running the\n",
    "      regressor\n",
    "    interaction_only: bool\n",
    "      if the X_train input degree will only add interaction terms\n",
    "    X_train: DataFrame\n",
    "      training inputs\n",
    "    y_train: DataFrame\n",
    "      training outputs\n",
    "\n",
    "    Returns:\n",
    "    ------------\n",
    "    None\n",
    "    \"\"\"\n",
    "\n",
    "    # all of the regressor options to be run\n",
    "    rfc = RandomForestClassifier(random_state=42, n_jobs = -1)\n",
    "    etc = ExtraTreesClassifier(random_state=42, n_jobs = -1)\n",
    "    nnc = MLPClassifier(random_state=42,  max_iter=10000)\n",
    "    gbc = GradientBoostingClassifier(random_state=42)\n",
    "    xgb = XGBoost.XGBClassifier(random_state=42, n_jobs=-1)\n",
    "    knnc = KNeighborsClassifier()\n",
    "    absvc = AdaBoostClassifier(random_state=42, base_estimator=SVC())\n",
    "    svc = SVC()\n",
    "    lr = LogisticRegression(random_state=0, warm_start=True, max_iter=10000)\n",
    "\n",
    "    # parameter values to be tried\n",
    "    rfc_grid = {\n",
    "        'rfc__max_depth': [4, 6, 8, 10],\n",
    "        'rfc__max_features': ['sqrt', None],\n",
    "        'rfc__min_samples_leaf': [4, 8, 16, 32],\n",
    "        'rfc__n_estimators': [50, 100, 200],\n",
    "        'rfc__bootstrap': [True],\n",
    "        'rfc__max_samples': [0.25, 0.5, 1]\n",
    "    }\n",
    "    etc_grid = {\n",
    "        'etc__max_depth': [4, 6, 8, 10],\n",
    "        'etc__max_features': ['sqrt', None],\n",
    "        'etc__min_samples_leaf': [4, 8, 16, 32],\n",
    "        'etc__n_estimators': [50, 100, 200],\n",
    "        'etc__bootstrap': [True],\n",
    "        'etc__max_samples': [0.25, 0.5, 1]\n",
    "    }\n",
    "    nnc_grid = {\n",
    "        'nnc__hidden_layer_sizes': [(i, j) for i in range(5, 51, 5) for j in range(2, 21, 2)],\n",
    "        'nnc__alpha': [i/2 for i in list(range(20))],\n",
    "    }\n",
    "    gbc_grid = {\n",
    "        'gbc__max_depth': [2, 3, 4, 5, 6, 7, 8, 9, 10],\n",
    "        'gbc__max_features': ['sqrt', None],\n",
    "        'gbc__min_samples_leaf': [1, 2, 4, 8, 16],\n",
    "        'gbc__n_estimators': [50, 100, 200, 300],\n",
    "        'gbc__subsample': [0.25, 0.5, 0.75, 1]\n",
    "    }\n",
    "    xgb_grid = {\n",
    "        'xgb__max_depth': [5, 10, 20],\n",
    "        'xgb__n_estimators': [100, 200, 300],\n",
    "        'xgb__gamma': [1],\n",
    "        'xgb__eta': [0.05, 0.1],\n",
    "        'xgb__subsample': [0.25],\n",
    "        'xgb__min_child_weight': [0.25, 0.5],\n",
    "        'xgb__reg_lambda': [0.5, 1],\n",
    "        'xgb__alpha': [0.5, 1]\n",
    "    }\n",
    "    knnc_grid = {\n",
    "        'knnc__n_neighbors': list(range(1, 51, 1))\n",
    "    }\n",
    "    absvc_grid = {\n",
    "        'absvc__n_estimators': list(range(10, 101, 10)),\n",
    "        'absvc__learning_rate': [0.05, 0.1, 0.2]\n",
    "    }\n",
    "    svc_grid = {\n",
    "        'svc__degree': list(range(1, 11, 1))\n",
    "    }\n",
    "    lr_grid = {\n",
    "        'lr__C': [0.001, 0.002, 0.005, 0.01, 0.02, 0.05, 0.1, 0.2, 0.5, 1, 1.25, 1.5, 1.75, 2, 2.25, 2.5, 2.75, 3, 3.25, 3.5, 3.75, 4, 4.25, 4.5, 4.75, 5]\n",
    "    }\n",
    "\n",
    "    # check if scaler will be used\n",
    "    if scaler_bool == True:\n",
    "        scaler = StandardScaler()\n",
    "    else:\n",
    "        scaler = None\n",
    "\n",
    "    if degree:\n",
    "        poly = PolynomialFeatures(degree=degree, interaction_only=interaction_only)\n",
    "    else:\n",
    "        poly = None\n",
    "\n",
    "    # set up the grid and pipe for the chosen regressor\n",
    "    if regressor=='rfc':\n",
    "        grid = rfc_grid\n",
    "        pipe = Pipeline(steps=[('scaler', scaler), ('rfc', rfc)])\n",
    "    elif regressor=='etc':\n",
    "        grid = etc_grid\n",
    "        pipe = Pipeline(steps=[('scaler', scaler), ('etc', etc)])\n",
    "    elif regressor=='nnc':\n",
    "        grid = nnc_grid\n",
    "        pipe = Pipeline(steps=[('scaler', scaler), ('nnc', nnc)])\n",
    "    elif regressor=='gbc':\n",
    "        grid = gbc_grid\n",
    "        pipe = Pipeline(steps=[('scaler', scaler), ('gbc', gbc)])\n",
    "    elif regressor=='xgb':\n",
    "        grid = xgb_grid\n",
    "        pipe = Pipeline(steps=[('scaler', scaler), ('xgb', xgb)])\n",
    "    elif regressor=='knnc':\n",
    "        grid = knnc_grid\n",
    "        pipe = Pipeline(steps=[('scaler', scaler), ('knnc', knnc)])\n",
    "    elif regressor=='absvc':\n",
    "        grid = absvc_grid\n",
    "        pipe = Pipeline(steps=[('scaler', scaler), ('absvc', absvc)])\n",
    "    elif regressor=='svc':\n",
    "        grid = svc_grid\n",
    "        pipe = Pipeline(steps=[('scaler', scaler), ('svc', svc)])\n",
    "    elif regressor=='lr':\n",
    "        grid = lr_grid\n",
    "        pipe = Pipeline(steps=[('poly', poly), ('scaler', scaler), ('lr', lr)])\n",
    "\n",
    "    # create the GridSearchCV object, and fit the passed input to it\n",
    "    gs = GridSearchCV(pipe, grid, n_jobs=-1, cv=3, verbose=1)\n",
    "    gs.fit(X_train, y_train)\n",
    "\n",
    "    # print out the best score on the cross validation holdout data and the best parameters\n",
    "    print(\"Best score:\", gs.best_score_)\n",
    "    print()\n",
    "    print(gs.best_params_)"
   ],
   "metadata": {
    "collapsed": false,
    "ExecuteTime": {
     "end_time": "2024-02-28T18:01:17.272821Z",
     "start_time": "2024-02-28T18:01:17.266470Z"
    }
   }
  },
  {
   "cell_type": "code",
   "execution_count": 467,
   "outputs": [
    {
     "name": "stdout",
     "output_type": "stream",
     "text": [
      "Fitting 3 folds for each of 26 candidates, totalling 78 fits\n"
     ]
    },
    {
     "name": "stderr",
     "output_type": "stream",
     "text": [
      "/Users/kylesullivan/anaconda3/lib/python3.10/site-packages/joblib/externals/loky/process_executor.py:702: UserWarning: A worker stopped while some jobs were given to the executor. This can be caused by a too short worker timeout or by a memory leak.\n",
      "  warnings.warn(\n"
     ]
    },
    {
     "name": "stdout",
     "output_type": "stream",
     "text": [
      "Best score: 0.9186218668896204\n",
      "\n",
      "{'lr__C': 2.5}\n"
     ]
    }
   ],
   "source": [
    "ParameterSearch('lr', 2, True, False, scaled_X_train, y_train)"
   ],
   "metadata": {
    "collapsed": false,
    "ExecuteTime": {
     "end_time": "2024-02-28T18:04:36.498856Z",
     "start_time": "2024-02-28T18:04:20.681444Z"
    }
   }
  },
  {
   "cell_type": "code",
   "execution_count": 485,
   "outputs": [
    {
     "name": "stdout",
     "output_type": "stream",
     "text": [
      "Fitting 3 folds for each of 288 candidates, totalling 864 fits\n",
      "Best score: 0.8995227395446865\n",
      "\n",
      "{'rfc__bootstrap': True, 'rfc__max_depth': 10, 'rfc__max_features': None, 'rfc__max_samples': 0.25, 'rfc__min_samples_leaf': 4, 'rfc__n_estimators': 200}\n"
     ]
    }
   ],
   "source": [
    "ParameterSearch('rfc', 1, False, False, scaled_X_train, y_train)"
   ],
   "metadata": {
    "collapsed": false,
    "ExecuteTime": {
     "end_time": "2024-02-28T18:23:27.101687Z",
     "start_time": "2024-02-28T18:13:36.931228Z"
    }
   }
  },
  {
   "cell_type": "code",
   "execution_count": 36,
   "outputs": [
    {
     "name": "stdout",
     "output_type": "stream",
     "text": [
      "Fitting 3 folds for each of 2000 candidates, totalling 6000 fits\n",
      "Best score: 0.9179686819599032\n",
      "\n",
      "{'nnc__alpha': 0.5, 'nnc__hidden_layer_sizes': (45, 8)}\n"
     ]
    }
   ],
   "source": [
    "ParameterSearch('nnc', 1, False, False, scaled_X_train, y_train)"
   ],
   "metadata": {
    "collapsed": false,
    "ExecuteTime": {
     "end_time": "2024-02-27T16:11:03.375984Z",
     "start_time": "2024-02-27T15:21:47.447538Z"
    }
   }
  },
  {
   "cell_type": "code",
   "execution_count": 466,
   "outputs": [
    {
     "name": "stdout",
     "output_type": "stream",
     "text": [
      "Fitting 3 folds for each of 144 candidates, totalling 432 fits\n"
     ]
    },
    {
     "name": "stderr",
     "output_type": "stream",
     "text": [
      "/Users/kylesullivan/anaconda3/lib/python3.10/site-packages/joblib/externals/loky/process_executor.py:702: UserWarning: A worker stopped while some jobs were given to the executor. This can be caused by a too short worker timeout or by a memory leak.\n",
      "  warnings.warn(\n"
     ]
    },
    {
     "name": "stdout",
     "output_type": "stream",
     "text": [
      "Best score: 0.915477870094581\n",
      "\n",
      "{'xgb__alpha': 0.5, 'xgb__eta': 0.1, 'xgb__gamma': 1, 'xgb__max_depth': 5, 'xgb__min_child_weight': 0.5, 'xgb__n_estimators': 300, 'xgb__reg_lambda': 1, 'xgb__subsample': 0.25}\n"
     ]
    }
   ],
   "source": [
    "ParameterSearch('xgb', 1, False, False, scaled_X_train, y_train)"
   ],
   "metadata": {
    "collapsed": false,
    "ExecuteTime": {
     "end_time": "2024-02-28T18:04:10.156486Z",
     "start_time": "2024-02-28T18:01:38.461072Z"
    }
   }
  },
  {
   "cell_type": "code",
   "execution_count": 490,
   "outputs": [],
   "source": [
    "def EnsemblePredictor(X_train, y_train, X_test=None, y_test=None):\n",
    "    \"\"\"\n",
    "    An ensemble regressor estimation function.\n",
    "\n",
    "    Parameters:\n",
    "    ------------\n",
    "    X_train: DataFrame\n",
    "      training inputs\n",
    "    y_train: DataFrame\n",
    "      training outputs\n",
    "    X_test: DataFrame\n",
    "      testing inputs\n",
    "    y_test: DataFrame\n",
    "      testing outputs\n",
    "\n",
    "    Returns:\n",
    "    ------------\n",
    "    None (if y_test != None)\n",
    "\n",
    "    \"\"\"\n",
    "\n",
    "    # normalize the data\n",
    "    scaler = StandardScaler()\n",
    "\n",
    "    poly_class=Pipeline([('poly_class', PolynomialFeatures(degree=2, interaction_only=False)), ('scaler', scaler), ('lr', LogisticRegression(random_state=10, warm_start=True, C=2.5, max_iter=20000),)])\n",
    "\n",
    "    # RF_class=Pipeline([('scaler', scaler), ('RF_class', RandomForestClassifier(bootstrap=True, max_depth=10, max_features=None, max_samples=0.25, min_samples_leaf=4, n_estimators=200, random_state=0),)])\n",
    "\n",
    "    XGB_class=Pipeline([('scaler', scaler), ('XGB_class', XGBoost.XGBClassifier(alpha=0.5, eta=0.1, gamma=1, max_depth=5, min_child_weight=0.5, n_estimators=300, reg_lambda=1, subsample=0.25, random_state=42, n_jobs=-1),)])\n",
    "\n",
    "    # estimators to be used in the ensemble\n",
    "    estimators = [\n",
    "        # ('0', XGB_class,),\n",
    "        # ('1', RF_class,),\n",
    "        ('2', poly_class,),\n",
    "        ]\n",
    "\n",
    "    # create regressors stack\n",
    "    stack_reg = StackingClassifier(\n",
    "        estimators=estimators\n",
    "    )\n",
    "\n",
    "    # fit the training data to the stack\n",
    "    stack_reg.fit(X_train, y_train)\n",
    "\n",
    "    train_acc = stack_reg.score(X_train, y_train)\n",
    "    train_pred = stack_reg.predict(X_train)\n",
    "    y_train_arr = np.array(y_train)\n",
    "\n",
    "    print(\"Train Acc:\", round(train_acc, 2))\n",
    "    if not y_test is None:\n",
    "        test_acc = stack_reg.score(X_test, y_test)\n",
    "        print(\"Test Acc:\", round(test_acc, 2))\n",
    "    print('Train Total Incorrect:', len(train_pred)-sum(train_pred==y_train_arr))\n",
    "    if not y_test is None:\n",
    "        y_test_arr = np.array(y_test)\n",
    "        print('Test Total Correct:', sum(test_pred==y_test_arr))\n",
    "    elif not X_test is None:\n",
    "        return test_pred_prob[:,1]\n",
    "    else:\n",
    "        print(\"--------------------------------------------------\",)\n",
    "        total=0\n",
    "        for pair in [(scaled_X_test_11, y_test_11, 2011), (scaled_X_test_12, y_test_12, 2012), (scaled_X_test_13, y_test_13, 2013),\n",
    "                     (scaled_X_test_14, y_test_14, 2014), (scaled_X_test_15, y_test_15, 2015), (scaled_X_test_16, y_test_16, 2016),\n",
    "                     (scaled_X_test_17, y_test_17, 2017), (scaled_X_test_18, y_test_18, 2018), (scaled_X_test_19, y_test_19, 2019),\n",
    "                     (scaled_X_test_21, y_test_21, 2021), (scaled_X_test_22, y_test_22, 2022)]:\n",
    "            test_pred = stack_reg.predict(pair[0])\n",
    "            y_train_arr = np.array(pair[1])\n",
    "            current = sum(test_pred==y_train_arr)\n",
    "            total+=current\n",
    "            print(pair[2], 'Test Correct:', current)\n",
    "            print(\"--------------------------------------------------\",)\n",
    "        print('Total Correct:', total)"
   ],
   "metadata": {
    "collapsed": false,
    "ExecuteTime": {
     "end_time": "2024-02-29T02:42:45.753031Z",
     "start_time": "2024-02-29T02:42:45.742547Z"
    }
   }
  },
  {
   "cell_type": "markdown",
   "source": [
    "Logistic Regression Results (ensemble of one):"
   ],
   "metadata": {
    "collapsed": false
   }
  },
  {
   "cell_type": "code",
   "execution_count": 491,
   "outputs": [
    {
     "name": "stdout",
     "output_type": "stream",
     "text": [
      "Train Acc: 0.92\n",
      "Train Total Incorrect: 9306\n",
      "--------------------------------------------------\n",
      "2011 Test Correct: 42\n",
      "--------------------------------------------------\n",
      "2012 Test Correct: 46\n",
      "--------------------------------------------------\n",
      "2013 Test Correct: 45\n",
      "--------------------------------------------------\n",
      "2014 Test Correct: 43\n",
      "--------------------------------------------------\n",
      "2015 Test Correct: 50\n",
      "--------------------------------------------------\n",
      "2016 Test Correct: 46\n",
      "--------------------------------------------------\n",
      "2017 Test Correct: 45\n",
      "--------------------------------------------------\n",
      "2018 Test Correct: 44\n",
      "--------------------------------------------------\n",
      "2019 Test Correct: 48\n",
      "--------------------------------------------------\n",
      "2021 Test Correct: 41\n",
      "--------------------------------------------------\n",
      "2022 Test Correct: 42\n",
      "--------------------------------------------------\n",
      "Total Correct: 492\n"
     ]
    }
   ],
   "source": [
    "EnsemblePredictor(scaled_X_train, y_train)"
   ],
   "metadata": {
    "collapsed": false,
    "ExecuteTime": {
     "end_time": "2024-02-29T02:42:59.535813Z",
     "start_time": "2024-02-29T02:42:47.321980Z"
    }
   }
  },
  {
   "cell_type": "code",
   "execution_count": null,
   "outputs": [],
   "source": [],
   "metadata": {
    "collapsed": false
   }
  }
 ],
 "metadata": {
  "kernelspec": {
   "display_name": "Python 3",
   "language": "python",
   "name": "python3"
  },
  "language_info": {
   "codemirror_mode": {
    "name": "ipython",
    "version": 2
   },
   "file_extension": ".py",
   "mimetype": "text/x-python",
   "name": "python",
   "nbconvert_exporter": "python",
   "pygments_lexer": "ipython2",
   "version": "2.7.6"
  }
 },
 "nbformat": 4,
 "nbformat_minor": 0
}
