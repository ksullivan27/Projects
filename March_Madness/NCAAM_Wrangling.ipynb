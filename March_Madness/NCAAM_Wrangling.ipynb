{
 "cells": [
  {
   "cell_type": "markdown",
   "source": [
    "# Introduction:\n",
    "\n",
    "Welcome to Samar Haider, Kaishu Mason, and Kyle Sullivan's CIS 545 Final Project for Spring 2022!\n",
    "\n",
    "In this notebook, we will dive into the world of NCAA men's basketball. Every year, March Madness draws national attention as schools from across the country compete in a large multi-week tournament to crown college basketball's next champion. Perhaps the most significant athletic competition for data enthusiasts, these numerous high-stake elimination games between typically unfamiliar opponents present an excellent opportunity to build and test predictive sports models.\n",
    "\n",
    "Our goal is to analyze college basketball data from 2003 to 2022 to produce a model that predicts matchup winners and losers, with the ultimate goal of accurately predicting the 2022 March Madness tournament."
   ],
   "metadata": {
    "id": "NGpVGWK_SwQn"
   }
  },
  {
   "cell_type": "markdown",
   "source": [
    "# Install/Import the revelant libraries and packages.\n",
    "We will be using Pandas, Pandas SQL, Geopandas, Geopy, and Plotly."
   ],
   "metadata": {
    "id": "2P1HS42fT6SB"
   }
  },
  {
   "cell_type": "code",
   "execution_count": 1,
   "metadata": {
    "colab": {
     "base_uri": "https://localhost:8080/"
    },
    "id": "-0b8x1aarbEj",
    "outputId": "723ed72b-7b2a-4139-8481-92d6dc0544b9",
    "ExecuteTime": {
     "end_time": "2024-02-29T10:24:39.629761Z",
     "start_time": "2024-02-29T10:24:37.409472Z"
    }
   },
   "outputs": [
    {
     "name": "stdout",
     "output_type": "stream",
     "text": [
      "\u001B[33mWARNING: Ignoring invalid distribution - (/Users/kylesullivan/anaconda3/lib/python3.10/site-packages)\u001B[0m\u001B[33m\r\n",
      "\u001B[0m\u001B[33mWARNING: Ignoring invalid distribution -orch (/Users/kylesullivan/anaconda3/lib/python3.10/site-packages)\u001B[0m\u001B[33m\r\n",
      "\u001B[0mRequirement already satisfied: SQLAlchemy==1.4.46 in /Users/kylesullivan/anaconda3/lib/python3.10/site-packages (1.4.46)\r\n",
      "\u001B[33mWARNING: Ignoring invalid distribution - (/Users/kylesullivan/anaconda3/lib/python3.10/site-packages)\u001B[0m\u001B[33m\r\n",
      "\u001B[0m\u001B[33mWARNING: Ignoring invalid distribution -orch (/Users/kylesullivan/anaconda3/lib/python3.10/site-packages)\u001B[0m\u001B[33m\r\n",
      "\u001B[0m\r\n",
      "\u001B[1m[\u001B[0m\u001B[34;49mnotice\u001B[0m\u001B[1;39;49m]\u001B[0m\u001B[39;49m A new release of pip is available: \u001B[0m\u001B[31;49m23.3.2\u001B[0m\u001B[39;49m -> \u001B[0m\u001B[32;49m24.0\u001B[0m\r\n",
      "\u001B[1m[\u001B[0m\u001B[34;49mnotice\u001B[0m\u001B[1;39;49m]\u001B[0m\u001B[39;49m To update, run: \u001B[0m\u001B[32;49mpip install --upgrade pip\u001B[0m\r\n"
     ]
    }
   ],
   "source": [
    "# !pip install pandas==1.1.5\n",
    "# !pip install pandasql\n",
    "!pip install SQLAlchemy==1.4.46"
   ]
  },
  {
   "cell_type": "code",
   "execution_count": 2,
   "metadata": {
    "id": "0hkFCljirvq_",
    "ExecuteTime": {
     "end_time": "2024-02-29T10:24:39.853972Z",
     "start_time": "2024-02-29T10:24:39.630719Z"
    }
   },
   "outputs": [],
   "source": [
    "import pandas as pd\n",
    "import pandasql as ps\n",
    "import numpy as np"
   ]
  },
  {
   "cell_type": "markdown",
   "source": [
    "# Import the Data"
   ],
   "metadata": {
    "id": "x2095NIXUiyQ"
   }
  },
  {
   "cell_type": "markdown",
   "source": [
    "Connect to the google drive and download the necessary csv files."
   ],
   "metadata": {
    "id": "osqdipLFUqOx"
   }
  },
  {
   "cell_type": "code",
   "execution_count": 3,
   "metadata": {
    "id": "erDT7ynirxgG",
    "ExecuteTime": {
     "end_time": "2024-02-29T10:24:39.863873Z",
     "start_time": "2024-02-29T10:24:39.858361Z"
    }
   },
   "outputs": [],
   "source": [
    "# # Setup google drive:\n",
    "# from google.colab import drive\n",
    "# drive.mount(\"/content/gdrive\")"
   ]
  },
  {
   "cell_type": "markdown",
   "source": [
    "We will be using the following datasets from Kaggle:\n",
    "\n",
    "\n",
    "*   MRegularSeasonDetailedResults.csv\n",
    "*   MConferenceTourneyGames.csv\n",
    "*   MNCAATourneyDetailedResults.csv\n",
    "*   MNCAATourneySeeds.csv\n",
    "*   MTeamCoaches.csv\n",
    "*   MTeams.csv\n",
    "*   MTeamConferences.csv\n",
    "*   Conferences.csv\n",
    "*   MMasseyOrdinals_thruDay128.csv\n",
    "*   MGameCities.csv\n",
    "*   Cities.csv\n",
    "\n",
    "\n",
    "\n"
   ],
   "metadata": {
    "id": "beV_uvLvUxKz"
   }
  },
  {
   "cell_type": "code",
   "execution_count": 4,
   "metadata": {
    "id": "p3UGNcR_r0B_",
    "ExecuteTime": {
     "end_time": "2024-02-29T10:24:40.620729Z",
     "start_time": "2024-02-29T10:24:39.865637Z"
    }
   },
   "outputs": [],
   "source": [
    "# Read the data from Google Drive:\n",
    "reg_season_detailed_df = pd.read_csv('/content/MRegularSeasonDetailedResults2023.csv')\n",
    "conf_tourney_games_df = pd.read_csv('/content/MConferenceTourneyGames2023.csv')\n",
    "tourney_games_detailed_df = pd.read_csv('/content/MNCAATourneyDetailedResults2023.csv')\n",
    "tourney_seeds_df = pd.read_csv('/content/MNCAATourneySeeds2023.csv')\n",
    "team_coaches_df = pd.read_csv('/content/MTeamCoaches2023.csv')\n",
    "teams_df = pd.read_csv('/content/MTeams2023.csv')\n",
    "team_conf_df = pd.read_csv('/content/MTeamConferences2023.csv')\n",
    "conferences_df = pd.read_csv('/content/Conferences2023.csv')\n",
    "massey_ordinals_df = pd.read_csv('/content/2023/MMasseyOrdinals_thruDay128_2023.csv')\n",
    "game_cities_df = pd.read_csv('/content/MGameCities2023.csv')\n",
    "cities_df = pd.read_csv('/content/Cities2023.csv')"
   ]
  },
  {
   "cell_type": "code",
   "source": [
    "team_conf_df"
   ],
   "metadata": {
    "colab": {
     "base_uri": "https://localhost:8080/",
     "height": 424
    },
    "id": "EZHIkt7OoX9i",
    "outputId": "a1710e3b-6b08-4dbc-c813-595c81e0a3db",
    "ExecuteTime": {
     "end_time": "2024-02-29T10:24:40.651774Z",
     "start_time": "2024-02-29T10:24:40.646121Z"
    }
   },
   "execution_count": 5,
   "outputs": [
    {
     "data": {
      "text/plain": "       Season  TeamID ConfAbbrev\n0        1985    1102        wac\n1        1985    1103        ovc\n2        1985    1104        sec\n3        1985    1106       swac\n4        1985    1108       swac\n...       ...     ...        ...\n12657    2023    1473        ovc\n12658    2023    1474      a_sun\n12659    2023    1475        ovc\n12660    2023    1476        nec\n12661    2023    1477  southland\n\n[12662 rows x 3 columns]",
      "text/html": "<div>\n<style scoped>\n    .dataframe tbody tr th:only-of-type {\n        vertical-align: middle;\n    }\n\n    .dataframe tbody tr th {\n        vertical-align: top;\n    }\n\n    .dataframe thead th {\n        text-align: right;\n    }\n</style>\n<table border=\"1\" class=\"dataframe\">\n  <thead>\n    <tr style=\"text-align: right;\">\n      <th></th>\n      <th>Season</th>\n      <th>TeamID</th>\n      <th>ConfAbbrev</th>\n    </tr>\n  </thead>\n  <tbody>\n    <tr>\n      <th>0</th>\n      <td>1985</td>\n      <td>1102</td>\n      <td>wac</td>\n    </tr>\n    <tr>\n      <th>1</th>\n      <td>1985</td>\n      <td>1103</td>\n      <td>ovc</td>\n    </tr>\n    <tr>\n      <th>2</th>\n      <td>1985</td>\n      <td>1104</td>\n      <td>sec</td>\n    </tr>\n    <tr>\n      <th>3</th>\n      <td>1985</td>\n      <td>1106</td>\n      <td>swac</td>\n    </tr>\n    <tr>\n      <th>4</th>\n      <td>1985</td>\n      <td>1108</td>\n      <td>swac</td>\n    </tr>\n    <tr>\n      <th>...</th>\n      <td>...</td>\n      <td>...</td>\n      <td>...</td>\n    </tr>\n    <tr>\n      <th>12657</th>\n      <td>2023</td>\n      <td>1473</td>\n      <td>ovc</td>\n    </tr>\n    <tr>\n      <th>12658</th>\n      <td>2023</td>\n      <td>1474</td>\n      <td>a_sun</td>\n    </tr>\n    <tr>\n      <th>12659</th>\n      <td>2023</td>\n      <td>1475</td>\n      <td>ovc</td>\n    </tr>\n    <tr>\n      <th>12660</th>\n      <td>2023</td>\n      <td>1476</td>\n      <td>nec</td>\n    </tr>\n    <tr>\n      <th>12661</th>\n      <td>2023</td>\n      <td>1477</td>\n      <td>southland</td>\n    </tr>\n  </tbody>\n</table>\n<p>12662 rows × 3 columns</p>\n</div>"
     },
     "execution_count": 5,
     "metadata": {},
     "output_type": "execute_result"
    }
   ]
  },
  {
   "cell_type": "code",
   "source": [
    "year = 2019"
   ],
   "metadata": {
    "id": "H68fdRnFe4o3",
    "ExecuteTime": {
     "end_time": "2024-02-29T10:24:40.651878Z",
     "start_time": "2024-02-29T10:24:40.649675Z"
    }
   },
   "execution_count": 6,
   "outputs": []
  },
  {
   "cell_type": "markdown",
   "source": [
    "# Wrangling"
   ],
   "metadata": {
    "id": "afxFufAxWQDk"
   }
  },
  {
   "cell_type": "markdown",
   "source": [
    "## Combine the regular season and March Madness tournament game DataFrames"
   ],
   "metadata": {
    "id": "oSFBAC_jWr-Z"
   }
  },
  {
   "cell_type": "markdown",
   "source": [
    "First, we want to gather our game data into a single DataFrame (combined_detailed_df). We'll accomplish this task by concatenating the March Madness tournament games (tourney_games_detailed_df) to the regular season games (reg_season_detailed_df). At the same time, let's insert 'ConfTourney' and 'MMTourney' columns into the result taking binary values of 0 or 1 to indicate if this game instance was a conference tournament game or a March Madness tournament game. Note that the regular season DataFrame (reg_season_detailed_df) already includes conference tournament games."
   ],
   "metadata": {
    "id": "q5uKc_g7Xuqb"
   }
  },
  {
   "cell_type": "code",
   "source": [
    "reg_season_detailed_df"
   ],
   "metadata": {
    "colab": {
     "base_uri": "https://localhost:8080/",
     "height": 444
    },
    "id": "7aM7J9KN8XAH",
    "outputId": "85778b40-0c21-4049-ee23-acd4c5b30fde",
    "ExecuteTime": {
     "end_time": "2024-02-29T10:24:40.669123Z",
     "start_time": "2024-02-29T10:24:40.655213Z"
    }
   },
   "execution_count": 7,
   "outputs": [
    {
     "data": {
      "text/plain": "        Season  DayNum  WTeamID  WScore  LTeamID  LScore WLoc  NumOT  WFGM  \\\n0         2003      10     1104      68     1328      62    N      0    27   \n1         2003      10     1272      70     1393      63    N      0    26   \n2         2003      11     1266      73     1437      61    N      0    24   \n3         2003      11     1296      56     1457      50    N      0    18   \n4         2003      11     1400      77     1208      71    N      0    30   \n...        ...     ...      ...     ...      ...     ...  ...    ...   ...   \n107629    2023     132     1104      82     1401      63    N      0    27   \n107630    2023     132     1272      75     1222      65    A      0    27   \n107631    2023     132     1343      74     1463      65    H      0    23   \n107632    2023     132     1345      67     1336      65    N      0    24   \n107633    2023     132     1433      68     1173      56    N      0    24   \n\n        WFGA  ...  LFGA3  LFTM  LFTA  LOR  LDR  LAst  LTO  LStl  LBlk  LPF  \n0         58  ...     10    16    22   10   22     8   18     9     2   20  \n1         62  ...     24     9    20   20   25     7   12     8     6   16  \n2         58  ...     26    14    23   31   22     9   12     2     5   23  \n3         38  ...     22     8    15   17   20     9   19     4     3   23  \n4         61  ...     16    17    27   21   15    12   10     7     1   14  \n...      ...  ...    ...   ...   ...  ...  ...   ...  ...   ...   ...  ...  \n107629    66  ...     15    20    24   17   20     6   13     5     2   21  \n107630    53  ...     25    19    28   22   20    11   10     5     4   19  \n107631    57  ...     22    13    19    6   25    12   10     3     7   20  \n107632    62  ...     23    14    15    4   27    14   10     4     2   20  \n107633    52  ...     22    17    20   16   22    11    8     1     6   21  \n\n[107634 rows x 34 columns]",
      "text/html": "<div>\n<style scoped>\n    .dataframe tbody tr th:only-of-type {\n        vertical-align: middle;\n    }\n\n    .dataframe tbody tr th {\n        vertical-align: top;\n    }\n\n    .dataframe thead th {\n        text-align: right;\n    }\n</style>\n<table border=\"1\" class=\"dataframe\">\n  <thead>\n    <tr style=\"text-align: right;\">\n      <th></th>\n      <th>Season</th>\n      <th>DayNum</th>\n      <th>WTeamID</th>\n      <th>WScore</th>\n      <th>LTeamID</th>\n      <th>LScore</th>\n      <th>WLoc</th>\n      <th>NumOT</th>\n      <th>WFGM</th>\n      <th>WFGA</th>\n      <th>...</th>\n      <th>LFGA3</th>\n      <th>LFTM</th>\n      <th>LFTA</th>\n      <th>LOR</th>\n      <th>LDR</th>\n      <th>LAst</th>\n      <th>LTO</th>\n      <th>LStl</th>\n      <th>LBlk</th>\n      <th>LPF</th>\n    </tr>\n  </thead>\n  <tbody>\n    <tr>\n      <th>0</th>\n      <td>2003</td>\n      <td>10</td>\n      <td>1104</td>\n      <td>68</td>\n      <td>1328</td>\n      <td>62</td>\n      <td>N</td>\n      <td>0</td>\n      <td>27</td>\n      <td>58</td>\n      <td>...</td>\n      <td>10</td>\n      <td>16</td>\n      <td>22</td>\n      <td>10</td>\n      <td>22</td>\n      <td>8</td>\n      <td>18</td>\n      <td>9</td>\n      <td>2</td>\n      <td>20</td>\n    </tr>\n    <tr>\n      <th>1</th>\n      <td>2003</td>\n      <td>10</td>\n      <td>1272</td>\n      <td>70</td>\n      <td>1393</td>\n      <td>63</td>\n      <td>N</td>\n      <td>0</td>\n      <td>26</td>\n      <td>62</td>\n      <td>...</td>\n      <td>24</td>\n      <td>9</td>\n      <td>20</td>\n      <td>20</td>\n      <td>25</td>\n      <td>7</td>\n      <td>12</td>\n      <td>8</td>\n      <td>6</td>\n      <td>16</td>\n    </tr>\n    <tr>\n      <th>2</th>\n      <td>2003</td>\n      <td>11</td>\n      <td>1266</td>\n      <td>73</td>\n      <td>1437</td>\n      <td>61</td>\n      <td>N</td>\n      <td>0</td>\n      <td>24</td>\n      <td>58</td>\n      <td>...</td>\n      <td>26</td>\n      <td>14</td>\n      <td>23</td>\n      <td>31</td>\n      <td>22</td>\n      <td>9</td>\n      <td>12</td>\n      <td>2</td>\n      <td>5</td>\n      <td>23</td>\n    </tr>\n    <tr>\n      <th>3</th>\n      <td>2003</td>\n      <td>11</td>\n      <td>1296</td>\n      <td>56</td>\n      <td>1457</td>\n      <td>50</td>\n      <td>N</td>\n      <td>0</td>\n      <td>18</td>\n      <td>38</td>\n      <td>...</td>\n      <td>22</td>\n      <td>8</td>\n      <td>15</td>\n      <td>17</td>\n      <td>20</td>\n      <td>9</td>\n      <td>19</td>\n      <td>4</td>\n      <td>3</td>\n      <td>23</td>\n    </tr>\n    <tr>\n      <th>4</th>\n      <td>2003</td>\n      <td>11</td>\n      <td>1400</td>\n      <td>77</td>\n      <td>1208</td>\n      <td>71</td>\n      <td>N</td>\n      <td>0</td>\n      <td>30</td>\n      <td>61</td>\n      <td>...</td>\n      <td>16</td>\n      <td>17</td>\n      <td>27</td>\n      <td>21</td>\n      <td>15</td>\n      <td>12</td>\n      <td>10</td>\n      <td>7</td>\n      <td>1</td>\n      <td>14</td>\n    </tr>\n    <tr>\n      <th>...</th>\n      <td>...</td>\n      <td>...</td>\n      <td>...</td>\n      <td>...</td>\n      <td>...</td>\n      <td>...</td>\n      <td>...</td>\n      <td>...</td>\n      <td>...</td>\n      <td>...</td>\n      <td>...</td>\n      <td>...</td>\n      <td>...</td>\n      <td>...</td>\n      <td>...</td>\n      <td>...</td>\n      <td>...</td>\n      <td>...</td>\n      <td>...</td>\n      <td>...</td>\n      <td>...</td>\n    </tr>\n    <tr>\n      <th>107629</th>\n      <td>2023</td>\n      <td>132</td>\n      <td>1104</td>\n      <td>82</td>\n      <td>1401</td>\n      <td>63</td>\n      <td>N</td>\n      <td>0</td>\n      <td>27</td>\n      <td>66</td>\n      <td>...</td>\n      <td>15</td>\n      <td>20</td>\n      <td>24</td>\n      <td>17</td>\n      <td>20</td>\n      <td>6</td>\n      <td>13</td>\n      <td>5</td>\n      <td>2</td>\n      <td>21</td>\n    </tr>\n    <tr>\n      <th>107630</th>\n      <td>2023</td>\n      <td>132</td>\n      <td>1272</td>\n      <td>75</td>\n      <td>1222</td>\n      <td>65</td>\n      <td>A</td>\n      <td>0</td>\n      <td>27</td>\n      <td>53</td>\n      <td>...</td>\n      <td>25</td>\n      <td>19</td>\n      <td>28</td>\n      <td>22</td>\n      <td>20</td>\n      <td>11</td>\n      <td>10</td>\n      <td>5</td>\n      <td>4</td>\n      <td>19</td>\n    </tr>\n    <tr>\n      <th>107631</th>\n      <td>2023</td>\n      <td>132</td>\n      <td>1343</td>\n      <td>74</td>\n      <td>1463</td>\n      <td>65</td>\n      <td>H</td>\n      <td>0</td>\n      <td>23</td>\n      <td>57</td>\n      <td>...</td>\n      <td>22</td>\n      <td>13</td>\n      <td>19</td>\n      <td>6</td>\n      <td>25</td>\n      <td>12</td>\n      <td>10</td>\n      <td>3</td>\n      <td>7</td>\n      <td>20</td>\n    </tr>\n    <tr>\n      <th>107632</th>\n      <td>2023</td>\n      <td>132</td>\n      <td>1345</td>\n      <td>67</td>\n      <td>1336</td>\n      <td>65</td>\n      <td>N</td>\n      <td>0</td>\n      <td>24</td>\n      <td>62</td>\n      <td>...</td>\n      <td>23</td>\n      <td>14</td>\n      <td>15</td>\n      <td>4</td>\n      <td>27</td>\n      <td>14</td>\n      <td>10</td>\n      <td>4</td>\n      <td>2</td>\n      <td>20</td>\n    </tr>\n    <tr>\n      <th>107633</th>\n      <td>2023</td>\n      <td>132</td>\n      <td>1433</td>\n      <td>68</td>\n      <td>1173</td>\n      <td>56</td>\n      <td>N</td>\n      <td>0</td>\n      <td>24</td>\n      <td>52</td>\n      <td>...</td>\n      <td>22</td>\n      <td>17</td>\n      <td>20</td>\n      <td>16</td>\n      <td>22</td>\n      <td>11</td>\n      <td>8</td>\n      <td>1</td>\n      <td>6</td>\n      <td>21</td>\n    </tr>\n  </tbody>\n</table>\n<p>107634 rows × 34 columns</p>\n</div>"
     },
     "execution_count": 7,
     "metadata": {},
     "output_type": "execute_result"
    }
   ]
  },
  {
   "cell_type": "code",
   "execution_count": 8,
   "metadata": {
    "id": "SpFm22p0r6Mk",
    "colab": {
     "base_uri": "https://localhost:8080/",
     "height": 444
    },
    "outputId": "cce80b11-ae82-4fad-a221-a65b19f9e02c",
    "ExecuteTime": {
     "end_time": "2024-02-29T10:24:41.074174Z",
     "start_time": "2024-02-29T10:24:40.670686Z"
    }
   },
   "outputs": [
    {
     "data": {
      "text/plain": "      Season  DayNum  WTeamID  WScore  LTeamID  LScore WLoc  NumOT  WFGM  \\\n0       2003      10     1104      68     1328      62    N      0    27   \n1       2003      10     1272      70     1393      63    N      0    26   \n2       2003      11     1266      73     1437      61    N      0    24   \n3       2003      11     1296      56     1457      50    N      0    18   \n4       2003      11     1400      77     1208      71    N      0    30   \n...      ...     ...      ...     ...      ...     ...  ...    ...   ...   \n1243    2022     146     1242      76     1274      50    N      0    29   \n1244    2022     146     1314      69     1389      49    N      0    25   \n1245    2022     152     1242      81     1437      65    N      0    29   \n1246    2022     152     1314      81     1181      77    N      0    27   \n1247    2022     154     1242      72     1314      69    N      0    29   \n\n      WFGA  ...  LFTA  LOR  LDR  LAst  LTO  LStl  LBlk  LPF  MMTourney  \\\n0       58  ...    22   10   22     8   18     9     2   20          0   \n1       62  ...    20   20   25     7   12     8     6   16          0   \n2       58  ...    23   31   22     9   12     2     5   23          0   \n3       38  ...    15   17   20     9   19     4     3   23          0   \n4       61  ...    27   21   15    12   10     7     1   14          0   \n...    ...  ...   ...  ...  ...   ...  ...   ...   ...  ...        ...   \n1243    58  ...    13    5   21     7   14     7     4   20          1   \n1244    61  ...    10    4   25    11    7     4     7   18          1   \n1245    54  ...    10   12   17    12    9     3     0   11          1   \n1246    64  ...    20   13   25    12    4     7     4   18          1   \n1247    66  ...    22   20   29     9   13     2     6   13          1   \n\n      ConfTourney  \n0               0  \n1               0  \n2               0  \n3               0  \n4               0  \n...           ...  \n1243            0  \n1244            0  \n1245            0  \n1246            0  \n1247            0  \n\n[108882 rows x 36 columns]",
      "text/html": "<div>\n<style scoped>\n    .dataframe tbody tr th:only-of-type {\n        vertical-align: middle;\n    }\n\n    .dataframe tbody tr th {\n        vertical-align: top;\n    }\n\n    .dataframe thead th {\n        text-align: right;\n    }\n</style>\n<table border=\"1\" class=\"dataframe\">\n  <thead>\n    <tr style=\"text-align: right;\">\n      <th></th>\n      <th>Season</th>\n      <th>DayNum</th>\n      <th>WTeamID</th>\n      <th>WScore</th>\n      <th>LTeamID</th>\n      <th>LScore</th>\n      <th>WLoc</th>\n      <th>NumOT</th>\n      <th>WFGM</th>\n      <th>WFGA</th>\n      <th>...</th>\n      <th>LFTA</th>\n      <th>LOR</th>\n      <th>LDR</th>\n      <th>LAst</th>\n      <th>LTO</th>\n      <th>LStl</th>\n      <th>LBlk</th>\n      <th>LPF</th>\n      <th>MMTourney</th>\n      <th>ConfTourney</th>\n    </tr>\n  </thead>\n  <tbody>\n    <tr>\n      <th>0</th>\n      <td>2003</td>\n      <td>10</td>\n      <td>1104</td>\n      <td>68</td>\n      <td>1328</td>\n      <td>62</td>\n      <td>N</td>\n      <td>0</td>\n      <td>27</td>\n      <td>58</td>\n      <td>...</td>\n      <td>22</td>\n      <td>10</td>\n      <td>22</td>\n      <td>8</td>\n      <td>18</td>\n      <td>9</td>\n      <td>2</td>\n      <td>20</td>\n      <td>0</td>\n      <td>0</td>\n    </tr>\n    <tr>\n      <th>1</th>\n      <td>2003</td>\n      <td>10</td>\n      <td>1272</td>\n      <td>70</td>\n      <td>1393</td>\n      <td>63</td>\n      <td>N</td>\n      <td>0</td>\n      <td>26</td>\n      <td>62</td>\n      <td>...</td>\n      <td>20</td>\n      <td>20</td>\n      <td>25</td>\n      <td>7</td>\n      <td>12</td>\n      <td>8</td>\n      <td>6</td>\n      <td>16</td>\n      <td>0</td>\n      <td>0</td>\n    </tr>\n    <tr>\n      <th>2</th>\n      <td>2003</td>\n      <td>11</td>\n      <td>1266</td>\n      <td>73</td>\n      <td>1437</td>\n      <td>61</td>\n      <td>N</td>\n      <td>0</td>\n      <td>24</td>\n      <td>58</td>\n      <td>...</td>\n      <td>23</td>\n      <td>31</td>\n      <td>22</td>\n      <td>9</td>\n      <td>12</td>\n      <td>2</td>\n      <td>5</td>\n      <td>23</td>\n      <td>0</td>\n      <td>0</td>\n    </tr>\n    <tr>\n      <th>3</th>\n      <td>2003</td>\n      <td>11</td>\n      <td>1296</td>\n      <td>56</td>\n      <td>1457</td>\n      <td>50</td>\n      <td>N</td>\n      <td>0</td>\n      <td>18</td>\n      <td>38</td>\n      <td>...</td>\n      <td>15</td>\n      <td>17</td>\n      <td>20</td>\n      <td>9</td>\n      <td>19</td>\n      <td>4</td>\n      <td>3</td>\n      <td>23</td>\n      <td>0</td>\n      <td>0</td>\n    </tr>\n    <tr>\n      <th>4</th>\n      <td>2003</td>\n      <td>11</td>\n      <td>1400</td>\n      <td>77</td>\n      <td>1208</td>\n      <td>71</td>\n      <td>N</td>\n      <td>0</td>\n      <td>30</td>\n      <td>61</td>\n      <td>...</td>\n      <td>27</td>\n      <td>21</td>\n      <td>15</td>\n      <td>12</td>\n      <td>10</td>\n      <td>7</td>\n      <td>1</td>\n      <td>14</td>\n      <td>0</td>\n      <td>0</td>\n    </tr>\n    <tr>\n      <th>...</th>\n      <td>...</td>\n      <td>...</td>\n      <td>...</td>\n      <td>...</td>\n      <td>...</td>\n      <td>...</td>\n      <td>...</td>\n      <td>...</td>\n      <td>...</td>\n      <td>...</td>\n      <td>...</td>\n      <td>...</td>\n      <td>...</td>\n      <td>...</td>\n      <td>...</td>\n      <td>...</td>\n      <td>...</td>\n      <td>...</td>\n      <td>...</td>\n      <td>...</td>\n      <td>...</td>\n    </tr>\n    <tr>\n      <th>1243</th>\n      <td>2022</td>\n      <td>146</td>\n      <td>1242</td>\n      <td>76</td>\n      <td>1274</td>\n      <td>50</td>\n      <td>N</td>\n      <td>0</td>\n      <td>29</td>\n      <td>58</td>\n      <td>...</td>\n      <td>13</td>\n      <td>5</td>\n      <td>21</td>\n      <td>7</td>\n      <td>14</td>\n      <td>7</td>\n      <td>4</td>\n      <td>20</td>\n      <td>1</td>\n      <td>0</td>\n    </tr>\n    <tr>\n      <th>1244</th>\n      <td>2022</td>\n      <td>146</td>\n      <td>1314</td>\n      <td>69</td>\n      <td>1389</td>\n      <td>49</td>\n      <td>N</td>\n      <td>0</td>\n      <td>25</td>\n      <td>61</td>\n      <td>...</td>\n      <td>10</td>\n      <td>4</td>\n      <td>25</td>\n      <td>11</td>\n      <td>7</td>\n      <td>4</td>\n      <td>7</td>\n      <td>18</td>\n      <td>1</td>\n      <td>0</td>\n    </tr>\n    <tr>\n      <th>1245</th>\n      <td>2022</td>\n      <td>152</td>\n      <td>1242</td>\n      <td>81</td>\n      <td>1437</td>\n      <td>65</td>\n      <td>N</td>\n      <td>0</td>\n      <td>29</td>\n      <td>54</td>\n      <td>...</td>\n      <td>10</td>\n      <td>12</td>\n      <td>17</td>\n      <td>12</td>\n      <td>9</td>\n      <td>3</td>\n      <td>0</td>\n      <td>11</td>\n      <td>1</td>\n      <td>0</td>\n    </tr>\n    <tr>\n      <th>1246</th>\n      <td>2022</td>\n      <td>152</td>\n      <td>1314</td>\n      <td>81</td>\n      <td>1181</td>\n      <td>77</td>\n      <td>N</td>\n      <td>0</td>\n      <td>27</td>\n      <td>64</td>\n      <td>...</td>\n      <td>20</td>\n      <td>13</td>\n      <td>25</td>\n      <td>12</td>\n      <td>4</td>\n      <td>7</td>\n      <td>4</td>\n      <td>18</td>\n      <td>1</td>\n      <td>0</td>\n    </tr>\n    <tr>\n      <th>1247</th>\n      <td>2022</td>\n      <td>154</td>\n      <td>1242</td>\n      <td>72</td>\n      <td>1314</td>\n      <td>69</td>\n      <td>N</td>\n      <td>0</td>\n      <td>29</td>\n      <td>66</td>\n      <td>...</td>\n      <td>22</td>\n      <td>20</td>\n      <td>29</td>\n      <td>9</td>\n      <td>13</td>\n      <td>2</td>\n      <td>6</td>\n      <td>13</td>\n      <td>1</td>\n      <td>0</td>\n    </tr>\n  </tbody>\n</table>\n<p>108882 rows × 36 columns</p>\n</div>"
     },
     "execution_count": 8,
     "metadata": {},
     "output_type": "execute_result"
    }
   ],
   "source": [
    "# Add an MMTourney column to reg_season_detailed_df that takes 1 or 0.\n",
    "# Since reg_season_detailed_df doesn't contain any MMTourney games, all entries are set to 0.\n",
    "reg_season_detailed_df['MMTourney'] = 0\n",
    "\n",
    "# Add a 'ConfTourney' column to reg_season_detailed_df taking a 1 if the game was a conference tournament match or 0 if not.\n",
    "# Note that reg_season_detailed_df already contains all of the conference tournament games.\n",
    "\n",
    "# We accomplish this by left merging reg_season_detailed_df and conf_tourney_games_df with the indicator column set to True.\n",
    "# Initially we use a temp_df to hold these changes, but once everything checks out, we'll finish by setting\n",
    "#    reg_season_detailed_df to temp_df.\n",
    "temp_df = reg_season_detailed_df.merge(conf_tourney_games_df.drop(columns=['ConfAbbrev']), how='left',\n",
    "                                       on=['Season', 'DayNum', 'WTeamID', 'LTeamID'], indicator=True)\n",
    "\n",
    "# Next, we check where the indicator column '_merge' equals 'both' – these are instances found in both\n",
    "#    reg_season_detailed_df and conf_tourney_games_df. Using the apply method, set the 'ConfTourney' values\n",
    "#    of these 'both' rows to 1, and all others to 0. Basically, if the game was in our conf_tourney_games_df,\n",
    "#    its 'ConfTourney' value should be 1, and all other games should have a 0 here.\n",
    "temp_df['ConfTourney'] = temp_df.apply(lambda row : 1 if row['_merge'] == 'both' else 0, axis=1)\n",
    "\n",
    "# Remove the '_merge' column now that it is no longer needed.\n",
    "temp_df = temp_df.drop(columns=['_merge'])\n",
    "\n",
    "# Finish by setting reg_season_detailed_df equal to temp_df.\n",
    "reg_season_detailed_df = temp_df\n",
    "\n",
    "# Now, add 'ConfTourney' and 'MMTourney' columns to tourney_games_detailed_df.\n",
    "# Since all of the games in tourney_games_detailed_df are exlusively MMTourney games, everything in 'ConfTourney' gets set to 0\n",
    "#    and everything in 'MMTourney' gets set to 1.\n",
    "tourney_games_detailed_df['ConfTourney'] = 0\n",
    "tourney_games_detailed_df['MMTourney'] = 1\n",
    "\n",
    "\n",
    "# To finish, let's combine (concatenate) all reg_season_detailed_df and tourney_games_detailed_df into combined_detailed_df.\n",
    "frames = [reg_season_detailed_df, tourney_games_detailed_df]\n",
    "combined_detailed_df = pd.concat(frames)\n",
    "combined_detailed_df"
   ]
  },
  {
   "cell_type": "markdown",
   "source": [
    "## Convert 'Winners' and 'Losers' to 'Team' and 'Opponent', such that the victors and defeated appear in each, effectively doubling our game instances while removing outcome indicative identifying columns"
   ],
   "metadata": {
    "id": "C_vI9ifWfChR"
   }
  },
  {
   "cell_type": "markdown",
   "source": [
    "Now that we have all of our game instances in a single DataFrame, let's remove the winner and loser indicators.\n",
    "\n",
    "Initially, games have winners (and all of their stats) in separate columns from losers (and all of their stats). However, we don't want this division. Instead, teams should appear in 'TeamID' and 'OppTeamID' columns, with their stats following a similar naming convention. Rather than arbitrarily deciding which team will be labeled the 'opponent', we will create two instances of every matchup, with each team appearing once as the 'team' and once as the 'opponent'. This will allow us to predict win/loss outcomes from the perspective of 'TeamID'. Without making these changes, we would be predicting outcomes from the perspective of either 'WTeamID'  or 'LTeamID' exclusively, which would produce a trivial always 'win' or always 'loss' prediction. Furthermore, this produces class parity, with half of our game labels being wins and the other half being losses."
   ],
   "metadata": {
    "id": "3qApsGvBcmkw"
   }
  },
  {
   "cell_type": "code",
   "execution_count": 9,
   "metadata": {
    "id": "GWrgGkXksRx0",
    "ExecuteTime": {
     "end_time": "2024-02-29T10:24:41.092485Z",
     "start_time": "2024-02-29T10:24:41.076097Z"
    }
   },
   "outputs": [],
   "source": [
    "# Create winners_combined_games_df from the winners in combined_detailed_df.\n",
    "\n",
    "# Make a winners_combined_games_df from combined_detailed_df, with the columns reordered.\n",
    "winners_combined_games_df = combined_detailed_df[['Season', 'DayNum', 'ConfTourney', 'MMTourney', 'WTeamID', 'LTeamID', 'WLoc', 'NumOT', 'WScore', 'LScore',\n",
    "                                                  'WFGM', 'WFGA', 'WFGM3', 'WFGA3', 'WFTM', 'WFTA', 'WOR', 'WDR', 'WAst', 'WTO', 'WStl', 'WBlk', 'WPF',\n",
    "                                                  'LFGM', 'LFGA', 'LFGM3', 'LFGA3', 'LFTM', 'LFTA', 'LOR', 'LDR', 'LAst', 'LTO', 'LStl', 'LBlk', 'LPF']]\n",
    "\n",
    "# Standardize the winners_combined_games_df columns by removing winner and loser naming conventions,\n",
    "#    changing 'WTeamID' to 'TeamID' and 'LTeamID' to 'OppTeamID'. Do the same for their respective stats.\n",
    "winners_combined_games_df = winners_combined_games_df.rename(columns={'WTeamID': 'TeamID', 'LTeamID': 'OppTeamID', 'WLoc': 'Loc', 'WScore': 'Score', 'LScore': 'OppScore',\n",
    "\n",
    "                                                                      'WFGM': 'FGM', 'WFGA': 'FGA', 'WFGM3': 'FGM3', 'WFGA3': 'FGA3', 'WFTM': 'FTM', 'WFTA': 'FTA',\n",
    "                                                                      'WOR': 'OR', 'WDR': 'DR', 'WAst': 'Ast', 'WTO': 'TO', 'WStl': 'Stl', 'WBlk': 'Blk', 'WPF': 'PF',\n",
    "\n",
    "                                                                      'LFGM': 'OppFGM', 'LFGA': 'OppFGA', 'LFGM3': 'OppFGM3', 'LFGA3': 'OppFGA3', 'LFTM': 'OppFTM',\n",
    "                                                                      'LFTA': 'OppFTA', 'LOR': 'OppOR', 'LDR': 'OppDR', 'LAst': 'OppAst', 'LTO': 'OppTO', 'LStl': 'OppStl',\n",
    "                                                                      'LBlk': 'OppBlk', 'LPF': 'OppPF'\n",
    "                                                                      })\n",
    "\n",
    "# Create a 'ScoreDiff' column to hold the difference between TeamID's score and OppTeamID's score.\n",
    "# These values will all be positive since TeamID currently only holds the winning team IDs.\n",
    "winners_combined_games_df['ScoreDiff'] = winners_combined_games_df['Score'] - winners_combined_games_df['OppScore']\n",
    "\n",
    "# Add an 'Outcome' column, which will have 'W' values signifying that TeamID won. Note that this could also be infered from\n",
    "#    the positive score difference. 'W' and 'L' Outcomes can easily be converted to 1 and 0 later for ML applications.\n",
    "winners_combined_games_df['Outcome'] = 'W'"
   ]
  },
  {
   "cell_type": "code",
   "execution_count": 10,
   "metadata": {
    "id": "u8t8QH-9tiqK",
    "ExecuteTime": {
     "end_time": "2024-02-29T10:24:41.127322Z",
     "start_time": "2024-02-29T10:24:41.098254Z"
    }
   },
   "outputs": [],
   "source": [
    "# Create losers_combined_games_df from the losers in combined_detailed_df.\n",
    "\n",
    "# Make a losers_combined_games_df from combined_detailed_df, with the columns reordered.\n",
    "losers_combined_games_df = combined_detailed_df[['Season', 'DayNum', 'ConfTourney', 'MMTourney', 'WTeamID', 'LTeamID', 'WLoc', 'NumOT', 'WScore', 'LScore',\n",
    "                                                  'WFGM', 'WFGA', 'WFGM3', 'WFGA3', 'WFTM', 'WFTA', 'WOR', 'WDR', 'WAst', 'WTO', 'WStl', 'WBlk', 'WPF',\n",
    "                                                  'LFGM', 'LFGA', 'LFGM3', 'LFGA3', 'LFTM', 'LFTA', 'LOR', 'LDR', 'LAst', 'LTO', 'LStl', 'LBlk', 'LPF']]\n",
    "\n",
    "\n",
    "# Standardize the losers_combined_games_df columns by removing winner and loser naming conventions,\n",
    "#    changing 'LTeamID' to 'TeamID' and 'WTeamID' to 'OppTeamID'. Do the same for their respective stats.\n",
    "losers_combined_games_df = losers_combined_games_df.rename(columns={'WTeamID': 'OppTeamID', 'LTeamID': 'TeamID', 'WLoc': 'Loc', 'WScore': 'OppScore', 'LScore': 'Score',\n",
    "\n",
    "                                                                    'WFGM': 'OppFGM', 'WFGA': 'OppFGA', 'WFGM3': 'OppFGM3', 'WFGA3': 'OppFGA3', 'WFTM': 'OppFTM',\n",
    "                                                                    'WFTA': 'OppFTA', 'WOR': 'OppOR', 'WDR': 'OppDR', 'WAst': 'OppAst', 'WTO': 'OppTO', 'WStl': 'OppStl',\n",
    "                                                                    'WBlk': 'OppBlk', 'WPF': 'OppPF',\n",
    "\n",
    "                                                                    'LFGM': 'FGM', 'LFGA': 'FGA', 'LFGM3': 'FGM3', 'LFGA3': 'FGA3', 'LFTM': 'FTM', 'LFTA': 'FTA',\n",
    "                                                                    'LOR': 'OR', 'LDR': 'DR', 'LAst': 'Ast', 'LTO': 'TO', 'LStl': 'Stl', 'LBlk': 'Blk', 'LPF': 'PF'\n",
    "                                                                    })\n",
    "\n",
    "# Create a 'ScoreDiff' column to hold the difference between TeamID's score and OppTeamID's score.\n",
    "# These values will all be negative since 'TeamID' currently only holds the losing team IDs.\n",
    "losers_combined_games_df['ScoreDiff'] = losers_combined_games_df['Score'] - losers_combined_games_df['OppScore']\n",
    "\n",
    "# Add an 'Outcome' column, which will have 'L' values signifying that TeamID lost. Note that this could also be infered from\n",
    "#    the negative score difference. 'W' and 'L' Outcomes can easily be converted to 1 and 0 later for ML applications.\n",
    "losers_combined_games_df['Outcome'] = 'L'"
   ]
  },
  {
   "cell_type": "markdown",
   "source": [
    "Now that we have all of our game instances in a single DataFrame, let's remove the winner and loser indicators.\n",
    "\n",
    "Since our dataset initially had the location stored as 'WLoc' from the perspective of WTeamID, we need to adjust our new losers_combined_games_df to show the new 'Loc' values from their flipped perspective. For example, home games ('H') should read as Away games ('A'), and vice versa. Neutral games ('N') should remain the same."
   ],
   "metadata": {
    "id": "VO-5QPKZirAJ"
   }
  },
  {
   "cell_type": "code",
   "execution_count": 11,
   "metadata": {
    "id": "5I24sxrSvetw",
    "ExecuteTime": {
     "end_time": "2024-02-29T10:24:41.131160Z",
     "start_time": "2024-02-29T10:24:41.102622Z"
    }
   },
   "outputs": [],
   "source": [
    "# This function will convert the home/away status from the winner's perspective to the loser's perspective.\n",
    "# This will be used to convert the 'Loc' column in the losers_combined_games_df.\n",
    "def loser_home_away_neutral_locator(value):\n",
    "  if value == 'H':\n",
    "    return 'A'\n",
    "  elif value == 'A':\n",
    "    return 'H'\n",
    "  elif value == 'N':\n",
    "    return 'N'"
   ]
  },
  {
   "cell_type": "code",
   "execution_count": 12,
   "metadata": {
    "id": "-WdeI-CJvfHS",
    "ExecuteTime": {
     "end_time": "2024-02-29T10:24:41.149367Z",
     "start_time": "2024-02-29T10:24:41.105098Z"
    }
   },
   "outputs": [],
   "source": [
    "# First, make a copy of the original losers_combined_games_df pre-alteration.\n",
    "# We want to compare our results against this to make sure everything worked as expected.\n",
    "orig_losers_combined_games_df = losers_combined_games_df.copy()\n",
    "\n",
    "# Next, convert the values in the 'Loc' column using our previously defined loser_home_away_neutral_locator function.\n",
    "losers_combined_games_df['Loc'] = orig_losers_combined_games_df['Loc'].apply(loser_home_away_neutral_locator)"
   ]
  },
  {
   "cell_type": "code",
   "execution_count": 13,
   "metadata": {
    "id": "6kQvJdVUvha0",
    "colab": {
     "base_uri": "https://localhost:8080/",
     "height": 444
    },
    "outputId": "aaf417b7-c2cc-45e4-ae95-8bc1b8d6c174",
    "ExecuteTime": {
     "end_time": "2024-02-29T10:24:41.167039Z",
     "start_time": "2024-02-29T10:24:41.127509Z"
    }
   },
   "outputs": [
    {
     "data": {
      "text/plain": "        Season  DayNum  ConfTourney  MMTourney  OppTeamID  TeamID Loc  NumOT  \\\n79962     2018      86            0          0       1394    1101   H      0   \n92506     2020     120            0          0       1372    1101   A      0   \n73933     2017      73            0          0       1368    1101   A      0   \n59150     2014     101            0          0       1230    1101   H      0   \n60832     2015      16            0          0       1409    1101   H      0   \n...        ...     ...          ...        ...        ...     ...  ..    ...   \n107219    2023     121            0          0       1394    1477   A      1   \n104491    2023      66            0          0       1311    1477   A      0   \n107418    2023     125            1          0       1270    1477   N      0   \n102613    2023      19            0          0       1209    1477   H      0   \n106231    2023     101            0          0       1322    1477   A      0   \n\n        OppScore  Score  ...  FTA  OR  DR  Ast  TO  Stl  Blk  PF  ScoreDiff  \\\n79962         80     66  ...   30   8  17   12  19   11    0  22        -14   \n92506         77     72  ...   28  13  25    9  16    7    4  29         -5   \n73933         56     50  ...   25   6  22    8  19    7    2  27         -6   \n59150         80     68  ...   21   6  19    9  14    6    0  19        -12   \n60832         65     39  ...    7  13  17   12  13    9    2  22        -26   \n...          ...    ...  ...  ...  ..  ..  ...  ..  ...  ...  ..        ...   \n107219        93     88  ...   18   4  22   16   9    4    5  18         -5   \n104491        66     63  ...   14   6  23   16  15    7    4  17         -3   \n107418        79     78  ...   20   8  19   16   7    5    3  17         -1   \n102613        57     53  ...    4   8  17   11  12    6    2  14         -4   \n106231        88     82  ...   11  12  21   15  17    3    5  19         -6   \n\n        Outcome  \n79962         L  \n92506         L  \n73933         L  \n59150         L  \n60832         L  \n...         ...  \n107219        L  \n104491        L  \n107418        L  \n102613        L  \n106231        L  \n\n[108882 rows x 38 columns]",
      "text/html": "<div>\n<style scoped>\n    .dataframe tbody tr th:only-of-type {\n        vertical-align: middle;\n    }\n\n    .dataframe tbody tr th {\n        vertical-align: top;\n    }\n\n    .dataframe thead th {\n        text-align: right;\n    }\n</style>\n<table border=\"1\" class=\"dataframe\">\n  <thead>\n    <tr style=\"text-align: right;\">\n      <th></th>\n      <th>Season</th>\n      <th>DayNum</th>\n      <th>ConfTourney</th>\n      <th>MMTourney</th>\n      <th>OppTeamID</th>\n      <th>TeamID</th>\n      <th>Loc</th>\n      <th>NumOT</th>\n      <th>OppScore</th>\n      <th>Score</th>\n      <th>...</th>\n      <th>FTA</th>\n      <th>OR</th>\n      <th>DR</th>\n      <th>Ast</th>\n      <th>TO</th>\n      <th>Stl</th>\n      <th>Blk</th>\n      <th>PF</th>\n      <th>ScoreDiff</th>\n      <th>Outcome</th>\n    </tr>\n  </thead>\n  <tbody>\n    <tr>\n      <th>79962</th>\n      <td>2018</td>\n      <td>86</td>\n      <td>0</td>\n      <td>0</td>\n      <td>1394</td>\n      <td>1101</td>\n      <td>H</td>\n      <td>0</td>\n      <td>80</td>\n      <td>66</td>\n      <td>...</td>\n      <td>30</td>\n      <td>8</td>\n      <td>17</td>\n      <td>12</td>\n      <td>19</td>\n      <td>11</td>\n      <td>0</td>\n      <td>22</td>\n      <td>-14</td>\n      <td>L</td>\n    </tr>\n    <tr>\n      <th>92506</th>\n      <td>2020</td>\n      <td>120</td>\n      <td>0</td>\n      <td>0</td>\n      <td>1372</td>\n      <td>1101</td>\n      <td>A</td>\n      <td>0</td>\n      <td>77</td>\n      <td>72</td>\n      <td>...</td>\n      <td>28</td>\n      <td>13</td>\n      <td>25</td>\n      <td>9</td>\n      <td>16</td>\n      <td>7</td>\n      <td>4</td>\n      <td>29</td>\n      <td>-5</td>\n      <td>L</td>\n    </tr>\n    <tr>\n      <th>73933</th>\n      <td>2017</td>\n      <td>73</td>\n      <td>0</td>\n      <td>0</td>\n      <td>1368</td>\n      <td>1101</td>\n      <td>A</td>\n      <td>0</td>\n      <td>56</td>\n      <td>50</td>\n      <td>...</td>\n      <td>25</td>\n      <td>6</td>\n      <td>22</td>\n      <td>8</td>\n      <td>19</td>\n      <td>7</td>\n      <td>2</td>\n      <td>27</td>\n      <td>-6</td>\n      <td>L</td>\n    </tr>\n    <tr>\n      <th>59150</th>\n      <td>2014</td>\n      <td>101</td>\n      <td>0</td>\n      <td>0</td>\n      <td>1230</td>\n      <td>1101</td>\n      <td>H</td>\n      <td>0</td>\n      <td>80</td>\n      <td>68</td>\n      <td>...</td>\n      <td>21</td>\n      <td>6</td>\n      <td>19</td>\n      <td>9</td>\n      <td>14</td>\n      <td>6</td>\n      <td>0</td>\n      <td>19</td>\n      <td>-12</td>\n      <td>L</td>\n    </tr>\n    <tr>\n      <th>60832</th>\n      <td>2015</td>\n      <td>16</td>\n      <td>0</td>\n      <td>0</td>\n      <td>1409</td>\n      <td>1101</td>\n      <td>H</td>\n      <td>0</td>\n      <td>65</td>\n      <td>39</td>\n      <td>...</td>\n      <td>7</td>\n      <td>13</td>\n      <td>17</td>\n      <td>12</td>\n      <td>13</td>\n      <td>9</td>\n      <td>2</td>\n      <td>22</td>\n      <td>-26</td>\n      <td>L</td>\n    </tr>\n    <tr>\n      <th>...</th>\n      <td>...</td>\n      <td>...</td>\n      <td>...</td>\n      <td>...</td>\n      <td>...</td>\n      <td>...</td>\n      <td>...</td>\n      <td>...</td>\n      <td>...</td>\n      <td>...</td>\n      <td>...</td>\n      <td>...</td>\n      <td>...</td>\n      <td>...</td>\n      <td>...</td>\n      <td>...</td>\n      <td>...</td>\n      <td>...</td>\n      <td>...</td>\n      <td>...</td>\n      <td>...</td>\n    </tr>\n    <tr>\n      <th>107219</th>\n      <td>2023</td>\n      <td>121</td>\n      <td>0</td>\n      <td>0</td>\n      <td>1394</td>\n      <td>1477</td>\n      <td>A</td>\n      <td>1</td>\n      <td>93</td>\n      <td>88</td>\n      <td>...</td>\n      <td>18</td>\n      <td>4</td>\n      <td>22</td>\n      <td>16</td>\n      <td>9</td>\n      <td>4</td>\n      <td>5</td>\n      <td>18</td>\n      <td>-5</td>\n      <td>L</td>\n    </tr>\n    <tr>\n      <th>104491</th>\n      <td>2023</td>\n      <td>66</td>\n      <td>0</td>\n      <td>0</td>\n      <td>1311</td>\n      <td>1477</td>\n      <td>A</td>\n      <td>0</td>\n      <td>66</td>\n      <td>63</td>\n      <td>...</td>\n      <td>14</td>\n      <td>6</td>\n      <td>23</td>\n      <td>16</td>\n      <td>15</td>\n      <td>7</td>\n      <td>4</td>\n      <td>17</td>\n      <td>-3</td>\n      <td>L</td>\n    </tr>\n    <tr>\n      <th>107418</th>\n      <td>2023</td>\n      <td>125</td>\n      <td>1</td>\n      <td>0</td>\n      <td>1270</td>\n      <td>1477</td>\n      <td>N</td>\n      <td>0</td>\n      <td>79</td>\n      <td>78</td>\n      <td>...</td>\n      <td>20</td>\n      <td>8</td>\n      <td>19</td>\n      <td>16</td>\n      <td>7</td>\n      <td>5</td>\n      <td>3</td>\n      <td>17</td>\n      <td>-1</td>\n      <td>L</td>\n    </tr>\n    <tr>\n      <th>102613</th>\n      <td>2023</td>\n      <td>19</td>\n      <td>0</td>\n      <td>0</td>\n      <td>1209</td>\n      <td>1477</td>\n      <td>H</td>\n      <td>0</td>\n      <td>57</td>\n      <td>53</td>\n      <td>...</td>\n      <td>4</td>\n      <td>8</td>\n      <td>17</td>\n      <td>11</td>\n      <td>12</td>\n      <td>6</td>\n      <td>2</td>\n      <td>14</td>\n      <td>-4</td>\n      <td>L</td>\n    </tr>\n    <tr>\n      <th>106231</th>\n      <td>2023</td>\n      <td>101</td>\n      <td>0</td>\n      <td>0</td>\n      <td>1322</td>\n      <td>1477</td>\n      <td>A</td>\n      <td>0</td>\n      <td>88</td>\n      <td>82</td>\n      <td>...</td>\n      <td>11</td>\n      <td>12</td>\n      <td>21</td>\n      <td>15</td>\n      <td>17</td>\n      <td>3</td>\n      <td>5</td>\n      <td>19</td>\n      <td>-6</td>\n      <td>L</td>\n    </tr>\n  </tbody>\n</table>\n<p>108882 rows × 38 columns</p>\n</div>"
     },
     "execution_count": 13,
     "metadata": {},
     "output_type": "execute_result"
    }
   ],
   "source": [
    "# Let's check Loc before the conversion.\n",
    "orig_losers_combined_games_df = orig_losers_combined_games_df.sort_values('TeamID')\n",
    "orig_losers_combined_games_df"
   ]
  },
  {
   "cell_type": "code",
   "execution_count": 14,
   "metadata": {
    "id": "SgZMegCbvlSn",
    "colab": {
     "base_uri": "https://localhost:8080/",
     "height": 444
    },
    "outputId": "f34c489d-af3d-4b10-dc25-54911a8c4388",
    "ExecuteTime": {
     "end_time": "2024-02-29T10:24:41.217364Z",
     "start_time": "2024-02-29T10:24:41.165076Z"
    }
   },
   "outputs": [
    {
     "data": {
      "text/plain": "        Season  DayNum  ConfTourney  MMTourney  OppTeamID  TeamID Loc  NumOT  \\\n79962     2018      86            0          0       1394    1101   A      0   \n92506     2020     120            0          0       1372    1101   H      0   \n73933     2017      73            0          0       1368    1101   H      0   \n59150     2014     101            0          0       1230    1101   A      0   \n60832     2015      16            0          0       1409    1101   A      0   \n...        ...     ...          ...        ...        ...     ...  ..    ...   \n107219    2023     121            0          0       1394    1477   H      1   \n104491    2023      66            0          0       1311    1477   H      0   \n107418    2023     125            1          0       1270    1477   N      0   \n102613    2023      19            0          0       1209    1477   A      0   \n106231    2023     101            0          0       1322    1477   H      0   \n\n        OppScore  Score  ...  FTA  OR  DR  Ast  TO  Stl  Blk  PF  ScoreDiff  \\\n79962         80     66  ...   30   8  17   12  19   11    0  22        -14   \n92506         77     72  ...   28  13  25    9  16    7    4  29         -5   \n73933         56     50  ...   25   6  22    8  19    7    2  27         -6   \n59150         80     68  ...   21   6  19    9  14    6    0  19        -12   \n60832         65     39  ...    7  13  17   12  13    9    2  22        -26   \n...          ...    ...  ...  ...  ..  ..  ...  ..  ...  ...  ..        ...   \n107219        93     88  ...   18   4  22   16   9    4    5  18         -5   \n104491        66     63  ...   14   6  23   16  15    7    4  17         -3   \n107418        79     78  ...   20   8  19   16   7    5    3  17         -1   \n102613        57     53  ...    4   8  17   11  12    6    2  14         -4   \n106231        88     82  ...   11  12  21   15  17    3    5  19         -6   \n\n        Outcome  \n79962         L  \n92506         L  \n73933         L  \n59150         L  \n60832         L  \n...         ...  \n107219        L  \n104491        L  \n107418        L  \n102613        L  \n106231        L  \n\n[108882 rows x 38 columns]",
      "text/html": "<div>\n<style scoped>\n    .dataframe tbody tr th:only-of-type {\n        vertical-align: middle;\n    }\n\n    .dataframe tbody tr th {\n        vertical-align: top;\n    }\n\n    .dataframe thead th {\n        text-align: right;\n    }\n</style>\n<table border=\"1\" class=\"dataframe\">\n  <thead>\n    <tr style=\"text-align: right;\">\n      <th></th>\n      <th>Season</th>\n      <th>DayNum</th>\n      <th>ConfTourney</th>\n      <th>MMTourney</th>\n      <th>OppTeamID</th>\n      <th>TeamID</th>\n      <th>Loc</th>\n      <th>NumOT</th>\n      <th>OppScore</th>\n      <th>Score</th>\n      <th>...</th>\n      <th>FTA</th>\n      <th>OR</th>\n      <th>DR</th>\n      <th>Ast</th>\n      <th>TO</th>\n      <th>Stl</th>\n      <th>Blk</th>\n      <th>PF</th>\n      <th>ScoreDiff</th>\n      <th>Outcome</th>\n    </tr>\n  </thead>\n  <tbody>\n    <tr>\n      <th>79962</th>\n      <td>2018</td>\n      <td>86</td>\n      <td>0</td>\n      <td>0</td>\n      <td>1394</td>\n      <td>1101</td>\n      <td>A</td>\n      <td>0</td>\n      <td>80</td>\n      <td>66</td>\n      <td>...</td>\n      <td>30</td>\n      <td>8</td>\n      <td>17</td>\n      <td>12</td>\n      <td>19</td>\n      <td>11</td>\n      <td>0</td>\n      <td>22</td>\n      <td>-14</td>\n      <td>L</td>\n    </tr>\n    <tr>\n      <th>92506</th>\n      <td>2020</td>\n      <td>120</td>\n      <td>0</td>\n      <td>0</td>\n      <td>1372</td>\n      <td>1101</td>\n      <td>H</td>\n      <td>0</td>\n      <td>77</td>\n      <td>72</td>\n      <td>...</td>\n      <td>28</td>\n      <td>13</td>\n      <td>25</td>\n      <td>9</td>\n      <td>16</td>\n      <td>7</td>\n      <td>4</td>\n      <td>29</td>\n      <td>-5</td>\n      <td>L</td>\n    </tr>\n    <tr>\n      <th>73933</th>\n      <td>2017</td>\n      <td>73</td>\n      <td>0</td>\n      <td>0</td>\n      <td>1368</td>\n      <td>1101</td>\n      <td>H</td>\n      <td>0</td>\n      <td>56</td>\n      <td>50</td>\n      <td>...</td>\n      <td>25</td>\n      <td>6</td>\n      <td>22</td>\n      <td>8</td>\n      <td>19</td>\n      <td>7</td>\n      <td>2</td>\n      <td>27</td>\n      <td>-6</td>\n      <td>L</td>\n    </tr>\n    <tr>\n      <th>59150</th>\n      <td>2014</td>\n      <td>101</td>\n      <td>0</td>\n      <td>0</td>\n      <td>1230</td>\n      <td>1101</td>\n      <td>A</td>\n      <td>0</td>\n      <td>80</td>\n      <td>68</td>\n      <td>...</td>\n      <td>21</td>\n      <td>6</td>\n      <td>19</td>\n      <td>9</td>\n      <td>14</td>\n      <td>6</td>\n      <td>0</td>\n      <td>19</td>\n      <td>-12</td>\n      <td>L</td>\n    </tr>\n    <tr>\n      <th>60832</th>\n      <td>2015</td>\n      <td>16</td>\n      <td>0</td>\n      <td>0</td>\n      <td>1409</td>\n      <td>1101</td>\n      <td>A</td>\n      <td>0</td>\n      <td>65</td>\n      <td>39</td>\n      <td>...</td>\n      <td>7</td>\n      <td>13</td>\n      <td>17</td>\n      <td>12</td>\n      <td>13</td>\n      <td>9</td>\n      <td>2</td>\n      <td>22</td>\n      <td>-26</td>\n      <td>L</td>\n    </tr>\n    <tr>\n      <th>...</th>\n      <td>...</td>\n      <td>...</td>\n      <td>...</td>\n      <td>...</td>\n      <td>...</td>\n      <td>...</td>\n      <td>...</td>\n      <td>...</td>\n      <td>...</td>\n      <td>...</td>\n      <td>...</td>\n      <td>...</td>\n      <td>...</td>\n      <td>...</td>\n      <td>...</td>\n      <td>...</td>\n      <td>...</td>\n      <td>...</td>\n      <td>...</td>\n      <td>...</td>\n      <td>...</td>\n    </tr>\n    <tr>\n      <th>107219</th>\n      <td>2023</td>\n      <td>121</td>\n      <td>0</td>\n      <td>0</td>\n      <td>1394</td>\n      <td>1477</td>\n      <td>H</td>\n      <td>1</td>\n      <td>93</td>\n      <td>88</td>\n      <td>...</td>\n      <td>18</td>\n      <td>4</td>\n      <td>22</td>\n      <td>16</td>\n      <td>9</td>\n      <td>4</td>\n      <td>5</td>\n      <td>18</td>\n      <td>-5</td>\n      <td>L</td>\n    </tr>\n    <tr>\n      <th>104491</th>\n      <td>2023</td>\n      <td>66</td>\n      <td>0</td>\n      <td>0</td>\n      <td>1311</td>\n      <td>1477</td>\n      <td>H</td>\n      <td>0</td>\n      <td>66</td>\n      <td>63</td>\n      <td>...</td>\n      <td>14</td>\n      <td>6</td>\n      <td>23</td>\n      <td>16</td>\n      <td>15</td>\n      <td>7</td>\n      <td>4</td>\n      <td>17</td>\n      <td>-3</td>\n      <td>L</td>\n    </tr>\n    <tr>\n      <th>107418</th>\n      <td>2023</td>\n      <td>125</td>\n      <td>1</td>\n      <td>0</td>\n      <td>1270</td>\n      <td>1477</td>\n      <td>N</td>\n      <td>0</td>\n      <td>79</td>\n      <td>78</td>\n      <td>...</td>\n      <td>20</td>\n      <td>8</td>\n      <td>19</td>\n      <td>16</td>\n      <td>7</td>\n      <td>5</td>\n      <td>3</td>\n      <td>17</td>\n      <td>-1</td>\n      <td>L</td>\n    </tr>\n    <tr>\n      <th>102613</th>\n      <td>2023</td>\n      <td>19</td>\n      <td>0</td>\n      <td>0</td>\n      <td>1209</td>\n      <td>1477</td>\n      <td>A</td>\n      <td>0</td>\n      <td>57</td>\n      <td>53</td>\n      <td>...</td>\n      <td>4</td>\n      <td>8</td>\n      <td>17</td>\n      <td>11</td>\n      <td>12</td>\n      <td>6</td>\n      <td>2</td>\n      <td>14</td>\n      <td>-4</td>\n      <td>L</td>\n    </tr>\n    <tr>\n      <th>106231</th>\n      <td>2023</td>\n      <td>101</td>\n      <td>0</td>\n      <td>0</td>\n      <td>1322</td>\n      <td>1477</td>\n      <td>H</td>\n      <td>0</td>\n      <td>88</td>\n      <td>82</td>\n      <td>...</td>\n      <td>11</td>\n      <td>12</td>\n      <td>21</td>\n      <td>15</td>\n      <td>17</td>\n      <td>3</td>\n      <td>5</td>\n      <td>19</td>\n      <td>-6</td>\n      <td>L</td>\n    </tr>\n  </tbody>\n</table>\n<p>108882 rows × 38 columns</p>\n</div>"
     },
     "execution_count": 14,
     "metadata": {},
     "output_type": "execute_result"
    }
   ],
   "source": [
    "# Now, ceck it after the conversion. As expected, the values were successfully converted.\n",
    "losers_combined_games_df = losers_combined_games_df.sort_values('TeamID')\n",
    "losers_combined_games_df"
   ]
  },
  {
   "cell_type": "code",
   "execution_count": 15,
   "metadata": {
    "id": "cxHIhLzQwcqY",
    "colab": {
     "base_uri": "https://localhost:8080/",
     "height": 444
    },
    "outputId": "62a842bd-5af3-4b6d-bbe6-765cc25d8179",
    "ExecuteTime": {
     "end_time": "2024-02-29T10:24:41.293856Z",
     "start_time": "2024-02-29T10:24:41.210662Z"
    }
   },
   "outputs": [
    {
     "data": {
      "text/plain": "        Season  DayNum  ConfTourney  MMTourney  TeamID  OppTeamID Loc  NumOT  \\\n0         2003      10            0          0    1104       1328   N      0   \n1         2003      10            0          0    1272       1393   N      0   \n2         2003      11            0          0    1266       1437   N      0   \n3         2003      11            0          0    1296       1457   N      0   \n4         2003      11            0          0    1400       1208   N      0   \n...        ...     ...          ...        ...     ...        ...  ..    ...   \n107219    2023     121            0          0    1477       1394   H      1   \n104491    2023      66            0          0    1477       1311   H      0   \n107418    2023     125            1          0    1477       1270   N      0   \n102613    2023      19            0          0    1477       1209   A      0   \n106231    2023     101            0          0    1477       1322   H      0   \n\n        Score  OppScore  ...  OppFTA  OppOR  OppDR  OppAst  OppTO  OppStl  \\\n0          68        62  ...      22     10     22       8     18       9   \n1          70        63  ...      20     20     25       7     12       8   \n2          73        61  ...      23     31     22       9     12       2   \n3          56        50  ...      15     17     20       9     19       4   \n4          77        71  ...      27     21     15      12     10       7   \n...       ...       ...  ...     ...    ...    ...     ...    ...     ...   \n107219     88        93  ...      23      9     32      17     10       6   \n104491     63        66  ...      13      6     22      11     11       6   \n107418     78        79  ...      23     10     25      14      8       3   \n102613     53        57  ...      14      6     21       8     12       6   \n106231     82        88  ...      25     10     15      12      8      12   \n\n        OppBlk  OppPF  ScoreDiff  Outcome  \n0            2     20          6        W  \n1            6     16          7        W  \n2            5     23         12        W  \n3            3     23          6        W  \n4            1     14          6        W  \n...        ...    ...        ...      ...  \n107219       1     18         -5        L  \n104491       2     12         -3        L  \n107418       0     14         -1        L  \n102613       2     11         -4        L  \n106231       6     16         -6        L  \n\n[217764 rows x 38 columns]",
      "text/html": "<div>\n<style scoped>\n    .dataframe tbody tr th:only-of-type {\n        vertical-align: middle;\n    }\n\n    .dataframe tbody tr th {\n        vertical-align: top;\n    }\n\n    .dataframe thead th {\n        text-align: right;\n    }\n</style>\n<table border=\"1\" class=\"dataframe\">\n  <thead>\n    <tr style=\"text-align: right;\">\n      <th></th>\n      <th>Season</th>\n      <th>DayNum</th>\n      <th>ConfTourney</th>\n      <th>MMTourney</th>\n      <th>TeamID</th>\n      <th>OppTeamID</th>\n      <th>Loc</th>\n      <th>NumOT</th>\n      <th>Score</th>\n      <th>OppScore</th>\n      <th>...</th>\n      <th>OppFTA</th>\n      <th>OppOR</th>\n      <th>OppDR</th>\n      <th>OppAst</th>\n      <th>OppTO</th>\n      <th>OppStl</th>\n      <th>OppBlk</th>\n      <th>OppPF</th>\n      <th>ScoreDiff</th>\n      <th>Outcome</th>\n    </tr>\n  </thead>\n  <tbody>\n    <tr>\n      <th>0</th>\n      <td>2003</td>\n      <td>10</td>\n      <td>0</td>\n      <td>0</td>\n      <td>1104</td>\n      <td>1328</td>\n      <td>N</td>\n      <td>0</td>\n      <td>68</td>\n      <td>62</td>\n      <td>...</td>\n      <td>22</td>\n      <td>10</td>\n      <td>22</td>\n      <td>8</td>\n      <td>18</td>\n      <td>9</td>\n      <td>2</td>\n      <td>20</td>\n      <td>6</td>\n      <td>W</td>\n    </tr>\n    <tr>\n      <th>1</th>\n      <td>2003</td>\n      <td>10</td>\n      <td>0</td>\n      <td>0</td>\n      <td>1272</td>\n      <td>1393</td>\n      <td>N</td>\n      <td>0</td>\n      <td>70</td>\n      <td>63</td>\n      <td>...</td>\n      <td>20</td>\n      <td>20</td>\n      <td>25</td>\n      <td>7</td>\n      <td>12</td>\n      <td>8</td>\n      <td>6</td>\n      <td>16</td>\n      <td>7</td>\n      <td>W</td>\n    </tr>\n    <tr>\n      <th>2</th>\n      <td>2003</td>\n      <td>11</td>\n      <td>0</td>\n      <td>0</td>\n      <td>1266</td>\n      <td>1437</td>\n      <td>N</td>\n      <td>0</td>\n      <td>73</td>\n      <td>61</td>\n      <td>...</td>\n      <td>23</td>\n      <td>31</td>\n      <td>22</td>\n      <td>9</td>\n      <td>12</td>\n      <td>2</td>\n      <td>5</td>\n      <td>23</td>\n      <td>12</td>\n      <td>W</td>\n    </tr>\n    <tr>\n      <th>3</th>\n      <td>2003</td>\n      <td>11</td>\n      <td>0</td>\n      <td>0</td>\n      <td>1296</td>\n      <td>1457</td>\n      <td>N</td>\n      <td>0</td>\n      <td>56</td>\n      <td>50</td>\n      <td>...</td>\n      <td>15</td>\n      <td>17</td>\n      <td>20</td>\n      <td>9</td>\n      <td>19</td>\n      <td>4</td>\n      <td>3</td>\n      <td>23</td>\n      <td>6</td>\n      <td>W</td>\n    </tr>\n    <tr>\n      <th>4</th>\n      <td>2003</td>\n      <td>11</td>\n      <td>0</td>\n      <td>0</td>\n      <td>1400</td>\n      <td>1208</td>\n      <td>N</td>\n      <td>0</td>\n      <td>77</td>\n      <td>71</td>\n      <td>...</td>\n      <td>27</td>\n      <td>21</td>\n      <td>15</td>\n      <td>12</td>\n      <td>10</td>\n      <td>7</td>\n      <td>1</td>\n      <td>14</td>\n      <td>6</td>\n      <td>W</td>\n    </tr>\n    <tr>\n      <th>...</th>\n      <td>...</td>\n      <td>...</td>\n      <td>...</td>\n      <td>...</td>\n      <td>...</td>\n      <td>...</td>\n      <td>...</td>\n      <td>...</td>\n      <td>...</td>\n      <td>...</td>\n      <td>...</td>\n      <td>...</td>\n      <td>...</td>\n      <td>...</td>\n      <td>...</td>\n      <td>...</td>\n      <td>...</td>\n      <td>...</td>\n      <td>...</td>\n      <td>...</td>\n      <td>...</td>\n    </tr>\n    <tr>\n      <th>107219</th>\n      <td>2023</td>\n      <td>121</td>\n      <td>0</td>\n      <td>0</td>\n      <td>1477</td>\n      <td>1394</td>\n      <td>H</td>\n      <td>1</td>\n      <td>88</td>\n      <td>93</td>\n      <td>...</td>\n      <td>23</td>\n      <td>9</td>\n      <td>32</td>\n      <td>17</td>\n      <td>10</td>\n      <td>6</td>\n      <td>1</td>\n      <td>18</td>\n      <td>-5</td>\n      <td>L</td>\n    </tr>\n    <tr>\n      <th>104491</th>\n      <td>2023</td>\n      <td>66</td>\n      <td>0</td>\n      <td>0</td>\n      <td>1477</td>\n      <td>1311</td>\n      <td>H</td>\n      <td>0</td>\n      <td>63</td>\n      <td>66</td>\n      <td>...</td>\n      <td>13</td>\n      <td>6</td>\n      <td>22</td>\n      <td>11</td>\n      <td>11</td>\n      <td>6</td>\n      <td>2</td>\n      <td>12</td>\n      <td>-3</td>\n      <td>L</td>\n    </tr>\n    <tr>\n      <th>107418</th>\n      <td>2023</td>\n      <td>125</td>\n      <td>1</td>\n      <td>0</td>\n      <td>1477</td>\n      <td>1270</td>\n      <td>N</td>\n      <td>0</td>\n      <td>78</td>\n      <td>79</td>\n      <td>...</td>\n      <td>23</td>\n      <td>10</td>\n      <td>25</td>\n      <td>14</td>\n      <td>8</td>\n      <td>3</td>\n      <td>0</td>\n      <td>14</td>\n      <td>-1</td>\n      <td>L</td>\n    </tr>\n    <tr>\n      <th>102613</th>\n      <td>2023</td>\n      <td>19</td>\n      <td>0</td>\n      <td>0</td>\n      <td>1477</td>\n      <td>1209</td>\n      <td>A</td>\n      <td>0</td>\n      <td>53</td>\n      <td>57</td>\n      <td>...</td>\n      <td>14</td>\n      <td>6</td>\n      <td>21</td>\n      <td>8</td>\n      <td>12</td>\n      <td>6</td>\n      <td>2</td>\n      <td>11</td>\n      <td>-4</td>\n      <td>L</td>\n    </tr>\n    <tr>\n      <th>106231</th>\n      <td>2023</td>\n      <td>101</td>\n      <td>0</td>\n      <td>0</td>\n      <td>1477</td>\n      <td>1322</td>\n      <td>H</td>\n      <td>0</td>\n      <td>82</td>\n      <td>88</td>\n      <td>...</td>\n      <td>25</td>\n      <td>10</td>\n      <td>15</td>\n      <td>12</td>\n      <td>8</td>\n      <td>12</td>\n      <td>6</td>\n      <td>16</td>\n      <td>-6</td>\n      <td>L</td>\n    </tr>\n  </tbody>\n</table>\n<p>217764 rows × 38 columns</p>\n</div>"
     },
     "execution_count": 15,
     "metadata": {},
     "output_type": "execute_result"
    }
   ],
   "source": [
    "# Finally, let's concatenate winners_reg_season_games_df and losers_reg_season_games_df into a single\n",
    "#    combined_games_df DataFrame with twice as many game instances as combined_games_df had initially.\n",
    "#    We will update combined_games_df, setting it to the result of this concatenation.\n",
    "frames = [winners_combined_games_df, losers_combined_games_df]\n",
    "combined_games_df = pd.concat(frames)\n",
    "combined_games_df"
   ]
  },
  {
   "cell_type": "markdown",
   "source": [
    "## Add Team and Opponent Rankings"
   ],
   "metadata": {
    "id": "3KcAi7yQkbYL"
   }
  },
  {
   "cell_type": "markdown",
   "source": [
    "Now that we've wrangled our games into a single DataFrame, let's add more information. We'll start by supplying a ranking metric to both the teams and their opponents.\n",
    "\n",
    "We'll use the Massey Ordinals from massey_ordinals_limited_df, a Kaggle dataset containing team rankings by season and day number from various ranker sources (i.e., the AP, USA Today Coaches, etc.). However, many of these rankers do not exist for the entire scope of our data (2003 to 2022). Furthermore, some of these from earlier years have suspiciously irregular rankings, suggesting that they may only be ranking teams in a specific conference. We don't want the 3rd best Ivy League team to take on an overall ranking of 3 in one of the ranking systems feeding into our average.\n",
    "\n",
    "We'll remove these issues by only looking at ranking sources that are still around in the most recent 2022 season (sources still producing rankings). Furthermore, let's conservatively check if any of those remaining rankers limited their rankings to fewer than 100 teams. Rankers with far fewer than this may only be looking at specific conferences.\n",
    "\n",
    "After settling on a group of rankers, let's average a team's season/day-specific rankings from our narrowed ranker sources and merge these into our combined_games_df."
   ],
   "metadata": {
    "id": "2f7eFu0rkl7O"
   }
  },
  {
   "cell_type": "code",
   "source": [
    "# Create a set of all of the rankers in massey_ordinals_df that have 2022 season rankings.\n",
    "massey_systems = set(massey_ordinals_df[massey_ordinals_df['Season'] == 2022]['SystemName'])\n",
    "# Make a new massey_ordinals_limited_df containing only those from our massey_systems set.\n",
    "massey_ordinals_limited_df = massey_ordinals_df[massey_ordinals_df['SystemName'].isin(massey_systems)]\n",
    "\n",
    "# Investigate any rankers with seasons containing fewers than 100 ranking slots\n",
    "#    (systems that didn't include the top 100 teams – maybe just the top 20).\n",
    "\n",
    "# Three rankers appeared in all seasons. The AP, USA Today Coaches, and Mike DeSimone's Rankings.\n",
    "# However, these are all emcompassing rankers. None focus on a single conference.\n",
    "# Although they do not have as many rankings (25 and 26), they should still be included,\n",
    "#    especially since AP and USA are two of the most watched sources. Teams outside of the top 25/26\n",
    "#    will take 'NaN' values from these rankers, which won't impact their average ranking in out calculation.\n",
    "temp_df = massey_ordinals_limited_df.groupby(['Season', 'SystemName'])[['OrdinalRank']].max().reset_index()\n",
    "temp_df[temp_df['OrdinalRank'] < 100]"
   ],
   "metadata": {
    "id": "cCwbiYVPoN7b",
    "colab": {
     "base_uri": "https://localhost:8080/",
     "height": 424
    },
    "outputId": "dc650c03-b51c-4c65-d229-8c51719270a2",
    "ExecuteTime": {
     "end_time": "2024-02-29T10:24:41.559372Z",
     "start_time": "2024-02-29T10:24:41.277856Z"
    }
   },
   "execution_count": 16,
   "outputs": [
    {
     "data": {
      "text/plain": "     Season SystemName  OrdinalRank\n0      2003         AP           25\n12     2003        USA           25\n16     2004         AP           25\n20     2004        DES           25\n28     2004        USA           25\n..      ...        ...          ...\n697    2022        USA           25\n704    2023         AP           25\n716    2023        DES           25\n723    2023        ESR           50\n758    2023        USA           25\n\n[61 rows x 3 columns]",
      "text/html": "<div>\n<style scoped>\n    .dataframe tbody tr th:only-of-type {\n        vertical-align: middle;\n    }\n\n    .dataframe tbody tr th {\n        vertical-align: top;\n    }\n\n    .dataframe thead th {\n        text-align: right;\n    }\n</style>\n<table border=\"1\" class=\"dataframe\">\n  <thead>\n    <tr style=\"text-align: right;\">\n      <th></th>\n      <th>Season</th>\n      <th>SystemName</th>\n      <th>OrdinalRank</th>\n    </tr>\n  </thead>\n  <tbody>\n    <tr>\n      <th>0</th>\n      <td>2003</td>\n      <td>AP</td>\n      <td>25</td>\n    </tr>\n    <tr>\n      <th>12</th>\n      <td>2003</td>\n      <td>USA</td>\n      <td>25</td>\n    </tr>\n    <tr>\n      <th>16</th>\n      <td>2004</td>\n      <td>AP</td>\n      <td>25</td>\n    </tr>\n    <tr>\n      <th>20</th>\n      <td>2004</td>\n      <td>DES</td>\n      <td>25</td>\n    </tr>\n    <tr>\n      <th>28</th>\n      <td>2004</td>\n      <td>USA</td>\n      <td>25</td>\n    </tr>\n    <tr>\n      <th>...</th>\n      <td>...</td>\n      <td>...</td>\n      <td>...</td>\n    </tr>\n    <tr>\n      <th>697</th>\n      <td>2022</td>\n      <td>USA</td>\n      <td>25</td>\n    </tr>\n    <tr>\n      <th>704</th>\n      <td>2023</td>\n      <td>AP</td>\n      <td>25</td>\n    </tr>\n    <tr>\n      <th>716</th>\n      <td>2023</td>\n      <td>DES</td>\n      <td>25</td>\n    </tr>\n    <tr>\n      <th>723</th>\n      <td>2023</td>\n      <td>ESR</td>\n      <td>50</td>\n    </tr>\n    <tr>\n      <th>758</th>\n      <td>2023</td>\n      <td>USA</td>\n      <td>25</td>\n    </tr>\n  </tbody>\n</table>\n<p>61 rows × 3 columns</p>\n</div>"
     },
     "execution_count": 16,
     "metadata": {},
     "output_type": "execute_result"
    }
   ]
  },
  {
   "cell_type": "markdown",
   "source": [
    "The issue with this process is that the days in massey_ordinals_limited_df only correspond to days when a new ranking was announced for a given team. Many of these days fail to match with instances in combined_games_df during a merge since they only do so when teams play on the same day their ranking updates.\n",
    "\n",
    "The solution is to perform an outer merge followed by a team and season-specific forward fill across its 'NaN' 'Rank' column values. Additionally, we must sort by 'Season', 'DayNum', and 'TeamID' before forward filling to ensure that we maintain the correct order when padding forward our values. Finally, we will perform a similar backward fill to clean up any missing data earlier in the year, using the first available ranking. This method seems far superior to just imputing each team's seasonal averages."
   ],
   "metadata": {
    "id": "YuK8A5rogeky"
   }
  },
  {
   "cell_type": "code",
   "execution_count": 17,
   "metadata": {
    "id": "RLvu5aIfjDsv",
    "colab": {
     "base_uri": "https://localhost:8080/",
     "height": 424
    },
    "outputId": "191645e2-66a2-40bd-c624-201cc62fdef2",
    "ExecuteTime": {
     "end_time": "2024-02-29T10:24:51.770472Z",
     "start_time": "2024-02-29T10:24:41.559815Z"
    }
   },
   "outputs": [
    {
     "data": {
      "text/plain": "        Season  TeamID  DayNum        Rank\n0         2003    1102      35  159.000000\n1         2003    1103      35  229.000000\n2         2003    1104      35   12.000000\n3         2003    1105      35  314.000000\n4         2003    1106      35  260.000000\n...        ...     ...     ...         ...\n217008    2023    1473     128  339.964912\n217009    2023    1474     128  206.754386\n217010    2023    1475     128  272.807018\n217011    2023    1476     128  315.140351\n217012    2023    1477     128  309.614035\n\n[217013 rows x 4 columns]",
      "text/html": "<div>\n<style scoped>\n    .dataframe tbody tr th:only-of-type {\n        vertical-align: middle;\n    }\n\n    .dataframe tbody tr th {\n        vertical-align: top;\n    }\n\n    .dataframe thead th {\n        text-align: right;\n    }\n</style>\n<table border=\"1\" class=\"dataframe\">\n  <thead>\n    <tr style=\"text-align: right;\">\n      <th></th>\n      <th>Season</th>\n      <th>TeamID</th>\n      <th>DayNum</th>\n      <th>Rank</th>\n    </tr>\n  </thead>\n  <tbody>\n    <tr>\n      <th>0</th>\n      <td>2003</td>\n      <td>1102</td>\n      <td>35</td>\n      <td>159.000000</td>\n    </tr>\n    <tr>\n      <th>1</th>\n      <td>2003</td>\n      <td>1103</td>\n      <td>35</td>\n      <td>229.000000</td>\n    </tr>\n    <tr>\n      <th>2</th>\n      <td>2003</td>\n      <td>1104</td>\n      <td>35</td>\n      <td>12.000000</td>\n    </tr>\n    <tr>\n      <th>3</th>\n      <td>2003</td>\n      <td>1105</td>\n      <td>35</td>\n      <td>314.000000</td>\n    </tr>\n    <tr>\n      <th>4</th>\n      <td>2003</td>\n      <td>1106</td>\n      <td>35</td>\n      <td>260.000000</td>\n    </tr>\n    <tr>\n      <th>...</th>\n      <td>...</td>\n      <td>...</td>\n      <td>...</td>\n      <td>...</td>\n    </tr>\n    <tr>\n      <th>217008</th>\n      <td>2023</td>\n      <td>1473</td>\n      <td>128</td>\n      <td>339.964912</td>\n    </tr>\n    <tr>\n      <th>217009</th>\n      <td>2023</td>\n      <td>1474</td>\n      <td>128</td>\n      <td>206.754386</td>\n    </tr>\n    <tr>\n      <th>217010</th>\n      <td>2023</td>\n      <td>1475</td>\n      <td>128</td>\n      <td>272.807018</td>\n    </tr>\n    <tr>\n      <th>217011</th>\n      <td>2023</td>\n      <td>1476</td>\n      <td>128</td>\n      <td>315.140351</td>\n    </tr>\n    <tr>\n      <th>217012</th>\n      <td>2023</td>\n      <td>1477</td>\n      <td>128</td>\n      <td>309.614035</td>\n    </tr>\n  </tbody>\n</table>\n<p>217013 rows × 4 columns</p>\n</div>"
     },
     "execution_count": 17,
     "metadata": {},
     "output_type": "execute_result"
    }
   ],
   "source": [
    "# Here, we average our massey_ordinals_limited_df by 'Season', 'RankingDayNum' (renamed 'DayNum'),\n",
    "#    and 'TeamID'.\n",
    "ranking_query = \"\"\"\n",
    "SELECT Season, TeamID, RankingDayNum AS 'DayNum', AVG(OrdinalRank) AS 'Rank'\n",
    "FROM massey_ordinals_limited_df m\n",
    "GROUP BY Season, RankingDayNum, TeamID\n",
    "\"\"\"\n",
    "\n",
    "avg_massey_ordinals_limited_df = ps.sqldf(ranking_query, locals())\n",
    "avg_massey_ordinals_limited_df"
   ]
  },
  {
   "cell_type": "code",
   "source": [
    "# Perform an outer merge between combined_games_df and avg_massey_ordinals_limited_df to bring the rankings into our games DataFrame.\n",
    "# We want all instances, even those that don't match up on 'DayNum'.\n",
    "combined_games_df = combined_games_df.merge(avg_massey_ordinals_limited_df, on=['Season', 'TeamID', 'DayNum'], how='outer')"
   ],
   "metadata": {
    "id": "pesrof_tYjOx",
    "ExecuteTime": {
     "end_time": "2024-02-29T10:24:51.841706Z",
     "start_time": "2024-02-29T10:24:51.770629Z"
    }
   },
   "execution_count": 18,
   "outputs": []
  },
  {
   "cell_type": "code",
   "source": [
    "# Let's forward fill our 'NaN' values for each team and season.\n",
    "\n",
    "# First, make a set of all team_ids.\n",
    "team_ids = set(combined_games_df['TeamID'].tolist())\n",
    "\n",
    "# Next sort combined_games_df by 'Season', 'DayNum', and 'TeamID'\n",
    "combined_games_df = combined_games_df.sort_values(['Season', 'DayNum', 'TeamID']).reset_index()\n",
    "\n",
    "# Loop through all seasons and teams.\n",
    "for season in range(2003, 2023):\n",
    "  for team in team_ids:\n",
    "\n",
    "    # Each time, forward fill the Rank values (we can include 'Season' and 'DayNum' here because they are never 'NaN'),\n",
    "    #    backfill early 'NaN' entries, and save the resulting DataFrame to temp_df.\n",
    "    temp_df = combined_games_df[(combined_games_df['Season'] == season) & (combined_games_df['TeamID'] == team)] \\\n",
    "    [['Season', 'DayNum', 'Rank']].ffill().bfill()\n",
    "\n",
    "    # Get the indices from temp_df\n",
    "    indices = temp_df.index.tolist()\n",
    "\n",
    "    # Set the 'Rank' values for these specific rows in combined_games_df to our new\n",
    "    #    forward filled 'Rank' values in temp_df.\n",
    "    combined_games_df.loc[indices, 'Rank'] = temp_df['Rank']\n",
    "\n",
    "# Drop the 'NaN' values based on the 'OppTeamID' column to remove instances from avg_massey_ordinals_limited_df\n",
    "#    that didn't matchup with game instances from combined_games_df during the merge.\n",
    "combined_games_df = combined_games_df.dropna(subset=['OppTeamID'])"
   ],
   "metadata": {
    "id": "0ps-2FdO19Pi",
    "ExecuteTime": {
     "end_time": "2024-02-29T10:25:16.360250Z",
     "start_time": "2024-02-29T10:24:51.843342Z"
    }
   },
   "execution_count": 19,
   "outputs": []
  },
  {
   "cell_type": "markdown",
   "source": [
    "Test the results with The University of Florida (TeamID 1196). Expanding the DataFrame below, we see that the 'Rank' column is correctly forward-filled and backward-filled. Of course, some teams are never ranked during a season (if they aren't good enough), so we still see 'NaN' values in combined_games_df."
   ],
   "metadata": {
    "id": "4l3YP3n6TdVf"
   }
  },
  {
   "cell_type": "code",
   "source": [
    "combined_games_df[combined_games_df['TeamID'] == 1196][['Season', 'DayNum', 'TeamID', 'OppTeamID', 'Rank', 'Outcome']]"
   ],
   "metadata": {
    "id": "2Rc8JAGu9xXz",
    "colab": {
     "base_uri": "https://localhost:8080/",
     "height": 424
    },
    "outputId": "4f5dca20-28df-4c7a-b8ee-4531c326169f",
    "ExecuteTime": {
     "end_time": "2024-02-29T10:25:16.367047Z",
     "start_time": "2024-02-29T10:25:16.361053Z"
    }
   },
   "execution_count": 20,
   "outputs": [
    {
     "data": {
      "text/plain": "        Season  DayNum  TeamID  OppTeamID       Rank Outcome\n53        2003      15    1196     1256.0  20.000000       W\n66        2003      17    1196     1183.0  20.000000       W\n350       2003      20    1196     1157.0  20.000000       W\n607       2003      23    1196     1390.0  20.000000       L\n686       2003      25    1196     1242.0  20.000000       W\n...        ...     ...     ...        ...        ...     ...\n388966    2023     114    1196     1246.0  63.481481       L\n389470    2023     117    1196     1435.0        NaN       L\n389773    2023     120    1196     1208.0        NaN       W\n390409    2023     124    1196     1261.0        NaN       W\n391080    2023     129    1196     1280.0        NaN       L\n\n[716 rows x 6 columns]",
      "text/html": "<div>\n<style scoped>\n    .dataframe tbody tr th:only-of-type {\n        vertical-align: middle;\n    }\n\n    .dataframe tbody tr th {\n        vertical-align: top;\n    }\n\n    .dataframe thead th {\n        text-align: right;\n    }\n</style>\n<table border=\"1\" class=\"dataframe\">\n  <thead>\n    <tr style=\"text-align: right;\">\n      <th></th>\n      <th>Season</th>\n      <th>DayNum</th>\n      <th>TeamID</th>\n      <th>OppTeamID</th>\n      <th>Rank</th>\n      <th>Outcome</th>\n    </tr>\n  </thead>\n  <tbody>\n    <tr>\n      <th>53</th>\n      <td>2003</td>\n      <td>15</td>\n      <td>1196</td>\n      <td>1256.0</td>\n      <td>20.000000</td>\n      <td>W</td>\n    </tr>\n    <tr>\n      <th>66</th>\n      <td>2003</td>\n      <td>17</td>\n      <td>1196</td>\n      <td>1183.0</td>\n      <td>20.000000</td>\n      <td>W</td>\n    </tr>\n    <tr>\n      <th>350</th>\n      <td>2003</td>\n      <td>20</td>\n      <td>1196</td>\n      <td>1157.0</td>\n      <td>20.000000</td>\n      <td>W</td>\n    </tr>\n    <tr>\n      <th>607</th>\n      <td>2003</td>\n      <td>23</td>\n      <td>1196</td>\n      <td>1390.0</td>\n      <td>20.000000</td>\n      <td>L</td>\n    </tr>\n    <tr>\n      <th>686</th>\n      <td>2003</td>\n      <td>25</td>\n      <td>1196</td>\n      <td>1242.0</td>\n      <td>20.000000</td>\n      <td>W</td>\n    </tr>\n    <tr>\n      <th>...</th>\n      <td>...</td>\n      <td>...</td>\n      <td>...</td>\n      <td>...</td>\n      <td>...</td>\n      <td>...</td>\n    </tr>\n    <tr>\n      <th>388966</th>\n      <td>2023</td>\n      <td>114</td>\n      <td>1196</td>\n      <td>1246.0</td>\n      <td>63.481481</td>\n      <td>L</td>\n    </tr>\n    <tr>\n      <th>389470</th>\n      <td>2023</td>\n      <td>117</td>\n      <td>1196</td>\n      <td>1435.0</td>\n      <td>NaN</td>\n      <td>L</td>\n    </tr>\n    <tr>\n      <th>389773</th>\n      <td>2023</td>\n      <td>120</td>\n      <td>1196</td>\n      <td>1208.0</td>\n      <td>NaN</td>\n      <td>W</td>\n    </tr>\n    <tr>\n      <th>390409</th>\n      <td>2023</td>\n      <td>124</td>\n      <td>1196</td>\n      <td>1261.0</td>\n      <td>NaN</td>\n      <td>W</td>\n    </tr>\n    <tr>\n      <th>391080</th>\n      <td>2023</td>\n      <td>129</td>\n      <td>1196</td>\n      <td>1280.0</td>\n      <td>NaN</td>\n      <td>L</td>\n    </tr>\n  </tbody>\n</table>\n<p>716 rows × 6 columns</p>\n</div>"
     },
     "execution_count": 20,
     "metadata": {},
     "output_type": "execute_result"
    }
   ]
  },
  {
   "cell_type": "code",
   "source": [
    "combined_games_df"
   ],
   "metadata": {
    "id": "Ra2Gdybao580",
    "colab": {
     "base_uri": "https://localhost:8080/",
     "height": 444
    },
    "outputId": "b3abf1e4-9696-4271-d8f0-af5a0ee978c8",
    "ExecuteTime": {
     "end_time": "2024-02-29T10:25:16.431727Z",
     "start_time": "2024-02-29T10:25:16.371793Z"
    }
   },
   "execution_count": 21,
   "outputs": [
    {
     "data": {
      "text/plain": "         index  Season  DayNum  ConfTourney  MMTourney  TeamID  OppTeamID Loc  \\\n0            0    2003      10          0.0        0.0    1104     1328.0   N   \n1            1    2003      10          0.0        0.0    1272     1393.0   N   \n2       176505    2003      10          0.0        0.0    1328     1104.0   N   \n3       196796    2003      10          0.0        0.0    1393     1272.0   N   \n4       134437    2003      11          0.0        0.0    1186     1458.0   A   \n...        ...     ...     ...          ...        ...     ...        ...  ..   \n391291  107631    2023     132          1.0        0.0    1343     1463.0   H   \n391292  107632    2023     132          1.0        0.0    1345     1336.0   N   \n391293  199116    2023     132          1.0        0.0    1401     1104.0   N   \n391294  107633    2023     132          1.0        0.0    1433     1173.0   N   \n391295  216810    2023     132          1.0        0.0    1463     1343.0   A   \n\n        NumOT  Score  ...  OppOR  OppDR  OppAst  OppTO  OppStl  OppBlk  OppPF  \\\n0         0.0   68.0  ...   10.0   22.0     8.0   18.0     9.0     2.0   20.0   \n1         0.0   70.0  ...   20.0   25.0     7.0   12.0     8.0     6.0   16.0   \n2         0.0   62.0  ...   14.0   24.0    13.0   23.0     7.0     1.0   22.0   \n3         0.0   63.0  ...   15.0   28.0    16.0   13.0     4.0     4.0   18.0   \n4         0.0   55.0  ...   12.0   24.0    12.0    9.0     9.0     3.0   18.0   \n...       ...    ...  ...    ...    ...     ...    ...     ...     ...    ...   \n391291    0.0   74.0  ...    6.0   25.0    12.0   10.0     3.0     7.0   20.0   \n391292    0.0   67.0  ...    4.0   27.0    14.0   10.0     4.0     2.0   20.0   \n391293    0.0   63.0  ...   21.0   29.0    16.0   12.0     6.0     7.0   19.0   \n391294    0.0   68.0  ...   16.0   22.0    11.0    8.0     1.0     6.0   21.0   \n391295    0.0   65.0  ...   11.0   25.0    11.0    5.0     3.0     2.0   18.0   \n\n        ScoreDiff  Outcome   Rank  \n0             6.0        W   12.0  \n1             7.0        W   67.0  \n2            -6.0        L   24.0  \n3            -7.0        L  120.0  \n4           -26.0        L  123.0  \n...           ...      ...    ...  \n391291        9.0        W    NaN  \n391292        2.0        W    NaN  \n391293      -19.0        L    NaN  \n391294       12.0        W    NaN  \n391295       -9.0        L    NaN  \n\n[217764 rows x 40 columns]",
      "text/html": "<div>\n<style scoped>\n    .dataframe tbody tr th:only-of-type {\n        vertical-align: middle;\n    }\n\n    .dataframe tbody tr th {\n        vertical-align: top;\n    }\n\n    .dataframe thead th {\n        text-align: right;\n    }\n</style>\n<table border=\"1\" class=\"dataframe\">\n  <thead>\n    <tr style=\"text-align: right;\">\n      <th></th>\n      <th>index</th>\n      <th>Season</th>\n      <th>DayNum</th>\n      <th>ConfTourney</th>\n      <th>MMTourney</th>\n      <th>TeamID</th>\n      <th>OppTeamID</th>\n      <th>Loc</th>\n      <th>NumOT</th>\n      <th>Score</th>\n      <th>...</th>\n      <th>OppOR</th>\n      <th>OppDR</th>\n      <th>OppAst</th>\n      <th>OppTO</th>\n      <th>OppStl</th>\n      <th>OppBlk</th>\n      <th>OppPF</th>\n      <th>ScoreDiff</th>\n      <th>Outcome</th>\n      <th>Rank</th>\n    </tr>\n  </thead>\n  <tbody>\n    <tr>\n      <th>0</th>\n      <td>0</td>\n      <td>2003</td>\n      <td>10</td>\n      <td>0.0</td>\n      <td>0.0</td>\n      <td>1104</td>\n      <td>1328.0</td>\n      <td>N</td>\n      <td>0.0</td>\n      <td>68.0</td>\n      <td>...</td>\n      <td>10.0</td>\n      <td>22.0</td>\n      <td>8.0</td>\n      <td>18.0</td>\n      <td>9.0</td>\n      <td>2.0</td>\n      <td>20.0</td>\n      <td>6.0</td>\n      <td>W</td>\n      <td>12.0</td>\n    </tr>\n    <tr>\n      <th>1</th>\n      <td>1</td>\n      <td>2003</td>\n      <td>10</td>\n      <td>0.0</td>\n      <td>0.0</td>\n      <td>1272</td>\n      <td>1393.0</td>\n      <td>N</td>\n      <td>0.0</td>\n      <td>70.0</td>\n      <td>...</td>\n      <td>20.0</td>\n      <td>25.0</td>\n      <td>7.0</td>\n      <td>12.0</td>\n      <td>8.0</td>\n      <td>6.0</td>\n      <td>16.0</td>\n      <td>7.0</td>\n      <td>W</td>\n      <td>67.0</td>\n    </tr>\n    <tr>\n      <th>2</th>\n      <td>176505</td>\n      <td>2003</td>\n      <td>10</td>\n      <td>0.0</td>\n      <td>0.0</td>\n      <td>1328</td>\n      <td>1104.0</td>\n      <td>N</td>\n      <td>0.0</td>\n      <td>62.0</td>\n      <td>...</td>\n      <td>14.0</td>\n      <td>24.0</td>\n      <td>13.0</td>\n      <td>23.0</td>\n      <td>7.0</td>\n      <td>1.0</td>\n      <td>22.0</td>\n      <td>-6.0</td>\n      <td>L</td>\n      <td>24.0</td>\n    </tr>\n    <tr>\n      <th>3</th>\n      <td>196796</td>\n      <td>2003</td>\n      <td>10</td>\n      <td>0.0</td>\n      <td>0.0</td>\n      <td>1393</td>\n      <td>1272.0</td>\n      <td>N</td>\n      <td>0.0</td>\n      <td>63.0</td>\n      <td>...</td>\n      <td>15.0</td>\n      <td>28.0</td>\n      <td>16.0</td>\n      <td>13.0</td>\n      <td>4.0</td>\n      <td>4.0</td>\n      <td>18.0</td>\n      <td>-7.0</td>\n      <td>L</td>\n      <td>120.0</td>\n    </tr>\n    <tr>\n      <th>4</th>\n      <td>134437</td>\n      <td>2003</td>\n      <td>11</td>\n      <td>0.0</td>\n      <td>0.0</td>\n      <td>1186</td>\n      <td>1458.0</td>\n      <td>A</td>\n      <td>0.0</td>\n      <td>55.0</td>\n      <td>...</td>\n      <td>12.0</td>\n      <td>24.0</td>\n      <td>12.0</td>\n      <td>9.0</td>\n      <td>9.0</td>\n      <td>3.0</td>\n      <td>18.0</td>\n      <td>-26.0</td>\n      <td>L</td>\n      <td>123.0</td>\n    </tr>\n    <tr>\n      <th>...</th>\n      <td>...</td>\n      <td>...</td>\n      <td>...</td>\n      <td>...</td>\n      <td>...</td>\n      <td>...</td>\n      <td>...</td>\n      <td>...</td>\n      <td>...</td>\n      <td>...</td>\n      <td>...</td>\n      <td>...</td>\n      <td>...</td>\n      <td>...</td>\n      <td>...</td>\n      <td>...</td>\n      <td>...</td>\n      <td>...</td>\n      <td>...</td>\n      <td>...</td>\n      <td>...</td>\n    </tr>\n    <tr>\n      <th>391291</th>\n      <td>107631</td>\n      <td>2023</td>\n      <td>132</td>\n      <td>1.0</td>\n      <td>0.0</td>\n      <td>1343</td>\n      <td>1463.0</td>\n      <td>H</td>\n      <td>0.0</td>\n      <td>74.0</td>\n      <td>...</td>\n      <td>6.0</td>\n      <td>25.0</td>\n      <td>12.0</td>\n      <td>10.0</td>\n      <td>3.0</td>\n      <td>7.0</td>\n      <td>20.0</td>\n      <td>9.0</td>\n      <td>W</td>\n      <td>NaN</td>\n    </tr>\n    <tr>\n      <th>391292</th>\n      <td>107632</td>\n      <td>2023</td>\n      <td>132</td>\n      <td>1.0</td>\n      <td>0.0</td>\n      <td>1345</td>\n      <td>1336.0</td>\n      <td>N</td>\n      <td>0.0</td>\n      <td>67.0</td>\n      <td>...</td>\n      <td>4.0</td>\n      <td>27.0</td>\n      <td>14.0</td>\n      <td>10.0</td>\n      <td>4.0</td>\n      <td>2.0</td>\n      <td>20.0</td>\n      <td>2.0</td>\n      <td>W</td>\n      <td>NaN</td>\n    </tr>\n    <tr>\n      <th>391293</th>\n      <td>199116</td>\n      <td>2023</td>\n      <td>132</td>\n      <td>1.0</td>\n      <td>0.0</td>\n      <td>1401</td>\n      <td>1104.0</td>\n      <td>N</td>\n      <td>0.0</td>\n      <td>63.0</td>\n      <td>...</td>\n      <td>21.0</td>\n      <td>29.0</td>\n      <td>16.0</td>\n      <td>12.0</td>\n      <td>6.0</td>\n      <td>7.0</td>\n      <td>19.0</td>\n      <td>-19.0</td>\n      <td>L</td>\n      <td>NaN</td>\n    </tr>\n    <tr>\n      <th>391294</th>\n      <td>107633</td>\n      <td>2023</td>\n      <td>132</td>\n      <td>1.0</td>\n      <td>0.0</td>\n      <td>1433</td>\n      <td>1173.0</td>\n      <td>N</td>\n      <td>0.0</td>\n      <td>68.0</td>\n      <td>...</td>\n      <td>16.0</td>\n      <td>22.0</td>\n      <td>11.0</td>\n      <td>8.0</td>\n      <td>1.0</td>\n      <td>6.0</td>\n      <td>21.0</td>\n      <td>12.0</td>\n      <td>W</td>\n      <td>NaN</td>\n    </tr>\n    <tr>\n      <th>391295</th>\n      <td>216810</td>\n      <td>2023</td>\n      <td>132</td>\n      <td>1.0</td>\n      <td>0.0</td>\n      <td>1463</td>\n      <td>1343.0</td>\n      <td>A</td>\n      <td>0.0</td>\n      <td>65.0</td>\n      <td>...</td>\n      <td>11.0</td>\n      <td>25.0</td>\n      <td>11.0</td>\n      <td>5.0</td>\n      <td>3.0</td>\n      <td>2.0</td>\n      <td>18.0</td>\n      <td>-9.0</td>\n      <td>L</td>\n      <td>NaN</td>\n    </tr>\n  </tbody>\n</table>\n<p>217764 rows × 40 columns</p>\n</div>"
     },
     "execution_count": 21,
     "metadata": {},
     "output_type": "execute_result"
    }
   ]
  },
  {
   "cell_type": "code",
   "source": [
    "# Merge combined_games_df with itself to get the opponent rankings for each game.\n",
    "\n",
    "merge_query = \"\"\"\n",
    "SELECT t.*, p.Rank AS 'OppRank'\n",
    "FROM combined_games_df t\n",
    "JOIN combined_games_df p\n",
    "ON t.OppTeamID=p.TeamID AND t.TeamID=p.OppTeamID AND t.Season=p.Season AND t.DayNum=p.DayNum\n",
    "\"\"\"\n",
    "\n",
    "combined_games_df = ps.sqldf(merge_query, locals())\n",
    "combined_games_df"
   ],
   "metadata": {
    "id": "vzgc_S6inAwf",
    "colab": {
     "base_uri": "https://localhost:8080/",
     "height": 444
    },
    "outputId": "f1af8581-e915-49b2-b789-84504c710a44",
    "ExecuteTime": {
     "end_time": "2024-02-29T10:25:22.290963Z",
     "start_time": "2024-02-29T10:25:16.402641Z"
    }
   },
   "execution_count": 22,
   "outputs": [
    {
     "data": {
      "text/plain": "         index  Season  DayNum  ConfTourney  MMTourney  TeamID  OppTeamID Loc  \\\n0            0    2003      10          0.0        0.0    1104     1328.0   N   \n1            1    2003      10          0.0        0.0    1272     1393.0   N   \n2       176505    2003      10          0.0        0.0    1328     1104.0   N   \n3       196796    2003      10          0.0        0.0    1393     1272.0   N   \n4       134437    2003      11          0.0        0.0    1186     1458.0   A   \n...        ...     ...     ...          ...        ...     ...        ...  ..   \n217759  107631    2023     132          1.0        0.0    1343     1463.0   H   \n217760  107632    2023     132          1.0        0.0    1345     1336.0   N   \n217761  199116    2023     132          1.0        0.0    1401     1104.0   N   \n217762  107633    2023     132          1.0        0.0    1433     1173.0   N   \n217763  216810    2023     132          1.0        0.0    1463     1343.0   A   \n\n        NumOT  Score  ...  OppDR  OppAst  OppTO  OppStl  OppBlk  OppPF  \\\n0         0.0   68.0  ...   22.0     8.0   18.0     9.0     2.0   20.0   \n1         0.0   70.0  ...   25.0     7.0   12.0     8.0     6.0   16.0   \n2         0.0   62.0  ...   24.0    13.0   23.0     7.0     1.0   22.0   \n3         0.0   63.0  ...   28.0    16.0   13.0     4.0     4.0   18.0   \n4         0.0   55.0  ...   24.0    12.0    9.0     9.0     3.0   18.0   \n...       ...    ...  ...    ...     ...    ...     ...     ...    ...   \n217759    0.0   74.0  ...   25.0    12.0   10.0     3.0     7.0   20.0   \n217760    0.0   67.0  ...   27.0    14.0   10.0     4.0     2.0   20.0   \n217761    0.0   63.0  ...   29.0    16.0   12.0     6.0     7.0   19.0   \n217762    0.0   68.0  ...   22.0    11.0    8.0     1.0     6.0   21.0   \n217763    0.0   65.0  ...   25.0    11.0    5.0     3.0     2.0   18.0   \n\n        ScoreDiff  Outcome   Rank  OppRank  \n0             6.0        W   12.0     24.0  \n1             7.0        W   67.0    120.0  \n2            -6.0        L   24.0     12.0  \n3            -7.0        L  120.0     67.0  \n4           -26.0        L  123.0     16.0  \n...           ...      ...    ...      ...  \n217759        9.0        W    NaN      NaN  \n217760        2.0        W    NaN      NaN  \n217761      -19.0        L    NaN      NaN  \n217762       12.0        W    NaN      NaN  \n217763       -9.0        L    NaN      NaN  \n\n[217764 rows x 41 columns]",
      "text/html": "<div>\n<style scoped>\n    .dataframe tbody tr th:only-of-type {\n        vertical-align: middle;\n    }\n\n    .dataframe tbody tr th {\n        vertical-align: top;\n    }\n\n    .dataframe thead th {\n        text-align: right;\n    }\n</style>\n<table border=\"1\" class=\"dataframe\">\n  <thead>\n    <tr style=\"text-align: right;\">\n      <th></th>\n      <th>index</th>\n      <th>Season</th>\n      <th>DayNum</th>\n      <th>ConfTourney</th>\n      <th>MMTourney</th>\n      <th>TeamID</th>\n      <th>OppTeamID</th>\n      <th>Loc</th>\n      <th>NumOT</th>\n      <th>Score</th>\n      <th>...</th>\n      <th>OppDR</th>\n      <th>OppAst</th>\n      <th>OppTO</th>\n      <th>OppStl</th>\n      <th>OppBlk</th>\n      <th>OppPF</th>\n      <th>ScoreDiff</th>\n      <th>Outcome</th>\n      <th>Rank</th>\n      <th>OppRank</th>\n    </tr>\n  </thead>\n  <tbody>\n    <tr>\n      <th>0</th>\n      <td>0</td>\n      <td>2003</td>\n      <td>10</td>\n      <td>0.0</td>\n      <td>0.0</td>\n      <td>1104</td>\n      <td>1328.0</td>\n      <td>N</td>\n      <td>0.0</td>\n      <td>68.0</td>\n      <td>...</td>\n      <td>22.0</td>\n      <td>8.0</td>\n      <td>18.0</td>\n      <td>9.0</td>\n      <td>2.0</td>\n      <td>20.0</td>\n      <td>6.0</td>\n      <td>W</td>\n      <td>12.0</td>\n      <td>24.0</td>\n    </tr>\n    <tr>\n      <th>1</th>\n      <td>1</td>\n      <td>2003</td>\n      <td>10</td>\n      <td>0.0</td>\n      <td>0.0</td>\n      <td>1272</td>\n      <td>1393.0</td>\n      <td>N</td>\n      <td>0.0</td>\n      <td>70.0</td>\n      <td>...</td>\n      <td>25.0</td>\n      <td>7.0</td>\n      <td>12.0</td>\n      <td>8.0</td>\n      <td>6.0</td>\n      <td>16.0</td>\n      <td>7.0</td>\n      <td>W</td>\n      <td>67.0</td>\n      <td>120.0</td>\n    </tr>\n    <tr>\n      <th>2</th>\n      <td>176505</td>\n      <td>2003</td>\n      <td>10</td>\n      <td>0.0</td>\n      <td>0.0</td>\n      <td>1328</td>\n      <td>1104.0</td>\n      <td>N</td>\n      <td>0.0</td>\n      <td>62.0</td>\n      <td>...</td>\n      <td>24.0</td>\n      <td>13.0</td>\n      <td>23.0</td>\n      <td>7.0</td>\n      <td>1.0</td>\n      <td>22.0</td>\n      <td>-6.0</td>\n      <td>L</td>\n      <td>24.0</td>\n      <td>12.0</td>\n    </tr>\n    <tr>\n      <th>3</th>\n      <td>196796</td>\n      <td>2003</td>\n      <td>10</td>\n      <td>0.0</td>\n      <td>0.0</td>\n      <td>1393</td>\n      <td>1272.0</td>\n      <td>N</td>\n      <td>0.0</td>\n      <td>63.0</td>\n      <td>...</td>\n      <td>28.0</td>\n      <td>16.0</td>\n      <td>13.0</td>\n      <td>4.0</td>\n      <td>4.0</td>\n      <td>18.0</td>\n      <td>-7.0</td>\n      <td>L</td>\n      <td>120.0</td>\n      <td>67.0</td>\n    </tr>\n    <tr>\n      <th>4</th>\n      <td>134437</td>\n      <td>2003</td>\n      <td>11</td>\n      <td>0.0</td>\n      <td>0.0</td>\n      <td>1186</td>\n      <td>1458.0</td>\n      <td>A</td>\n      <td>0.0</td>\n      <td>55.0</td>\n      <td>...</td>\n      <td>24.0</td>\n      <td>12.0</td>\n      <td>9.0</td>\n      <td>9.0</td>\n      <td>3.0</td>\n      <td>18.0</td>\n      <td>-26.0</td>\n      <td>L</td>\n      <td>123.0</td>\n      <td>16.0</td>\n    </tr>\n    <tr>\n      <th>...</th>\n      <td>...</td>\n      <td>...</td>\n      <td>...</td>\n      <td>...</td>\n      <td>...</td>\n      <td>...</td>\n      <td>...</td>\n      <td>...</td>\n      <td>...</td>\n      <td>...</td>\n      <td>...</td>\n      <td>...</td>\n      <td>...</td>\n      <td>...</td>\n      <td>...</td>\n      <td>...</td>\n      <td>...</td>\n      <td>...</td>\n      <td>...</td>\n      <td>...</td>\n      <td>...</td>\n    </tr>\n    <tr>\n      <th>217759</th>\n      <td>107631</td>\n      <td>2023</td>\n      <td>132</td>\n      <td>1.0</td>\n      <td>0.0</td>\n      <td>1343</td>\n      <td>1463.0</td>\n      <td>H</td>\n      <td>0.0</td>\n      <td>74.0</td>\n      <td>...</td>\n      <td>25.0</td>\n      <td>12.0</td>\n      <td>10.0</td>\n      <td>3.0</td>\n      <td>7.0</td>\n      <td>20.0</td>\n      <td>9.0</td>\n      <td>W</td>\n      <td>NaN</td>\n      <td>NaN</td>\n    </tr>\n    <tr>\n      <th>217760</th>\n      <td>107632</td>\n      <td>2023</td>\n      <td>132</td>\n      <td>1.0</td>\n      <td>0.0</td>\n      <td>1345</td>\n      <td>1336.0</td>\n      <td>N</td>\n      <td>0.0</td>\n      <td>67.0</td>\n      <td>...</td>\n      <td>27.0</td>\n      <td>14.0</td>\n      <td>10.0</td>\n      <td>4.0</td>\n      <td>2.0</td>\n      <td>20.0</td>\n      <td>2.0</td>\n      <td>W</td>\n      <td>NaN</td>\n      <td>NaN</td>\n    </tr>\n    <tr>\n      <th>217761</th>\n      <td>199116</td>\n      <td>2023</td>\n      <td>132</td>\n      <td>1.0</td>\n      <td>0.0</td>\n      <td>1401</td>\n      <td>1104.0</td>\n      <td>N</td>\n      <td>0.0</td>\n      <td>63.0</td>\n      <td>...</td>\n      <td>29.0</td>\n      <td>16.0</td>\n      <td>12.0</td>\n      <td>6.0</td>\n      <td>7.0</td>\n      <td>19.0</td>\n      <td>-19.0</td>\n      <td>L</td>\n      <td>NaN</td>\n      <td>NaN</td>\n    </tr>\n    <tr>\n      <th>217762</th>\n      <td>107633</td>\n      <td>2023</td>\n      <td>132</td>\n      <td>1.0</td>\n      <td>0.0</td>\n      <td>1433</td>\n      <td>1173.0</td>\n      <td>N</td>\n      <td>0.0</td>\n      <td>68.0</td>\n      <td>...</td>\n      <td>22.0</td>\n      <td>11.0</td>\n      <td>8.0</td>\n      <td>1.0</td>\n      <td>6.0</td>\n      <td>21.0</td>\n      <td>12.0</td>\n      <td>W</td>\n      <td>NaN</td>\n      <td>NaN</td>\n    </tr>\n    <tr>\n      <th>217763</th>\n      <td>216810</td>\n      <td>2023</td>\n      <td>132</td>\n      <td>1.0</td>\n      <td>0.0</td>\n      <td>1463</td>\n      <td>1343.0</td>\n      <td>A</td>\n      <td>0.0</td>\n      <td>65.0</td>\n      <td>...</td>\n      <td>25.0</td>\n      <td>11.0</td>\n      <td>5.0</td>\n      <td>3.0</td>\n      <td>2.0</td>\n      <td>18.0</td>\n      <td>-9.0</td>\n      <td>L</td>\n      <td>NaN</td>\n      <td>NaN</td>\n    </tr>\n  </tbody>\n</table>\n<p>217764 rows × 41 columns</p>\n</div>"
     },
     "execution_count": 22,
     "metadata": {},
     "output_type": "execute_result"
    }
   ]
  },
  {
   "cell_type": "markdown",
   "source": [
    "## Calculate Wins, Losses, and Win%"
   ],
   "metadata": {
    "id": "lZ21P2jI5PJ_"
   }
  },
  {
   "cell_type": "markdown",
   "source": [
    "Now that we have all of our games and rankings together let's begin aggregating statistics. First, we will calculate the wins, losses, and win% for each team and season."
   ],
   "metadata": {
    "id": "iIQZkcIvqVPb"
   }
  },
  {
   "cell_type": "code",
   "execution_count": 23,
   "metadata": {
    "id": "EmVSBEUna270",
    "colab": {
     "base_uri": "https://localhost:8080/",
     "height": 424
    },
    "outputId": "94185b06-c35b-45f8-cd26-037566740e10",
    "ExecuteTime": {
     "end_time": "2024-02-29T10:25:22.346596Z",
     "start_time": "2024-02-29T10:25:22.293150Z"
    }
   },
   "outputs": [
    {
     "data": {
      "text/plain": "      Season  TeamID  Wins  Losses       Win%\n0       2023    1222  31.0     3.0  91.176471\n1       2023    1158  30.0     3.0  90.909091\n4       2023    1194  29.0     3.0  90.625000\n2       2023    1417  29.0     5.0  85.294118\n3       2023    1345  29.0     5.0  85.294118\n...      ...     ...   ...     ...        ...\n7242    2003    1311   2.0    25.0   7.407407\n7244    2003    1162   2.0    25.0   7.407407\n7243    2003    1200   2.0    26.0   7.142857\n7245    2003    1398   1.0    24.0   4.000000\n7246    2003    1299   1.0    25.0   3.846154\n\n[7255 rows x 5 columns]",
      "text/html": "<div>\n<style scoped>\n    .dataframe tbody tr th:only-of-type {\n        vertical-align: middle;\n    }\n\n    .dataframe tbody tr th {\n        vertical-align: top;\n    }\n\n    .dataframe thead th {\n        text-align: right;\n    }\n</style>\n<table border=\"1\" class=\"dataframe\">\n  <thead>\n    <tr style=\"text-align: right;\">\n      <th></th>\n      <th>Season</th>\n      <th>TeamID</th>\n      <th>Wins</th>\n      <th>Losses</th>\n      <th>Win%</th>\n    </tr>\n  </thead>\n  <tbody>\n    <tr>\n      <th>0</th>\n      <td>2023</td>\n      <td>1222</td>\n      <td>31.0</td>\n      <td>3.0</td>\n      <td>91.176471</td>\n    </tr>\n    <tr>\n      <th>1</th>\n      <td>2023</td>\n      <td>1158</td>\n      <td>30.0</td>\n      <td>3.0</td>\n      <td>90.909091</td>\n    </tr>\n    <tr>\n      <th>4</th>\n      <td>2023</td>\n      <td>1194</td>\n      <td>29.0</td>\n      <td>3.0</td>\n      <td>90.625000</td>\n    </tr>\n    <tr>\n      <th>2</th>\n      <td>2023</td>\n      <td>1417</td>\n      <td>29.0</td>\n      <td>5.0</td>\n      <td>85.294118</td>\n    </tr>\n    <tr>\n      <th>3</th>\n      <td>2023</td>\n      <td>1345</td>\n      <td>29.0</td>\n      <td>5.0</td>\n      <td>85.294118</td>\n    </tr>\n    <tr>\n      <th>...</th>\n      <td>...</td>\n      <td>...</td>\n      <td>...</td>\n      <td>...</td>\n      <td>...</td>\n    </tr>\n    <tr>\n      <th>7242</th>\n      <td>2003</td>\n      <td>1311</td>\n      <td>2.0</td>\n      <td>25.0</td>\n      <td>7.407407</td>\n    </tr>\n    <tr>\n      <th>7244</th>\n      <td>2003</td>\n      <td>1162</td>\n      <td>2.0</td>\n      <td>25.0</td>\n      <td>7.407407</td>\n    </tr>\n    <tr>\n      <th>7243</th>\n      <td>2003</td>\n      <td>1200</td>\n      <td>2.0</td>\n      <td>26.0</td>\n      <td>7.142857</td>\n    </tr>\n    <tr>\n      <th>7245</th>\n      <td>2003</td>\n      <td>1398</td>\n      <td>1.0</td>\n      <td>24.0</td>\n      <td>4.000000</td>\n    </tr>\n    <tr>\n      <th>7246</th>\n      <td>2003</td>\n      <td>1299</td>\n      <td>1.0</td>\n      <td>25.0</td>\n      <td>3.846154</td>\n    </tr>\n  </tbody>\n</table>\n<p>7255 rows × 5 columns</p>\n</div>"
     },
     "execution_count": 23,
     "metadata": {},
     "output_type": "execute_result"
    }
   ],
   "source": [
    "# Calculate the regular season wins by 'Season' and 'TeamID' and call this new DataFrame reg_season_wins_df.\n",
    "\n",
    "# We can get the wins data from winners_combined_games_df. Just be sure to filter for regular season games ('MMTourney' == 0).\n",
    "reg_season_wins_df = winners_combined_games_df[winners_combined_games_df['MMTourney'] == 0]\n",
    "# With our new reg_season_wins_df, lets count how many wins each team had in a given season.\n",
    "reg_season_wins_df = reg_season_wins_df.groupby(['Season', 'TeamID'])[['Score']].count().reset_index()\n",
    "# Rename our count column to 'Wins' and sort by 'Season', 'Wins', and 'TeamID' in descending order.\n",
    "reg_season_wins_df = reg_season_wins_df.rename(columns={'Score': 'Wins'}).sort_values(by=['Season', 'Wins', 'TeamID'], ascending=[False, False, False])\n",
    "\n",
    "# Follow the same process, but with losers_combined_games_df to get the losses for each team and season.\n",
    "reg_season_losses_df = losers_combined_games_df[losers_combined_games_df['MMTourney'] == 0]\n",
    "reg_season_losses_df = reg_season_losses_df.groupby(['Season', 'TeamID'])[['Score']].count().reset_index()\n",
    "reg_season_losses_df = reg_season_losses_df.rename(columns={'Score': 'Losses'}).sort_values(by=['Season', 'Losses', 'TeamID'], ascending=[False, True, False])\n",
    "\n",
    "# Outer merge reg_season_wins_df and reg_season_losses_df into reg_season_wins_and_losses_df.\n",
    "# We use an outer merge in case some teams went undefeated in a given year, or worse... went winless.\n",
    "reg_season_wins_and_losses_df = reg_season_wins_df.merge(reg_season_losses_df, how='outer', on=['Season', 'TeamID']) \\\n",
    "                                                         .sort_values(by=['Season', 'Wins', 'Losses', 'TeamID'], ascending=[False, False, True, False])\n",
    "\n",
    "# Fill 'NaN' values in 'Wins' and 'Losses' columns with 0.\n",
    "reg_season_wins_and_losses_df = reg_season_wins_and_losses_df.fillna({\"Wins\": 0, \"Losses\": 0})\n",
    "\n",
    "# Add a Win% column.\n",
    "reg_season_wins_and_losses_df['Win%'] = (reg_season_wins_and_losses_df['Wins'] /\n",
    "                                        (reg_season_wins_and_losses_df['Wins'] + reg_season_wins_and_losses_df['Losses'])) * 100\n",
    "\n",
    "reg_season_wins_and_losses_df"
   ]
  },
  {
   "cell_type": "markdown",
   "source": [
    "Let's merge combined_games_df with our new reg_season_wins_and_losses_df twice to get the total season Wins, Losses, OppWins, OppLosses, Win%, and OppWin% for TeamID and OppTeamID. These values cover the entire season, giving a more extensive overview of each team's performance outside of the scope of one game. We considered calculating a cumulative win percentage but feared that this would introduce too much noise early in the season."
   ],
   "metadata": {
    "id": "6s7MtFopsXgI"
   }
  },
  {
   "cell_type": "code",
   "execution_count": 24,
   "outputs": [
    {
     "data": {
      "text/plain": "         index  Season  DayNum  ConfTourney  MMTourney  TeamID  OppTeamID Loc  \\\n0            0    2003      10          0.0        0.0    1104     1328.0   N   \n1            1    2003      10          0.0        0.0    1272     1393.0   N   \n2       176505    2003      10          0.0        0.0    1328     1104.0   N   \n3       196796    2003      10          0.0        0.0    1393     1272.0   N   \n4       134437    2003      11          0.0        0.0    1186     1458.0   A   \n...        ...     ...     ...          ...        ...     ...        ...  ..   \n217759  107631    2023     132          1.0        0.0    1343     1463.0   H   \n217760  107632    2023     132          1.0        0.0    1345     1336.0   N   \n217761  199116    2023     132          1.0        0.0    1401     1104.0   N   \n217762  107633    2023     132          1.0        0.0    1433     1173.0   N   \n217763  216810    2023     132          1.0        0.0    1463     1343.0   A   \n\n        NumOT  Score  ...  OppDR  OppAst  OppTO  OppStl  OppBlk  OppPF  \\\n0         0.0   68.0  ...   22.0     8.0   18.0     9.0     2.0   20.0   \n1         0.0   70.0  ...   25.0     7.0   12.0     8.0     6.0   16.0   \n2         0.0   62.0  ...   24.0    13.0   23.0     7.0     1.0   22.0   \n3         0.0   63.0  ...   28.0    16.0   13.0     4.0     4.0   18.0   \n4         0.0   55.0  ...   24.0    12.0    9.0     9.0     3.0   18.0   \n...       ...    ...  ...    ...     ...    ...     ...     ...    ...   \n217759    0.0   74.0  ...   25.0    12.0   10.0     3.0     7.0   20.0   \n217760    0.0   67.0  ...   27.0    14.0   10.0     4.0     2.0   20.0   \n217761    0.0   63.0  ...   29.0    16.0   12.0     6.0     7.0   19.0   \n217762    0.0   68.0  ...   22.0    11.0    8.0     1.0     6.0   21.0   \n217763    0.0   65.0  ...   25.0    11.0    5.0     3.0     2.0   18.0   \n\n        ScoreDiff  Outcome   Rank  OppRank  \n0             6.0        W   12.0     24.0  \n1             7.0        W   67.0    120.0  \n2            -6.0        L   24.0     12.0  \n3            -7.0        L  120.0     67.0  \n4           -26.0        L  123.0     16.0  \n...           ...      ...    ...      ...  \n217759        9.0        W    NaN      NaN  \n217760        2.0        W    NaN      NaN  \n217761      -19.0        L    NaN      NaN  \n217762       12.0        W    NaN      NaN  \n217763       -9.0        L    NaN      NaN  \n\n[217764 rows x 41 columns]",
      "text/html": "<div>\n<style scoped>\n    .dataframe tbody tr th:only-of-type {\n        vertical-align: middle;\n    }\n\n    .dataframe tbody tr th {\n        vertical-align: top;\n    }\n\n    .dataframe thead th {\n        text-align: right;\n    }\n</style>\n<table border=\"1\" class=\"dataframe\">\n  <thead>\n    <tr style=\"text-align: right;\">\n      <th></th>\n      <th>index</th>\n      <th>Season</th>\n      <th>DayNum</th>\n      <th>ConfTourney</th>\n      <th>MMTourney</th>\n      <th>TeamID</th>\n      <th>OppTeamID</th>\n      <th>Loc</th>\n      <th>NumOT</th>\n      <th>Score</th>\n      <th>...</th>\n      <th>OppDR</th>\n      <th>OppAst</th>\n      <th>OppTO</th>\n      <th>OppStl</th>\n      <th>OppBlk</th>\n      <th>OppPF</th>\n      <th>ScoreDiff</th>\n      <th>Outcome</th>\n      <th>Rank</th>\n      <th>OppRank</th>\n    </tr>\n  </thead>\n  <tbody>\n    <tr>\n      <th>0</th>\n      <td>0</td>\n      <td>2003</td>\n      <td>10</td>\n      <td>0.0</td>\n      <td>0.0</td>\n      <td>1104</td>\n      <td>1328.0</td>\n      <td>N</td>\n      <td>0.0</td>\n      <td>68.0</td>\n      <td>...</td>\n      <td>22.0</td>\n      <td>8.0</td>\n      <td>18.0</td>\n      <td>9.0</td>\n      <td>2.0</td>\n      <td>20.0</td>\n      <td>6.0</td>\n      <td>W</td>\n      <td>12.0</td>\n      <td>24.0</td>\n    </tr>\n    <tr>\n      <th>1</th>\n      <td>1</td>\n      <td>2003</td>\n      <td>10</td>\n      <td>0.0</td>\n      <td>0.0</td>\n      <td>1272</td>\n      <td>1393.0</td>\n      <td>N</td>\n      <td>0.0</td>\n      <td>70.0</td>\n      <td>...</td>\n      <td>25.0</td>\n      <td>7.0</td>\n      <td>12.0</td>\n      <td>8.0</td>\n      <td>6.0</td>\n      <td>16.0</td>\n      <td>7.0</td>\n      <td>W</td>\n      <td>67.0</td>\n      <td>120.0</td>\n    </tr>\n    <tr>\n      <th>2</th>\n      <td>176505</td>\n      <td>2003</td>\n      <td>10</td>\n      <td>0.0</td>\n      <td>0.0</td>\n      <td>1328</td>\n      <td>1104.0</td>\n      <td>N</td>\n      <td>0.0</td>\n      <td>62.0</td>\n      <td>...</td>\n      <td>24.0</td>\n      <td>13.0</td>\n      <td>23.0</td>\n      <td>7.0</td>\n      <td>1.0</td>\n      <td>22.0</td>\n      <td>-6.0</td>\n      <td>L</td>\n      <td>24.0</td>\n      <td>12.0</td>\n    </tr>\n    <tr>\n      <th>3</th>\n      <td>196796</td>\n      <td>2003</td>\n      <td>10</td>\n      <td>0.0</td>\n      <td>0.0</td>\n      <td>1393</td>\n      <td>1272.0</td>\n      <td>N</td>\n      <td>0.0</td>\n      <td>63.0</td>\n      <td>...</td>\n      <td>28.0</td>\n      <td>16.0</td>\n      <td>13.0</td>\n      <td>4.0</td>\n      <td>4.0</td>\n      <td>18.0</td>\n      <td>-7.0</td>\n      <td>L</td>\n      <td>120.0</td>\n      <td>67.0</td>\n    </tr>\n    <tr>\n      <th>4</th>\n      <td>134437</td>\n      <td>2003</td>\n      <td>11</td>\n      <td>0.0</td>\n      <td>0.0</td>\n      <td>1186</td>\n      <td>1458.0</td>\n      <td>A</td>\n      <td>0.0</td>\n      <td>55.0</td>\n      <td>...</td>\n      <td>24.0</td>\n      <td>12.0</td>\n      <td>9.0</td>\n      <td>9.0</td>\n      <td>3.0</td>\n      <td>18.0</td>\n      <td>-26.0</td>\n      <td>L</td>\n      <td>123.0</td>\n      <td>16.0</td>\n    </tr>\n    <tr>\n      <th>...</th>\n      <td>...</td>\n      <td>...</td>\n      <td>...</td>\n      <td>...</td>\n      <td>...</td>\n      <td>...</td>\n      <td>...</td>\n      <td>...</td>\n      <td>...</td>\n      <td>...</td>\n      <td>...</td>\n      <td>...</td>\n      <td>...</td>\n      <td>...</td>\n      <td>...</td>\n      <td>...</td>\n      <td>...</td>\n      <td>...</td>\n      <td>...</td>\n      <td>...</td>\n      <td>...</td>\n    </tr>\n    <tr>\n      <th>217759</th>\n      <td>107631</td>\n      <td>2023</td>\n      <td>132</td>\n      <td>1.0</td>\n      <td>0.0</td>\n      <td>1343</td>\n      <td>1463.0</td>\n      <td>H</td>\n      <td>0.0</td>\n      <td>74.0</td>\n      <td>...</td>\n      <td>25.0</td>\n      <td>12.0</td>\n      <td>10.0</td>\n      <td>3.0</td>\n      <td>7.0</td>\n      <td>20.0</td>\n      <td>9.0</td>\n      <td>W</td>\n      <td>NaN</td>\n      <td>NaN</td>\n    </tr>\n    <tr>\n      <th>217760</th>\n      <td>107632</td>\n      <td>2023</td>\n      <td>132</td>\n      <td>1.0</td>\n      <td>0.0</td>\n      <td>1345</td>\n      <td>1336.0</td>\n      <td>N</td>\n      <td>0.0</td>\n      <td>67.0</td>\n      <td>...</td>\n      <td>27.0</td>\n      <td>14.0</td>\n      <td>10.0</td>\n      <td>4.0</td>\n      <td>2.0</td>\n      <td>20.0</td>\n      <td>2.0</td>\n      <td>W</td>\n      <td>NaN</td>\n      <td>NaN</td>\n    </tr>\n    <tr>\n      <th>217761</th>\n      <td>199116</td>\n      <td>2023</td>\n      <td>132</td>\n      <td>1.0</td>\n      <td>0.0</td>\n      <td>1401</td>\n      <td>1104.0</td>\n      <td>N</td>\n      <td>0.0</td>\n      <td>63.0</td>\n      <td>...</td>\n      <td>29.0</td>\n      <td>16.0</td>\n      <td>12.0</td>\n      <td>6.0</td>\n      <td>7.0</td>\n      <td>19.0</td>\n      <td>-19.0</td>\n      <td>L</td>\n      <td>NaN</td>\n      <td>NaN</td>\n    </tr>\n    <tr>\n      <th>217762</th>\n      <td>107633</td>\n      <td>2023</td>\n      <td>132</td>\n      <td>1.0</td>\n      <td>0.0</td>\n      <td>1433</td>\n      <td>1173.0</td>\n      <td>N</td>\n      <td>0.0</td>\n      <td>68.0</td>\n      <td>...</td>\n      <td>22.0</td>\n      <td>11.0</td>\n      <td>8.0</td>\n      <td>1.0</td>\n      <td>6.0</td>\n      <td>21.0</td>\n      <td>12.0</td>\n      <td>W</td>\n      <td>NaN</td>\n      <td>NaN</td>\n    </tr>\n    <tr>\n      <th>217763</th>\n      <td>216810</td>\n      <td>2023</td>\n      <td>132</td>\n      <td>1.0</td>\n      <td>0.0</td>\n      <td>1463</td>\n      <td>1343.0</td>\n      <td>A</td>\n      <td>0.0</td>\n      <td>65.0</td>\n      <td>...</td>\n      <td>25.0</td>\n      <td>11.0</td>\n      <td>5.0</td>\n      <td>3.0</td>\n      <td>2.0</td>\n      <td>18.0</td>\n      <td>-9.0</td>\n      <td>L</td>\n      <td>NaN</td>\n      <td>NaN</td>\n    </tr>\n  </tbody>\n</table>\n<p>217764 rows × 41 columns</p>\n</div>"
     },
     "execution_count": 24,
     "metadata": {},
     "output_type": "execute_result"
    }
   ],
   "source": [
    "combined_games_df"
   ],
   "metadata": {
    "collapsed": false,
    "ExecuteTime": {
     "end_time": "2024-02-29T10:25:22.361734Z",
     "start_time": "2024-02-29T10:25:22.339396Z"
    }
   }
  },
  {
   "cell_type": "code",
   "execution_count": 25,
   "metadata": {
    "id": "MkvEesMUpxtu",
    "colab": {
     "base_uri": "https://localhost:8080/",
     "height": 444
    },
    "outputId": "0bc28f8c-ff02-4185-d321-1165e1e467db",
    "ExecuteTime": {
     "end_time": "2024-02-29T10:25:28.771486Z",
     "start_time": "2024-02-29T10:25:22.361856Z"
    }
   },
   "outputs": [
    {
     "data": {
      "text/plain": "         index  Season  DayNum  ConfTourney  MMTourney  TeamID  OppTeamID Loc  \\\n0            0    2003      10          0.0        0.0    1104     1328.0   N   \n1            1    2003      10          0.0        0.0    1272     1393.0   N   \n2       176505    2003      10          0.0        0.0    1328     1104.0   N   \n3       196796    2003      10          0.0        0.0    1393     1272.0   N   \n4       134437    2003      11          0.0        0.0    1186     1458.0   A   \n...        ...     ...     ...          ...        ...     ...        ...  ..   \n217759  107631    2023     132          1.0        0.0    1343     1463.0   H   \n217760  107632    2023     132          1.0        0.0    1345     1336.0   N   \n217761  199116    2023     132          1.0        0.0    1401     1104.0   N   \n217762  107633    2023     132          1.0        0.0    1433     1173.0   N   \n217763  216810    2023     132          1.0        0.0    1463     1343.0   A   \n\n        NumOT  Score  ...  ScoreDiff  Outcome   Rank  OppRank  Wins  Losses  \\\n0         0.0   68.0  ...        6.0        W   12.0     24.0  17.0    11.0   \n1         0.0   70.0  ...        7.0        W   67.0    120.0  23.0     6.0   \n2         0.0   62.0  ...       -6.0        L   24.0     12.0  24.0     6.0   \n3         0.0   63.0  ...       -7.0        L  120.0     67.0  24.0     5.0   \n4         0.0   55.0  ...      -26.0        L  123.0     16.0  17.0    12.0   \n...       ...    ...  ...        ...      ...    ...      ...   ...     ...   \n217759    0.0   74.0  ...        9.0        W    NaN      NaN  19.0     8.0   \n217760    0.0   67.0  ...        2.0        W    NaN      NaN  29.0     5.0   \n217761    0.0   63.0  ...      -19.0        L    NaN      NaN  25.0     9.0   \n217762    0.0   68.0  ...       12.0        W    NaN      NaN  27.0     7.0   \n217763    0.0   65.0  ...       -9.0        L    NaN      NaN  19.0     8.0   \n\n             Win%  OppWins  OppLosses    OppWin%  \n0       60.714286     24.0        6.0  80.000000  \n1       79.310345     24.0        5.0  82.758621  \n2       80.000000     17.0       11.0  60.714286  \n3       82.758621     23.0        6.0  79.310345  \n4       58.620690     22.0        7.0  75.862069  \n...           ...      ...        ...        ...  \n217759  70.370370     19.0        8.0  70.370370  \n217760  85.294118     22.0       13.0  62.857143  \n217761  73.529412     29.0        5.0  85.294118  \n217762  79.411765     22.0       12.0  64.705882  \n217763  70.370370     19.0        8.0  70.370370  \n\n[217764 rows x 47 columns]",
      "text/html": "<div>\n<style scoped>\n    .dataframe tbody tr th:only-of-type {\n        vertical-align: middle;\n    }\n\n    .dataframe tbody tr th {\n        vertical-align: top;\n    }\n\n    .dataframe thead th {\n        text-align: right;\n    }\n</style>\n<table border=\"1\" class=\"dataframe\">\n  <thead>\n    <tr style=\"text-align: right;\">\n      <th></th>\n      <th>index</th>\n      <th>Season</th>\n      <th>DayNum</th>\n      <th>ConfTourney</th>\n      <th>MMTourney</th>\n      <th>TeamID</th>\n      <th>OppTeamID</th>\n      <th>Loc</th>\n      <th>NumOT</th>\n      <th>Score</th>\n      <th>...</th>\n      <th>ScoreDiff</th>\n      <th>Outcome</th>\n      <th>Rank</th>\n      <th>OppRank</th>\n      <th>Wins</th>\n      <th>Losses</th>\n      <th>Win%</th>\n      <th>OppWins</th>\n      <th>OppLosses</th>\n      <th>OppWin%</th>\n    </tr>\n  </thead>\n  <tbody>\n    <tr>\n      <th>0</th>\n      <td>0</td>\n      <td>2003</td>\n      <td>10</td>\n      <td>0.0</td>\n      <td>0.0</td>\n      <td>1104</td>\n      <td>1328.0</td>\n      <td>N</td>\n      <td>0.0</td>\n      <td>68.0</td>\n      <td>...</td>\n      <td>6.0</td>\n      <td>W</td>\n      <td>12.0</td>\n      <td>24.0</td>\n      <td>17.0</td>\n      <td>11.0</td>\n      <td>60.714286</td>\n      <td>24.0</td>\n      <td>6.0</td>\n      <td>80.000000</td>\n    </tr>\n    <tr>\n      <th>1</th>\n      <td>1</td>\n      <td>2003</td>\n      <td>10</td>\n      <td>0.0</td>\n      <td>0.0</td>\n      <td>1272</td>\n      <td>1393.0</td>\n      <td>N</td>\n      <td>0.0</td>\n      <td>70.0</td>\n      <td>...</td>\n      <td>7.0</td>\n      <td>W</td>\n      <td>67.0</td>\n      <td>120.0</td>\n      <td>23.0</td>\n      <td>6.0</td>\n      <td>79.310345</td>\n      <td>24.0</td>\n      <td>5.0</td>\n      <td>82.758621</td>\n    </tr>\n    <tr>\n      <th>2</th>\n      <td>176505</td>\n      <td>2003</td>\n      <td>10</td>\n      <td>0.0</td>\n      <td>0.0</td>\n      <td>1328</td>\n      <td>1104.0</td>\n      <td>N</td>\n      <td>0.0</td>\n      <td>62.0</td>\n      <td>...</td>\n      <td>-6.0</td>\n      <td>L</td>\n      <td>24.0</td>\n      <td>12.0</td>\n      <td>24.0</td>\n      <td>6.0</td>\n      <td>80.000000</td>\n      <td>17.0</td>\n      <td>11.0</td>\n      <td>60.714286</td>\n    </tr>\n    <tr>\n      <th>3</th>\n      <td>196796</td>\n      <td>2003</td>\n      <td>10</td>\n      <td>0.0</td>\n      <td>0.0</td>\n      <td>1393</td>\n      <td>1272.0</td>\n      <td>N</td>\n      <td>0.0</td>\n      <td>63.0</td>\n      <td>...</td>\n      <td>-7.0</td>\n      <td>L</td>\n      <td>120.0</td>\n      <td>67.0</td>\n      <td>24.0</td>\n      <td>5.0</td>\n      <td>82.758621</td>\n      <td>23.0</td>\n      <td>6.0</td>\n      <td>79.310345</td>\n    </tr>\n    <tr>\n      <th>4</th>\n      <td>134437</td>\n      <td>2003</td>\n      <td>11</td>\n      <td>0.0</td>\n      <td>0.0</td>\n      <td>1186</td>\n      <td>1458.0</td>\n      <td>A</td>\n      <td>0.0</td>\n      <td>55.0</td>\n      <td>...</td>\n      <td>-26.0</td>\n      <td>L</td>\n      <td>123.0</td>\n      <td>16.0</td>\n      <td>17.0</td>\n      <td>12.0</td>\n      <td>58.620690</td>\n      <td>22.0</td>\n      <td>7.0</td>\n      <td>75.862069</td>\n    </tr>\n    <tr>\n      <th>...</th>\n      <td>...</td>\n      <td>...</td>\n      <td>...</td>\n      <td>...</td>\n      <td>...</td>\n      <td>...</td>\n      <td>...</td>\n      <td>...</td>\n      <td>...</td>\n      <td>...</td>\n      <td>...</td>\n      <td>...</td>\n      <td>...</td>\n      <td>...</td>\n      <td>...</td>\n      <td>...</td>\n      <td>...</td>\n      <td>...</td>\n      <td>...</td>\n      <td>...</td>\n      <td>...</td>\n    </tr>\n    <tr>\n      <th>217759</th>\n      <td>107631</td>\n      <td>2023</td>\n      <td>132</td>\n      <td>1.0</td>\n      <td>0.0</td>\n      <td>1343</td>\n      <td>1463.0</td>\n      <td>H</td>\n      <td>0.0</td>\n      <td>74.0</td>\n      <td>...</td>\n      <td>9.0</td>\n      <td>W</td>\n      <td>NaN</td>\n      <td>NaN</td>\n      <td>19.0</td>\n      <td>8.0</td>\n      <td>70.370370</td>\n      <td>19.0</td>\n      <td>8.0</td>\n      <td>70.370370</td>\n    </tr>\n    <tr>\n      <th>217760</th>\n      <td>107632</td>\n      <td>2023</td>\n      <td>132</td>\n      <td>1.0</td>\n      <td>0.0</td>\n      <td>1345</td>\n      <td>1336.0</td>\n      <td>N</td>\n      <td>0.0</td>\n      <td>67.0</td>\n      <td>...</td>\n      <td>2.0</td>\n      <td>W</td>\n      <td>NaN</td>\n      <td>NaN</td>\n      <td>29.0</td>\n      <td>5.0</td>\n      <td>85.294118</td>\n      <td>22.0</td>\n      <td>13.0</td>\n      <td>62.857143</td>\n    </tr>\n    <tr>\n      <th>217761</th>\n      <td>199116</td>\n      <td>2023</td>\n      <td>132</td>\n      <td>1.0</td>\n      <td>0.0</td>\n      <td>1401</td>\n      <td>1104.0</td>\n      <td>N</td>\n      <td>0.0</td>\n      <td>63.0</td>\n      <td>...</td>\n      <td>-19.0</td>\n      <td>L</td>\n      <td>NaN</td>\n      <td>NaN</td>\n      <td>25.0</td>\n      <td>9.0</td>\n      <td>73.529412</td>\n      <td>29.0</td>\n      <td>5.0</td>\n      <td>85.294118</td>\n    </tr>\n    <tr>\n      <th>217762</th>\n      <td>107633</td>\n      <td>2023</td>\n      <td>132</td>\n      <td>1.0</td>\n      <td>0.0</td>\n      <td>1433</td>\n      <td>1173.0</td>\n      <td>N</td>\n      <td>0.0</td>\n      <td>68.0</td>\n      <td>...</td>\n      <td>12.0</td>\n      <td>W</td>\n      <td>NaN</td>\n      <td>NaN</td>\n      <td>27.0</td>\n      <td>7.0</td>\n      <td>79.411765</td>\n      <td>22.0</td>\n      <td>12.0</td>\n      <td>64.705882</td>\n    </tr>\n    <tr>\n      <th>217763</th>\n      <td>216810</td>\n      <td>2023</td>\n      <td>132</td>\n      <td>1.0</td>\n      <td>0.0</td>\n      <td>1463</td>\n      <td>1343.0</td>\n      <td>A</td>\n      <td>0.0</td>\n      <td>65.0</td>\n      <td>...</td>\n      <td>-9.0</td>\n      <td>L</td>\n      <td>NaN</td>\n      <td>NaN</td>\n      <td>19.0</td>\n      <td>8.0</td>\n      <td>70.370370</td>\n      <td>19.0</td>\n      <td>8.0</td>\n      <td>70.370370</td>\n    </tr>\n  </tbody>\n</table>\n<p>217764 rows × 47 columns</p>\n</div>"
     },
     "execution_count": 25,
     "metadata": {},
     "output_type": "execute_result"
    }
   ],
   "source": [
    "# Merge combined_games_df and reg_season_wins_and_losses_df twice (hence the subquery).\n",
    "# The first query will get TeamID's stats and the second will get the OppTeamID's stats.\n",
    "\n",
    "merge_query = \"\"\"\n",
    "WITH\n",
    "\n",
    "temp_df AS\n",
    "(\n",
    "  SELECT c.*, wl.Wins, wl.Losses, wl.'Win%'\n",
    "  FROM combined_games_df c\n",
    "  JOIN reg_season_wins_and_losses_df wl\n",
    "  ON c.Season=wl.Season AND c.TeamID=wl.TeamID\n",
    ")\n",
    "\n",
    "SELECT t.*, wl.Wins AS 'OppWins', wl.Losses AS 'OppLosses', wl.'Win%' AS 'OppWin%'\n",
    "FROM temp_df t\n",
    "JOIN reg_season_wins_and_losses_df wl\n",
    "ON t.Season=wl.Season AND t.OppTeamID=wl.TeamID\n",
    "\"\"\"\n",
    "\n",
    "combined_games_df = ps.sqldf(merge_query, locals())\n",
    "combined_games_df"
   ]
  },
  {
   "cell_type": "markdown",
   "source": [
    "## Calculating Single Game Stats"
   ],
   "metadata": {
    "id": "iF-bowbLKHZ_"
   }
  },
  {
   "cell_type": "markdown",
   "source": [
    "Get the average statistics for each game. For example, we want each team's:\n",
    "\n",
    "*  AdjScore: adjusted score (per 40 minutes)\n",
    "*  FG%: field goal percentage\n",
    "*  FG3%: 3 point field goal percentage\n",
    "*  FT%: free throw percentage\n",
    "*  Ast/TO: assist to turnover ratio\n",
    "*  NetTO: net turnovers (turnovers - steals)\n",
    "*  Reb: total rebounds (offensive + defensive)\n",
    "\n",
    "The opponent will have the same metrics but with an 'Opp' prefix."
   ],
   "metadata": {
    "id": "nkjU63Q6Pwa-"
   }
  },
  {
   "cell_type": "code",
   "source": [
    "# Calculate adjusted score per 40 minutes.\n",
    "combined_games_df['AdjScore'] = combined_games_df['Score'] * (40 / (40 + 5 * combined_games_df['NumOT']))\n",
    "\n",
    "# Calculate field goal percentage (this includes 2 point shots and 3 point shots).\n",
    "combined_games_df['FG%'] = (combined_games_df['FGM'] / combined_games_df['FGA']) * 100\n",
    "\n",
    "# Calculate 3 point field goal percentage.\n",
    "combined_games_df['FG3%'] = (combined_games_df['FGM3'] / combined_games_df['FGA3']) * 100\n",
    "\n",
    "# Calculate free throw percentage.\n",
    "combined_games_df['FT%'] = (combined_games_df['FTM'] / combined_games_df['FTA']) * 100\n",
    "\n",
    "# Calculate assit to turnover ratio.\n",
    "combined_games_df['Ast/TO'] = combined_games_df['Ast'] / combined_games_df['TO']\n",
    "\n",
    "# Calculate net turnovers (turnovers - steals).\n",
    "combined_games_df['NetTO'] = combined_games_df['TO'] - combined_games_df['Stl']\n",
    "\n",
    "# Calculate total rebounds as offensive rebounds + defensive rebounds.\n",
    "combined_games_df['Reb'] = combined_games_df['OR'] + combined_games_df['DR']\n",
    "\n",
    "\n",
    "\n",
    "# Normalize opponent's score over 40 minutes.\n",
    "combined_games_df['OppAdjScore'] = combined_games_df['OppScore'] * (40 / (40 + 5 * combined_games_df['NumOT']))\n",
    "\n",
    "# Calculate field goal percentage (this includes 2 point shots and 3 point shots).\n",
    "combined_games_df['OppFG%'] = (combined_games_df['OppFGM'] / combined_games_df['OppFGA']) * 100\n",
    "\n",
    "# Calculate 3 point field goal percentage.\n",
    "combined_games_df['OppFG3%'] = (combined_games_df['OppFGM3'] / combined_games_df['OppFGA3']) * 100\n",
    "\n",
    "# Calculate free throw percentage.\n",
    "combined_games_df['OppFT%'] = (combined_games_df['OppFTM'] / combined_games_df['OppFTA']) * 100\n",
    "\n",
    "# Calculate assit to turnover ratio.\n",
    "combined_games_df['OppAst/TO'] = combined_games_df['OppAst'] / combined_games_df['OppTO']\n",
    "\n",
    "# Calculate net turnovers (turnovers - steals).\n",
    "combined_games_df['OppNetTO'] = combined_games_df['OppTO'] - combined_games_df['OppStl']\n",
    "\n",
    "# Calculate total rebounds as offensive rebounds + defensive rebounds.\n",
    "combined_games_df['OppReb'] = combined_games_df['OppOR'] + combined_games_df['OppDR']\n",
    "combined_games_df.info()"
   ],
   "metadata": {
    "id": "rsgnRiubKPRJ",
    "colab": {
     "base_uri": "https://localhost:8080/"
    },
    "outputId": "8fcaf0e2-7742-4d87-8f28-c03f7c527a06",
    "ExecuteTime": {
     "end_time": "2024-02-29T10:25:28.840249Z",
     "start_time": "2024-02-29T10:25:28.771034Z"
    }
   },
   "execution_count": 26,
   "outputs": [
    {
     "name": "stdout",
     "output_type": "stream",
     "text": [
      "<class 'pandas.core.frame.DataFrame'>\n",
      "RangeIndex: 217764 entries, 0 to 217763\n",
      "Data columns (total 61 columns):\n",
      " #   Column       Non-Null Count   Dtype  \n",
      "---  ------       --------------   -----  \n",
      " 0   index        217764 non-null  int64  \n",
      " 1   Season       217764 non-null  int64  \n",
      " 2   DayNum       217764 non-null  int64  \n",
      " 3   ConfTourney  217764 non-null  float64\n",
      " 4   MMTourney    217764 non-null  float64\n",
      " 5   TeamID       217764 non-null  int64  \n",
      " 6   OppTeamID    217764 non-null  float64\n",
      " 7   Loc          217764 non-null  object \n",
      " 8   NumOT        217764 non-null  float64\n",
      " 9   Score        217764 non-null  float64\n",
      " 10  OppScore     217764 non-null  float64\n",
      " 11  FGM          217764 non-null  float64\n",
      " 12  FGA          217764 non-null  float64\n",
      " 13  FGM3         217764 non-null  float64\n",
      " 14  FGA3         217764 non-null  float64\n",
      " 15  FTM          217764 non-null  float64\n",
      " 16  FTA          217764 non-null  float64\n",
      " 17  OR           217764 non-null  float64\n",
      " 18  DR           217764 non-null  float64\n",
      " 19  Ast          217764 non-null  float64\n",
      " 20  TO           217764 non-null  float64\n",
      " 21  Stl          217764 non-null  float64\n",
      " 22  Blk          217764 non-null  float64\n",
      " 23  PF           217764 non-null  float64\n",
      " 24  OppFGM       217764 non-null  float64\n",
      " 25  OppFGA       217764 non-null  float64\n",
      " 26  OppFGM3      217764 non-null  float64\n",
      " 27  OppFGA3      217764 non-null  float64\n",
      " 28  OppFTM       217764 non-null  float64\n",
      " 29  OppFTA       217764 non-null  float64\n",
      " 30  OppOR        217764 non-null  float64\n",
      " 31  OppDR        217764 non-null  float64\n",
      " 32  OppAst       217764 non-null  float64\n",
      " 33  OppTO        217764 non-null  float64\n",
      " 34  OppStl       217764 non-null  float64\n",
      " 35  OppBlk       217764 non-null  float64\n",
      " 36  OppPF        217764 non-null  float64\n",
      " 37  ScoreDiff    217764 non-null  float64\n",
      " 38  Outcome      217764 non-null  object \n",
      " 39  Rank         208244 non-null  float64\n",
      " 40  OppRank      208244 non-null  float64\n",
      " 41  Wins         217764 non-null  float64\n",
      " 42  Losses       217764 non-null  float64\n",
      " 43  Win%         217764 non-null  float64\n",
      " 44  OppWins      217764 non-null  float64\n",
      " 45  OppLosses    217764 non-null  float64\n",
      " 46  OppWin%      217764 non-null  float64\n",
      " 47  AdjScore     217764 non-null  float64\n",
      " 48  FG%          217764 non-null  float64\n",
      " 49  FG3%         217764 non-null  float64\n",
      " 50  FT%          217718 non-null  float64\n",
      " 51  Ast/TO       217764 non-null  float64\n",
      " 52  NetTO        217764 non-null  float64\n",
      " 53  Reb          217764 non-null  float64\n",
      " 54  OppAdjScore  217764 non-null  float64\n",
      " 55  OppFG%       217764 non-null  float64\n",
      " 56  OppFG3%      217764 non-null  float64\n",
      " 57  OppFT%       217718 non-null  float64\n",
      " 58  OppAst/TO    217764 non-null  float64\n",
      " 59  OppNetTO     217764 non-null  float64\n",
      " 60  OppReb       217764 non-null  float64\n",
      "dtypes: float64(55), int64(4), object(2)\n",
      "memory usage: 101.3+ MB\n"
     ]
    }
   ]
  },
  {
   "cell_type": "code",
   "source": [
    "teams_df[['TeamID',\t'TeamName']].rename(columns={'TeamID':'OppTeamID', 'TeamName':'OppTeamName'})"
   ],
   "metadata": {
    "id": "su9kjn0Qdaze",
    "colab": {
     "base_uri": "https://localhost:8080/",
     "height": 424
    },
    "outputId": "0b608736-eb54-42e1-ac99-6d76a6e8060e",
    "ExecuteTime": {
     "end_time": "2024-02-29T10:25:28.848116Z",
     "start_time": "2024-02-29T10:25:28.837838Z"
    }
   },
   "execution_count": 27,
   "outputs": [
    {
     "data": {
      "text/plain": "     OppTeamID       OppTeamName\n0         1101       Abilene Chr\n1         1102         Air Force\n2         1103             Akron\n3         1104           Alabama\n4         1105       Alabama A&M\n..         ...               ...\n372       1473        Lindenwood\n373       1474         Queens NC\n374       1475  Southern Indiana\n375       1476         Stonehill\n376       1477   TX A&M Commerce\n\n[377 rows x 2 columns]",
      "text/html": "<div>\n<style scoped>\n    .dataframe tbody tr th:only-of-type {\n        vertical-align: middle;\n    }\n\n    .dataframe tbody tr th {\n        vertical-align: top;\n    }\n\n    .dataframe thead th {\n        text-align: right;\n    }\n</style>\n<table border=\"1\" class=\"dataframe\">\n  <thead>\n    <tr style=\"text-align: right;\">\n      <th></th>\n      <th>OppTeamID</th>\n      <th>OppTeamName</th>\n    </tr>\n  </thead>\n  <tbody>\n    <tr>\n      <th>0</th>\n      <td>1101</td>\n      <td>Abilene Chr</td>\n    </tr>\n    <tr>\n      <th>1</th>\n      <td>1102</td>\n      <td>Air Force</td>\n    </tr>\n    <tr>\n      <th>2</th>\n      <td>1103</td>\n      <td>Akron</td>\n    </tr>\n    <tr>\n      <th>3</th>\n      <td>1104</td>\n      <td>Alabama</td>\n    </tr>\n    <tr>\n      <th>4</th>\n      <td>1105</td>\n      <td>Alabama A&amp;M</td>\n    </tr>\n    <tr>\n      <th>...</th>\n      <td>...</td>\n      <td>...</td>\n    </tr>\n    <tr>\n      <th>372</th>\n      <td>1473</td>\n      <td>Lindenwood</td>\n    </tr>\n    <tr>\n      <th>373</th>\n      <td>1474</td>\n      <td>Queens NC</td>\n    </tr>\n    <tr>\n      <th>374</th>\n      <td>1475</td>\n      <td>Southern Indiana</td>\n    </tr>\n    <tr>\n      <th>375</th>\n      <td>1476</td>\n      <td>Stonehill</td>\n    </tr>\n    <tr>\n      <th>376</th>\n      <td>1477</td>\n      <td>TX A&amp;M Commerce</td>\n    </tr>\n  </tbody>\n</table>\n<p>377 rows × 2 columns</p>\n</div>"
     },
     "execution_count": 27,
     "metadata": {},
     "output_type": "execute_result"
    }
   ]
  },
  {
   "cell_type": "code",
   "source": [
    "combined_games_df = pd.merge(left=teams_df[['TeamID',\t'TeamName']], right=combined_games_df, on=['TeamID'])\n",
    "combined_games_df = pd.merge(left=teams_df[['TeamID',\t'TeamName']].rename(columns={'TeamID':'OppTeamID', 'TeamName':'OppTeamName'}), right=combined_games_df, on=['OppTeamID'])\n",
    "combined_games_df"
   ],
   "metadata": {
    "id": "5qTJTes_djvW",
    "colab": {
     "base_uri": "https://localhost:8080/",
     "height": 583
    },
    "outputId": "47283b67-d9d3-4459-cfc0-02169c1028ff",
    "ExecuteTime": {
     "end_time": "2024-02-29T10:25:29.208909Z",
     "start_time": "2024-02-29T10:25:28.843785Z"
    }
   },
   "execution_count": 28,
   "outputs": [
    {
     "data": {
      "text/plain": "        OppTeamID      OppTeamName  TeamID        TeamName   index  Season  \\\n0            1101      Abilene Chr    1102       Air Force  109073    2018   \n1            1101      Abilene Chr    1115  Ark Pine Bluff  113042    2015   \n2            1101      Abilene Chr    1116        Arkansas   93728    2021   \n3            1101      Abilene Chr    1117     Arkansas St   76814    2018   \n4            1101      Abilene Chr    1117     Arkansas St  113826    2019   \n...           ...              ...     ...             ...     ...     ...   \n217759       1477  TX A&M Commerce    1394  TAM C. Christi  196900    2023   \n217760       1477  TX A&M Commerce    1394  TAM C. Christi  107219    2023   \n217761       1477  TX A&M Commerce    1400           Texas  104080    2023   \n217762       1477  TX A&M Commerce    1421   UNC Asheville  102583    2023   \n217763       1477  TX A&M Commerce    1461         Wyoming  103457    2023   \n\n        DayNum  ConfTourney  MMTourney Loc  ...    Ast/TO  NetTO   Reb  \\\n0           37          0.0        0.0   H  ...  0.750000   15.0  33.0   \n1           50          0.0        0.0   N  ...  0.357143   11.0  30.0   \n2           50          0.0        0.0   H  ...  1.153846    7.0  36.0   \n3           14          0.0        0.0   H  ...  0.600000    8.0  33.0   \n4            4          0.0        0.0   A  ...  0.812500   10.0  29.0   \n...        ...          ...        ...  ..  ...       ...    ...   ...   \n217759     115          0.0        0.0   H  ...  1.400000    4.0  26.0   \n217760     121          0.0        0.0   A  ...  1.700000    4.0  41.0   \n217761      57          0.0        0.0   H  ...  3.111111    2.0  31.0   \n217762      18          0.0        0.0   N  ...  0.923077    7.0  39.0   \n217763      36          0.0        0.0   H  ...  1.500000    4.0  36.0   \n\n        OppAdjScore     OppFG%    OppFG3%     OppFT%  OppAst/TO  OppNetTO  \\\n0         62.000000  42.592593  36.000000  46.666667   0.846154       5.0   \n1         69.000000  53.333333  50.000000  68.750000   0.833333      11.0   \n2         72.000000  47.540984  22.727273  60.000000   1.083333       9.0   \n3         69.000000  51.020408  17.647059  80.000000   0.785714      10.0   \n4         94.000000  56.363636  57.142857  77.419355   0.944444      10.0   \n...             ...        ...        ...        ...        ...       ...   \n217759    84.000000  63.265306  35.000000  78.947368   1.062500      11.0   \n217760    78.222222  48.437500  37.142857  72.222222   1.777778       5.0   \n217761    72.000000  53.191489  46.666667  83.333333   0.733333       8.0   \n217762    64.000000  37.313433  25.000000  58.333333   1.222222       2.0   \n217763    76.000000  41.379310  31.428571  73.913043   1.250000       7.0   \n\n        OppReb  \n0         24.0  \n1         29.0  \n2         25.0  \n3         21.0  \n4         40.0  \n...        ...  \n217759    26.0  \n217760    26.0  \n217761    20.0  \n217762    37.0  \n217763    31.0  \n\n[217764 rows x 63 columns]",
      "text/html": "<div>\n<style scoped>\n    .dataframe tbody tr th:only-of-type {\n        vertical-align: middle;\n    }\n\n    .dataframe tbody tr th {\n        vertical-align: top;\n    }\n\n    .dataframe thead th {\n        text-align: right;\n    }\n</style>\n<table border=\"1\" class=\"dataframe\">\n  <thead>\n    <tr style=\"text-align: right;\">\n      <th></th>\n      <th>OppTeamID</th>\n      <th>OppTeamName</th>\n      <th>TeamID</th>\n      <th>TeamName</th>\n      <th>index</th>\n      <th>Season</th>\n      <th>DayNum</th>\n      <th>ConfTourney</th>\n      <th>MMTourney</th>\n      <th>Loc</th>\n      <th>...</th>\n      <th>Ast/TO</th>\n      <th>NetTO</th>\n      <th>Reb</th>\n      <th>OppAdjScore</th>\n      <th>OppFG%</th>\n      <th>OppFG3%</th>\n      <th>OppFT%</th>\n      <th>OppAst/TO</th>\n      <th>OppNetTO</th>\n      <th>OppReb</th>\n    </tr>\n  </thead>\n  <tbody>\n    <tr>\n      <th>0</th>\n      <td>1101</td>\n      <td>Abilene Chr</td>\n      <td>1102</td>\n      <td>Air Force</td>\n      <td>109073</td>\n      <td>2018</td>\n      <td>37</td>\n      <td>0.0</td>\n      <td>0.0</td>\n      <td>H</td>\n      <td>...</td>\n      <td>0.750000</td>\n      <td>15.0</td>\n      <td>33.0</td>\n      <td>62.000000</td>\n      <td>42.592593</td>\n      <td>36.000000</td>\n      <td>46.666667</td>\n      <td>0.846154</td>\n      <td>5.0</td>\n      <td>24.0</td>\n    </tr>\n    <tr>\n      <th>1</th>\n      <td>1101</td>\n      <td>Abilene Chr</td>\n      <td>1115</td>\n      <td>Ark Pine Bluff</td>\n      <td>113042</td>\n      <td>2015</td>\n      <td>50</td>\n      <td>0.0</td>\n      <td>0.0</td>\n      <td>N</td>\n      <td>...</td>\n      <td>0.357143</td>\n      <td>11.0</td>\n      <td>30.0</td>\n      <td>69.000000</td>\n      <td>53.333333</td>\n      <td>50.000000</td>\n      <td>68.750000</td>\n      <td>0.833333</td>\n      <td>11.0</td>\n      <td>29.0</td>\n    </tr>\n    <tr>\n      <th>2</th>\n      <td>1101</td>\n      <td>Abilene Chr</td>\n      <td>1116</td>\n      <td>Arkansas</td>\n      <td>93728</td>\n      <td>2021</td>\n      <td>50</td>\n      <td>0.0</td>\n      <td>0.0</td>\n      <td>H</td>\n      <td>...</td>\n      <td>1.153846</td>\n      <td>7.0</td>\n      <td>36.0</td>\n      <td>72.000000</td>\n      <td>47.540984</td>\n      <td>22.727273</td>\n      <td>60.000000</td>\n      <td>1.083333</td>\n      <td>9.0</td>\n      <td>25.0</td>\n    </tr>\n    <tr>\n      <th>3</th>\n      <td>1101</td>\n      <td>Abilene Chr</td>\n      <td>1117</td>\n      <td>Arkansas St</td>\n      <td>76814</td>\n      <td>2018</td>\n      <td>14</td>\n      <td>0.0</td>\n      <td>0.0</td>\n      <td>H</td>\n      <td>...</td>\n      <td>0.600000</td>\n      <td>8.0</td>\n      <td>33.0</td>\n      <td>69.000000</td>\n      <td>51.020408</td>\n      <td>17.647059</td>\n      <td>80.000000</td>\n      <td>0.785714</td>\n      <td>10.0</td>\n      <td>21.0</td>\n    </tr>\n    <tr>\n      <th>4</th>\n      <td>1101</td>\n      <td>Abilene Chr</td>\n      <td>1117</td>\n      <td>Arkansas St</td>\n      <td>113826</td>\n      <td>2019</td>\n      <td>4</td>\n      <td>0.0</td>\n      <td>0.0</td>\n      <td>A</td>\n      <td>...</td>\n      <td>0.812500</td>\n      <td>10.0</td>\n      <td>29.0</td>\n      <td>94.000000</td>\n      <td>56.363636</td>\n      <td>57.142857</td>\n      <td>77.419355</td>\n      <td>0.944444</td>\n      <td>10.0</td>\n      <td>40.0</td>\n    </tr>\n    <tr>\n      <th>...</th>\n      <td>...</td>\n      <td>...</td>\n      <td>...</td>\n      <td>...</td>\n      <td>...</td>\n      <td>...</td>\n      <td>...</td>\n      <td>...</td>\n      <td>...</td>\n      <td>...</td>\n      <td>...</td>\n      <td>...</td>\n      <td>...</td>\n      <td>...</td>\n      <td>...</td>\n      <td>...</td>\n      <td>...</td>\n      <td>...</td>\n      <td>...</td>\n      <td>...</td>\n      <td>...</td>\n    </tr>\n    <tr>\n      <th>217759</th>\n      <td>1477</td>\n      <td>TX A&amp;M Commerce</td>\n      <td>1394</td>\n      <td>TAM C. Christi</td>\n      <td>196900</td>\n      <td>2023</td>\n      <td>115</td>\n      <td>0.0</td>\n      <td>0.0</td>\n      <td>H</td>\n      <td>...</td>\n      <td>1.400000</td>\n      <td>4.0</td>\n      <td>26.0</td>\n      <td>84.000000</td>\n      <td>63.265306</td>\n      <td>35.000000</td>\n      <td>78.947368</td>\n      <td>1.062500</td>\n      <td>11.0</td>\n      <td>26.0</td>\n    </tr>\n    <tr>\n      <th>217760</th>\n      <td>1477</td>\n      <td>TX A&amp;M Commerce</td>\n      <td>1394</td>\n      <td>TAM C. Christi</td>\n      <td>107219</td>\n      <td>2023</td>\n      <td>121</td>\n      <td>0.0</td>\n      <td>0.0</td>\n      <td>A</td>\n      <td>...</td>\n      <td>1.700000</td>\n      <td>4.0</td>\n      <td>41.0</td>\n      <td>78.222222</td>\n      <td>48.437500</td>\n      <td>37.142857</td>\n      <td>72.222222</td>\n      <td>1.777778</td>\n      <td>5.0</td>\n      <td>26.0</td>\n    </tr>\n    <tr>\n      <th>217761</th>\n      <td>1477</td>\n      <td>TX A&amp;M Commerce</td>\n      <td>1400</td>\n      <td>Texas</td>\n      <td>104080</td>\n      <td>2023</td>\n      <td>57</td>\n      <td>0.0</td>\n      <td>0.0</td>\n      <td>H</td>\n      <td>...</td>\n      <td>3.111111</td>\n      <td>2.0</td>\n      <td>31.0</td>\n      <td>72.000000</td>\n      <td>53.191489</td>\n      <td>46.666667</td>\n      <td>83.333333</td>\n      <td>0.733333</td>\n      <td>8.0</td>\n      <td>20.0</td>\n    </tr>\n    <tr>\n      <th>217762</th>\n      <td>1477</td>\n      <td>TX A&amp;M Commerce</td>\n      <td>1421</td>\n      <td>UNC Asheville</td>\n      <td>102583</td>\n      <td>2023</td>\n      <td>18</td>\n      <td>0.0</td>\n      <td>0.0</td>\n      <td>N</td>\n      <td>...</td>\n      <td>0.923077</td>\n      <td>7.0</td>\n      <td>39.0</td>\n      <td>64.000000</td>\n      <td>37.313433</td>\n      <td>25.000000</td>\n      <td>58.333333</td>\n      <td>1.222222</td>\n      <td>2.0</td>\n      <td>37.0</td>\n    </tr>\n    <tr>\n      <th>217763</th>\n      <td>1477</td>\n      <td>TX A&amp;M Commerce</td>\n      <td>1461</td>\n      <td>Wyoming</td>\n      <td>103457</td>\n      <td>2023</td>\n      <td>36</td>\n      <td>0.0</td>\n      <td>0.0</td>\n      <td>H</td>\n      <td>...</td>\n      <td>1.500000</td>\n      <td>4.0</td>\n      <td>36.0</td>\n      <td>76.000000</td>\n      <td>41.379310</td>\n      <td>31.428571</td>\n      <td>73.913043</td>\n      <td>1.250000</td>\n      <td>7.0</td>\n      <td>31.0</td>\n    </tr>\n  </tbody>\n</table>\n<p>217764 rows × 63 columns</p>\n</div>"
     },
     "execution_count": 28,
     "metadata": {},
     "output_type": "execute_result"
    }
   ]
  },
  {
   "cell_type": "code",
   "source": [
    "combined_year_df = combined_games_df[combined_games_df['Season'] == year]\n",
    "combined_year_df = combined_year_df.drop(columns='index')\n",
    "combined_year_df['NeutralSite'] = np.where(combined_year_df['Loc'] == 'N', 1, 0)"
   ],
   "metadata": {
    "id": "SVr9t8zhdq90",
    "ExecuteTime": {
     "end_time": "2024-02-29T10:25:29.274747Z",
     "start_time": "2024-02-29T10:25:29.209402Z"
    }
   },
   "execution_count": 29,
   "outputs": []
  },
  {
   "cell_type": "code",
   "source": [
    "team1_df = combined_year_df.loc[:,:'PF']\n",
    "temp_df = combined_year_df.loc[:,'OppTeamID':'OppScore']\n",
    "temp2_df = combined_year_df.loc[:,'OppFGM':'OppPF']\n",
    "team1_df = team1_df.drop(columns=['OppScore'])\n",
    "\n",
    "team2_df = pd.concat([temp_df, temp2_df], axis=1)\n",
    "team2_df = team2_df.drop(columns=['Score'])"
   ],
   "metadata": {
    "id": "hgSfHW06dzwL",
    "ExecuteTime": {
     "end_time": "2024-02-29T10:25:29.279051Z",
     "start_time": "2024-02-29T10:25:29.262557Z"
    }
   },
   "execution_count": 31,
   "outputs": []
  },
  {
   "cell_type": "code",
   "source": [
    "for col in team2_df.columns:\n",
    "  if col != 'OppTeamID' and col != 'OppTeamName':\n",
    "    new_col = col.replace('Opp','')\n",
    "    team2_df = team2_df.rename(columns={col:new_col})"
   ],
   "metadata": {
    "id": "LkPdb40Nd5SH",
    "ExecuteTime": {
     "end_time": "2024-02-29T10:25:29.279138Z",
     "start_time": "2024-02-29T10:25:29.267111Z"
    }
   },
   "execution_count": 32,
   "outputs": []
  },
  {
   "cell_type": "code",
   "source": [
    "team2_df = team2_df.rename(columns={'TeamName':'temp', 'OppTeamName':'TeamName'})\n",
    "team2_df = team2_df.rename(columns={'temp':'OppTeamName'})\n",
    "\n",
    "team2_df = team2_df.rename(columns={'TeamID':'temp', 'OppTeamID':'TeamID'})\n",
    "team2_df = team2_df.rename(columns={'temp':'OppTeamID'})\n",
    "team2_df"
   ],
   "metadata": {
    "id": "bWC4JyK2d8Te",
    "colab": {
     "base_uri": "https://localhost:8080/",
     "height": 99
    },
    "outputId": "c980e452-32ed-4005-abec-599d105c9521",
    "ExecuteTime": {
     "end_time": "2024-02-29T10:25:29.294094Z",
     "start_time": "2024-02-29T10:25:29.277104Z"
    }
   },
   "execution_count": 33,
   "outputs": [
    {
     "data": {
      "text/plain": "        TeamID       TeamName  OppTeamID     OppTeamName  Season  DayNum  \\\n4         1101    Abilene Chr       1117     Arkansas St    2019       4   \n9         1101    Abilene Chr       1144        Campbell    2019      29   \n17        1101    Abilene Chr       1146   Cent Arkansas    2019      82   \n18        1101    Abilene Chr       1146   Cent Arkansas    2019     117   \n31        1101    Abilene Chr       1176          Denver    2019      10   \n...        ...            ...        ...             ...     ...     ...   \n217137    1466  North Alabama       1405          Toledo    2019      23   \n217138    1466  North Alabama       1407            Troy    2019      19   \n217141    1466  North Alabama       1412             UAB    2019      29   \n217144    1466  North Alabama       1422  UNC Greensboro    2019      40   \n217145    1466  North Alabama       1440             VMI    2019      46   \n\n        ConfTourney  MMTourney Loc  NumOT  ...  FGA3   FTM   FTA    OR    DR  \\\n4               0.0        0.0   A    0.0  ...  14.0  24.0  31.0  12.0  28.0   \n9               0.0        0.0   A    0.0  ...  14.0  22.0  26.0   4.0  17.0   \n17              0.0        0.0   A    0.0  ...  20.0  17.0  24.0  10.0  27.0   \n18              0.0        0.0   H    0.0  ...  24.0   3.0   3.0   4.0  29.0   \n31              0.0        0.0   H    0.0  ...  24.0  13.0  16.0   5.0  21.0   \n...             ...        ...  ..    ...  ...   ...   ...   ...   ...   ...   \n217137          0.0        0.0   H    0.0  ...  19.0   8.0  10.0  11.0  18.0   \n217138          0.0        0.0   H    0.0  ...  32.0  12.0  18.0  13.0  24.0   \n217141          0.0        0.0   H    0.0  ...  31.0   8.0  12.0   5.0  23.0   \n217144          0.0        0.0   H    0.0  ...  24.0   4.0   6.0  10.0  33.0   \n217145          0.0        0.0   H    0.0  ...  16.0  10.0  15.0  10.0  31.0   \n\n         Ast    TO   Stl  Blk    PF  \n4       17.0  18.0   8.0  0.0  27.0  \n9       11.0  11.0  14.0  0.0  23.0  \n17      18.0  12.0  10.0  6.0  21.0  \n18      18.0   9.0   8.0  0.0  13.0  \n31      16.0   9.0   5.0  5.0  15.0  \n...      ...   ...   ...  ...   ...  \n217137   9.0  11.0   7.0  0.0  13.0  \n217138   9.0  14.0   4.0  1.0  14.0  \n217141  13.0  14.0   4.0  0.0  13.0  \n217144   7.0  14.0   3.0  6.0  21.0  \n217145   5.0  15.0   5.0  3.0  18.0  \n\n[11060 rows x 24 columns]",
      "text/html": "<div>\n<style scoped>\n    .dataframe tbody tr th:only-of-type {\n        vertical-align: middle;\n    }\n\n    .dataframe tbody tr th {\n        vertical-align: top;\n    }\n\n    .dataframe thead th {\n        text-align: right;\n    }\n</style>\n<table border=\"1\" class=\"dataframe\">\n  <thead>\n    <tr style=\"text-align: right;\">\n      <th></th>\n      <th>TeamID</th>\n      <th>TeamName</th>\n      <th>OppTeamID</th>\n      <th>OppTeamName</th>\n      <th>Season</th>\n      <th>DayNum</th>\n      <th>ConfTourney</th>\n      <th>MMTourney</th>\n      <th>Loc</th>\n      <th>NumOT</th>\n      <th>...</th>\n      <th>FGA3</th>\n      <th>FTM</th>\n      <th>FTA</th>\n      <th>OR</th>\n      <th>DR</th>\n      <th>Ast</th>\n      <th>TO</th>\n      <th>Stl</th>\n      <th>Blk</th>\n      <th>PF</th>\n    </tr>\n  </thead>\n  <tbody>\n    <tr>\n      <th>4</th>\n      <td>1101</td>\n      <td>Abilene Chr</td>\n      <td>1117</td>\n      <td>Arkansas St</td>\n      <td>2019</td>\n      <td>4</td>\n      <td>0.0</td>\n      <td>0.0</td>\n      <td>A</td>\n      <td>0.0</td>\n      <td>...</td>\n      <td>14.0</td>\n      <td>24.0</td>\n      <td>31.0</td>\n      <td>12.0</td>\n      <td>28.0</td>\n      <td>17.0</td>\n      <td>18.0</td>\n      <td>8.0</td>\n      <td>0.0</td>\n      <td>27.0</td>\n    </tr>\n    <tr>\n      <th>9</th>\n      <td>1101</td>\n      <td>Abilene Chr</td>\n      <td>1144</td>\n      <td>Campbell</td>\n      <td>2019</td>\n      <td>29</td>\n      <td>0.0</td>\n      <td>0.0</td>\n      <td>A</td>\n      <td>0.0</td>\n      <td>...</td>\n      <td>14.0</td>\n      <td>22.0</td>\n      <td>26.0</td>\n      <td>4.0</td>\n      <td>17.0</td>\n      <td>11.0</td>\n      <td>11.0</td>\n      <td>14.0</td>\n      <td>0.0</td>\n      <td>23.0</td>\n    </tr>\n    <tr>\n      <th>17</th>\n      <td>1101</td>\n      <td>Abilene Chr</td>\n      <td>1146</td>\n      <td>Cent Arkansas</td>\n      <td>2019</td>\n      <td>82</td>\n      <td>0.0</td>\n      <td>0.0</td>\n      <td>A</td>\n      <td>0.0</td>\n      <td>...</td>\n      <td>20.0</td>\n      <td>17.0</td>\n      <td>24.0</td>\n      <td>10.0</td>\n      <td>27.0</td>\n      <td>18.0</td>\n      <td>12.0</td>\n      <td>10.0</td>\n      <td>6.0</td>\n      <td>21.0</td>\n    </tr>\n    <tr>\n      <th>18</th>\n      <td>1101</td>\n      <td>Abilene Chr</td>\n      <td>1146</td>\n      <td>Cent Arkansas</td>\n      <td>2019</td>\n      <td>117</td>\n      <td>0.0</td>\n      <td>0.0</td>\n      <td>H</td>\n      <td>0.0</td>\n      <td>...</td>\n      <td>24.0</td>\n      <td>3.0</td>\n      <td>3.0</td>\n      <td>4.0</td>\n      <td>29.0</td>\n      <td>18.0</td>\n      <td>9.0</td>\n      <td>8.0</td>\n      <td>0.0</td>\n      <td>13.0</td>\n    </tr>\n    <tr>\n      <th>31</th>\n      <td>1101</td>\n      <td>Abilene Chr</td>\n      <td>1176</td>\n      <td>Denver</td>\n      <td>2019</td>\n      <td>10</td>\n      <td>0.0</td>\n      <td>0.0</td>\n      <td>H</td>\n      <td>0.0</td>\n      <td>...</td>\n      <td>24.0</td>\n      <td>13.0</td>\n      <td>16.0</td>\n      <td>5.0</td>\n      <td>21.0</td>\n      <td>16.0</td>\n      <td>9.0</td>\n      <td>5.0</td>\n      <td>5.0</td>\n      <td>15.0</td>\n    </tr>\n    <tr>\n      <th>...</th>\n      <td>...</td>\n      <td>...</td>\n      <td>...</td>\n      <td>...</td>\n      <td>...</td>\n      <td>...</td>\n      <td>...</td>\n      <td>...</td>\n      <td>...</td>\n      <td>...</td>\n      <td>...</td>\n      <td>...</td>\n      <td>...</td>\n      <td>...</td>\n      <td>...</td>\n      <td>...</td>\n      <td>...</td>\n      <td>...</td>\n      <td>...</td>\n      <td>...</td>\n      <td>...</td>\n    </tr>\n    <tr>\n      <th>217137</th>\n      <td>1466</td>\n      <td>North Alabama</td>\n      <td>1405</td>\n      <td>Toledo</td>\n      <td>2019</td>\n      <td>23</td>\n      <td>0.0</td>\n      <td>0.0</td>\n      <td>H</td>\n      <td>0.0</td>\n      <td>...</td>\n      <td>19.0</td>\n      <td>8.0</td>\n      <td>10.0</td>\n      <td>11.0</td>\n      <td>18.0</td>\n      <td>9.0</td>\n      <td>11.0</td>\n      <td>7.0</td>\n      <td>0.0</td>\n      <td>13.0</td>\n    </tr>\n    <tr>\n      <th>217138</th>\n      <td>1466</td>\n      <td>North Alabama</td>\n      <td>1407</td>\n      <td>Troy</td>\n      <td>2019</td>\n      <td>19</td>\n      <td>0.0</td>\n      <td>0.0</td>\n      <td>H</td>\n      <td>0.0</td>\n      <td>...</td>\n      <td>32.0</td>\n      <td>12.0</td>\n      <td>18.0</td>\n      <td>13.0</td>\n      <td>24.0</td>\n      <td>9.0</td>\n      <td>14.0</td>\n      <td>4.0</td>\n      <td>1.0</td>\n      <td>14.0</td>\n    </tr>\n    <tr>\n      <th>217141</th>\n      <td>1466</td>\n      <td>North Alabama</td>\n      <td>1412</td>\n      <td>UAB</td>\n      <td>2019</td>\n      <td>29</td>\n      <td>0.0</td>\n      <td>0.0</td>\n      <td>H</td>\n      <td>0.0</td>\n      <td>...</td>\n      <td>31.0</td>\n      <td>8.0</td>\n      <td>12.0</td>\n      <td>5.0</td>\n      <td>23.0</td>\n      <td>13.0</td>\n      <td>14.0</td>\n      <td>4.0</td>\n      <td>0.0</td>\n      <td>13.0</td>\n    </tr>\n    <tr>\n      <th>217144</th>\n      <td>1466</td>\n      <td>North Alabama</td>\n      <td>1422</td>\n      <td>UNC Greensboro</td>\n      <td>2019</td>\n      <td>40</td>\n      <td>0.0</td>\n      <td>0.0</td>\n      <td>H</td>\n      <td>0.0</td>\n      <td>...</td>\n      <td>24.0</td>\n      <td>4.0</td>\n      <td>6.0</td>\n      <td>10.0</td>\n      <td>33.0</td>\n      <td>7.0</td>\n      <td>14.0</td>\n      <td>3.0</td>\n      <td>6.0</td>\n      <td>21.0</td>\n    </tr>\n    <tr>\n      <th>217145</th>\n      <td>1466</td>\n      <td>North Alabama</td>\n      <td>1440</td>\n      <td>VMI</td>\n      <td>2019</td>\n      <td>46</td>\n      <td>0.0</td>\n      <td>0.0</td>\n      <td>H</td>\n      <td>0.0</td>\n      <td>...</td>\n      <td>16.0</td>\n      <td>10.0</td>\n      <td>15.0</td>\n      <td>10.0</td>\n      <td>31.0</td>\n      <td>5.0</td>\n      <td>15.0</td>\n      <td>5.0</td>\n      <td>3.0</td>\n      <td>18.0</td>\n    </tr>\n  </tbody>\n</table>\n<p>11060 rows × 24 columns</p>\n</div>"
     },
     "execution_count": 33,
     "metadata": {},
     "output_type": "execute_result"
    }
   ]
  },
  {
   "cell_type": "code",
   "source": [
    "team1_df = team1_df.sort_values(by=['Season', 'DayNum', 'TeamID', 'OppTeamID'])\n",
    "team1_df.insert(0, 'GameId', range(1, len(team1_df)+1))\n",
    "\n",
    "team2_df = team2_df.sort_values(by=['Season', 'DayNum', 'OppTeamID', 'TeamID'])\n",
    "team2_df.insert(0, 'GameId', range(1, len(team2_df)+1))\n",
    "\n",
    "team1_df['Home'] = np.where(team1_df['Loc'] == 'H', 1, 0)\n",
    "team2_df['Home'] = np.where(team2_df['Loc'] == 'H', 0, 1)"
   ],
   "metadata": {
    "id": "AJ7BJ8Fod-gf",
    "ExecuteTime": {
     "end_time": "2024-02-29T10:25:29.330437Z",
     "start_time": "2024-02-29T10:25:29.294400Z"
    }
   },
   "execution_count": 34,
   "outputs": []
  },
  {
   "cell_type": "code",
   "source": [
    "team1 = team1_df.drop_duplicates(subset=['TeamID', 'TeamName', 'OppTeamID', 'OppTeamName', 'Season', 'DayNum',\n",
    "       'ConfTourney', 'MMTourney', 'Loc', 'NumOT', 'Score', 'FGM', 'FGA',\n",
    "       'FGM3', 'FGA3', 'FTM', 'FTA', 'OR', 'DR', 'Ast', 'TO', 'Stl', 'Blk',\n",
    "       'PF'])\n",
    "team2 = team2_df.drop_duplicates(subset=['TeamID', 'TeamName', 'OppTeamID', 'OppTeamName', 'Season', 'DayNum',\n",
    "       'ConfTourney', 'MMTourney', 'Loc', 'NumOT', 'Score', 'FGM', 'FGA',\n",
    "       'FGM3', 'FGA3', 'FTM', 'FTA', 'OR', 'DR', 'Ast', 'TO', 'Stl', 'Blk',\n",
    "       'PF'])"
   ],
   "metadata": {
    "id": "PkunKJHwd-bR",
    "ExecuteTime": {
     "end_time": "2024-02-29T10:25:29.354188Z",
     "start_time": "2024-02-29T10:25:29.304361Z"
    }
   },
   "execution_count": 35,
   "outputs": []
  },
  {
   "cell_type": "code",
   "source": [
    "games_df = pd.concat([team1_df, team2_df], axis=0)\n",
    "games_df = games_df.sort_values(by=['Season', 'DayNum', 'TeamID', 'OppTeamID'])\n",
    "games_df = games_df.sort_values(by=['GameId'])\n",
    "\n",
    "games_df[['ConfTourney', 'MMTourney', 'TeamID', 'OppTeamID', 'Score']] = games_df[['ConfTourney', 'MMTourney', 'TeamID', 'OppTeamID', 'Score']].astype(int)\n",
    "games_df = games_df.sort_values(by=['GameId'])\n",
    "\n",
    "# games_df['Home'] = np.where(games_df['Loc'] == 'H', 1, 0)\n",
    "games_df['HomeTeam'] = np.where(games_df['Home'] == 1, games_df['TeamName'], games_df['OppTeamName'])\n",
    "games_df['AwayTeam'] = np.where(games_df['Home'] == 0, games_df['TeamName'], games_df['OppTeamName'])"
   ],
   "metadata": {
    "id": "saFfQaoGeF76",
    "ExecuteTime": {
     "end_time": "2024-02-29T10:25:29.354582Z",
     "start_time": "2024-02-29T10:25:29.323769Z"
    }
   },
   "execution_count": 36,
   "outputs": []
  },
  {
   "cell_type": "code",
   "source": [
    "games_df['NeutralSite'] = np.where(games_df['Loc'] == 'N', 1, 0)\n",
    "games_df = games_df.rename(columns={'TeamName':'Team', 'FGM3':'3FGM',\n",
    "                                    'FGA3':'3FGA', 'OR':'ORB', 'DR':'DRB', 'TO':'TOV',\n",
    "                                    'Stl':'STL', 'Blk':'BLK', 'Ast':'AST', 'PF':'Fouls'})\n",
    "\n",
    "games_df = games_df.drop(columns=['Season', 'OppTeamName', 'Loc'])\n",
    "games_df"
   ],
   "metadata": {
    "id": "lWV6WpHXeGR_",
    "colab": {
     "base_uri": "https://localhost:8080/",
     "height": 99
    },
    "outputId": "96a2f002-42f7-4fb5-c4b4-2b0ce1003147",
    "ExecuteTime": {
     "end_time": "2024-02-29T10:25:29.361446Z",
     "start_time": "2024-02-29T10:25:29.338667Z"
    }
   },
   "execution_count": 37,
   "outputs": [
    {
     "data": {
      "text/plain": "        GameId  OppTeamID  TeamID           Team  DayNum  ConfTourney  \\\n164885       1       1380    1104        Alabama       1            0   \n164885       1       1104    1380  Southern Univ       1            0   \n163646       2       1378    1105    Alabama A&M       1            0   \n163646       2       1105    1378  South Florida       1            0   \n77892        3       1235    1106     Alabama St       1            0   \n...        ...        ...     ...            ...     ...          ...   \n10970    11058       1438    1120         Auburn     152            0   \n201490   11059       1438    1403     Texas Tech     154            0   \n201490   11059       1403    1438       Virginia     154            0   \n180136   11060       1403    1438       Virginia     154            0   \n180136   11060       1438    1403     Texas Tech     154            0   \n\n        MMTourney  NumOT  Score   FGM  ...   DRB   AST   TOV   STL  BLK  \\\n164885          0    0.0     82  27.0  ...  29.0  17.0  20.0   3.0  6.0   \n164885          0    0.0     62  21.0  ...  20.0   8.0  15.0   7.0  2.0   \n163646          0    0.0     63  22.0  ...  16.0  18.0  23.0  11.0  0.0   \n163646          0    0.0     80  30.0  ...  22.0  20.0  20.0  11.0  4.0   \n77892           0    0.0     53  20.0  ...  23.0  11.0  20.0   4.0  3.0   \n...           ...    ...    ...   ...  ...   ...   ...   ...   ...  ...   \n10970           1    0.0     62  21.0  ...  24.0   9.0   5.0   3.0  3.0   \n201490          1    1.0     77  27.0  ...  23.0   9.0   8.0   6.0  3.0   \n201490          1    1.0     85  27.0  ...  28.0  15.0  11.0   4.0  3.0   \n180136          1    1.0     85  27.0  ...  28.0  15.0  11.0   4.0  3.0   \n180136          1    1.0     77  27.0  ...  23.0   9.0   8.0   6.0  3.0   \n\n        Fouls  Home       HomeTeam       AwayTeam  NeutralSite  \n164885   24.0     1        Alabama  Southern Univ            0  \n164885   28.0     0        Alabama  Southern Univ            0  \n163646   24.0     0  South Florida    Alabama A&M            0  \n163646   15.0     1  South Florida    Alabama A&M            0  \n77892    17.0     0        Iowa St     Alabama St            0  \n...       ...   ...            ...            ...          ...  \n10970    12.0     1         Auburn       Virginia            1  \n201490   18.0     0       Virginia     Texas Tech            1  \n201490   15.0     1       Virginia     Texas Tech            1  \n180136   15.0     0     Texas Tech       Virginia            1  \n180136   18.0     1     Texas Tech       Virginia            1  \n\n[22120 rows x 26 columns]",
      "text/html": "<div>\n<style scoped>\n    .dataframe tbody tr th:only-of-type {\n        vertical-align: middle;\n    }\n\n    .dataframe tbody tr th {\n        vertical-align: top;\n    }\n\n    .dataframe thead th {\n        text-align: right;\n    }\n</style>\n<table border=\"1\" class=\"dataframe\">\n  <thead>\n    <tr style=\"text-align: right;\">\n      <th></th>\n      <th>GameId</th>\n      <th>OppTeamID</th>\n      <th>TeamID</th>\n      <th>Team</th>\n      <th>DayNum</th>\n      <th>ConfTourney</th>\n      <th>MMTourney</th>\n      <th>NumOT</th>\n      <th>Score</th>\n      <th>FGM</th>\n      <th>...</th>\n      <th>DRB</th>\n      <th>AST</th>\n      <th>TOV</th>\n      <th>STL</th>\n      <th>BLK</th>\n      <th>Fouls</th>\n      <th>Home</th>\n      <th>HomeTeam</th>\n      <th>AwayTeam</th>\n      <th>NeutralSite</th>\n    </tr>\n  </thead>\n  <tbody>\n    <tr>\n      <th>164885</th>\n      <td>1</td>\n      <td>1380</td>\n      <td>1104</td>\n      <td>Alabama</td>\n      <td>1</td>\n      <td>0</td>\n      <td>0</td>\n      <td>0.0</td>\n      <td>82</td>\n      <td>27.0</td>\n      <td>...</td>\n      <td>29.0</td>\n      <td>17.0</td>\n      <td>20.0</td>\n      <td>3.0</td>\n      <td>6.0</td>\n      <td>24.0</td>\n      <td>1</td>\n      <td>Alabama</td>\n      <td>Southern Univ</td>\n      <td>0</td>\n    </tr>\n    <tr>\n      <th>164885</th>\n      <td>1</td>\n      <td>1104</td>\n      <td>1380</td>\n      <td>Southern Univ</td>\n      <td>1</td>\n      <td>0</td>\n      <td>0</td>\n      <td>0.0</td>\n      <td>62</td>\n      <td>21.0</td>\n      <td>...</td>\n      <td>20.0</td>\n      <td>8.0</td>\n      <td>15.0</td>\n      <td>7.0</td>\n      <td>2.0</td>\n      <td>28.0</td>\n      <td>0</td>\n      <td>Alabama</td>\n      <td>Southern Univ</td>\n      <td>0</td>\n    </tr>\n    <tr>\n      <th>163646</th>\n      <td>2</td>\n      <td>1378</td>\n      <td>1105</td>\n      <td>Alabama A&amp;M</td>\n      <td>1</td>\n      <td>0</td>\n      <td>0</td>\n      <td>0.0</td>\n      <td>63</td>\n      <td>22.0</td>\n      <td>...</td>\n      <td>16.0</td>\n      <td>18.0</td>\n      <td>23.0</td>\n      <td>11.0</td>\n      <td>0.0</td>\n      <td>24.0</td>\n      <td>0</td>\n      <td>South Florida</td>\n      <td>Alabama A&amp;M</td>\n      <td>0</td>\n    </tr>\n    <tr>\n      <th>163646</th>\n      <td>2</td>\n      <td>1105</td>\n      <td>1378</td>\n      <td>South Florida</td>\n      <td>1</td>\n      <td>0</td>\n      <td>0</td>\n      <td>0.0</td>\n      <td>80</td>\n      <td>30.0</td>\n      <td>...</td>\n      <td>22.0</td>\n      <td>20.0</td>\n      <td>20.0</td>\n      <td>11.0</td>\n      <td>4.0</td>\n      <td>15.0</td>\n      <td>1</td>\n      <td>South Florida</td>\n      <td>Alabama A&amp;M</td>\n      <td>0</td>\n    </tr>\n    <tr>\n      <th>77892</th>\n      <td>3</td>\n      <td>1235</td>\n      <td>1106</td>\n      <td>Alabama St</td>\n      <td>1</td>\n      <td>0</td>\n      <td>0</td>\n      <td>0.0</td>\n      <td>53</td>\n      <td>20.0</td>\n      <td>...</td>\n      <td>23.0</td>\n      <td>11.0</td>\n      <td>20.0</td>\n      <td>4.0</td>\n      <td>3.0</td>\n      <td>17.0</td>\n      <td>0</td>\n      <td>Iowa St</td>\n      <td>Alabama St</td>\n      <td>0</td>\n    </tr>\n    <tr>\n      <th>...</th>\n      <td>...</td>\n      <td>...</td>\n      <td>...</td>\n      <td>...</td>\n      <td>...</td>\n      <td>...</td>\n      <td>...</td>\n      <td>...</td>\n      <td>...</td>\n      <td>...</td>\n      <td>...</td>\n      <td>...</td>\n      <td>...</td>\n      <td>...</td>\n      <td>...</td>\n      <td>...</td>\n      <td>...</td>\n      <td>...</td>\n      <td>...</td>\n      <td>...</td>\n      <td>...</td>\n    </tr>\n    <tr>\n      <th>10970</th>\n      <td>11058</td>\n      <td>1438</td>\n      <td>1120</td>\n      <td>Auburn</td>\n      <td>152</td>\n      <td>0</td>\n      <td>1</td>\n      <td>0.0</td>\n      <td>62</td>\n      <td>21.0</td>\n      <td>...</td>\n      <td>24.0</td>\n      <td>9.0</td>\n      <td>5.0</td>\n      <td>3.0</td>\n      <td>3.0</td>\n      <td>12.0</td>\n      <td>1</td>\n      <td>Auburn</td>\n      <td>Virginia</td>\n      <td>1</td>\n    </tr>\n    <tr>\n      <th>201490</th>\n      <td>11059</td>\n      <td>1438</td>\n      <td>1403</td>\n      <td>Texas Tech</td>\n      <td>154</td>\n      <td>0</td>\n      <td>1</td>\n      <td>1.0</td>\n      <td>77</td>\n      <td>27.0</td>\n      <td>...</td>\n      <td>23.0</td>\n      <td>9.0</td>\n      <td>8.0</td>\n      <td>6.0</td>\n      <td>3.0</td>\n      <td>18.0</td>\n      <td>0</td>\n      <td>Virginia</td>\n      <td>Texas Tech</td>\n      <td>1</td>\n    </tr>\n    <tr>\n      <th>201490</th>\n      <td>11059</td>\n      <td>1403</td>\n      <td>1438</td>\n      <td>Virginia</td>\n      <td>154</td>\n      <td>0</td>\n      <td>1</td>\n      <td>1.0</td>\n      <td>85</td>\n      <td>27.0</td>\n      <td>...</td>\n      <td>28.0</td>\n      <td>15.0</td>\n      <td>11.0</td>\n      <td>4.0</td>\n      <td>3.0</td>\n      <td>15.0</td>\n      <td>1</td>\n      <td>Virginia</td>\n      <td>Texas Tech</td>\n      <td>1</td>\n    </tr>\n    <tr>\n      <th>180136</th>\n      <td>11060</td>\n      <td>1403</td>\n      <td>1438</td>\n      <td>Virginia</td>\n      <td>154</td>\n      <td>0</td>\n      <td>1</td>\n      <td>1.0</td>\n      <td>85</td>\n      <td>27.0</td>\n      <td>...</td>\n      <td>28.0</td>\n      <td>15.0</td>\n      <td>11.0</td>\n      <td>4.0</td>\n      <td>3.0</td>\n      <td>15.0</td>\n      <td>0</td>\n      <td>Texas Tech</td>\n      <td>Virginia</td>\n      <td>1</td>\n    </tr>\n    <tr>\n      <th>180136</th>\n      <td>11060</td>\n      <td>1438</td>\n      <td>1403</td>\n      <td>Texas Tech</td>\n      <td>154</td>\n      <td>0</td>\n      <td>1</td>\n      <td>1.0</td>\n      <td>77</td>\n      <td>27.0</td>\n      <td>...</td>\n      <td>23.0</td>\n      <td>9.0</td>\n      <td>8.0</td>\n      <td>6.0</td>\n      <td>3.0</td>\n      <td>18.0</td>\n      <td>1</td>\n      <td>Texas Tech</td>\n      <td>Virginia</td>\n      <td>1</td>\n    </tr>\n  </tbody>\n</table>\n<p>22120 rows × 26 columns</p>\n</div>"
     },
     "execution_count": 37,
     "metadata": {},
     "output_type": "execute_result"
    }
   ]
  },
  {
   "cell_type": "code",
   "source": [
    "games_df = games_df.merge(team_conf_df[['TeamID', 'ConfAbbrev']].rename(columns={'ConfAbbrev':'Conf'}).drop_duplicates(subset=['TeamID'], keep='last'), on=['TeamID'], how='inner').sort_values('GameId')\n",
    "games_df"
   ],
   "metadata": {
    "id": "f5pnSQCe6ZEu",
    "colab": {
     "base_uri": "https://localhost:8080/",
     "height": 99
    },
    "outputId": "95723d7d-4d5f-4ecd-dd4c-0a949d21949e",
    "ExecuteTime": {
     "end_time": "2024-02-29T10:25:29.395816Z",
     "start_time": "2024-02-29T10:25:29.359388Z"
    }
   },
   "execution_count": 38,
   "outputs": [
    {
     "data": {
      "text/plain": "       GameId  OppTeamID  TeamID           Team  DayNum  ConfTourney  \\\n0           1       1380    1104        Alabama       1            0   \n66          1       1104    1380  Southern Univ       1            0   \n192         2       1105    1378  South Florida       1            0   \n128         2       1378    1105    Alabama A&M       1            0   \n254         3       1235    1106     Alabama St       1            0   \n...       ...        ...     ...            ...     ...          ...   \n1023    11058       1438    1120         Auburn     152            0   \n11722   11059       1403    1438       Virginia     154            0   \n6594    11059       1438    1403     Texas Tech     154            0   \n11723   11060       1403    1438       Virginia     154            0   \n6595    11060       1438    1403     Texas Tech     154            0   \n\n       MMTourney  NumOT  Score   FGM  ...   AST   TOV   STL  BLK  Fouls  Home  \\\n0              0    0.0     82  27.0  ...  17.0  20.0   3.0  6.0   24.0     1   \n66             0    0.0     62  21.0  ...   8.0  15.0   7.0  2.0   28.0     0   \n192            0    0.0     80  30.0  ...  20.0  20.0  11.0  4.0   15.0     1   \n128            0    0.0     63  22.0  ...  18.0  23.0  11.0  0.0   24.0     0   \n254            0    0.0     53  20.0  ...  11.0  20.0   4.0  3.0   17.0     0   \n...          ...    ...    ...   ...  ...   ...   ...   ...  ...    ...   ...   \n1023           1    0.0     62  21.0  ...   9.0   5.0   3.0  3.0   12.0     1   \n11722          1    1.0     85  27.0  ...  15.0  11.0   4.0  3.0   15.0     1   \n6594           1    1.0     77  27.0  ...   9.0   8.0   6.0  3.0   18.0     0   \n11723          1    1.0     85  27.0  ...  15.0  11.0   4.0  3.0   15.0     0   \n6595           1    1.0     77  27.0  ...   9.0   8.0   6.0  3.0   18.0     1   \n\n            HomeTeam       AwayTeam  NeutralSite        Conf  \n0            Alabama  Southern Univ            0         sec  \n66           Alabama  Southern Univ            0        swac  \n192    South Florida    Alabama A&M            0         aac  \n128    South Florida    Alabama A&M            0        swac  \n254          Iowa St     Alabama St            0        swac  \n...              ...            ...          ...         ...  \n1023          Auburn       Virginia            1         sec  \n11722       Virginia     Texas Tech            1         acc  \n6594        Virginia     Texas Tech            1  big_twelve  \n11723     Texas Tech       Virginia            1         acc  \n6595      Texas Tech       Virginia            1  big_twelve  \n\n[22120 rows x 27 columns]",
      "text/html": "<div>\n<style scoped>\n    .dataframe tbody tr th:only-of-type {\n        vertical-align: middle;\n    }\n\n    .dataframe tbody tr th {\n        vertical-align: top;\n    }\n\n    .dataframe thead th {\n        text-align: right;\n    }\n</style>\n<table border=\"1\" class=\"dataframe\">\n  <thead>\n    <tr style=\"text-align: right;\">\n      <th></th>\n      <th>GameId</th>\n      <th>OppTeamID</th>\n      <th>TeamID</th>\n      <th>Team</th>\n      <th>DayNum</th>\n      <th>ConfTourney</th>\n      <th>MMTourney</th>\n      <th>NumOT</th>\n      <th>Score</th>\n      <th>FGM</th>\n      <th>...</th>\n      <th>AST</th>\n      <th>TOV</th>\n      <th>STL</th>\n      <th>BLK</th>\n      <th>Fouls</th>\n      <th>Home</th>\n      <th>HomeTeam</th>\n      <th>AwayTeam</th>\n      <th>NeutralSite</th>\n      <th>Conf</th>\n    </tr>\n  </thead>\n  <tbody>\n    <tr>\n      <th>0</th>\n      <td>1</td>\n      <td>1380</td>\n      <td>1104</td>\n      <td>Alabama</td>\n      <td>1</td>\n      <td>0</td>\n      <td>0</td>\n      <td>0.0</td>\n      <td>82</td>\n      <td>27.0</td>\n      <td>...</td>\n      <td>17.0</td>\n      <td>20.0</td>\n      <td>3.0</td>\n      <td>6.0</td>\n      <td>24.0</td>\n      <td>1</td>\n      <td>Alabama</td>\n      <td>Southern Univ</td>\n      <td>0</td>\n      <td>sec</td>\n    </tr>\n    <tr>\n      <th>66</th>\n      <td>1</td>\n      <td>1104</td>\n      <td>1380</td>\n      <td>Southern Univ</td>\n      <td>1</td>\n      <td>0</td>\n      <td>0</td>\n      <td>0.0</td>\n      <td>62</td>\n      <td>21.0</td>\n      <td>...</td>\n      <td>8.0</td>\n      <td>15.0</td>\n      <td>7.0</td>\n      <td>2.0</td>\n      <td>28.0</td>\n      <td>0</td>\n      <td>Alabama</td>\n      <td>Southern Univ</td>\n      <td>0</td>\n      <td>swac</td>\n    </tr>\n    <tr>\n      <th>192</th>\n      <td>2</td>\n      <td>1105</td>\n      <td>1378</td>\n      <td>South Florida</td>\n      <td>1</td>\n      <td>0</td>\n      <td>0</td>\n      <td>0.0</td>\n      <td>80</td>\n      <td>30.0</td>\n      <td>...</td>\n      <td>20.0</td>\n      <td>20.0</td>\n      <td>11.0</td>\n      <td>4.0</td>\n      <td>15.0</td>\n      <td>1</td>\n      <td>South Florida</td>\n      <td>Alabama A&amp;M</td>\n      <td>0</td>\n      <td>aac</td>\n    </tr>\n    <tr>\n      <th>128</th>\n      <td>2</td>\n      <td>1378</td>\n      <td>1105</td>\n      <td>Alabama A&amp;M</td>\n      <td>1</td>\n      <td>0</td>\n      <td>0</td>\n      <td>0.0</td>\n      <td>63</td>\n      <td>22.0</td>\n      <td>...</td>\n      <td>18.0</td>\n      <td>23.0</td>\n      <td>11.0</td>\n      <td>0.0</td>\n      <td>24.0</td>\n      <td>0</td>\n      <td>South Florida</td>\n      <td>Alabama A&amp;M</td>\n      <td>0</td>\n      <td>swac</td>\n    </tr>\n    <tr>\n      <th>254</th>\n      <td>3</td>\n      <td>1235</td>\n      <td>1106</td>\n      <td>Alabama St</td>\n      <td>1</td>\n      <td>0</td>\n      <td>0</td>\n      <td>0.0</td>\n      <td>53</td>\n      <td>20.0</td>\n      <td>...</td>\n      <td>11.0</td>\n      <td>20.0</td>\n      <td>4.0</td>\n      <td>3.0</td>\n      <td>17.0</td>\n      <td>0</td>\n      <td>Iowa St</td>\n      <td>Alabama St</td>\n      <td>0</td>\n      <td>swac</td>\n    </tr>\n    <tr>\n      <th>...</th>\n      <td>...</td>\n      <td>...</td>\n      <td>...</td>\n      <td>...</td>\n      <td>...</td>\n      <td>...</td>\n      <td>...</td>\n      <td>...</td>\n      <td>...</td>\n      <td>...</td>\n      <td>...</td>\n      <td>...</td>\n      <td>...</td>\n      <td>...</td>\n      <td>...</td>\n      <td>...</td>\n      <td>...</td>\n      <td>...</td>\n      <td>...</td>\n      <td>...</td>\n      <td>...</td>\n    </tr>\n    <tr>\n      <th>1023</th>\n      <td>11058</td>\n      <td>1438</td>\n      <td>1120</td>\n      <td>Auburn</td>\n      <td>152</td>\n      <td>0</td>\n      <td>1</td>\n      <td>0.0</td>\n      <td>62</td>\n      <td>21.0</td>\n      <td>...</td>\n      <td>9.0</td>\n      <td>5.0</td>\n      <td>3.0</td>\n      <td>3.0</td>\n      <td>12.0</td>\n      <td>1</td>\n      <td>Auburn</td>\n      <td>Virginia</td>\n      <td>1</td>\n      <td>sec</td>\n    </tr>\n    <tr>\n      <th>11722</th>\n      <td>11059</td>\n      <td>1403</td>\n      <td>1438</td>\n      <td>Virginia</td>\n      <td>154</td>\n      <td>0</td>\n      <td>1</td>\n      <td>1.0</td>\n      <td>85</td>\n      <td>27.0</td>\n      <td>...</td>\n      <td>15.0</td>\n      <td>11.0</td>\n      <td>4.0</td>\n      <td>3.0</td>\n      <td>15.0</td>\n      <td>1</td>\n      <td>Virginia</td>\n      <td>Texas Tech</td>\n      <td>1</td>\n      <td>acc</td>\n    </tr>\n    <tr>\n      <th>6594</th>\n      <td>11059</td>\n      <td>1438</td>\n      <td>1403</td>\n      <td>Texas Tech</td>\n      <td>154</td>\n      <td>0</td>\n      <td>1</td>\n      <td>1.0</td>\n      <td>77</td>\n      <td>27.0</td>\n      <td>...</td>\n      <td>9.0</td>\n      <td>8.0</td>\n      <td>6.0</td>\n      <td>3.0</td>\n      <td>18.0</td>\n      <td>0</td>\n      <td>Virginia</td>\n      <td>Texas Tech</td>\n      <td>1</td>\n      <td>big_twelve</td>\n    </tr>\n    <tr>\n      <th>11723</th>\n      <td>11060</td>\n      <td>1403</td>\n      <td>1438</td>\n      <td>Virginia</td>\n      <td>154</td>\n      <td>0</td>\n      <td>1</td>\n      <td>1.0</td>\n      <td>85</td>\n      <td>27.0</td>\n      <td>...</td>\n      <td>15.0</td>\n      <td>11.0</td>\n      <td>4.0</td>\n      <td>3.0</td>\n      <td>15.0</td>\n      <td>0</td>\n      <td>Texas Tech</td>\n      <td>Virginia</td>\n      <td>1</td>\n      <td>acc</td>\n    </tr>\n    <tr>\n      <th>6595</th>\n      <td>11060</td>\n      <td>1438</td>\n      <td>1403</td>\n      <td>Texas Tech</td>\n      <td>154</td>\n      <td>0</td>\n      <td>1</td>\n      <td>1.0</td>\n      <td>77</td>\n      <td>27.0</td>\n      <td>...</td>\n      <td>9.0</td>\n      <td>8.0</td>\n      <td>6.0</td>\n      <td>3.0</td>\n      <td>18.0</td>\n      <td>1</td>\n      <td>Texas Tech</td>\n      <td>Virginia</td>\n      <td>1</td>\n      <td>big_twelve</td>\n    </tr>\n  </tbody>\n</table>\n<p>22120 rows × 27 columns</p>\n</div>"
     },
     "execution_count": 38,
     "metadata": {},
     "output_type": "execute_result"
    }
   ]
  },
  {
   "cell_type": "code",
   "source": [
    "games_df = games_df.merge(team_conf_df[['TeamID', 'ConfAbbrev']].rename(columns={'TeamID':'OppTeamID', 'ConfAbbrev':'OppConf'}).drop_duplicates(subset=['OppTeamID'], keep='last'), on=['OppTeamID'], how='inner').sort_values('GameId')\n",
    "games_df"
   ],
   "metadata": {
    "id": "pg38hmI3o4zj",
    "colab": {
     "base_uri": "https://localhost:8080/",
     "height": 99
    },
    "outputId": "362be265-ac28-4959-db62-2bb613ca1d25",
    "ExecuteTime": {
     "end_time": "2024-02-29T10:25:29.435558Z",
     "start_time": "2024-02-29T10:25:29.385309Z"
    }
   },
   "execution_count": 39,
   "outputs": [
    {
     "data": {
      "text/plain": "       GameId  OppTeamID  TeamID           Team  DayNum  ConfTourney  \\\n0           1       1380    1104        Alabama       1            0   \n62          1       1104    1380  Southern Univ       1            0   \n192         2       1378    1105    Alabama A&M       1            0   \n128         2       1105    1378  South Florida       1            0   \n254         3       1235    1106     Alabama St       1            0   \n...       ...        ...     ...            ...     ...          ...   \n959     11058       1120    1438       Virginia     152            0   \n11722   11059       1438    1403     Texas Tech     154            0   \n6594    11059       1403    1438       Virginia     154            0   \n11723   11060       1438    1403     Texas Tech     154            0   \n6595    11060       1403    1438       Virginia     154            0   \n\n       MMTourney  NumOT  Score   FGM  ...   TOV   STL  BLK  Fouls  Home  \\\n0              0    0.0     82  27.0  ...  20.0   3.0  6.0   24.0     1   \n62             0    0.0     62  21.0  ...  15.0   7.0  2.0   28.0     0   \n192            0    0.0     63  22.0  ...  23.0  11.0  0.0   24.0     0   \n128            0    0.0     80  30.0  ...  20.0  11.0  4.0   15.0     1   \n254            0    0.0     53  20.0  ...  20.0   4.0  3.0   17.0     0   \n...          ...    ...    ...   ...  ...   ...   ...  ...    ...   ...   \n959            1    0.0     63  25.0  ...   8.0   1.0  9.0   12.0     0   \n11722          1    1.0     77  27.0  ...   8.0   6.0  3.0   18.0     0   \n6594           1    1.0     85  27.0  ...  11.0   4.0  3.0   15.0     1   \n11723          1    1.0     77  27.0  ...   8.0   6.0  3.0   18.0     1   \n6595           1    1.0     85  27.0  ...  11.0   4.0  3.0   15.0     0   \n\n            HomeTeam       AwayTeam  NeutralSite        Conf     OppConf  \n0            Alabama  Southern Univ            0         sec        swac  \n62           Alabama  Southern Univ            0        swac         sec  \n192    South Florida    Alabama A&M            0        swac         aac  \n128    South Florida    Alabama A&M            0         aac        swac  \n254          Iowa St     Alabama St            0        swac  big_twelve  \n...              ...            ...          ...         ...         ...  \n959           Auburn       Virginia            1         acc         sec  \n11722       Virginia     Texas Tech            1  big_twelve         acc  \n6594        Virginia     Texas Tech            1         acc  big_twelve  \n11723     Texas Tech       Virginia            1  big_twelve         acc  \n6595      Texas Tech       Virginia            1         acc  big_twelve  \n\n[22120 rows x 28 columns]",
      "text/html": "<div>\n<style scoped>\n    .dataframe tbody tr th:only-of-type {\n        vertical-align: middle;\n    }\n\n    .dataframe tbody tr th {\n        vertical-align: top;\n    }\n\n    .dataframe thead th {\n        text-align: right;\n    }\n</style>\n<table border=\"1\" class=\"dataframe\">\n  <thead>\n    <tr style=\"text-align: right;\">\n      <th></th>\n      <th>GameId</th>\n      <th>OppTeamID</th>\n      <th>TeamID</th>\n      <th>Team</th>\n      <th>DayNum</th>\n      <th>ConfTourney</th>\n      <th>MMTourney</th>\n      <th>NumOT</th>\n      <th>Score</th>\n      <th>FGM</th>\n      <th>...</th>\n      <th>TOV</th>\n      <th>STL</th>\n      <th>BLK</th>\n      <th>Fouls</th>\n      <th>Home</th>\n      <th>HomeTeam</th>\n      <th>AwayTeam</th>\n      <th>NeutralSite</th>\n      <th>Conf</th>\n      <th>OppConf</th>\n    </tr>\n  </thead>\n  <tbody>\n    <tr>\n      <th>0</th>\n      <td>1</td>\n      <td>1380</td>\n      <td>1104</td>\n      <td>Alabama</td>\n      <td>1</td>\n      <td>0</td>\n      <td>0</td>\n      <td>0.0</td>\n      <td>82</td>\n      <td>27.0</td>\n      <td>...</td>\n      <td>20.0</td>\n      <td>3.0</td>\n      <td>6.0</td>\n      <td>24.0</td>\n      <td>1</td>\n      <td>Alabama</td>\n      <td>Southern Univ</td>\n      <td>0</td>\n      <td>sec</td>\n      <td>swac</td>\n    </tr>\n    <tr>\n      <th>62</th>\n      <td>1</td>\n      <td>1104</td>\n      <td>1380</td>\n      <td>Southern Univ</td>\n      <td>1</td>\n      <td>0</td>\n      <td>0</td>\n      <td>0.0</td>\n      <td>62</td>\n      <td>21.0</td>\n      <td>...</td>\n      <td>15.0</td>\n      <td>7.0</td>\n      <td>2.0</td>\n      <td>28.0</td>\n      <td>0</td>\n      <td>Alabama</td>\n      <td>Southern Univ</td>\n      <td>0</td>\n      <td>swac</td>\n      <td>sec</td>\n    </tr>\n    <tr>\n      <th>192</th>\n      <td>2</td>\n      <td>1378</td>\n      <td>1105</td>\n      <td>Alabama A&amp;M</td>\n      <td>1</td>\n      <td>0</td>\n      <td>0</td>\n      <td>0.0</td>\n      <td>63</td>\n      <td>22.0</td>\n      <td>...</td>\n      <td>23.0</td>\n      <td>11.0</td>\n      <td>0.0</td>\n      <td>24.0</td>\n      <td>0</td>\n      <td>South Florida</td>\n      <td>Alabama A&amp;M</td>\n      <td>0</td>\n      <td>swac</td>\n      <td>aac</td>\n    </tr>\n    <tr>\n      <th>128</th>\n      <td>2</td>\n      <td>1105</td>\n      <td>1378</td>\n      <td>South Florida</td>\n      <td>1</td>\n      <td>0</td>\n      <td>0</td>\n      <td>0.0</td>\n      <td>80</td>\n      <td>30.0</td>\n      <td>...</td>\n      <td>20.0</td>\n      <td>11.0</td>\n      <td>4.0</td>\n      <td>15.0</td>\n      <td>1</td>\n      <td>South Florida</td>\n      <td>Alabama A&amp;M</td>\n      <td>0</td>\n      <td>aac</td>\n      <td>swac</td>\n    </tr>\n    <tr>\n      <th>254</th>\n      <td>3</td>\n      <td>1235</td>\n      <td>1106</td>\n      <td>Alabama St</td>\n      <td>1</td>\n      <td>0</td>\n      <td>0</td>\n      <td>0.0</td>\n      <td>53</td>\n      <td>20.0</td>\n      <td>...</td>\n      <td>20.0</td>\n      <td>4.0</td>\n      <td>3.0</td>\n      <td>17.0</td>\n      <td>0</td>\n      <td>Iowa St</td>\n      <td>Alabama St</td>\n      <td>0</td>\n      <td>swac</td>\n      <td>big_twelve</td>\n    </tr>\n    <tr>\n      <th>...</th>\n      <td>...</td>\n      <td>...</td>\n      <td>...</td>\n      <td>...</td>\n      <td>...</td>\n      <td>...</td>\n      <td>...</td>\n      <td>...</td>\n      <td>...</td>\n      <td>...</td>\n      <td>...</td>\n      <td>...</td>\n      <td>...</td>\n      <td>...</td>\n      <td>...</td>\n      <td>...</td>\n      <td>...</td>\n      <td>...</td>\n      <td>...</td>\n      <td>...</td>\n      <td>...</td>\n    </tr>\n    <tr>\n      <th>959</th>\n      <td>11058</td>\n      <td>1120</td>\n      <td>1438</td>\n      <td>Virginia</td>\n      <td>152</td>\n      <td>0</td>\n      <td>1</td>\n      <td>0.0</td>\n      <td>63</td>\n      <td>25.0</td>\n      <td>...</td>\n      <td>8.0</td>\n      <td>1.0</td>\n      <td>9.0</td>\n      <td>12.0</td>\n      <td>0</td>\n      <td>Auburn</td>\n      <td>Virginia</td>\n      <td>1</td>\n      <td>acc</td>\n      <td>sec</td>\n    </tr>\n    <tr>\n      <th>11722</th>\n      <td>11059</td>\n      <td>1438</td>\n      <td>1403</td>\n      <td>Texas Tech</td>\n      <td>154</td>\n      <td>0</td>\n      <td>1</td>\n      <td>1.0</td>\n      <td>77</td>\n      <td>27.0</td>\n      <td>...</td>\n      <td>8.0</td>\n      <td>6.0</td>\n      <td>3.0</td>\n      <td>18.0</td>\n      <td>0</td>\n      <td>Virginia</td>\n      <td>Texas Tech</td>\n      <td>1</td>\n      <td>big_twelve</td>\n      <td>acc</td>\n    </tr>\n    <tr>\n      <th>6594</th>\n      <td>11059</td>\n      <td>1403</td>\n      <td>1438</td>\n      <td>Virginia</td>\n      <td>154</td>\n      <td>0</td>\n      <td>1</td>\n      <td>1.0</td>\n      <td>85</td>\n      <td>27.0</td>\n      <td>...</td>\n      <td>11.0</td>\n      <td>4.0</td>\n      <td>3.0</td>\n      <td>15.0</td>\n      <td>1</td>\n      <td>Virginia</td>\n      <td>Texas Tech</td>\n      <td>1</td>\n      <td>acc</td>\n      <td>big_twelve</td>\n    </tr>\n    <tr>\n      <th>11723</th>\n      <td>11060</td>\n      <td>1438</td>\n      <td>1403</td>\n      <td>Texas Tech</td>\n      <td>154</td>\n      <td>0</td>\n      <td>1</td>\n      <td>1.0</td>\n      <td>77</td>\n      <td>27.0</td>\n      <td>...</td>\n      <td>8.0</td>\n      <td>6.0</td>\n      <td>3.0</td>\n      <td>18.0</td>\n      <td>1</td>\n      <td>Texas Tech</td>\n      <td>Virginia</td>\n      <td>1</td>\n      <td>big_twelve</td>\n      <td>acc</td>\n    </tr>\n    <tr>\n      <th>6595</th>\n      <td>11060</td>\n      <td>1403</td>\n      <td>1438</td>\n      <td>Virginia</td>\n      <td>154</td>\n      <td>0</td>\n      <td>1</td>\n      <td>1.0</td>\n      <td>85</td>\n      <td>27.0</td>\n      <td>...</td>\n      <td>11.0</td>\n      <td>4.0</td>\n      <td>3.0</td>\n      <td>15.0</td>\n      <td>0</td>\n      <td>Texas Tech</td>\n      <td>Virginia</td>\n      <td>1</td>\n      <td>acc</td>\n      <td>big_twelve</td>\n    </tr>\n  </tbody>\n</table>\n<p>22120 rows × 28 columns</p>\n</div>"
     },
     "execution_count": 39,
     "metadata": {},
     "output_type": "execute_result"
    }
   ]
  },
  {
   "cell_type": "code",
   "source": [
    "games_df = games_df.drop_duplicates(subset=['Team', 'DayNum', 'Score', 'FGM', 'FGA', '3FGM', '3FGA',\n",
    "       'FTM', 'FTA', 'ORB', 'DRB', 'AST', 'TOV', 'STL', 'BLK', 'Fouls', 'NeutralSite'])"
   ],
   "metadata": {
    "id": "N8FJxMkfeGxy",
    "ExecuteTime": {
     "end_time": "2024-02-29T10:25:29.460367Z",
     "start_time": "2024-02-29T10:25:29.419647Z"
    }
   },
   "execution_count": 40,
   "outputs": []
  },
  {
   "cell_type": "code",
   "source": [
    "games_df['GameId'] = [val for val in range(1, 1+len(games_df)//2) for _ in (0, 1)]\n",
    "\n",
    "games_df[games_df['DayNum'] >= 135]"
   ],
   "metadata": {
    "id": "Xu6M_seyeVDl",
    "colab": {
     "base_uri": "https://localhost:8080/",
     "height": 99
    },
    "outputId": "e9cfa631-2ce4-4e0b-8589-c260d44b23d7",
    "ExecuteTime": {
     "end_time": "2024-02-29T10:25:29.460962Z",
     "start_time": "2024-02-29T10:25:29.432893Z"
    }
   },
   "execution_count": 41,
   "outputs": [
    {
     "name": "stderr",
     "output_type": "stream",
     "text": [
      "/var/folders/9y/flvy6tfd14v8rmvfr2c0fry40000gn/T/ipykernel_66211/3571553487.py:1: SettingWithCopyWarning: \n",
      "A value is trying to be set on a copy of a slice from a DataFrame.\n",
      "Try using .loc[row_indexer,col_indexer] = value instead\n",
      "\n",
      "See the caveats in the documentation: https://pandas.pydata.org/pandas-docs/stable/user_guide/indexing.html#returning-a-view-versus-a-copy\n",
      "  games_df['GameId'] = [val for val in range(1, 1+len(games_df)//2) for _ in (0, 1)]\n"
     ]
    },
    {
     "data": {
      "text/plain": "       GameId  OppTeamID  TeamID         Team  DayNum  ConfTourney  MMTourney  \\\n564      5466       1113    1385    St John's     135            0          1   \n7576     5466       1385    1113   Arizona St     135            0          1   \n15586    5467       1300    1295  N Dakota St     135            0          1   \n9432     5467       1295    1300   NC Central     135            0          1   \n14344    5468       1101    1246     Kentucky     136            0          1   \n...       ...        ...     ...          ...     ...          ...        ...   \n958      5528       1120    1438     Virginia     152            0          1   \n7048     5529       1277    1403   Texas Tech     152            0          1   \n6592     5529       1403    1277  Michigan St     152            0          1   \n11722    5530       1438    1403   Texas Tech     154            0          1   \n6594     5530       1403    1438     Virginia     154            0          1   \n\n       NumOT  Score   FGM  ...   TOV   STL  BLK  Fouls  Home    HomeTeam  \\\n564      0.0     65  22.0  ...  16.0  11.0  1.0   22.0     1   St John's   \n7576     0.0     74  22.0  ...  21.0   5.0  2.0   18.0     0   St John's   \n15586    0.0     78  25.0  ...   6.0   0.0  3.0   14.0     0  NC Central   \n9432     0.0     74  24.0  ...   9.0   0.0  2.0   20.0     1  NC Central   \n14344    0.0     79  30.0  ...  12.0   5.0  1.0   18.0     1    Kentucky   \n...      ...    ...   ...  ...   ...   ...  ...    ...   ...         ...   \n958      0.0     63  25.0  ...   8.0   1.0  9.0   12.0     1    Virginia   \n7048     0.0     61  22.0  ...   7.0   4.0  4.0   18.0     1  Texas Tech   \n6592     0.0     51  15.0  ...  11.0   1.0  2.0   15.0     0  Texas Tech   \n11722    1.0     77  27.0  ...   8.0   6.0  3.0   18.0     0    Virginia   \n6594     1.0     85  27.0  ...  11.0   4.0  3.0   15.0     1    Virginia   \n\n          AwayTeam  NeutralSite        Conf     OppConf  \n564     Arizona St            1    big_east  pac_twelve  \n7576    Arizona St            1  pac_twelve    big_east  \n15586  N Dakota St            1      summit        meac  \n9432   N Dakota St            1        meac      summit  \n14344  Abilene Chr            1         sec         wac  \n...            ...          ...         ...         ...  \n958         Auburn            1         acc         sec  \n7048   Michigan St            1  big_twelve     big_ten  \n6592   Michigan St            1     big_ten  big_twelve  \n11722   Texas Tech            1  big_twelve         acc  \n6594    Texas Tech            1         acc  big_twelve  \n\n[130 rows x 28 columns]",
      "text/html": "<div>\n<style scoped>\n    .dataframe tbody tr th:only-of-type {\n        vertical-align: middle;\n    }\n\n    .dataframe tbody tr th {\n        vertical-align: top;\n    }\n\n    .dataframe thead th {\n        text-align: right;\n    }\n</style>\n<table border=\"1\" class=\"dataframe\">\n  <thead>\n    <tr style=\"text-align: right;\">\n      <th></th>\n      <th>GameId</th>\n      <th>OppTeamID</th>\n      <th>TeamID</th>\n      <th>Team</th>\n      <th>DayNum</th>\n      <th>ConfTourney</th>\n      <th>MMTourney</th>\n      <th>NumOT</th>\n      <th>Score</th>\n      <th>FGM</th>\n      <th>...</th>\n      <th>TOV</th>\n      <th>STL</th>\n      <th>BLK</th>\n      <th>Fouls</th>\n      <th>Home</th>\n      <th>HomeTeam</th>\n      <th>AwayTeam</th>\n      <th>NeutralSite</th>\n      <th>Conf</th>\n      <th>OppConf</th>\n    </tr>\n  </thead>\n  <tbody>\n    <tr>\n      <th>564</th>\n      <td>5466</td>\n      <td>1113</td>\n      <td>1385</td>\n      <td>St John's</td>\n      <td>135</td>\n      <td>0</td>\n      <td>1</td>\n      <td>0.0</td>\n      <td>65</td>\n      <td>22.0</td>\n      <td>...</td>\n      <td>16.0</td>\n      <td>11.0</td>\n      <td>1.0</td>\n      <td>22.0</td>\n      <td>1</td>\n      <td>St John's</td>\n      <td>Arizona St</td>\n      <td>1</td>\n      <td>big_east</td>\n      <td>pac_twelve</td>\n    </tr>\n    <tr>\n      <th>7576</th>\n      <td>5466</td>\n      <td>1385</td>\n      <td>1113</td>\n      <td>Arizona St</td>\n      <td>135</td>\n      <td>0</td>\n      <td>1</td>\n      <td>0.0</td>\n      <td>74</td>\n      <td>22.0</td>\n      <td>...</td>\n      <td>21.0</td>\n      <td>5.0</td>\n      <td>2.0</td>\n      <td>18.0</td>\n      <td>0</td>\n      <td>St John's</td>\n      <td>Arizona St</td>\n      <td>1</td>\n      <td>pac_twelve</td>\n      <td>big_east</td>\n    </tr>\n    <tr>\n      <th>15586</th>\n      <td>5467</td>\n      <td>1300</td>\n      <td>1295</td>\n      <td>N Dakota St</td>\n      <td>135</td>\n      <td>0</td>\n      <td>1</td>\n      <td>0.0</td>\n      <td>78</td>\n      <td>25.0</td>\n      <td>...</td>\n      <td>6.0</td>\n      <td>0.0</td>\n      <td>3.0</td>\n      <td>14.0</td>\n      <td>0</td>\n      <td>NC Central</td>\n      <td>N Dakota St</td>\n      <td>1</td>\n      <td>summit</td>\n      <td>meac</td>\n    </tr>\n    <tr>\n      <th>9432</th>\n      <td>5467</td>\n      <td>1295</td>\n      <td>1300</td>\n      <td>NC Central</td>\n      <td>135</td>\n      <td>0</td>\n      <td>1</td>\n      <td>0.0</td>\n      <td>74</td>\n      <td>24.0</td>\n      <td>...</td>\n      <td>9.0</td>\n      <td>0.0</td>\n      <td>2.0</td>\n      <td>20.0</td>\n      <td>1</td>\n      <td>NC Central</td>\n      <td>N Dakota St</td>\n      <td>1</td>\n      <td>meac</td>\n      <td>summit</td>\n    </tr>\n    <tr>\n      <th>14344</th>\n      <td>5468</td>\n      <td>1101</td>\n      <td>1246</td>\n      <td>Kentucky</td>\n      <td>136</td>\n      <td>0</td>\n      <td>1</td>\n      <td>0.0</td>\n      <td>79</td>\n      <td>30.0</td>\n      <td>...</td>\n      <td>12.0</td>\n      <td>5.0</td>\n      <td>1.0</td>\n      <td>18.0</td>\n      <td>1</td>\n      <td>Kentucky</td>\n      <td>Abilene Chr</td>\n      <td>1</td>\n      <td>sec</td>\n      <td>wac</td>\n    </tr>\n    <tr>\n      <th>...</th>\n      <td>...</td>\n      <td>...</td>\n      <td>...</td>\n      <td>...</td>\n      <td>...</td>\n      <td>...</td>\n      <td>...</td>\n      <td>...</td>\n      <td>...</td>\n      <td>...</td>\n      <td>...</td>\n      <td>...</td>\n      <td>...</td>\n      <td>...</td>\n      <td>...</td>\n      <td>...</td>\n      <td>...</td>\n      <td>...</td>\n      <td>...</td>\n      <td>...</td>\n      <td>...</td>\n    </tr>\n    <tr>\n      <th>958</th>\n      <td>5528</td>\n      <td>1120</td>\n      <td>1438</td>\n      <td>Virginia</td>\n      <td>152</td>\n      <td>0</td>\n      <td>1</td>\n      <td>0.0</td>\n      <td>63</td>\n      <td>25.0</td>\n      <td>...</td>\n      <td>8.0</td>\n      <td>1.0</td>\n      <td>9.0</td>\n      <td>12.0</td>\n      <td>1</td>\n      <td>Virginia</td>\n      <td>Auburn</td>\n      <td>1</td>\n      <td>acc</td>\n      <td>sec</td>\n    </tr>\n    <tr>\n      <th>7048</th>\n      <td>5529</td>\n      <td>1277</td>\n      <td>1403</td>\n      <td>Texas Tech</td>\n      <td>152</td>\n      <td>0</td>\n      <td>1</td>\n      <td>0.0</td>\n      <td>61</td>\n      <td>22.0</td>\n      <td>...</td>\n      <td>7.0</td>\n      <td>4.0</td>\n      <td>4.0</td>\n      <td>18.0</td>\n      <td>1</td>\n      <td>Texas Tech</td>\n      <td>Michigan St</td>\n      <td>1</td>\n      <td>big_twelve</td>\n      <td>big_ten</td>\n    </tr>\n    <tr>\n      <th>6592</th>\n      <td>5529</td>\n      <td>1403</td>\n      <td>1277</td>\n      <td>Michigan St</td>\n      <td>152</td>\n      <td>0</td>\n      <td>1</td>\n      <td>0.0</td>\n      <td>51</td>\n      <td>15.0</td>\n      <td>...</td>\n      <td>11.0</td>\n      <td>1.0</td>\n      <td>2.0</td>\n      <td>15.0</td>\n      <td>0</td>\n      <td>Texas Tech</td>\n      <td>Michigan St</td>\n      <td>1</td>\n      <td>big_ten</td>\n      <td>big_twelve</td>\n    </tr>\n    <tr>\n      <th>11722</th>\n      <td>5530</td>\n      <td>1438</td>\n      <td>1403</td>\n      <td>Texas Tech</td>\n      <td>154</td>\n      <td>0</td>\n      <td>1</td>\n      <td>1.0</td>\n      <td>77</td>\n      <td>27.0</td>\n      <td>...</td>\n      <td>8.0</td>\n      <td>6.0</td>\n      <td>3.0</td>\n      <td>18.0</td>\n      <td>0</td>\n      <td>Virginia</td>\n      <td>Texas Tech</td>\n      <td>1</td>\n      <td>big_twelve</td>\n      <td>acc</td>\n    </tr>\n    <tr>\n      <th>6594</th>\n      <td>5530</td>\n      <td>1403</td>\n      <td>1438</td>\n      <td>Virginia</td>\n      <td>154</td>\n      <td>0</td>\n      <td>1</td>\n      <td>1.0</td>\n      <td>85</td>\n      <td>27.0</td>\n      <td>...</td>\n      <td>11.0</td>\n      <td>4.0</td>\n      <td>3.0</td>\n      <td>15.0</td>\n      <td>1</td>\n      <td>Virginia</td>\n      <td>Texas Tech</td>\n      <td>1</td>\n      <td>acc</td>\n      <td>big_twelve</td>\n    </tr>\n  </tbody>\n</table>\n<p>130 rows × 28 columns</p>\n</div>"
     },
     "execution_count": 41,
     "metadata": {},
     "output_type": "execute_result"
    }
   ]
  },
  {
   "cell_type": "code",
   "source": [
    "def to_int(lst):\n",
    "\n",
    "  output_lst = []\n",
    "  for item in lst:\n",
    "    # print(item)\n",
    "    item = item[1:]\n",
    "    if item[-1].isalpha():\n",
    "      item = item[:-1]\n",
    "    output_lst.append(int(item))\n",
    "\n",
    "  return output_lst"
   ],
   "metadata": {
    "id": "QZYZNWn6y8El",
    "ExecuteTime": {
     "end_time": "2024-02-29T10:25:29.461080Z",
     "start_time": "2024-02-29T10:25:29.444270Z"
    }
   },
   "execution_count": 42,
   "outputs": []
  },
  {
   "cell_type": "code",
   "source": [
    "tourney_seeds_df['Seed'] = to_int(tourney_seeds_df['Seed'].tolist())"
   ],
   "metadata": {
    "id": "dlZ0UXYb3U1l",
    "ExecuteTime": {
     "end_time": "2024-02-29T10:25:29.477844Z",
     "start_time": "2024-02-29T10:25:29.447820Z"
    }
   },
   "execution_count": 43,
   "outputs": []
  },
  {
   "cell_type": "code",
   "source": [
    "tourney_seeds_df = tourney_seeds_df[tourney_seeds_df['Season'] == year]"
   ],
   "metadata": {
    "id": "Co58XAq4xEFE",
    "ExecuteTime": {
     "end_time": "2024-02-29T10:25:29.488420Z",
     "start_time": "2024-02-29T10:25:29.450979Z"
    }
   },
   "execution_count": 44,
   "outputs": []
  },
  {
   "cell_type": "code",
   "source": [
    "temp = games_df.merge(tourney_seeds_df[['Seed', 'TeamID']], on='TeamID', how='left')\n",
    "temp.merge(tourney_seeds_df[['Seed', 'TeamID']].rename(columns={'Seed':'Opp_Seed', 'TeamID':'OppTeamID'}), on='OppTeamID', how='left')"
   ],
   "metadata": {
    "id": "hsi9wC285Tds",
    "colab": {
     "base_uri": "https://localhost:8080/",
     "height": 99
    },
    "outputId": "36b4e67f-d9b0-455d-f4a8-a17417b58022",
    "ExecuteTime": {
     "end_time": "2024-02-29T10:25:29.511835Z",
     "start_time": "2024-02-29T10:25:29.454492Z"
    }
   },
   "execution_count": 45,
   "outputs": [
    {
     "data": {
      "text/plain": "       GameId  OppTeamID  TeamID           Team  DayNum  ConfTourney  \\\n0           1       1380    1104        Alabama       1            0   \n1           1       1104    1380  Southern Univ       1            0   \n2           2       1378    1105    Alabama A&M       1            0   \n3           2       1105    1378  South Florida       1            0   \n4           3       1235    1106     Alabama St       1            0   \n...       ...        ...     ...            ...     ...          ...   \n11055    5528       1120    1438       Virginia     152            0   \n11056    5529       1277    1403     Texas Tech     152            0   \n11057    5529       1403    1277    Michigan St     152            0   \n11058    5530       1438    1403     Texas Tech     154            0   \n11059    5530       1403    1438       Virginia     154            0   \n\n       MMTourney  NumOT  Score   FGM  ...  BLK  Fouls  Home       HomeTeam  \\\n0              0    0.0     82  27.0  ...  6.0   24.0     1        Alabama   \n1              0    0.0     62  21.0  ...  2.0   28.0     0        Alabama   \n2              0    0.0     63  22.0  ...  0.0   24.0     0  South Florida   \n3              0    0.0     80  30.0  ...  4.0   15.0     1  South Florida   \n4              0    0.0     53  20.0  ...  3.0   17.0     0        Iowa St   \n...          ...    ...    ...   ...  ...  ...    ...   ...            ...   \n11055          1    0.0     63  25.0  ...  9.0   12.0     1       Virginia   \n11056          1    0.0     61  22.0  ...  4.0   18.0     1     Texas Tech   \n11057          1    0.0     51  15.0  ...  2.0   15.0     0     Texas Tech   \n11058          1    1.0     77  27.0  ...  3.0   18.0     0       Virginia   \n11059          1    1.0     85  27.0  ...  3.0   15.0     1       Virginia   \n\n            AwayTeam  NeutralSite        Conf     OppConf  Seed  Opp_Seed  \n0      Southern Univ            0         sec        swac   NaN       NaN  \n1      Southern Univ            0        swac         sec   NaN       NaN  \n2        Alabama A&M            0        swac         aac   NaN       NaN  \n3        Alabama A&M            0         aac        swac   NaN       NaN  \n4         Alabama St            0        swac  big_twelve   NaN       6.0  \n...              ...          ...         ...         ...   ...       ...  \n11055         Auburn            1         acc         sec   1.0       5.0  \n11056    Michigan St            1  big_twelve     big_ten   3.0       2.0  \n11057    Michigan St            1     big_ten  big_twelve   2.0       3.0  \n11058     Texas Tech            1  big_twelve         acc   3.0       1.0  \n11059     Texas Tech            1         acc  big_twelve   1.0       3.0  \n\n[11060 rows x 30 columns]",
      "text/html": "<div>\n<style scoped>\n    .dataframe tbody tr th:only-of-type {\n        vertical-align: middle;\n    }\n\n    .dataframe tbody tr th {\n        vertical-align: top;\n    }\n\n    .dataframe thead th {\n        text-align: right;\n    }\n</style>\n<table border=\"1\" class=\"dataframe\">\n  <thead>\n    <tr style=\"text-align: right;\">\n      <th></th>\n      <th>GameId</th>\n      <th>OppTeamID</th>\n      <th>TeamID</th>\n      <th>Team</th>\n      <th>DayNum</th>\n      <th>ConfTourney</th>\n      <th>MMTourney</th>\n      <th>NumOT</th>\n      <th>Score</th>\n      <th>FGM</th>\n      <th>...</th>\n      <th>BLK</th>\n      <th>Fouls</th>\n      <th>Home</th>\n      <th>HomeTeam</th>\n      <th>AwayTeam</th>\n      <th>NeutralSite</th>\n      <th>Conf</th>\n      <th>OppConf</th>\n      <th>Seed</th>\n      <th>Opp_Seed</th>\n    </tr>\n  </thead>\n  <tbody>\n    <tr>\n      <th>0</th>\n      <td>1</td>\n      <td>1380</td>\n      <td>1104</td>\n      <td>Alabama</td>\n      <td>1</td>\n      <td>0</td>\n      <td>0</td>\n      <td>0.0</td>\n      <td>82</td>\n      <td>27.0</td>\n      <td>...</td>\n      <td>6.0</td>\n      <td>24.0</td>\n      <td>1</td>\n      <td>Alabama</td>\n      <td>Southern Univ</td>\n      <td>0</td>\n      <td>sec</td>\n      <td>swac</td>\n      <td>NaN</td>\n      <td>NaN</td>\n    </tr>\n    <tr>\n      <th>1</th>\n      <td>1</td>\n      <td>1104</td>\n      <td>1380</td>\n      <td>Southern Univ</td>\n      <td>1</td>\n      <td>0</td>\n      <td>0</td>\n      <td>0.0</td>\n      <td>62</td>\n      <td>21.0</td>\n      <td>...</td>\n      <td>2.0</td>\n      <td>28.0</td>\n      <td>0</td>\n      <td>Alabama</td>\n      <td>Southern Univ</td>\n      <td>0</td>\n      <td>swac</td>\n      <td>sec</td>\n      <td>NaN</td>\n      <td>NaN</td>\n    </tr>\n    <tr>\n      <th>2</th>\n      <td>2</td>\n      <td>1378</td>\n      <td>1105</td>\n      <td>Alabama A&amp;M</td>\n      <td>1</td>\n      <td>0</td>\n      <td>0</td>\n      <td>0.0</td>\n      <td>63</td>\n      <td>22.0</td>\n      <td>...</td>\n      <td>0.0</td>\n      <td>24.0</td>\n      <td>0</td>\n      <td>South Florida</td>\n      <td>Alabama A&amp;M</td>\n      <td>0</td>\n      <td>swac</td>\n      <td>aac</td>\n      <td>NaN</td>\n      <td>NaN</td>\n    </tr>\n    <tr>\n      <th>3</th>\n      <td>2</td>\n      <td>1105</td>\n      <td>1378</td>\n      <td>South Florida</td>\n      <td>1</td>\n      <td>0</td>\n      <td>0</td>\n      <td>0.0</td>\n      <td>80</td>\n      <td>30.0</td>\n      <td>...</td>\n      <td>4.0</td>\n      <td>15.0</td>\n      <td>1</td>\n      <td>South Florida</td>\n      <td>Alabama A&amp;M</td>\n      <td>0</td>\n      <td>aac</td>\n      <td>swac</td>\n      <td>NaN</td>\n      <td>NaN</td>\n    </tr>\n    <tr>\n      <th>4</th>\n      <td>3</td>\n      <td>1235</td>\n      <td>1106</td>\n      <td>Alabama St</td>\n      <td>1</td>\n      <td>0</td>\n      <td>0</td>\n      <td>0.0</td>\n      <td>53</td>\n      <td>20.0</td>\n      <td>...</td>\n      <td>3.0</td>\n      <td>17.0</td>\n      <td>0</td>\n      <td>Iowa St</td>\n      <td>Alabama St</td>\n      <td>0</td>\n      <td>swac</td>\n      <td>big_twelve</td>\n      <td>NaN</td>\n      <td>6.0</td>\n    </tr>\n    <tr>\n      <th>...</th>\n      <td>...</td>\n      <td>...</td>\n      <td>...</td>\n      <td>...</td>\n      <td>...</td>\n      <td>...</td>\n      <td>...</td>\n      <td>...</td>\n      <td>...</td>\n      <td>...</td>\n      <td>...</td>\n      <td>...</td>\n      <td>...</td>\n      <td>...</td>\n      <td>...</td>\n      <td>...</td>\n      <td>...</td>\n      <td>...</td>\n      <td>...</td>\n      <td>...</td>\n      <td>...</td>\n    </tr>\n    <tr>\n      <th>11055</th>\n      <td>5528</td>\n      <td>1120</td>\n      <td>1438</td>\n      <td>Virginia</td>\n      <td>152</td>\n      <td>0</td>\n      <td>1</td>\n      <td>0.0</td>\n      <td>63</td>\n      <td>25.0</td>\n      <td>...</td>\n      <td>9.0</td>\n      <td>12.0</td>\n      <td>1</td>\n      <td>Virginia</td>\n      <td>Auburn</td>\n      <td>1</td>\n      <td>acc</td>\n      <td>sec</td>\n      <td>1.0</td>\n      <td>5.0</td>\n    </tr>\n    <tr>\n      <th>11056</th>\n      <td>5529</td>\n      <td>1277</td>\n      <td>1403</td>\n      <td>Texas Tech</td>\n      <td>152</td>\n      <td>0</td>\n      <td>1</td>\n      <td>0.0</td>\n      <td>61</td>\n      <td>22.0</td>\n      <td>...</td>\n      <td>4.0</td>\n      <td>18.0</td>\n      <td>1</td>\n      <td>Texas Tech</td>\n      <td>Michigan St</td>\n      <td>1</td>\n      <td>big_twelve</td>\n      <td>big_ten</td>\n      <td>3.0</td>\n      <td>2.0</td>\n    </tr>\n    <tr>\n      <th>11057</th>\n      <td>5529</td>\n      <td>1403</td>\n      <td>1277</td>\n      <td>Michigan St</td>\n      <td>152</td>\n      <td>0</td>\n      <td>1</td>\n      <td>0.0</td>\n      <td>51</td>\n      <td>15.0</td>\n      <td>...</td>\n      <td>2.0</td>\n      <td>15.0</td>\n      <td>0</td>\n      <td>Texas Tech</td>\n      <td>Michigan St</td>\n      <td>1</td>\n      <td>big_ten</td>\n      <td>big_twelve</td>\n      <td>2.0</td>\n      <td>3.0</td>\n    </tr>\n    <tr>\n      <th>11058</th>\n      <td>5530</td>\n      <td>1438</td>\n      <td>1403</td>\n      <td>Texas Tech</td>\n      <td>154</td>\n      <td>0</td>\n      <td>1</td>\n      <td>1.0</td>\n      <td>77</td>\n      <td>27.0</td>\n      <td>...</td>\n      <td>3.0</td>\n      <td>18.0</td>\n      <td>0</td>\n      <td>Virginia</td>\n      <td>Texas Tech</td>\n      <td>1</td>\n      <td>big_twelve</td>\n      <td>acc</td>\n      <td>3.0</td>\n      <td>1.0</td>\n    </tr>\n    <tr>\n      <th>11059</th>\n      <td>5530</td>\n      <td>1403</td>\n      <td>1438</td>\n      <td>Virginia</td>\n      <td>154</td>\n      <td>0</td>\n      <td>1</td>\n      <td>1.0</td>\n      <td>85</td>\n      <td>27.0</td>\n      <td>...</td>\n      <td>3.0</td>\n      <td>15.0</td>\n      <td>1</td>\n      <td>Virginia</td>\n      <td>Texas Tech</td>\n      <td>1</td>\n      <td>acc</td>\n      <td>big_twelve</td>\n      <td>1.0</td>\n      <td>3.0</td>\n    </tr>\n  </tbody>\n</table>\n<p>11060 rows × 30 columns</p>\n</div>"
     },
     "execution_count": 45,
     "metadata": {},
     "output_type": "execute_result"
    }
   ]
  },
  {
   "cell_type": "code",
   "source": [
    "games_df = temp"
   ],
   "metadata": {
    "id": "FTLqiRKK6KXj",
    "ExecuteTime": {
     "end_time": "2024-02-29T10:25:29.511953Z",
     "start_time": "2024-02-29T10:25:29.477995Z"
    }
   },
   "execution_count": 46,
   "outputs": []
  },
  {
   "cell_type": "code",
   "source": [
    "games_df.columns"
   ],
   "metadata": {
    "id": "fDwhijW7w0ii",
    "colab": {
     "base_uri": "https://localhost:8080/"
    },
    "outputId": "61763aba-4567-4f58-fe1c-e89415f3e7fc",
    "ExecuteTime": {
     "end_time": "2024-02-29T10:25:29.512042Z",
     "start_time": "2024-02-29T10:25:29.478134Z"
    }
   },
   "execution_count": 47,
   "outputs": [
    {
     "data": {
      "text/plain": "Index(['GameId', 'OppTeamID', 'TeamID', 'Team', 'DayNum', 'ConfTourney',\n       'MMTourney', 'NumOT', 'Score', 'FGM', 'FGA', '3FGM', '3FGA', 'FTM',\n       'FTA', 'ORB', 'DRB', 'AST', 'TOV', 'STL', 'BLK', 'Fouls', 'Home',\n       'HomeTeam', 'AwayTeam', 'NeutralSite', 'Conf', 'OppConf', 'Seed'],\n      dtype='object')"
     },
     "execution_count": 47,
     "metadata": {},
     "output_type": "execute_result"
    }
   ]
  },
  {
   "cell_type": "markdown",
   "source": [
    "### Save Wrangling Results"
   ],
   "metadata": {
    "id": "yevkEAyEH8l7"
   }
  },
  {
   "cell_type": "markdown",
   "source": [
    "Now that we are done with the wrangling for ML, let's save the results as zipped csv files before preceeding to EDA."
   ],
   "metadata": {
    "id": "QzboGWQs1HC8"
   }
  },
  {
   "cell_type": "code",
   "execution_count": 48,
   "metadata": {
    "id": "vVlFbZB7gxWR",
    "ExecuteTime": {
     "end_time": "2024-02-29T10:25:29.624767Z",
     "start_time": "2024-02-29T10:25:29.480458Z"
    }
   },
   "outputs": [],
   "source": [
    "compression_opts = dict(method='zip', archive_name='ncaam' + str(year) + '.csv')\n",
    "games_df.to_csv('ncaam' + str(year) + '.zip', index=False, compression=compression_opts)"
   ]
  }
 ],
 "metadata": {
  "colab": {
   "provenance": []
  },
  "kernelspec": {
   "name": "python3",
   "language": "python",
   "display_name": "Python 3 (ipykernel)"
  },
  "language_info": {
   "name": "python"
  }
 },
 "nbformat": 4,
 "nbformat_minor": 0
}
